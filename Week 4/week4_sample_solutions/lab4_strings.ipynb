{
 "cells": [
  {
   "cell_type": "code",
   "execution_count": null,
   "id": "3ff83ac9-4a89-412b-b3a5-4fa9a65a2251",
   "metadata": {},
   "outputs": [],
   "source": [
    "### Author: Jason Chan"
   ]
  },
  {
   "cell_type": "code",
   "execution_count": 1,
   "id": "f087b53b-6e24-4bf3-a901-1f1509a7a3e3",
   "metadata": {},
   "outputs": [
    {
     "name": "stdout",
     "output_type": "stream",
     "text": [
      "********* \n",
      "*   *   * \n",
      "*   *   * \n",
      "*   *   * \n",
      "********* \n",
      "*   *   * \n",
      "*   *   * \n",
      "*   *   * \n",
      "********* \n"
     ]
    }
   ],
   "source": [
    "### Q1a\n",
    "\n",
    "def print_square_1(n):\n",
    "\n",
    "    # Determine middle row or column\n",
    "    mid = (n + 1) / 2\n",
    "\n",
    "    # Go through each row\n",
    "    for r in range(1, n+1):\n",
    "        \n",
    "        # Go through each column\n",
    "        for c in range(1, n+1):\n",
    "\n",
    "            # If we are on (first, last, or middle) (row or column), then print star\n",
    "            if r == 1 or r == n or r == mid or c == 1 or c == n or c == mid:\n",
    "                print(\"*\", end=\"\")\n",
    "\n",
    "            # Else, print space\n",
    "            else:\n",
    "                print(\" \", end=\"\")\n",
    "\n",
    "        # Print new line character\n",
    "        print(\" \")\n",
    "\n",
    "\n",
    "# Use above function\n",
    "print_square_1(9)"
   ]
  },
  {
   "cell_type": "code",
   "execution_count": 3,
   "id": "f62d82d3-fbf8-4b13-97ac-fb747806d831",
   "metadata": {},
   "outputs": [
    {
     "name": "stdout",
     "output_type": "stream",
     "text": [
      "********* \n",
      "**     ** \n",
      "* *   * * \n",
      "*  * *  * \n",
      "*   *   * \n",
      "*  * *  * \n",
      "* *   * * \n",
      "**     ** \n",
      "********* \n"
     ]
    }
   ],
   "source": [
    "### Q1b\n",
    "\n",
    "def print_square_2(n):\n",
    "\n",
    "    # Determine middle row or column\n",
    "    mid = (n + 1) / 2\n",
    "\n",
    "    # Go through each row\n",
    "    for r in range(1, n+1):\n",
    "        \n",
    "        # Go through each column\n",
    "        for c in range(1, n+1):\n",
    "\n",
    "            # If we are on (first or last) (row or column),\n",
    "            # or we are on one of the long diagonals, then print star\n",
    "            if r == 1 or r == n or c == 1 or c == n or (r == c) or (r + c == n + 1):\n",
    "                print(\"*\", end=\"\")\n",
    "\n",
    "            # Else, print space\n",
    "            else:\n",
    "                print(\" \", end=\"\")\n",
    "\n",
    "        # Print new line character\n",
    "        print(\" \")\n",
    "\n",
    "\n",
    "# Use above function\n",
    "print_square_2(9)"
   ]
  },
  {
   "cell_type": "code",
   "execution_count": 24,
   "id": "6fdc1fce-7dc3-4c60-8cae-3a4aa363047f",
   "metadata": {},
   "outputs": [
    {
     "name": "stdout",
     "output_type": "stream",
     "text": [
      "'AaBbCDExy'\n",
      "'a'\n",
      "''\n",
      "'jjjjjjjjjjjjjjjjjjjjjjjjjjjj'\n"
     ]
    }
   ],
   "source": [
    "### Q2\n",
    "\n",
    "def is_letter(c):\n",
    "\n",
    "    # All possible letters (lowercase)\n",
    "    letters = \"abcdefghijklmnopqrstuvwxyz\"\n",
    "\n",
    "    # Check character is a lower or uppercase letter\n",
    "    return c in letters or c in letters.upper()\n",
    "\n",
    "\n",
    "def get_longest_subsequence(s):\n",
    "\n",
    "    # Length of longest series of letters so far\n",
    "    max_len = 0\n",
    "\n",
    "    # Index of start of longest series of letters so far\n",
    "    max_index = -1\n",
    "\n",
    "    # Was the previous character a letter?\n",
    "    is_previous_letter = False\n",
    "\n",
    "    # Current sequence of letters\n",
    "    current_len = 0\n",
    "\n",
    "    # Position of start of current sequence of letters\n",
    "    current_index = -1\n",
    "\n",
    "    # Go through each position in given string\n",
    "    for i in range(len(s)):\n",
    "\n",
    "        # If current character is a letter\n",
    "        if is_letter(s[i]):\n",
    "\n",
    "            # If previous character was also a letter, count this letter\n",
    "            if is_previous_letter:\n",
    "                current_len += 1\n",
    "\n",
    "            # Else, restart count and remember where we started this sequence of letters\n",
    "            else:\n",
    "                current_len = 1\n",
    "                current_index = i\n",
    "\n",
    "            # Remember that we just saw a letter\n",
    "            is_previous_letter = True\n",
    "\n",
    "        # Else, current character is not letter\n",
    "        else:\n",
    "            \n",
    "            # Check if we have ended a sequence of letters\n",
    "            # and this is the end of longest sequence of letters so far,\n",
    "            # remember this sequence\n",
    "            if is_previous_letter and current_len > max_len:\n",
    "                max_len = current_len\n",
    "                max_index = current_index\n",
    "\n",
    "            # Remember that we just saw a character that is not a letter\n",
    "            is_previous_letter = False\n",
    "\n",
    "    # # Check if string ends with longest sequence of letters\n",
    "    if is_previous_letter and current_len > max_len:\n",
    "        max_len = current_len\n",
    "        max_index = current_index\n",
    "    \n",
    "    # Return longest sequence of letters found\n",
    "    return s[max_index : max_index+max_len]\n",
    "\n",
    "\n",
    "# Use above function\n",
    "print(\"'\" + get_longest_subsequence('ab24[AaBbCDExy0longest$]') + \"'\")\n",
    "print(\"'\" + get_longest_subsequence('a a a1234b|c|d ') + \"'\")\n",
    "print(\"'\" + get_longest_subsequence('12345 ') + \"'\")\n",
    "print(\"'\" + get_longest_subsequence('ab24[AaBbCDExy0longest$]jjjjjjjjjjjjjjjjjjjjjjjjjjjj') + \"'\")"
   ]
  }
 ],
 "metadata": {
  "kernelspec": {
   "display_name": "Python 3 (ipykernel)",
   "language": "python",
   "name": "python3"
  },
  "language_info": {
   "codemirror_mode": {
    "name": "ipython",
    "version": 3
   },
   "file_extension": ".py",
   "mimetype": "text/x-python",
   "name": "python",
   "nbconvert_exporter": "python",
   "pygments_lexer": "ipython3",
   "version": "3.11.7"
  }
 },
 "nbformat": 4,
 "nbformat_minor": 5
}
