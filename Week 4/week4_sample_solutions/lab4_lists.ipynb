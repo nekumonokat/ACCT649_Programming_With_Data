{
 "cells": [
  {
   "cell_type": "code",
   "execution_count": null,
   "id": "1e6c9eba-6b52-45a0-8c99-e571d230fcfe",
   "metadata": {},
   "outputs": [],
   "source": [
    "### Author: Jason Chan"
   ]
  },
  {
   "cell_type": "code",
   "execution_count": 1,
   "id": "8c31ee72-6c65-42f2-ab75-7c3d8a43bec3",
   "metadata": {},
   "outputs": [
    {
     "name": "stdout",
     "output_type": "stream",
     "text": [
      "['IS111', 'Pytho', 'Progr', 'List']\n"
     ]
    }
   ],
   "source": [
    "### Q1a\n",
    "\n",
    "def modify_list(my_list):\n",
    "\n",
    "    # Go through each position in the list\n",
    "    for index in range(len(my_list)):\n",
    "\n",
    "        # Get string at current position\n",
    "        x = my_list[index]\n",
    "\n",
    "        # If string has more than 5 characters\n",
    "        if len(x) > 5:\n",
    "\n",
    "            # Change the string in the list to only contain the first 5 characters.\n",
    "            # Because we are changing the element in the list, which is \"passed by reference\"\n",
    "            # to the function, that means any changes we make to the element in the list\n",
    "            # will be \"seen\" outside the function.\n",
    "            my_list[index] = x[0:5]\n",
    "\n",
    "\n",
    "# Create a list\n",
    "str_list = [\"IS111\", \"Python\", \"Programming\", \"List\"]\n",
    "\n",
    "# Use above function. The list is \"passed by reference\", which means that any changes to the list\n",
    "# made inside the function will be seen here, outside the function.\n",
    "modify_list(str_list)\n",
    "print(str_list)"
   ]
  },
  {
   "cell_type": "code",
   "execution_count": 2,
   "id": "6dd760c2-5ea8-467e-81fc-15dbe361db06",
   "metadata": {},
   "outputs": [
    {
     "name": "stdout",
     "output_type": "stream",
     "text": [
      "['IS111', 'Python', 'Programming', 'List']\n"
     ]
    }
   ],
   "source": [
    "### Q1b\n",
    "\n",
    "def modify_list(my_list):\n",
    "\n",
    "    # Go through each position in the list\n",
    "    for element in my_list:\n",
    "\n",
    "        # If string has more than 5 characters\n",
    "        if len(element) > 5:\n",
    "\n",
    "            # Change the variable \"element\" to only contain the first 5 characters.\n",
    "            # However, this variable \"element\" is not directly accessing the list,\n",
    "            # it is just a copy of the value that is in the list.\n",
    "            # That means that the element in the list will not actually change.\n",
    "            element = element[0:5]\n",
    "\n",
    "\n",
    "# Create a list\n",
    "str_list = [\"IS111\", \"Python\", \"Programming\", \"List\"]\n",
    "\n",
    "# Use above function. The list is \"passed by reference\", which means that any changes to the list\n",
    "# made inside the function will be seen here, outside the function.\n",
    "# However in the above example, the function does not actually make changes to the list.\n",
    "modify_list(str_list)\n",
    "print(str_list)"
   ]
  },
  {
   "cell_type": "code",
   "execution_count": 13,
   "id": "f57b5d23-750f-4912-9870-5faf734543c9",
   "metadata": {},
   "outputs": [
    {
     "name": "stdout",
     "output_type": "stream",
     "text": [
      "'jerry.lee'\n",
      "'alan_wong'\n",
      "''\n"
     ]
    }
   ],
   "source": [
    "### Q2-I\n",
    "\n",
    "def extract_email_id(s):\n",
    "\n",
    "    # Where is the \"@\" symbol?\n",
    "    index = s.find(\"@\")\n",
    "\n",
    "    # If \"@\" symbol is not in string\n",
    "    if (index == -1):\n",
    "        return \"\"\n",
    "\n",
    "    # Return all characters before the \"@\" symbol\n",
    "    return s[0:index]\n",
    "\n",
    "\n",
    "# Use above function\n",
    "print(extract_email_id(\"jerry.lee@sis.smu.edu.sg\"))\n",
    "print(extract_email_id(\"alan_wong@gmail.com\"))\n",
    "print(\"'\" + extract_email_id(\"alan_wong.com\") + \"'\")"
   ]
  },
  {
   "cell_type": "code",
   "execution_count": 15,
   "id": "6d26c0d1-aa44-445c-a26a-bc32480c2d58",
   "metadata": {},
   "outputs": [
    {
     "name": "stdout",
     "output_type": "stream",
     "text": [
      "jerry.lee\n",
      "alan_wong\n",
      "george_tan\n"
     ]
    }
   ],
   "source": [
    "def extract_multiple_ids(s):\n",
    "\n",
    "    # Break up string into parts, where each part is separated by semi-colon,\n",
    "    # and put these parts into a list\n",
    "    list = s.split(\";\")\n",
    "\n",
    "    # Go through each element in the list\n",
    "    for e in list:\n",
    "\n",
    "        # Print the ID\n",
    "        print(extract_email_id(e))\n",
    "\n",
    "\n",
    "# Use above function\n",
    "extract_multiple_ids(\"jerry.lee@sis.smu.edu.sg;alan_wong@gmail.com;george_tan@yahoo.com\")"
   ]
  },
  {
   "cell_type": "code",
   "execution_count": 16,
   "id": "4649947d-5d72-4e13-ae44-48476ade3a26",
   "metadata": {},
   "outputs": [
    {
     "name": "stdout",
     "output_type": "stream",
     "text": [
      "True\n",
      "False\n",
      "True\n",
      "True\n",
      "False\n",
      "False\n",
      "False\n",
      "False\n",
      "False\n",
      "True\n"
     ]
    }
   ],
   "source": [
    "### Q3\n",
    "\n",
    "def is_valid_username(s):\n",
    "\n",
    "    # Cannot be empty string nor contain space\n",
    "    if s == \"\" or \" \" in s:\n",
    "        return False\n",
    "\n",
    "    # Length of username cannot exceed 8\n",
    "    if len(s) > 8:\n",
    "        return False\n",
    "\n",
    "    # Each character must be lowercase letter, digit, or one of these special symbols\n",
    "    letters = \"abcdefghijklmnopqrstuvwxyz\"\n",
    "    digits = \"0123456789\"\n",
    "    special_symbols = \"_.!#$%?\"\n",
    "\n",
    "    # Go through each character in string\n",
    "    for c in s:\n",
    "\n",
    "        # If current character is not one of the allowed characters, then username is not allowed\n",
    "        if not (c in letters or c in digits or c in special_symbols):\n",
    "            return False\n",
    "\n",
    "    # If we reach here, that means all requirements are met\n",
    "    return True\n",
    "\n",
    "\n",
    "# Use above function\n",
    "print(is_valid_username(\"abcdefgh\"))\n",
    "print(is_valid_username(\"abcdefghi\"))\n",
    "print(is_valid_username(\"ab$cd\"))\n",
    "print(is_valid_username(\"ab_cd\"))\n",
    "print(is_valid_username(\"ab-cd\"))\n",
    "print(is_valid_username(\"ab:cd\"))\n",
    "print(is_valid_username(\"\"))\n",
    "print(is_valid_username(\"ab cd\"))\n",
    "print(is_valid_username(\"abcDef\"))\n",
    "print(is_valid_username(\"abc8ef\"))"
   ]
  },
  {
   "cell_type": "code",
   "execution_count": 17,
   "id": "b2685e8b-0a8f-48c8-a274-b131b5a89199",
   "metadata": {},
   "outputs": [
    {
     "name": "stdout",
     "output_type": "stream",
     "text": [
      "3.5\n"
     ]
    }
   ],
   "source": [
    "### Q4a\n",
    "\n",
    "def get_avg_len(list):\n",
    "\n",
    "    # If list is empty\n",
    "    if len(list) == 0:\n",
    "        return 0;\n",
    "\n",
    "    # Sum of lengths of strings\n",
    "    total = 0\n",
    "\n",
    "    # Go through each string\n",
    "    for s in list:\n",
    "\n",
    "        # Add length of string to total\n",
    "        total += len(s)\n",
    "\n",
    "    # Return average length of strings\n",
    "    return total / len(list)\n",
    "\n",
    "\n",
    "# Use above function\n",
    "print(get_avg_len([\"C\", \"Java\", \"Python\", \"PHP\"]))"
   ]
  },
  {
   "cell_type": "code",
   "execution_count": 20,
   "id": "4129725c-a5a1-4e95-b504-bd411fcb7706",
   "metadata": {},
   "outputs": [
    {
     "name": "stdout",
     "output_type": "stream",
     "text": [
      "'Python'\n",
      "'Java'\n",
      "''\n"
     ]
    }
   ],
   "source": [
    "### Q4b\n",
    "\n",
    "def get_longest_str(list):\n",
    "\n",
    "    # Length of longest sting so far\n",
    "    max_length = -1\n",
    "\n",
    "    # Longest string so far\n",
    "    longest = \"\"\n",
    "\n",
    "    # Go through each string in list\n",
    "    for s in list:\n",
    "\n",
    "        # If this string is longest so far\n",
    "        if len(s) > max_length:\n",
    "\n",
    "            # Remember it\n",
    "            max_length = len(s)\n",
    "            longest = s\n",
    "\n",
    "    # Return longest string\n",
    "    return longest\n",
    "\n",
    "\n",
    "# Use above function\n",
    "print(get_longest_str([\"C\", \"Java\", \"Python\", \"PHP\"]))\n",
    "print(get_longest_str([\"C\", \"Java\", \"HTML\", \"PHP\"]))\n",
    "print(\"'\" + get_longest_str([]) + \"'\")"
   ]
  },
  {
   "cell_type": "code",
   "execution_count": 25,
   "id": "98c3583a-1b79-45fd-aea2-8ced26d9a0ec",
   "metadata": {},
   "outputs": [
    {
     "name": "stdout",
     "output_type": "stream",
     "text": [
      "jerry.lee@sis.smu.edu.sg;alan_wong@gmail.com;george_tan@yahoo.com\n",
      "''\n"
     ]
    }
   ],
   "source": [
    "## Q4c\n",
    "\n",
    "def is_email_address(s):\n",
    "\n",
    "    # Cannot have space \n",
    "    if \" \" in s:\n",
    "        return False\n",
    "\n",
    "    # Must have \"@\" symbol\n",
    "    index = s.find(\"@\")\n",
    "    if index == -1:\n",
    "        return False\n",
    "\n",
    "    # Must not have another \"@\" symbol after the previous \"@\" symbol that was found\n",
    "    index = s[index+1:].find(\"@\")\n",
    "    if index != -1:\n",
    "        return False\n",
    "\n",
    "    # If we reach here, then string meets all requirements for email address\n",
    "    return True\n",
    "\n",
    "\n",
    "def concatenate_emails(list):\n",
    "\n",
    "    # This string will contain the final result,\n",
    "    # with valid email addresses separated by semi-colons\n",
    "    result = \"\"\n",
    "\n",
    "    # Go through each string in list\n",
    "    for s in list:\n",
    "\n",
    "        # If current string is email address\n",
    "        if is_email_address(s):\n",
    "\n",
    "            # If this is the first email address, don't put semi-colon before address\n",
    "            if result == \"\":\n",
    "                result += s\n",
    "\n",
    "            # Else, put semi-colon before address\n",
    "            else:\n",
    "                result += \";\" + s\n",
    "\n",
    "    # Return final string\n",
    "    return result\n",
    "\n",
    "\n",
    "# Use above function\n",
    "print(concatenate_emails([\"IS111\", \"a @ b\", \"jerry.lee@sis.smu.edu.sg\", \"@@@\", \"alan_wong@gmail.com\", \"Python\", \"george_tan@yahoo.com\"]))\n",
    "print(\"'\" + concatenate_emails([]) + \"'\")"
   ]
  },
  {
   "cell_type": "code",
   "execution_count": 28,
   "id": "375f962c-d61a-47d3-9863-501b8022f088",
   "metadata": {},
   "outputs": [
    {
     "name": "stdout",
     "output_type": "stream",
     "text": [
      "True\n",
      "False\n",
      "False\n",
      "False\n"
     ]
    }
   ],
   "source": [
    "### Q4d\n",
    "\n",
    "def is_hashtag(s):\n",
    "\n",
    "    # Cannot have space \n",
    "    if \" \" in s:\n",
    "        return False\n",
    "\n",
    "    # Must start with \"#\" symbol\n",
    "    if len(s) > 0 and s[0] == \"#\":\n",
    "        return True\n",
    "    else:\n",
    "        return False\n",
    "        \n",
    "\n",
    "def check_hashtags(list):\n",
    "\n",
    "    # If empty list\n",
    "    if len(list) == 0:\n",
    "        return False\n",
    "\n",
    "    # Go through each string in given list\n",
    "    for s in list:\n",
    "\n",
    "        # If current string is not hashtag, then they're not all hashtags\n",
    "        if not is_hashtag(s):\n",
    "            return False\n",
    "\n",
    "    # If we reach here, that means all the strings are hashtags\n",
    "    return True\n",
    "\n",
    "\n",
    "# Use above function\n",
    "print(check_hashtags([\"#singapore\", \"#music\", \"#travel\"]))\n",
    "print(check_hashtags([\"#singapore\", \"#music album\", \"#travel\"]))\n",
    "print(check_hashtags([\"singapore\", \"#music\", \"#travel\"]))\n",
    "print(check_hashtags([]))"
   ]
  },
  {
   "cell_type": "code",
   "execution_count": null,
   "id": "8bf2cf17-2b5a-4303-a021-a599d9ca52d6",
   "metadata": {},
   "outputs": [],
   "source": []
  }
 ],
 "metadata": {
  "kernelspec": {
   "display_name": "Python 3 (ipykernel)",
   "language": "python",
   "name": "python3"
  },
  "language_info": {
   "codemirror_mode": {
    "name": "ipython",
    "version": 3
   },
   "file_extension": ".py",
   "mimetype": "text/x-python",
   "name": "python",
   "nbconvert_exporter": "python",
   "pygments_lexer": "ipython3",
   "version": "3.11.7"
  }
 },
 "nbformat": 4,
 "nbformat_minor": 5
}
