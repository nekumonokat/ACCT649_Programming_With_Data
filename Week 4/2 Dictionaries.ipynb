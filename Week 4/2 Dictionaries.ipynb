{
 "cells": [
  {
   "cell_type": "markdown",
   "metadata": {},
   "source": [
    "<table class=\"table table-bordered\">\n",
    "    <tr>\n",
    "        <th style=\"text-align:center; width:35%\"><img src='https://dl.dropbox.com/s/qtzukmzqavebjd2/icon_smu.jpg' style=\"width: 300px; height: 90px; \"></th>\n",
    "        <th style=\"text-align:center;\"><h3>ACCT649 - Dictionaries</h3></th>\n",
    "    </tr>\n",
    "</table>\n",
    "*This course material is adapted based on the IS111 curriculum\n"
   ]
  },
  {
   "cell_type": "markdown",
   "metadata": {},
   "source": [
    "## Learning Outcomes\n",
    "\n",
    "After going through this notebook, you should be able to \n",
    "\n",
    "- Create a dictionary with some key/value pairs inside.\n",
    "- Retrieve the value associated with a specified key in a dictionary.\n",
    "- Check if a key exists in a dictionary.\n",
    "- Insert a key/value pair into a dictionary.\n",
    "- Update the value of a specified key in a dictionary.\n",
    "- Use ```keys()``` to retrieve all the keys inside a dictionary.\n",
    "- Understand when to use dictionaries."
   ]
  },
  {
   "cell_type": "markdown",
   "metadata": {},
   "source": [
    "## I. Introduction\n",
    "\n",
    "We have learned a number of data types that are sequences of values: \n",
    "\n",
    "- __str__: Strings, which are sequences of characters.\n",
    "- __list__: Lists, which are mutable sequences of values.\n",
    "- __tuple__: Tuples, which are immutable sequences of values.\n",
    "\n",
    "For all these data types that are sequences, to access a single element, we can use an __index__, which is an integer indicating the position of the element to be retrieved.\n",
    "\n",
    "In this notebook, we will introduce another data type called __dictionary__ (```dict``` in Python). Dictionaries are another kind of compound type to store a collection of elements. However, instead of storing a __sequence__ of elements, dictionaries are used to store __mappings__ from __keys__ to __values__.\n",
    "\n",
    "To understand this concept, think about the name __dictionary__. What is a dictionary? What do you use a dictionary for?\n",
    "\n",
    "A \"dictionary\" is essentially a book that stores __mappings__ from words to their definitions. When we use an English dictionary such as the Webster's Dictionary, for example, do we usually read it __sequentially__ as if it were a fiction? No! Instead, we use it for __lookup__, i.e., we use it to look up the definition of a particular word.\n",
    "\n",
    "Similarly, in Python a dictionary is also used for __lookup__. A dictionary in Python stores mappings between keys (analogous to words in a real dictionary) and values (analogous to definitions of words in a real dictionary). When we use a dictionary in Python, we usually use it to quickly look up the value of a particular key."
   ]
  },
  {
   "cell_type": "markdown",
   "metadata": {},
   "source": [
    "## II. Creating a Dictionary\n",
    "\n",
    "Assume we want to store the GPAs of all students in a class, and assume we want to be able to __quickly__ find the GPA of any student. In the past, we would likely use a list of tuples to store such information, and every time to get the GPA of a student, we would need to use a for-loop to go through the list in order to find the specified student and his/her GPA.\n",
    "\n",
    "Now let us see how we can use a dictionary to store this information and perform much faster lookup.\n",
    "\n",
    "The following code creates such a dictionary:"
   ]
  },
  {
   "cell_type": "code",
   "execution_count": 2,
   "metadata": {},
   "outputs": [
    {
     "name": "stdout",
     "output_type": "stream",
     "text": [
      "<class 'dict'>\n"
     ]
    }
   ],
   "source": [
    "student_gpas = {'Mary': 3.41, 'Roy': 3.27, 'Jason': 3.75}\n",
    "print(type(student_gpas))"
   ]
  },
  {
   "cell_type": "markdown",
   "metadata": {},
   "source": [
    "If we run the code above, we can see that the type of the variable ```student_gpas``` is ```dict```, i.e., dictionary.\n",
    "\n",
    "To create a dictionary, we can see from the code above that we need to use a pair of curly braces ```{``` and ```}``` to enclose the content of a dictionary. The elements of a dictionary are still separated by commas, just like when we create a list. But each element of a dictionary contains two items separated by a ```:```, where the item before ```:``` is a key and the item after ```:``` is the value associated with that key.\n",
    "\n",
    "In the dcitionary above, each key is a student's name and the value associated with a key is the GPA of that student. For example, ```'Mary'``` is a key, and the value associated with ```'Mary'``` is ```3.41```."
   ]
  },
  {
   "cell_type": "markdown",
   "metadata": {},
   "source": [
    "Hmm, is the <b>order</b> in which we place the key/value pairs in a dictionary important?<br />\n",
    "Not at all! <br />The <b>values</b> in a dictionary are accessed with <b>keys</b>, not with <b>indices</b> (i.e., positions)!"
   ]
  },
  {
   "cell_type": "markdown",
   "metadata": {},
   "source": [
    "## III. Looking up a Value inside a Dictionary\n",
    "\n",
    "Why is it useful to store the information above in a dictionary? It is because we can look up the value associated with a key very quickly, as shown below:"
   ]
  },
  {
   "cell_type": "code",
   "execution_count": 3,
   "metadata": {},
   "outputs": [
    {
     "name": "stdout",
     "output_type": "stream",
     "text": [
      "3.41\n",
      "3.75\n"
     ]
    }
   ],
   "source": [
    "print(student_gpas['Mary'])\n",
    "print(student_gpas['Jason'])"
   ]
  },
  {
   "cell_type": "markdown",
   "metadata": {},
   "source": [
    "What the code above does is to directly retrieve the GPA of ```'Mary'``` and the GPA of ```'Jason'```, and to print them out. \n",
    "\n",
    "Generally, to retrieve the value associated with a key inside a dictionary, we use the following code:\n",
    "\n",
    "```\n",
    "    my_dict[key]\n",
    "```\n",
    "\n",
    "Here ```my_dict``` is the dictionary, and ```key``` is the key for the value we are looking for.\n"
   ]
  },
  {
   "cell_type": "markdown",
   "metadata": {},
   "source": [
    "Given the following dictionary, could you write __just two lines of code__ that prompts the user for a person's name and then display the phone number of that person?\n",
    "\n",
    "Your program should run like the following, where ```Linda``` is a user input:\n",
    "\n",
    "```\n",
    "Enter a person's name: Linda\n",
    "+60 458734723\n",
    "```"
   ]
  },
  {
   "cell_type": "code",
   "execution_count": 4,
   "metadata": {},
   "outputs": [
    {
     "ename": "KeyError",
     "evalue": "''",
     "output_type": "error",
     "traceback": [
      "\u001b[31m---------------------------------------------------------------------------\u001b[39m",
      "\u001b[31mKeyError\u001b[39m                                  Traceback (most recent call last)",
      "\u001b[36mCell\u001b[39m\u001b[36m \u001b[39m\u001b[32mIn[4]\u001b[39m\u001b[32m, line 6\u001b[39m\n\u001b[32m      4\u001b[39m \u001b[38;5;66;03m# Write only two lines of code below:\u001b[39;00m\n\u001b[32m      5\u001b[39m name = \u001b[38;5;28minput\u001b[39m(\u001b[33m\"\u001b[39m\u001b[33mEnter a person\u001b[39m\u001b[33m'\u001b[39m\u001b[33ms name: \u001b[39m\u001b[33m\"\u001b[39m)\n\u001b[32m----> \u001b[39m\u001b[32m6\u001b[39m \u001b[38;5;28mprint\u001b[39m(\u001b[43mphone_book\u001b[49m\u001b[43m[\u001b[49m\u001b[43mname\u001b[49m\u001b[43m]\u001b[49m)\n",
      "\u001b[31mKeyError\u001b[39m: ''"
     ]
    }
   ],
   "source": [
    "# Create a dictionary\n",
    "phone_book = {'Jason':'+65 23455432', 'Mary':'99227744', 'Linda':'+60 458734723', 'Zack':'89456732'}\n",
    "\n",
    "# Write only two lines of code below:\n",
    "name = input(\"Enter a person's name: \")\n",
    "print(phone_book[name])"
   ]
  },
  {
   "cell_type": "markdown",
   "metadata": {},
   "source": [
    "## IV. Check for Existence of a Key\n",
    "\n",
    "Run the code you have written above again but this time enter a name that is not contained in the dictionary, e.g., enter ```Jack``` as the person's name. What do you get? Likely you'll see a ```KeyError```.\n",
    "\n",
    "A ```KeyError``` occurs when you try to access the value of a key that does not exist in the given dictionary. \n",
    "\n",
    "How do we prevent a ```KeyError```? We can check whether a key exists in the dictionary before we attempt to access the value associated with the key. To check whether a key exists or not, we can simply use ```key in my_dict```, where ```key``` is a key and ```my_dict``` is a dictionary.\n",
    "\n",
    "See the example below. Without running the code, what do you expect the code to print to the screen? Now run the code to verify your guess."
   ]
  },
  {
   "cell_type": "code",
   "execution_count": 5,
   "metadata": {},
   "outputs": [
    {
     "name": "stdout",
     "output_type": "stream",
     "text": [
      "True\n",
      "False\n"
     ]
    }
   ],
   "source": [
    "my_dict = {'Monday':'red', 'Tuesday':'blue', 'Wednesday':'green'}\n",
    "\n",
    "print('Monday' in my_dict)\n",
    "print('Thursday' in my_dict)"
   ]
  },
  {
   "cell_type": "markdown",
   "metadata": {},
   "source": [
    "So in general, if we are not sure whether a key exists or not in a dictionary, we'd better check the existence of the key first. The code below is an example:"
   ]
  },
  {
   "cell_type": "code",
   "execution_count": 6,
   "metadata": {},
   "outputs": [
    {
     "name": "stdout",
     "output_type": "stream",
     "text": [
      "The item cannot be found!\n"
     ]
    }
   ],
   "source": [
    "my_dict = {'pen':0.45, 'ruler':1.25, 'eraser':0.35, 'notebook':1.45}\n",
    "\n",
    "item = input(\"What do you want to buy? \")\n",
    "if item in my_dict:\n",
    "    print(\"The price for \" + item + \" is $\" + str(my_dict[item]))\n",
    "else:\n",
    "    print(\"The item cannot be found!\")"
   ]
  },
  {
   "cell_type": "markdown",
   "metadata": {},
   "source": [
    "It is important to note that the syntax above is to check the existence of a __key__, __NOT__ the existence of a __value__.\n",
    "\n",
    "Run the code below to understand this:"
   ]
  },
  {
   "cell_type": "code",
   "execution_count": 7,
   "metadata": {},
   "outputs": [
    {
     "name": "stdout",
     "output_type": "stream",
     "text": [
      "True\n",
      "False\n"
     ]
    }
   ],
   "source": [
    "my_dict = {'Monday':'red', 'Tuesday':'blue', 'Wednesday':'green'}\n",
    "\n",
    "print('Monday' in my_dict)\n",
    "print('red' in my_dict)"
   ]
  },
  {
   "cell_type": "markdown",
   "metadata": {},
   "source": [
    "## V. Insert and Update Key/Value Pairs\n",
    "\n",
    "We can insert new key/value pairs into a dictionary. We can also change the value associated with an existing key in a dictionary. The same syntax is used for both insertion and modification, as shown below: "
   ]
  },
  {
   "cell_type": "code",
   "execution_count": 8,
   "metadata": {},
   "outputs": [
    {
     "name": "stdout",
     "output_type": "stream",
     "text": [
      "Original dictionary:\n",
      "\t{'Monday': 'red', 'Tuesday': 'blue', 'Wednesday': 'green'}\n",
      "After insertion:\n",
      "\t{'Monday': 'red', 'Tuesday': 'blue', 'Wednesday': 'green', 'Thursday': 'yellow'}\n",
      "After modification:\n",
      "\t{'Monday': 'red', 'Tuesday': 'orange', 'Wednesday': 'green', 'Thursday': 'yellow'}\n"
     ]
    }
   ],
   "source": [
    "my_dict = {'Monday':'red', 'Tuesday':'blue', 'Wednesday':'green'}\n",
    "print(\"Original dictionary:\")\n",
    "print('\\t' + str(my_dict))\n",
    "\n",
    "my_dict['Thursday'] = 'yellow'\n",
    "print(\"After insertion:\")\n",
    "print('\\t' + str(my_dict))\n",
    "\n",
    "my_dict['Tuesday'] = 'orange'\n",
    "print(\"After modification:\")\n",
    "print('\\t' + str(my_dict))"
   ]
  },
  {
   "cell_type": "markdown",
   "metadata": {},
   "source": [
    "You can see that Line 5 above inserts a new key/value pair, where the key is ```'Thursday'``` and the value is ```'yellow'```.\n",
    "\n",
    "Line 9 above looks very similar to Line 5. However, because the key ```'Tuesday'``` already exists in the dictionary, the effect of Line 9 is to __replace__ the old value associated with ```'Tuesday'``` with a __new value__."
   ]
  },
  {
   "cell_type": "markdown",
   "metadata": {},
   "source": [
    "It is important to note that a dictionary __cannot have duplicate keys__."
   ]
  },
  {
   "cell_type": "markdown",
   "metadata": {},
   "source": [
    "In the code above, we can see that ```my_dict['Tuesday'] = 'orange'``` replaces the old value associated with ```'Tuesday'```, which is ```'blue'```, with the new value ```'orange'```. A dictionary cannot store two different values for the same key."
   ]
  },
  {
   "cell_type": "markdown",
   "metadata": {},
   "source": [
    "Let's do an exercise !"
   ]
  },
  {
   "cell_type": "markdown",
   "metadata": {},
   "source": [
    "You are given an empty dictionary called ```courses```. Insert the following information into this dictionary:\n",
    "\n",
    "```\n",
    "'ACCT649':'Programming with Data'\n",
    "'ACCT648':'Applied Statistics for Data Analysis'\n",
    "```"
   ]
  },
  {
   "cell_type": "code",
   "execution_count": 9,
   "metadata": {},
   "outputs": [],
   "source": [
    "# Create an empty dictionary\n",
    "courses = {}\n",
    "\n",
    "# Write your code below to insert two key/value pairs into courses:\n",
    "courses[\"ACCT649\"] = \"Programming with Data\"\n",
    "courses[\"ACCT648\"] = \"Applied Statistics for Data Analysis\""
   ]
  },
  {
   "cell_type": "markdown",
   "metadata": {},
   "source": [
    "After your modification to the code above, you should see the following output for the test code below:\n",
    "\n",
    "```\n",
    "The title of ACCT649 is Programming with Data\n",
    "The title of ACCT648 is Applied Statistics for Data Analysis\n",
    "```"
   ]
  },
  {
   "cell_type": "code",
   "execution_count": 10,
   "metadata": {},
   "outputs": [
    {
     "name": "stdout",
     "output_type": "stream",
     "text": [
      "The title of ACCT649 is Programming with Data\n",
      "The title of ACCT648 is Applied Statistics for Data Analysis\n"
     ]
    }
   ],
   "source": [
    "# Test code:\n",
    "print(\"The title of ACCT649 is \" + courses['ACCT649'])\n",
    "print(\"The title of ACCT648 is \" + courses['ACCT648'])"
   ]
  },
  {
   "cell_type": "markdown",
   "metadata": {
    "collapsed": true,
    "jupyter": {
     "outputs_hidden": true
    }
   },
   "source": [
    "## VI. Dictionary Methods\n",
    "\n",
    "There are some methods for dictionaries that you may find useful.\n",
    "\n",
    "### (a) Retrieving all the keys\n",
    "\n",
    "Given a dictionary, if we'd like to get all the keys, we can use the ```keys()``` method as shown below:"
   ]
  },
  {
   "cell_type": "code",
   "execution_count": 11,
   "metadata": {},
   "outputs": [],
   "source": [
    "my_dict = {'Monday':'red', 'Tuesday':'blue', 'Wednesday':'green', 'Thursday':'yellow'}\n",
    "\n",
    "my_keys = my_dict.keys()"
   ]
  },
  {
   "cell_type": "markdown",
   "metadata": {},
   "source": [
    "Here ```my_keys``` is of a special data type called ```dict_keys```, as you can verify using the code below:"
   ]
  },
  {
   "cell_type": "code",
   "execution_count": 12,
   "metadata": {},
   "outputs": [
    {
     "name": "stdout",
     "output_type": "stream",
     "text": [
      "dict_keys(['Monday', 'Tuesday', 'Wednesday', 'Thursday'])\n",
      "<class 'dict_keys'>\n"
     ]
    }
   ],
   "source": [
    "print(my_keys)\n",
    "print(type(my_keys))"
   ]
  },
  {
   "cell_type": "markdown",
   "metadata": {},
   "source": [
    "If you'd like to go through all the elements inside ```my_keys```, you can use a for-loop as if ```my_keys``` were a list (but remember that it is __not__ a list):"
   ]
  },
  {
   "cell_type": "code",
   "execution_count": 13,
   "metadata": {},
   "outputs": [
    {
     "name": "stdout",
     "output_type": "stream",
     "text": [
      "Monday\n",
      "Tuesday\n",
      "Wednesday\n",
      "Thursday\n"
     ]
    }
   ],
   "source": [
    "for key in my_keys:\n",
    "    print(key)"
   ]
  },
  {
   "cell_type": "markdown",
   "metadata": {},
   "source": [
    "If you want, you can cast ```my_keys``` into a list by using the ```list()``` function, as shown below:"
   ]
  },
  {
   "cell_type": "code",
   "execution_count": 14,
   "metadata": {},
   "outputs": [
    {
     "name": "stdout",
     "output_type": "stream",
     "text": [
      "['Monday', 'Tuesday', 'Wednesday', 'Thursday']\n"
     ]
    }
   ],
   "source": [
    "my_key_list = list(my_keys)\n",
    "print(my_key_list)"
   ]
  },
  {
   "cell_type": "markdown",
   "metadata": {},
   "source": [
    "### (b) Retrieving all the values\n",
    "\n",
    "There is a similar method called ``values()`` for us to retrieve all the values of a dictionary, as shown below:"
   ]
  },
  {
   "cell_type": "code",
   "execution_count": 15,
   "metadata": {},
   "outputs": [
    {
     "name": "stdout",
     "output_type": "stream",
     "text": [
      "dict_values(['red', 'blue', 'green', 'yellow'])\n"
     ]
    }
   ],
   "source": [
    "my_dict = {'Monday':'red', 'Tuesday':'blue', 'Wednesday':'green', 'Thursday':'yellow'}\n",
    "\n",
    "my_values = my_dict.values()\n",
    "print(my_values)"
   ]
  },
  {
   "cell_type": "markdown",
   "metadata": {},
   "source": [
    "### (c) Retrieving all the values\n",
    "\n",
    "There is also a method called ```items()``` for us to retrieve all the key/value pairs in a dictionary:"
   ]
  },
  {
   "cell_type": "code",
   "execution_count": 16,
   "metadata": {},
   "outputs": [
    {
     "name": "stdout",
     "output_type": "stream",
     "text": [
      "dict_items([('Monday', 'red'), ('Tuesday', 'blue'), ('Wednesday', 'green'), ('Thursday', 'yellow')])\n"
     ]
    }
   ],
   "source": [
    "my_dict = {'Monday':'red', 'Tuesday':'blue', 'Wednesday':'green', 'Thursday':'yellow'}\n",
    "\n",
    "my_items = my_dict.items()\n",
    "print(my_items)"
   ]
  },
  {
   "cell_type": "markdown",
   "metadata": {},
   "source": [
    "Do not abuse the use of the ```keys()```, ```values()``` and ```items()```! Remember that dictionaries are usually used for quick lookup of values. We usually do not need to retrieve all the keys, all the values, or all the key/value pairs."
   ]
  },
  {
   "cell_type": "markdown",
   "metadata": {},
   "source": [
    "Let's do an exercise !"
   ]
  },
  {
   "cell_type": "markdown",
   "metadata": {},
   "source": [
    "You are given a file called \"email_IDs.txt\" that contains a list of students with their email IDs, separated by tabs in each line.\n",
    "\n",
    "Write a program that first reads the file and stores the information into a dictionary.\n",
    "\n",
    "Then the program prompts the user for a student ID. It then displays the name of the student with that student ID. If the email ID cannot be found, the program displays \"Not found!\"\n",
    "\n",
    "Some of the initial code has been given to you.\n",
    "\n",
    "Two sample runs of the program can be found below:\n",
    "\n",
    "- Sample Run #1\n",
    "\n",
    "```\n",
    "Enter an email ID: ng.yh.2015\n",
    "Ng Yin Hui\n",
    "```\n",
    "\n",
    "- Sample Run #2\n",
    "\n",
    "```\n",
    "Enter an email ID: peter.liu.2017\n",
    "Not found!\n",
    "```\n",
    "\n",
    "- Sample Run #3\n",
    "\n",
    "```\n",
    "Enter an email ID: liu.peter.2017\n",
    "Peter Liu\n",
    "```"
   ]
  },
  {
   "cell_type": "code",
   "execution_count": 40,
   "metadata": {},
   "outputs": [
    {
     "name": "stdout",
     "output_type": "stream",
     "text": [
      "Peter Liu\n"
     ]
    }
   ],
   "source": [
    "# Read a file called \"email_IDs.txt\",\n",
    "# and store the contents into a variable \"my_file\"\n",
    "with open('email_IDs.txt', 'r') as my_file:\n",
    "    student_emails = {}\n",
    "    \n",
    "    # Got through each line in the file\n",
    "    for line in my_file:\n",
    "        \n",
    "        # Remove the newline character ath the end of each line\n",
    "        line = line.rstrip('\\n')\n",
    "\n",
    "        # Write your code below:\n",
    "        # a tab separator is denoted by \\t\n",
    "        vals = line.split(\"\\t\")\n",
    "        # storing vals[0] as key and vals[1] as value\n",
    "        student_emails[vals[0]] = vals[1]\n",
    "\n",
    "    email_id = input(\"Enter an email ID: \")\n",
    "    found = False\n",
    "\n",
    "    for name, id in student_emails.items():\n",
    "        if email_id == id:\n",
    "            print(name)\n",
    "            found = True\n",
    "            break\n",
    "\n",
    "    if not found:\n",
    "        print(\"Not found!\")\n",
    "    "
   ]
  }
 ],
 "metadata": {
  "kernelspec": {
   "display_name": "Python 3",
   "language": "python",
   "name": "python3"
  },
  "language_info": {
   "codemirror_mode": {
    "name": "ipython",
    "version": 3
   },
   "file_extension": ".py",
   "mimetype": "text/x-python",
   "name": "python",
   "nbconvert_exporter": "python",
   "pygments_lexer": "ipython3",
   "version": "3.13.5"
  }
 },
 "nbformat": 4,
 "nbformat_minor": 4
}
