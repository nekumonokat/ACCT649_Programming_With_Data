{
 "cells": [
  {
   "cell_type": "code",
   "execution_count": 8,
   "id": "3c449897",
   "metadata": {},
   "outputs": [
    {
     "name": "stdout",
     "output_type": "stream",
     "text": [
      "0\n",
      "[6, 2, 7]\n"
     ]
    }
   ],
   "source": [
    "# Pass by Values\n",
    "# value of 0 given to the function, not the variable\n",
    "def f(x):\n",
    "    x += 1\n",
    "\n",
    "x = 0\n",
    "f(x)\n",
    "print(x)\n",
    "\n",
    "# Pass by Reference\n",
    "# reference to list given to function, not a copy of the value\n",
    "\n",
    "def g(lst):\n",
    "    lst[1] = 2\n",
    "\n",
    "list = [6, 0, 7]\n",
    "g(list)\n",
    "print(list)"
   ]
  },
  {
   "cell_type": "markdown",
   "id": "ec9ca8e5",
   "metadata": {},
   "source": [
    "## Q1: Code Tracing [ ** ]\n",
    "What’s the output of the following code?"
   ]
  },
  {
   "cell_type": "code",
   "execution_count": 10,
   "id": "af212529",
   "metadata": {},
   "outputs": [
    {
     "name": "stdout",
     "output_type": "stream",
     "text": [
      "['IS111', 'Pytho', 'Progr', 'List']\n"
     ]
    }
   ],
   "source": [
    "def modify_list(my_list):\n",
    "    for index in range(len(my_list)):\n",
    "        x = my_list[index]\n",
    "        # if length of item > 5, store only first 5 characters\n",
    "        if len(x) > 5:\n",
    "            my_list[index] = x[0:5]\n",
    "\n",
    "str_list = [\"IS111\", \"Python\", \"Programming\", \"List\"]\n",
    "modify_list(str_list)\n",
    "print(str_list)"
   ]
  },
  {
   "cell_type": "markdown",
   "id": "5769e05d",
   "metadata": {},
   "source": [
    "What’s the output of the following code?"
   ]
  },
  {
   "cell_type": "code",
   "execution_count": 15,
   "id": "1502419a",
   "metadata": {},
   "outputs": [
    {
     "name": "stdout",
     "output_type": "stream",
     "text": [
      "['IS111', 'Python', 'Programming', 'List']\n"
     ]
    }
   ],
   "source": [
    "def modify_list(my_list):\n",
    "    # an element, but doesnt ACCESS the list\n",
    "    for element in my_list:\n",
    "        # loop through each element\n",
    "        if len(element) > 5:\n",
    "            # not putting it directly to the list\n",
    "            element = element[0:5]\n",
    "\n",
    "str_list = [\"IS111\", \"Python\", \"Programming\", \"List\"]\n",
    "modify_list(str_list)\n",
    "print(str_list)"
   ]
  },
  {
   "cell_type": "markdown",
   "id": "e7df8c88",
   "metadata": {},
   "source": [
    "## Q2: Email Extractor [ ** ]\n",
    "**Part I**\n",
    "\n",
    "Implement a function called extract_email_id() that extracts email ID from an email address.\n",
    "The function takes in a string as a parameter. This string is an email address. The function returns\n",
    "the front part of the email address before the ‘@’ symbol.\n",
    "For example,\n",
    "- extract_email_id(\"jerry.lee@sis.smu.edu.sg\") returns the string \"jerry.lee\".\n",
    "- extract_email_id(\"alan_wong@gmail.com\") returns the string \"alan_wong\".\n",
    "- extract_email_id(\"alan_wong.com\") returns \"\".\n",
    "If the given string does not contain the ‘@’ symbol, the function returns an empty string."
   ]
  },
  {
   "cell_type": "code",
   "execution_count": 37,
   "id": "a5be07d0",
   "metadata": {},
   "outputs": [
    {
     "name": "stdout",
     "output_type": "stream",
     "text": [
      "jerry.lee\n",
      "alan_wong\n",
      "\n"
     ]
    }
   ],
   "source": [
    "# def extract_email_id(email):\n",
    "#     for i in range(len(email)):\n",
    "#         if email[i] == \"@\":\n",
    "#             print(email[:i])\n",
    "#         else:\n",
    "#             print(\"\")\n",
    "\n",
    "def extract_email_id(email):\n",
    "    idx = email.find(\"@\")\n",
    "    if idx != -1:\n",
    "        return email[:idx]\n",
    "    else:\n",
    "        return \"\"\n",
    "\n",
    "print(extract_email_id(\"jerry.lee@sis.smu.edu.sg\"))\n",
    "print(extract_email_id(\"alan_wong@gmail.com\"))\n",
    "print(extract_email_id(\"alan_wong.com\"))"
   ]
  },
  {
   "cell_type": "markdown",
   "id": "1f5203ce",
   "metadata": {},
   "source": [
    "**Part II**\n",
    "\n",
    "Implement another function called extract_multiple_email_ids(). This function takes in a string that contains multiple email addresses, separated by semi-colons. (You can assume that semicolons cannot be used as part of an email address.) The function prints out the email IDs one by one in separate rows. The function doesn’t return anything.\n",
    "\n",
    "For example, calling\n",
    "```extract_multiple_email_ids(\"jerry.lee@sis.smu.edu.sg;alan_wong@gmail.com;george_tan@yahoo.com\")```\n",
    "\n",
    "Gives the following output:<br>\n",
    "```jerry.lee```<br>\n",
    "```alan_wong```<br>\n",
    "```george_tan```\n",
    "\n",
    "Hint: You can use the split() method on a string. "
   ]
  },
  {
   "cell_type": "code",
   "execution_count": 42,
   "id": "59aa6d1f",
   "metadata": {},
   "outputs": [
    {
     "name": "stdout",
     "output_type": "stream",
     "text": [
      "jerry.lee\n",
      "alan_wong\n",
      "george_tan\n"
     ]
    }
   ],
   "source": [
    "def extract_multiple_email_ids(email_string):\n",
    "    emails = email_string.split(\";\")\n",
    "\n",
    "    for email in emails:\n",
    "        print(extract_email_id(email))\n",
    "\n",
    "extract_multiple_email_ids(\"jerry.lee@sis.smu.edu.sg;alan_wong@gmail.com;george_tan@yahoo.com\")"
   ]
  },
  {
   "cell_type": "markdown",
   "id": "af002ebc",
   "metadata": {},
   "source": [
    "## Q3: Check Username [ *** ]\n",
    "A website allows people to sign up as members, but when choosing their usernames, there are the following restrictions:\n",
    "- The username cannot be empty nor contain any space.\n",
    "- Each character in the username must be a lowercase letter, a digit, or one of the following special symbols: _.!#$%?\n",
    "- The length of the username cannot exceed 8.\n",
    "\n",
    "Write a function that checks whether a string is a valid username. The function takes in a string as its parameter and returns True or False."
   ]
  },
  {
   "cell_type": "code",
   "execution_count": 80,
   "id": "8e130b0f",
   "metadata": {},
   "outputs": [],
   "source": [
    "# MY ANSWER:\n",
    "\n",
    "def check_username(username):\n",
    "    SPECIAL_SYMBOLS = \"_.!#$%?\"\n",
    "    \n",
    "    # CONDITION 1: empty or contins spaces\n",
    "    # CONDITION 2: length cannot exceed 8\n",
    "    if username == \"\" or \" \" in username or len(username) > 8:\n",
    "        return False\n",
    "    \n",
    "    for c in username:\n",
    "        # CONDITION 3: checks alphanumeric and special symbol\n",
    "        if c.isalnum() == False and c not in SPECIAL_SYMBOLS:\n",
    "            return False\n",
    "        # CONDITION 4: checks for uppercase\n",
    "        if c.isupper():\n",
    "            return False\n",
    "    \n",
    "    return True"
   ]
  },
  {
   "cell_type": "code",
   "execution_count": 81,
   "id": "2ca8b674",
   "metadata": {},
   "outputs": [
    {
     "name": "stdout",
     "output_type": "stream",
     "text": [
      "True\n",
      "False\n",
      "True\n",
      "True\n",
      "False\n",
      "False\n",
      "False\n",
      "False\n",
      "False\n",
      "True\n"
     ]
    }
   ],
   "source": [
    "print(check_username(\"abcdefgh\")) # True\n",
    "print(check_username(\"abcdefghi\")) # False\n",
    "print(check_username(\"ab$cd\")) # True\n",
    "print(check_username(\"ab_cd\")) # True\n",
    "print(check_username(\"ab-cd\")) # False\n",
    "print(check_username(\"ab:cd\")) # False\n",
    "print(check_username(\"\")) # False\n",
    "print(check_username(\"ab cd\")) # False\n",
    "print(check_username(\"abcDef\")) # False\n",
    "print(check_username(\"abc8ef\")) # True"
   ]
  },
  {
   "cell_type": "code",
   "execution_count": 78,
   "id": "54777096",
   "metadata": {},
   "outputs": [],
   "source": [
    "# PROF ANSWER - given that we dont know the python helper isalnum, need to define it\n",
    "\n",
    "def check_username(username):\n",
    "    ALPHABETS = \"abcdefghijklmnopqrstuvwxyz\"\n",
    "    NUMBERS = \"1234567890\"\n",
    "    SPECIAL_SYMBOLS = \"_.!#$%?\"\n",
    "    \n",
    "    # CONDITION 1: empty or contins spaces\n",
    "    # CONDITION 2: length cannot exceed 8\n",
    "    if username == \"\" or \" \" in username or len(username) > 8:\n",
    "        return False\n",
    "    \n",
    "    for c in username:\n",
    "        # CONDITION 3: checks alphanumeric and special symbol\n",
    "        if c not in ALPHABETS and c not in NUMBERS and c not in SPECIAL_SYMBOLS:\n",
    "            return False\n",
    "    \n",
    "    return True"
   ]
  },
  {
   "cell_type": "markdown",
   "id": "807d5621",
   "metadata": {},
   "source": [
    "## Q4: List of Strings\n",
    "**a) [ ** ]** Implement a function called get_avg_len() that takes in a list of strings. The function returns the average length of all the strings in the given list.\n",
    "\n",
    "For example, ```get_avg_len([\"C\", \"Java\", \"Python\", \"PHP\"])``` returns 3.5.\n",
    "\n",
    "If the list is empty or if the strings are all empty strings, the function returns 0."
   ]
  },
  {
   "cell_type": "code",
   "execution_count": 82,
   "id": "4a052d82",
   "metadata": {},
   "outputs": [
    {
     "data": {
      "text/plain": [
       "3.5"
      ]
     },
     "execution_count": 82,
     "metadata": {},
     "output_type": "execute_result"
    }
   ],
   "source": [
    "def get_avg_len(lst):\n",
    "    lst_len = len(lst)\n",
    "    total_len = 0\n",
    "\n",
    "    for e in lst:\n",
    "        total_len += len(e)\n",
    "\n",
    "    return total_len / lst_len\n",
    "\n",
    "get_avg_len([\"C\", \"Java\", \"Python\", \"PHP\"]) # 3.5"
   ]
  },
  {
   "cell_type": "markdown",
   "id": "db036f37",
   "metadata": {},
   "source": [
    "**b) [ ** ]** Implement a function called get_longest_str() that takes in a list of strings. The function returns the string that is the longest among all the strings in the given list. If there are more multiple strings having the longest length, the function returns the first such string in the list.\n",
    "\n",
    "For example:\n",
    "- ```get_longest_str([\"C\", \"Java\", \"Python\", \"PHP\"])``` returns \"Python\"\n",
    "- ```get_longest_str([\"C\", \"Java\", \"HTML\", \"PHP\"])``` returns \"Java\".\n",
    "\n",
    "If the list is empty, the function returns an empty string.\n"
   ]
  },
  {
   "cell_type": "code",
   "execution_count": null,
   "id": "77fd9baa",
   "metadata": {},
   "outputs": [
    {
     "name": "stdout",
     "output_type": "stream",
     "text": [
      "Python\n",
      "Java\n"
     ]
    }
   ],
   "source": [
    "def get_longest_str(lst):\n",
    "    longest = 0\n",
    "    output = \"\"\n",
    "\n",
    "    for e in lst:\n",
    "        if len(e) > longest:\n",
    "            longest = len(e)\n",
    "            output = e\n",
    "    return output\n",
    "\n",
    "print(get_longest_str([\"C\", \"Java\", \"Python\", \"PHP\"])) # Python\n",
    "print(get_longest_str([\"C\", \"Java\", \"HTML\", \"PHP\"])) # Java"
   ]
  },
  {
   "cell_type": "markdown",
   "id": "66168954",
   "metadata": {},
   "source": [
    "**c) [ *** ]** Implement a function called concatenate_emails(). This function takes in a list of strings, where some of these strings are email address. The function returns a string that contains the email addresses separated by semi-colons.\n",
    "\n",
    "Here a string is considered an email address if it contains exactly one ‘@’ symbol and it does not contain any space.\n",
    "\n",
    "For example: ```concatenate_emails([\"IS111\", \"a @ b\", \"jerry.lee@sis.smu.edu.sg\", \"@@@\", \"alan_wong@gmail.com\", \"Python\", \"george_tan@yahoo.com\"])``` returns \"jerry.lee@sis.smu.edu.sg;alan_wong@gmail.com;george_tan@yahoo.com\".\n",
    "\n",
    "If the list is empty, the function returns an empty string."
   ]
  },
  {
   "cell_type": "code",
   "execution_count": 13,
   "id": "612b320a",
   "metadata": {},
   "outputs": [
    {
     "name": "stdout",
     "output_type": "stream",
     "text": [
      "jerry.lee@sis.smu.edu.sg;alan_wong@gmail.com;george_tan@yahoo.com\n"
     ]
    }
   ],
   "source": [
    "def concatenate_emails(lst):\n",
    "    output = \"\"\n",
    "    for e in lst:\n",
    "        ## CONDITIONS:\n",
    "        # 1. contains exactly one \"@\"\n",
    "        # 2. does not contain space\n",
    "        if e.count(\"@\") == 1 and \" \" not in e:\n",
    "            output += e + \";\"\n",
    "    return output[:-1]\n",
    "\n",
    "print(concatenate_emails([\"IS111\", \"a @ b\", \"jerry.lee@sis.smu.edu.sg\", \"@@@\", \"alan_wong@gmail.com\", \"Python\", \"george_tan@yahoo.com\"]))\n",
    "# output: \"jerry.lee@sis.smu.edu.sg;alan_wong@gmail.com;george_tan@yahoo.com\""
   ]
  },
  {
   "cell_type": "markdown",
   "id": "bf540885",
   "metadata": {},
   "source": [
    "**d) [ *** ]** Implement a function called check_hashtags(). The function takes in a list of strings. The function returns True if all the strings are hashtags, i.e., all the strings start with a ‘#’ symbol and do not contain any space. The function returns False if at least one of the strings is not a hashtag.\n",
    "\n",
    "For example:\n",
    "- check_hashtags([\"#singapore\", \"#music\", \"#travel\"]) returns True\n",
    "- check_hashtags([\"#singapore\", \"#music album\", \"#travel\"]) returns False\n",
    "- check_hashtags([\"singapore\", \"#music\", \"#travel\"]) returns False\n",
    "\n",
    "If the list is empty, the function returns False."
   ]
  },
  {
   "cell_type": "code",
   "execution_count": 20,
   "id": "a429bf2f",
   "metadata": {},
   "outputs": [
    {
     "name": "stdout",
     "output_type": "stream",
     "text": [
      "True\n",
      "False\n",
      "False\n",
      "False\n"
     ]
    }
   ],
   "source": [
    "def check_hashtags(lst):\n",
    "    if len(lst) == 0:\n",
    "        return False\n",
    "    \n",
    "    for e in lst:\n",
    "        ## CONDITIONS FOR FALSE:\n",
    "        # 1. string contains string\n",
    "        # 2. first character not \"#\"\n",
    "        # 3. more than 1 \"#\" in string (i dont know if its a crucial check)\n",
    "        if \" \" in e or e[0] != \"#\" or e.count(\"#\") > 1:\n",
    "            return False\n",
    "        \n",
    "    # if it did not hit False, return True\n",
    "    return True\n",
    "\n",
    "print(check_hashtags([\"#singapore\", \"#music\", \"#travel\"]))\n",
    "print(check_hashtags([\"#singapore\", \"#music album\", \"#travel\"]))\n",
    "print(check_hashtags([\"singapore\", \"#music\", \"#travel\"]))\n",
    "print(check_hashtags([]))"
   ]
  }
 ],
 "metadata": {
  "kernelspec": {
   "display_name": "Python 3",
   "language": "python",
   "name": "python3"
  },
  "language_info": {
   "codemirror_mode": {
    "name": "ipython",
    "version": 3
   },
   "file_extension": ".py",
   "mimetype": "text/x-python",
   "name": "python",
   "nbconvert_exporter": "python",
   "pygments_lexer": "ipython3",
   "version": "3.13.5"
  }
 },
 "nbformat": 4,
 "nbformat_minor": 5
}
