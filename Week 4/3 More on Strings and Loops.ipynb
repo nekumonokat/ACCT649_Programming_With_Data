{
 "cells": [
  {
   "cell_type": "markdown",
   "id": "5383ef41",
   "metadata": {},
   "source": [
    "## Q1: Print Patterns\n",
    "**(a) [ *** ]**\n",
    "\n",
    "Define a function called print_square_1(). The function takes in a single parameter n, which you can assume is a positive odd number greater than or equal to 5. The function prints out an 𝑛 × 𝑛 square using asterisks that’s divided into four small squares. See the examples below to understand the behaviour of the function: "
   ]
  },
  {
   "cell_type": "code",
   "execution_count": 49,
   "id": "67ce2b8e",
   "metadata": {},
   "outputs": [
    {
     "name": "stdout",
     "output_type": "stream",
     "text": [
      "*****\n",
      "* * *\n",
      "*****\n",
      "* * *\n",
      "*****\n",
      "*********\n",
      "*   *   *\n",
      "*   *   *\n",
      "*   *   *\n",
      "*********\n",
      "*   *   *\n",
      "*   *   *\n",
      "*   *   *\n",
      "*********\n"
     ]
    }
   ],
   "source": [
    "### Q1a\n",
    "\n",
    "def print_square_1(n):\n",
    "    # only first mid and last rows / columns printed\n",
    "    mid_val = ((n-1)/2)\n",
    "    \n",
    "    for c in range(n):\n",
    "        for r in range(n):\n",
    "            ## CONDITION: if modulo of mid value is 0\n",
    "            if c % mid_val == 0 or r % mid_val == 0:\n",
    "                print(\"*\", end = \"\")\n",
    "            else:\n",
    "                print(\" \", end = \"\")\n",
    "        print()\n",
    "\n",
    "print_square_1(5)\n",
    "print_square_1(9)"
   ]
  },
  {
   "cell_type": "markdown",
   "id": "3936b01b",
   "metadata": {},
   "source": [
    "**(b) [ *** ]**\n",
    "\n",
    "Define a function called print_square_2(). The function takes in a single parameter n, which you can assume is a positive odd number greater than or equal to 5. The function prints out a square using asterisks that’s divided into four triangles. See the examples below to understand the behaviour of the function: "
   ]
  },
  {
   "cell_type": "code",
   "execution_count": 57,
   "id": "528bce58",
   "metadata": {},
   "outputs": [
    {
     "name": "stdout",
     "output_type": "stream",
     "text": [
      "*********\n",
      "**     **\n",
      "* *   * *\n",
      "*  * *  *\n",
      "*   *   *\n",
      "*  * *  *\n",
      "* *   * *\n",
      "**     **\n",
      "*********\n"
     ]
    }
   ],
   "source": [
    "def print_square_2(n):\n",
    "    for r in range(n):\n",
    "        for c in range(n):\n",
    "            ## CONDITIONS TO PRINT\n",
    "            # 1. if on first or last row or column\n",
    "            # 2. if row and column index same\n",
    "            # 3. if row val + sum val + 1 = n\n",
    "            if r == 0 or r == n-1 or c == 0 or c == n-1 or r == c or r+c+1 == n:\n",
    "                print(\"*\", end = \"\")\n",
    "            else:\n",
    "                print(\" \", end = \"\")\n",
    "\n",
    "        print()\n",
    "\n",
    "print_square_2(9)"
   ]
  },
  {
   "cell_type": "markdown",
   "id": "1903b180",
   "metadata": {},
   "source": [
    "## Q2: Longest Subsequence of Letters [ *** ]\n",
    "Define a function called get_longest_subsequence(). The function takes in a single parameter, which is a string. The function should return the longest subsequence from the input string that consists of only the letters from the English alphabet (both uppercase and lowercase letters included). If there are multiple subsequences of the same longest length, the function returns the first one. If the input string doesn’t contain any letter, the function returns an empty string.\n",
    "\n",
    "For example,\n",
    "- get_longest_subsequence('ab24[AaBbCDExy0longest$]') should return 'AaBbCDExy'.\n",
    "- get_longest_subsequence('a a a1234b|c|d ') should return 'a'.\n",
    "- get_longest_subsequence('12345 ') should return ''. "
   ]
  },
  {
   "cell_type": "code",
   "execution_count": 58,
   "id": "73f26fac",
   "metadata": {},
   "outputs": [
    {
     "name": "stdout",
     "output_type": "stream",
     "text": [
      "AaBbCDExy\n",
      "a\n",
      "\n"
     ]
    },
    {
     "data": {
      "text/plain": [
       "''"
      ]
     },
     "execution_count": 58,
     "metadata": {},
     "output_type": "execute_result"
    }
   ],
   "source": [
    "def get_longest_subsequence(string):\n",
    "    # stores value to be displayed\n",
    "    output = \"\"\n",
    "    # stores CURRENT longest\n",
    "    new_longest = \"\"\n",
    "\n",
    "    for char in string:\n",
    "        # checks if character is alphabetic\n",
    "        if char.isalpha():\n",
    "            # add character to current longest\n",
    "            new_longest += char\n",
    "        else:\n",
    "            # if not alphabetic, check if current is longer\n",
    "            if len(new_longest) > len(output):\n",
    "                # change to new longest subsequence\n",
    "                output = new_longest\n",
    "            # clear CURRENT longest\n",
    "            new_longest = \"\"\n",
    "\n",
    "    print(output)\n",
    "    return output\n",
    "\n",
    "# print(get_longest_subsequence(\"ab24[AaBbCDExy0longest$]\") == \"AaBbCDExy\")\n",
    "# print(get_longest_subsequence(\"a a a1234b|c|d \") == \"a\")\n",
    "# print(get_longest_subsequence(\"12345 \") == \"\")\n",
    "\n",
    "get_longest_subsequence(\"ab24[AaBbCDExy0longest$]\")\n",
    "get_longest_subsequence(\"a a a1234b|c|d \")\n",
    "get_longest_subsequence(\"12345 \")"
   ]
  }
 ],
 "metadata": {
  "kernelspec": {
   "display_name": "Python 3",
   "language": "python",
   "name": "python3"
  },
  "language_info": {
   "codemirror_mode": {
    "name": "ipython",
    "version": 3
   },
   "file_extension": ".py",
   "mimetype": "text/x-python",
   "name": "python",
   "nbconvert_exporter": "python",
   "pygments_lexer": "ipython3",
   "version": "3.13.5"
  }
 },
 "nbformat": 4,
 "nbformat_minor": 5
}
