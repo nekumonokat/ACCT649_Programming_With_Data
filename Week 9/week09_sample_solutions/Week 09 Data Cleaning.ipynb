{
 "cells": [
  {
   "cell_type": "markdown",
   "metadata": {},
   "source": [
    "<table class=\"table table-bordered\">\n",
    "    <tr>\n",
    "        <th style=\"text-align:center; width:35%\"><img src='https://dl.dropbox.com/s/qtzukmzqavebjd2/icon_smu.jpg' style=\"width: 300px; height: 90px; \"></th>\n",
    "        <th style=\"text-align:center;\"><h3>ACCT649 - Data Cleaning and Preparation</h3></th>\n",
    "    </tr>\n",
    "</table>\n",
    "*References - Python for Data Analysis- Data Wrangling with Pandas, NumPy,and IPython - Wes McKinney; O'REILLY <br></br>\n",
    "*Michael Heydt-Mastering pandas for Finance- Master pandas, an open source Python Data Analysis Library, for financial data analysis-Packt Publishing (2015)"
   ]
  },
  {
   "cell_type": "markdown",
   "metadata": {},
   "source": [
    "## Handling Missing Data\n",
    "\n",
    "\n",
    "The missing data is represented as a floating point value `NaN` for numeric data. This convention is commonly used in `R` programming language where `NA` (or _not available_) is used to represent the data that is not available. In statistics applications, `NA` data may either be data that does not exist or that exists but was not observed. "
   ]
  },
  {
   "cell_type": "code",
   "execution_count": 2,
   "metadata": {},
   "outputs": [
    {
     "name": "stdout",
     "output_type": "stream",
     "text": [
      "0    Aberdeen\n",
      "1      Athens\n",
      "2      Berlin\n",
      "3         NaN\n",
      "4        Rome\n",
      "5      Zurich\n",
      "dtype: object\n",
      "\n",
      "0    False\n",
      "1    False\n",
      "2    False\n",
      "3     True\n",
      "4    False\n",
      "5    False\n",
      "dtype: bool\n"
     ]
    }
   ],
   "source": [
    "# Import libraries\n",
    "import pandas as pd\n",
    "import numpy as np\n",
    "\n",
    "# Create a series with one missing value\n",
    "data = pd.Series(['Aberdeen', 'Athens', 'Berlin', np.nan, 'Rome', 'Zurich'])\n",
    "\n",
    "# Print out the series\n",
    "print(data)\n",
    "print(40*'-')\n",
    "\n",
    "# For each value in the series, is it null (missing value)?\n",
    "print(data.isnull())"
   ]
  },
  {
   "cell_type": "markdown",
   "metadata": {},
   "source": [
    "<table align=\"left\" class=\"table table-bordered\" style=\"width:80%\">\n",
    "<tr>\n",
    "<th style=\"text-align: left; width:20%\">Argument</th>\n",
    "<th style=\"text-align: left; width:70%\">Description</th>\n",
    "</tr>\n",
    "<tr>\n",
    "<td style=\"text-align:left;\">dropna</td>\n",
    "<td style=\"text-align:left;\">Filter axis labels based on whether values for each label have missing data, with varying thresholds for how much missing data to tolerate</td>\n",
    "</tr>\n",
    "<tr>\n",
    "<td style=\"text-align:left;\">fillna</td>\n",
    "<td style=\"text-align:left;\">Fill in missing data with some value or using an interpolation method such as 'ffill' or 'bfill'.</td>\n",
    "</tr>\n",
    "<tr>\n",
    "<td style=\"text-align:left;\">isnull</td>\n",
    "<td style=\"text-align:left;\">Return boolean values indicating which values are missing/NA.</td>\n",
    "</tr>\n",
    "<tr>\n",
    "<td style=\"text-align:left;\">notnull</td>\n",
    "<td style=\"text-align:left;\">Negation of isnull</td>\n",
    "</tr>\n",
    "</table>"
   ]
  },
  {
   "cell_type": "code",
   "execution_count": 3,
   "metadata": {},
   "outputs": [
    {
     "name": "stdout",
     "output_type": "stream",
     "text": [
      "0    False\n",
      "1    False\n",
      "2    False\n",
      "3     True\n",
      "4    False\n",
      "5    False\n",
      "dtype: bool\n",
      "----------------------------------------\n",
      "0    Aberdeen\n",
      "1      Athens\n",
      "2      Berlin\n",
      "4        Rome\n",
      "5      Zurich\n",
      "dtype: object\n",
      "----------------------------------------\n",
      "0     True\n",
      "1     True\n",
      "2     True\n",
      "3    False\n",
      "4     True\n",
      "5     True\n",
      "dtype: bool\n"
     ]
    }
   ],
   "source": [
    "# Replace the missing value with None.\n",
    "data[3] = None\n",
    "\n",
    "# For each value in the series, is it null (missing value)?\n",
    "print(data.isnull())\n",
    "print(40*'-')\n",
    "\n",
    "# Print out the series, but remove missing values\n",
    "print(data.dropna())\n",
    "print(40*'-')\n",
    "\n",
    "# For each value in the series, is it not null (not a missing value)?\n",
    "print(data.notnull())"
   ]
  },
  {
   "cell_type": "markdown",
   "metadata": {},
   "source": [
    "In DataFrame objects, `dropna()` works bit differently. Execute the code in the example below to see how it works in a DataFrame."
   ]
  },
  {
   "cell_type": "code",
   "execution_count": 4,
   "metadata": {},
   "outputs": [
    {
     "name": "stdout",
     "output_type": "stream",
     "text": [
      "    curr      country  value-SGD   total\n",
      "0   None      Britain      1.796  100.28\n",
      "1   Euro       France      1.581  200.31\n",
      "2  Franc  Switzerland  10382.000  157.38\n",
      "3    USD          USA      1.377     NaN\n",
      "4   None         None        NaN     NaN\n",
      "--------------------------------------------------\n",
      "    curr      country  value-SGD   total\n",
      "1   Euro       France      1.581  200.31\n",
      "2  Franc  Switzerland  10382.000  157.38\n",
      "--------------------------------------------------\n",
      "    curr      country  value-SGD   total\n",
      "0   None      Britain      1.796  100.28\n",
      "1   Euro       France      1.581  200.31\n",
      "2  Franc  Switzerland  10382.000  157.38\n",
      "3    USD          USA      1.377     NaN\n",
      "--------------------------------------------------\n",
      "    curr      country  value-SGD   total\n",
      "0   None      Britain      1.796  100.28\n",
      "1   Euro       France      1.581  200.31\n",
      "2  Franc  Switzerland  10382.000  157.38\n",
      "3    USD          USA      1.377     NaN\n",
      "4   None         None        NaN     NaN\n"
     ]
    }
   ],
   "source": [
    "# Create a dictionary, where each string is associated with a list of values.\n",
    "# But some of the values in the list are None (i.e. missing values)\n",
    "curr_conv = {'curr' :[None, 'Euro', 'Franc', 'USD', None],\n",
    "             'country':['Britain', 'France','Switzerland', 'USA', None],\n",
    "             'value-SGD':[1.796, 1.581, 10382, 1.377, None],\n",
    "             'total': [100.28, 200.31, 157.38, None, None]}\n",
    "\n",
    "# Convert from dictionary to DataFrame\n",
    "df = pd.DataFrame(curr_conv)\n",
    "print(df)\n",
    "print(50*'-')\n",
    "\n",
    "# Print the DataFrame, with missing values removed.\n",
    "# Since it is a DataFrame, therefore any rows with missing values will be removed.\n",
    "print(df.dropna())\n",
    "print(50*'-')\n",
    "\n",
    "# Print the DataFrame, removing rows where all values are missing\n",
    "print(df.dropna(how='all'))\n",
    "print(50*'-')\n",
    "\n",
    "# Print original DataFrame.\n",
    "# Notice that is it unmodified, because the above functions do not change the original DataFrame\n",
    "print(df)"
   ]
  },
  {
   "cell_type": "markdown",
   "metadata": {},
   "source": [
    "## Filling In Missing Data"
   ]
  },
  {
   "cell_type": "code",
   "execution_count": 6,
   "metadata": {},
   "outputs": [
    {
     "name": "stdout",
     "output_type": "stream",
     "text": [
      "    curr      country  value-SGD   total\n",
      "0      0      Britain      1.796  100.28\n",
      "1   Euro       France      1.581  200.31\n",
      "2  Franc  Switzerland  10382.000  157.38\n",
      "3    USD          USA      1.377    0.00\n",
      "4      0            0      0.000    0.00\n",
      "--------------------------------------------------\n",
      "    curr      country  value-SGD   total\n",
      "0  Pound      Britain      1.796  100.28\n",
      "1   Euro       France      1.581  200.31\n",
      "2  Franc  Switzerland  10382.000  157.38\n",
      "3    USD          USA      1.377  100.28\n",
      "4  Pound      Britain      1.796  100.28\n",
      "--------------------------------------------------\n",
      "    curr      country  value-SGD   total\n",
      "0   None      Britain      1.796  100.28\n",
      "1   Euro       France      1.581  200.31\n",
      "2  Franc  Switzerland  10382.000  157.38\n",
      "3    USD          USA      1.377     NaN\n",
      "4   None         None        NaN     NaN\n"
     ]
    }
   ],
   "source": [
    "# Replace all missing values with a zero\n",
    "print(df.fillna(0))\n",
    "print(50*'-')\n",
    "\n",
    "# Create a new DataFrame,\n",
    "# where every missing value in column 'curr' is replaced with 'Pound',\n",
    "# every missing value in column 'country' is replaced with 'Britain',\n",
    "# etc.\n",
    "new_df = df.fillna({'curr': 'Pound', 'country': 'Britain', 'value-SGD': 1.796, 'total': 100.28})\n",
    "print(new_df)\n",
    "print(50*'-')\n",
    "\n",
    "# Remember that the original DataFrame is not modified by the above functions\n",
    "print(df)"
   ]
  },
  {
   "cell_type": "markdown",
   "metadata": {},
   "source": [
    "## Data Transformation\n",
    "\n"
   ]
  },
  {
   "cell_type": "code",
   "execution_count": 8,
   "metadata": {},
   "outputs": [
    {
     "name": "stdout",
     "output_type": "stream",
     "text": [
      "0    False\n",
      "1    False\n",
      "2    False\n",
      "3    False\n",
      "4     True\n",
      "dtype: bool\n",
      "--------------------------------------------------\n",
      "    curr      country  value-SGD   total\n",
      "0  Pound      Britain      1.796  100.28\n",
      "1   Euro       France      1.581  200.31\n",
      "2  Franc  Switzerland  10382.000  157.38\n",
      "3    USD          USA      1.377  100.28\n"
     ]
    }
   ],
   "source": [
    "# For each row in the 'new_df' DataFrame, has that row occurred before?\n",
    "print(new_df.duplicated())\n",
    "print(50*'-')\n",
    "\n",
    "# Remove rows that have been previously duplicated\n",
    "# (note that this does NOT remove the first time that the row occurs)\n",
    "print(new_df.drop_duplicates())"
   ]
  },
  {
   "cell_type": "code",
   "execution_count": null,
   "metadata": {},
   "outputs": [],
   "source": []
  }
 ],
 "metadata": {
  "kernelspec": {
   "display_name": "Python 3 (ipykernel)",
   "language": "python",
   "name": "python3"
  },
  "language_info": {
   "codemirror_mode": {
    "name": "ipython",
    "version": 3
   },
   "file_extension": ".py",
   "mimetype": "text/x-python",
   "name": "python",
   "nbconvert_exporter": "python",
   "pygments_lexer": "ipython3",
   "version": "3.11.7"
  }
 },
 "nbformat": 4,
 "nbformat_minor": 4
}
