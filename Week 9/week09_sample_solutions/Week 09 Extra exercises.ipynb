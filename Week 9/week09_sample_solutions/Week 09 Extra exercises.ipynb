{
 "cells": [
  {
   "cell_type": "markdown",
   "metadata": {},
   "source": [
    "<table class=\"table table-bordered\">\n",
    "    <tr>\n",
    "        <th style=\"text-align:center; width:35%\"><img src='https://dl.dropbox.com/s/qtzukmzqavebjd2/icon_smu.jpg' style=\"width: 300px; height: 90px; \"></th>\n",
    "        <th style=\"text-align:center;\"><h3>ACCT649 - Pandas</h3></th>\n",
    "    </tr>\n",
    "</table>\n",
    "*References - Python for Data Analysis- Data Wrangling with Pandas, NumPy,and IPython - Wes McKinney; O'REILLY <br></br>\n",
    "*Michael Heydt-Mastering pandas for Finance- Master pandas, an open source Python Data Analysis Library, for financial data analysis-Packt Publishing (2015)"
   ]
  },
  {
   "cell_type": "markdown",
   "metadata": {},
   "source": [
    "## Dataset: Players.csv, Teams.csv\n",
    "In this NoteBook, we'll learn how to do some basic data manipulations. In this exercise, you'll be using Players.csv and Teams.csv. Take some time to examine both datasets and see what kinds of data is captured in there."
   ]
  },
  {
   "cell_type": "markdown",
   "metadata": {},
   "source": [
    "### Q1:\n",
    "\n",
    "Import the dataset Players.csv into a Python DataFrame. Print the first and last 5 rows of the dataset"
   ]
  },
  {
   "cell_type": "code",
   "execution_count": 1,
   "metadata": {},
   "outputs": [
    {
     "data": {
      "text/html": [
       "<div>\n",
       "<style scoped>\n",
       "    .dataframe tbody tr th:only-of-type {\n",
       "        vertical-align: middle;\n",
       "    }\n",
       "\n",
       "    .dataframe tbody tr th {\n",
       "        vertical-align: top;\n",
       "    }\n",
       "\n",
       "    .dataframe thead th {\n",
       "        text-align: right;\n",
       "    }\n",
       "</style>\n",
       "<table border=\"1\" class=\"dataframe\">\n",
       "  <thead>\n",
       "    <tr style=\"text-align: right;\">\n",
       "      <th></th>\n",
       "      <th>surname</th>\n",
       "      <th>team</th>\n",
       "      <th>position</th>\n",
       "      <th>minutes</th>\n",
       "      <th>shots</th>\n",
       "      <th>passes</th>\n",
       "      <th>tackles</th>\n",
       "      <th>saves</th>\n",
       "    </tr>\n",
       "  </thead>\n",
       "  <tbody>\n",
       "    <tr>\n",
       "      <th>0</th>\n",
       "      <td>Abdoun</td>\n",
       "      <td>Algeria</td>\n",
       "      <td>midfielder</td>\n",
       "      <td>16</td>\n",
       "      <td>0</td>\n",
       "      <td>6</td>\n",
       "      <td>0</td>\n",
       "      <td>0</td>\n",
       "    </tr>\n",
       "    <tr>\n",
       "      <th>1</th>\n",
       "      <td>Belhadj</td>\n",
       "      <td>Algeria</td>\n",
       "      <td>defender</td>\n",
       "      <td>270</td>\n",
       "      <td>1</td>\n",
       "      <td>146</td>\n",
       "      <td>8</td>\n",
       "      <td>0</td>\n",
       "    </tr>\n",
       "    <tr>\n",
       "      <th>2</th>\n",
       "      <td>Boudebouz</td>\n",
       "      <td>Algeria</td>\n",
       "      <td>midfielder</td>\n",
       "      <td>74</td>\n",
       "      <td>3</td>\n",
       "      <td>28</td>\n",
       "      <td>1</td>\n",
       "      <td>0</td>\n",
       "    </tr>\n",
       "    <tr>\n",
       "      <th>3</th>\n",
       "      <td>Bougherra</td>\n",
       "      <td>Algeria</td>\n",
       "      <td>defender</td>\n",
       "      <td>270</td>\n",
       "      <td>1</td>\n",
       "      <td>89</td>\n",
       "      <td>11</td>\n",
       "      <td>0</td>\n",
       "    </tr>\n",
       "    <tr>\n",
       "      <th>4</th>\n",
       "      <td>Chaouchi</td>\n",
       "      <td>Algeria</td>\n",
       "      <td>goalkeeper</td>\n",
       "      <td>90</td>\n",
       "      <td>0</td>\n",
       "      <td>17</td>\n",
       "      <td>0</td>\n",
       "      <td>2</td>\n",
       "    </tr>\n",
       "  </tbody>\n",
       "</table>\n",
       "</div>"
      ],
      "text/plain": [
       "     surname     team    position  minutes  shots  passes  tackles  saves\n",
       "0     Abdoun  Algeria  midfielder       16      0       6        0      0\n",
       "1    Belhadj  Algeria    defender      270      1     146        8      0\n",
       "2  Boudebouz  Algeria  midfielder       74      3      28        1      0\n",
       "3  Bougherra  Algeria    defender      270      1      89       11      0\n",
       "4   Chaouchi  Algeria  goalkeeper       90      0      17        0      2"
      ]
     },
     "execution_count": 1,
     "metadata": {},
     "output_type": "execute_result"
    }
   ],
   "source": [
    "# Import libraries\n",
    "import pandas as pd\n",
    "\n",
    "# Read dataset from CSV file\n",
    "players = pd.read_csv('../Dataset/Players.csv')\n",
    "\n",
    "# Show first 5 rows, just to make sure everything is OK\n",
    "players.head()"
   ]
  },
  {
   "cell_type": "markdown",
   "metadata": {},
   "source": [
    "### Q2:\n",
    "\n",
    "Print the summary statistical description of the DataFrame you created in Q1."
   ]
  },
  {
   "cell_type": "code",
   "execution_count": 2,
   "metadata": {},
   "outputs": [
    {
     "data": {
      "text/html": [
       "<div>\n",
       "<style scoped>\n",
       "    .dataframe tbody tr th:only-of-type {\n",
       "        vertical-align: middle;\n",
       "    }\n",
       "\n",
       "    .dataframe tbody tr th {\n",
       "        vertical-align: top;\n",
       "    }\n",
       "\n",
       "    .dataframe thead th {\n",
       "        text-align: right;\n",
       "    }\n",
       "</style>\n",
       "<table border=\"1\" class=\"dataframe\">\n",
       "  <thead>\n",
       "    <tr style=\"text-align: right;\">\n",
       "      <th></th>\n",
       "      <th>minutes</th>\n",
       "      <th>shots</th>\n",
       "      <th>passes</th>\n",
       "      <th>tackles</th>\n",
       "      <th>saves</th>\n",
       "    </tr>\n",
       "  </thead>\n",
       "  <tbody>\n",
       "    <tr>\n",
       "      <th>count</th>\n",
       "      <td>595.000000</td>\n",
       "      <td>595.000000</td>\n",
       "      <td>595.000000</td>\n",
       "      <td>595.000000</td>\n",
       "      <td>595.000000</td>\n",
       "    </tr>\n",
       "    <tr>\n",
       "      <th>mean</th>\n",
       "      <td>208.863866</td>\n",
       "      <td>2.304202</td>\n",
       "      <td>84.521008</td>\n",
       "      <td>4.191597</td>\n",
       "      <td>0.667227</td>\n",
       "    </tr>\n",
       "    <tr>\n",
       "      <th>std</th>\n",
       "      <td>145.433556</td>\n",
       "      <td>3.347430</td>\n",
       "      <td>77.310368</td>\n",
       "      <td>4.654052</td>\n",
       "      <td>2.955936</td>\n",
       "    </tr>\n",
       "    <tr>\n",
       "      <th>min</th>\n",
       "      <td>1.000000</td>\n",
       "      <td>0.000000</td>\n",
       "      <td>0.000000</td>\n",
       "      <td>0.000000</td>\n",
       "      <td>0.000000</td>\n",
       "    </tr>\n",
       "    <tr>\n",
       "      <th>25%</th>\n",
       "      <td>88.000000</td>\n",
       "      <td>0.000000</td>\n",
       "      <td>29.000000</td>\n",
       "      <td>1.000000</td>\n",
       "      <td>0.000000</td>\n",
       "    </tr>\n",
       "    <tr>\n",
       "      <th>50%</th>\n",
       "      <td>191.000000</td>\n",
       "      <td>1.000000</td>\n",
       "      <td>61.000000</td>\n",
       "      <td>3.000000</td>\n",
       "      <td>0.000000</td>\n",
       "    </tr>\n",
       "    <tr>\n",
       "      <th>75%</th>\n",
       "      <td>270.000000</td>\n",
       "      <td>3.000000</td>\n",
       "      <td>115.500000</td>\n",
       "      <td>6.000000</td>\n",
       "      <td>0.000000</td>\n",
       "    </tr>\n",
       "    <tr>\n",
       "      <th>max</th>\n",
       "      <td>570.000000</td>\n",
       "      <td>27.000000</td>\n",
       "      <td>563.000000</td>\n",
       "      <td>34.000000</td>\n",
       "      <td>20.000000</td>\n",
       "    </tr>\n",
       "  </tbody>\n",
       "</table>\n",
       "</div>"
      ],
      "text/plain": [
       "          minutes       shots      passes     tackles       saves\n",
       "count  595.000000  595.000000  595.000000  595.000000  595.000000\n",
       "mean   208.863866    2.304202   84.521008    4.191597    0.667227\n",
       "std    145.433556    3.347430   77.310368    4.654052    2.955936\n",
       "min      1.000000    0.000000    0.000000    0.000000    0.000000\n",
       "25%     88.000000    0.000000   29.000000    1.000000    0.000000\n",
       "50%    191.000000    1.000000   61.000000    3.000000    0.000000\n",
       "75%    270.000000    3.000000  115.500000    6.000000    0.000000\n",
       "max    570.000000   27.000000  563.000000   34.000000   20.000000"
      ]
     },
     "execution_count": 2,
     "metadata": {},
     "output_type": "execute_result"
    }
   ],
   "source": [
    "# Show statistics of all numeric variables\n",
    "players.describe()"
   ]
  },
  {
   "cell_type": "markdown",
   "metadata": {},
   "source": [
    "### Q3:\n",
    "\n",
    "Print (a) the total minutes that all the players played, (b) number of average shots per player and (c) maximum tackles."
   ]
  },
  {
   "cell_type": "code",
   "execution_count": 3,
   "metadata": {},
   "outputs": [
    {
     "name": "stdout",
     "output_type": "stream",
     "text": [
      "124274\n",
      "2.3042016806722687\n",
      "34\n"
     ]
    }
   ],
   "source": [
    "# Print total minutes that all players played\n",
    "print(players['minutes'].sum())\n",
    "\n",
    "# Print average shots per players\n",
    "print(players['shots'].mean())\n",
    "\n",
    "# Print maximum tackles\n",
    "print(players['tackles'].max())"
   ]
  },
  {
   "cell_type": "markdown",
   "metadata": {},
   "source": [
    "### Q4:\n",
    "\n",
    "Print the surname of the players on a team with \"land\" in the team name."
   ]
  },
  {
   "cell_type": "code",
   "execution_count": 4,
   "metadata": {},
   "outputs": [
    {
     "data": {
      "text/plain": [
       "135    Ashley Cole\n",
       "136          Barry\n",
       "137      Carragher\n",
       "138         Crouch\n",
       "139          Defoe\n",
       "          ...     \n",
       "550       Senderos\n",
       "551        Shaqiri\n",
       "552          Yakin\n",
       "553        Ziegler\n",
       "554     von Bergen\n",
       "Name: surname, Length: 70, dtype: object"
      ]
     },
     "execution_count": 4,
     "metadata": {},
     "output_type": "execute_result"
    }
   ],
   "source": [
    "# First, check all players to see if their team contains the string 'land'.\n",
    "# Then, use the above with boolean indexing to only get the players if their tema contains the string 'land'.\n",
    "# Then, get only the 'surname' column\n",
    "players[players['team'].str.contains('land')]['surname']"
   ]
  },
  {
   "cell_type": "markdown",
   "metadata": {},
   "source": [
    "### Q5:\n",
    "\n",
    "What player on a team with \"ia\" in the team name played less than 200 minutes and made more than 100 passes? Print the player surname."
   ]
  },
  {
   "cell_type": "code",
   "execution_count": 5,
   "metadata": {},
   "outputs": [
    {
     "data": {
      "text/plain": [
       "431    Kuzmanovic\n",
       "Name: surname, dtype: object"
      ]
     },
     "execution_count": 5,
     "metadata": {},
     "output_type": "execute_result"
    }
   ],
   "source": [
    "# Find all players in teams with \"ia\" in the team name\n",
    "players_teams_ia = players[players['team'].str.contains('ia')]\n",
    "\n",
    "# Find all players in above dataset who played less than 200 mins and made more than 100 passes\n",
    "players_teams_ia2 = players_teams_ia[(players_teams_ia['minutes'] < 200) & (players_teams_ia['passes'] > 100)]\n",
    "\n",
    "# Print only the surname from above dataset\n",
    "players_teams_ia2['surname']"
   ]
  },
  {
   "cell_type": "markdown",
   "metadata": {},
   "source": [
    "### Q6:\n",
    "\n",
    "What is the average number of passes made by forwards? By midfielders?"
   ]
  },
  {
   "cell_type": "code",
   "execution_count": 6,
   "metadata": {},
   "outputs": [
    {
     "data": {
      "text/plain": [
       "position\n",
       "forward       50.825175\n",
       "midfielder    95.271930\n",
       "Name: passes, dtype: float64"
      ]
     },
     "execution_count": 6,
     "metadata": {},
     "output_type": "execute_result"
    }
   ],
   "source": [
    "# First, group by position.\n",
    "# Then, get only the 'passes' column.\n",
    "# Then, get average,\n",
    "# Then get only rows 'forward' and 'midfielder'\n",
    "players.groupby('position')['passes'].mean()[['forward', 'midfielder']]"
   ]
  },
  {
   "cell_type": "markdown",
   "metadata": {},
   "source": [
    "### Q7:\n",
    "\n",
    "Which team has the highest ratio of goalsFor to goalsAgainst? Print the team  only.\n",
    "\n",
    "You will need to use the file Teams.csv"
   ]
  },
  {
   "cell_type": "code",
   "execution_count": 7,
   "metadata": {},
   "outputs": [
    {
     "data": {
      "text/plain": [
       "2    Portugal\n",
       "Name: team, dtype: object"
      ]
     },
     "execution_count": 7,
     "metadata": {},
     "output_type": "execute_result"
    }
   ],
   "source": [
    "# Read dataset from CSV file\n",
    "teams = pd.read_csv('../Dataset/Teams.csv')\n",
    "\n",
    "# Calculate ratio for all teams\n",
    "teams['ratio'] = teams['goalsFor'] / teams['goalsAgainst']\n",
    "\n",
    "# Find maximum ratio\n",
    "max_ratio = teams['ratio'].max()\n",
    "\n",
    "# Print only the team name that achieved this maximum ratio\n",
    "teams[teams['ratio'] == max_ratio]['team']"
   ]
  },
  {
   "cell_type": "markdown",
   "metadata": {},
   "source": [
    "### Q8:\n",
    "\n",
    "How many players on a team with ranking <10 played more than 350 minutes?"
   ]
  },
  {
   "cell_type": "code",
   "execution_count": 8,
   "metadata": {},
   "outputs": [
    {
     "name": "stdout",
     "output_type": "stream",
     "text": [
      "     surname     team    position  minutes  shots  passes  tackles  saves  \\\n",
      "0     Abdoun  Algeria  midfielder       16      0       6        0      0   \n",
      "1    Belhadj  Algeria    defender      270      1     146        8      0   \n",
      "2  Boudebouz  Algeria  midfielder       74      3      28        1      0   \n",
      "3  Bougherra  Algeria    defender      270      1      89       11      0   \n",
      "4   Chaouchi  Algeria  goalkeeper       90      0      17        0      2   \n",
      "5   Djebbour  Algeria     forward      123      3      19        1      0   \n",
      "6    Ghezzal  Algeria     forward       40      3       8        0      0   \n",
      "7  Guedioura  Algeria  midfielder       38      0      18        1      0   \n",
      "8   Halliche  Algeria    defender      270      2      94        4      0   \n",
      "9      Kadir  Algeria  midfielder      262      0     104        3      0   \n",
      "\n",
      "   ranking  games  wins  draws  losses  goalsFor  goalsAgainst  yellowCards  \\\n",
      "0       30      3     0      1       2         0             2            4   \n",
      "1       30      3     0      1       2         0             2            4   \n",
      "2       30      3     0      1       2         0             2            4   \n",
      "3       30      3     0      1       2         0             2            4   \n",
      "4       30      3     0      1       2         0             2            4   \n",
      "5       30      3     0      1       2         0             2            4   \n",
      "6       30      3     0      1       2         0             2            4   \n",
      "7       30      3     0      1       2         0             2            4   \n",
      "8       30      3     0      1       2         0             2            4   \n",
      "9       30      3     0      1       2         0             2            4   \n",
      "\n",
      "   redCards  ratio  \n",
      "0         2    0.0  \n",
      "1         2    0.0  \n",
      "2         2    0.0  \n",
      "3         2    0.0  \n",
      "4         2    0.0  \n",
      "5         2    0.0  \n",
      "6         2    0.0  \n",
      "7         2    0.0  \n",
      "8         2    0.0  \n",
      "9         2    0.0  \n"
     ]
    },
    {
     "data": {
      "text/plain": [
       "54"
      ]
     },
     "execution_count": 8,
     "metadata": {},
     "output_type": "execute_result"
    }
   ],
   "source": [
    "# Merge the two datasets ('players' and 'teams'),\n",
    "# using column 'team' as the common index\n",
    "players_teams = players.merge(teams, on = 'team')\n",
    "\n",
    "# Show first 10 rows, just to check\n",
    "print(players_teams.head(10))\n",
    "\n",
    "# Get all players in teams with ranking less than 10,\n",
    "# AND players who played more than 350 mins,\n",
    "# then get dimensions and show first dimension (number of rows)\n",
    "players_teams[(players_teams['ranking'] < 10) & (players_teams['minutes'] > 350)].shape[0]"
   ]
  },
  {
   "cell_type": "markdown",
   "metadata": {},
   "source": [
    "### Q9:\n",
    "\n",
    "How many players on a team with goalsFor/goalsAgainst ratio of at least 1 and made more than 100 passes?"
   ]
  },
  {
   "cell_type": "code",
   "execution_count": 9,
   "metadata": {},
   "outputs": [
    {
     "data": {
      "text/plain": [
       "107"
      ]
     },
     "execution_count": 9,
     "metadata": {},
     "output_type": "execute_result"
    }
   ],
   "source": [
    "# Get all players in teams with ratio at least 1,\n",
    "# AND players who made at least 100 passes,\n",
    "# then get dimensions and show first dimension (number of rows)\n",
    "players_teams[(players_teams['ratio'] >= 1) & (players_teams['passes'] > 100)].shape[0]"
   ]
  },
  {
   "cell_type": "code",
   "execution_count": null,
   "metadata": {},
   "outputs": [],
   "source": []
  }
 ],
 "metadata": {
  "kernelspec": {
   "display_name": "Python 3 (ipykernel)",
   "language": "python",
   "name": "python3"
  },
  "language_info": {
   "codemirror_mode": {
    "name": "ipython",
    "version": 3
   },
   "file_extension": ".py",
   "mimetype": "text/x-python",
   "name": "python",
   "nbconvert_exporter": "python",
   "pygments_lexer": "ipython3",
   "version": "3.11.7"
  }
 },
 "nbformat": 4,
 "nbformat_minor": 4
}
