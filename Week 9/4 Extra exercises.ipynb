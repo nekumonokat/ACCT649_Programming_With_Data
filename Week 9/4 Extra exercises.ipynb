{
 "cells": [
  {
   "cell_type": "markdown",
   "metadata": {},
   "source": [
    "<table class=\"table table-bordered\">\n",
    "    <tr>\n",
    "        <th style=\"text-align:center; width:35%\"><img src='https://dl.dropbox.com/s/qtzukmzqavebjd2/icon_smu.jpg' style=\"width: 300px; height: 90px; \"></th>\n",
    "        <th style=\"text-align:center;\"><h3>ACCT649 - Pandas</h3></th>\n",
    "    </tr>\n",
    "</table>\n",
    "*References - Python for Data Analysis- Data Wrangling with Pandas, NumPy,and IPython - Wes McKinney; O'REILLY <br></br>\n",
    "*Michael Heydt-Mastering pandas for Finance- Master pandas, an open source Python Data Analysis Library, for financial data analysis-Packt Publishing (2015)"
   ]
  },
  {
   "cell_type": "markdown",
   "metadata": {},
   "source": [
    "## Dataset: Players.csv, Teams.csv\n",
    "In this NoteBook, we'll learn how to do some basic data manipulations. In this exercise, you'll be using Players.csv and Teams.csv. Take some time to examine both datasets and see what kinds of data is captured in there."
   ]
  },
  {
   "cell_type": "markdown",
   "metadata": {},
   "source": [
    "### Q1:\n",
    "\n",
    "Import the dataset Players.csv into a Python DataFrame. Print the first and last 5 rows of the dataset"
   ]
  },
  {
   "cell_type": "code",
   "execution_count": 62,
   "metadata": {},
   "outputs": [
    {
     "name": "stdout",
     "output_type": "stream",
     "text": [
      "     surname     team    position  minutes  shots  passes  tackles  saves\n",
      "0     Abdoun  Algeria  midfielder       16      0       6        0      0\n",
      "1    Belhadj  Algeria    defender      270      1     146        8      0\n",
      "2  Boudebouz  Algeria  midfielder       74      3      28        1      0\n",
      "3  Bougherra  Algeria    defender      270      1      89       11      0\n",
      "4   Chaouchi  Algeria  goalkeeper       90      0      17        0      2\n",
      "\n",
      "           surname team    position  minutes  shots  passes  tackles  saves\n",
      "590         Holden  USA  midfielder        4      0       2        0      0\n",
      "591         Howard  USA  goalkeeper      390      0      81        0     14\n",
      "592  Jozy Altidore  USA     forward      356      8      84        2      0\n",
      "593         Onyewu  USA    defender      170      1      69        2      0\n",
      "594         Torres  USA  midfielder       45      1      32        0      0\n"
     ]
    }
   ],
   "source": [
    "import pandas as pd\n",
    "\n",
    "players_df = pd.read_csv(\"Dataset/Players.csv\")\n",
    "print(players_df.head())\n",
    "print()\n",
    "print(players_df.tail())"
   ]
  },
  {
   "cell_type": "markdown",
   "metadata": {},
   "source": [
    "### Q2:\n",
    "\n",
    "Print the summary statistical description of the DataFrame you created in Q1."
   ]
  },
  {
   "cell_type": "code",
   "execution_count": 63,
   "metadata": {},
   "outputs": [
    {
     "data": {
      "text/html": [
       "<div>\n",
       "<style scoped>\n",
       "    .dataframe tbody tr th:only-of-type {\n",
       "        vertical-align: middle;\n",
       "    }\n",
       "\n",
       "    .dataframe tbody tr th {\n",
       "        vertical-align: top;\n",
       "    }\n",
       "\n",
       "    .dataframe thead th {\n",
       "        text-align: right;\n",
       "    }\n",
       "</style>\n",
       "<table border=\"1\" class=\"dataframe\">\n",
       "  <thead>\n",
       "    <tr style=\"text-align: right;\">\n",
       "      <th></th>\n",
       "      <th>minutes</th>\n",
       "      <th>shots</th>\n",
       "      <th>passes</th>\n",
       "      <th>tackles</th>\n",
       "      <th>saves</th>\n",
       "    </tr>\n",
       "  </thead>\n",
       "  <tbody>\n",
       "    <tr>\n",
       "      <th>count</th>\n",
       "      <td>595.000000</td>\n",
       "      <td>595.000000</td>\n",
       "      <td>595.000000</td>\n",
       "      <td>595.000000</td>\n",
       "      <td>595.000000</td>\n",
       "    </tr>\n",
       "    <tr>\n",
       "      <th>mean</th>\n",
       "      <td>208.863866</td>\n",
       "      <td>2.304202</td>\n",
       "      <td>84.521008</td>\n",
       "      <td>4.191597</td>\n",
       "      <td>0.667227</td>\n",
       "    </tr>\n",
       "    <tr>\n",
       "      <th>std</th>\n",
       "      <td>145.433556</td>\n",
       "      <td>3.347430</td>\n",
       "      <td>77.310368</td>\n",
       "      <td>4.654052</td>\n",
       "      <td>2.955936</td>\n",
       "    </tr>\n",
       "    <tr>\n",
       "      <th>min</th>\n",
       "      <td>1.000000</td>\n",
       "      <td>0.000000</td>\n",
       "      <td>0.000000</td>\n",
       "      <td>0.000000</td>\n",
       "      <td>0.000000</td>\n",
       "    </tr>\n",
       "    <tr>\n",
       "      <th>25%</th>\n",
       "      <td>88.000000</td>\n",
       "      <td>0.000000</td>\n",
       "      <td>29.000000</td>\n",
       "      <td>1.000000</td>\n",
       "      <td>0.000000</td>\n",
       "    </tr>\n",
       "    <tr>\n",
       "      <th>50%</th>\n",
       "      <td>191.000000</td>\n",
       "      <td>1.000000</td>\n",
       "      <td>61.000000</td>\n",
       "      <td>3.000000</td>\n",
       "      <td>0.000000</td>\n",
       "    </tr>\n",
       "    <tr>\n",
       "      <th>75%</th>\n",
       "      <td>270.000000</td>\n",
       "      <td>3.000000</td>\n",
       "      <td>115.500000</td>\n",
       "      <td>6.000000</td>\n",
       "      <td>0.000000</td>\n",
       "    </tr>\n",
       "    <tr>\n",
       "      <th>max</th>\n",
       "      <td>570.000000</td>\n",
       "      <td>27.000000</td>\n",
       "      <td>563.000000</td>\n",
       "      <td>34.000000</td>\n",
       "      <td>20.000000</td>\n",
       "    </tr>\n",
       "  </tbody>\n",
       "</table>\n",
       "</div>"
      ],
      "text/plain": [
       "          minutes       shots      passes     tackles       saves\n",
       "count  595.000000  595.000000  595.000000  595.000000  595.000000\n",
       "mean   208.863866    2.304202   84.521008    4.191597    0.667227\n",
       "std    145.433556    3.347430   77.310368    4.654052    2.955936\n",
       "min      1.000000    0.000000    0.000000    0.000000    0.000000\n",
       "25%     88.000000    0.000000   29.000000    1.000000    0.000000\n",
       "50%    191.000000    1.000000   61.000000    3.000000    0.000000\n",
       "75%    270.000000    3.000000  115.500000    6.000000    0.000000\n",
       "max    570.000000   27.000000  563.000000   34.000000   20.000000"
      ]
     },
     "execution_count": 63,
     "metadata": {},
     "output_type": "execute_result"
    }
   ],
   "source": [
    "players_df.describe()"
   ]
  },
  {
   "cell_type": "markdown",
   "metadata": {},
   "source": [
    "### Q3:\n",
    "\n",
    "Print (a) the total minutes that all the players played, (b) number of average shots per player and (c) maximum tackles."
   ]
  },
  {
   "cell_type": "code",
   "execution_count": 64,
   "metadata": {},
   "outputs": [
    {
     "name": "stdout",
     "output_type": "stream",
     "text": [
      "Total minutes all players played: 124274\n",
      "Number of average shots per player:  2.3042016806722687\n",
      "Max tackles: 34\n"
     ]
    }
   ],
   "source": [
    "print(\"Total minutes all players played:\", players_df[\"minutes\"].sum())\n",
    "print(\"Number of average shots per player: \", players_df[\"shots\"].mean())\n",
    "print(\"Max tackles:\", players_df[\"tackles\"].max())"
   ]
  },
  {
   "cell_type": "markdown",
   "metadata": {},
   "source": [
    "### Q4:\n",
    "\n",
    "Print the surname of the players on a team with \"land\" in the team name."
   ]
  },
  {
   "cell_type": "code",
   "execution_count": 65,
   "metadata": {},
   "outputs": [
    {
     "data": {
      "text/plain": [
       "135    Ashley Cole\n",
       "136          Barry\n",
       "137      Carragher\n",
       "138         Crouch\n",
       "139          Defoe\n",
       "          ...     \n",
       "550       Senderos\n",
       "551        Shaqiri\n",
       "552          Yakin\n",
       "553        Ziegler\n",
       "554     von Bergen\n",
       "Name: surname, Length: 70, dtype: object"
      ]
     },
     "execution_count": 65,
     "metadata": {},
     "output_type": "execute_result"
    }
   ],
   "source": [
    "# when going through a column to find a word in the item, need to use .str.contains()\n",
    "players_df[players_df.team.str.contains(\"land\")][\"surname\"]"
   ]
  },
  {
   "cell_type": "markdown",
   "metadata": {},
   "source": [
    "### Q5:\n",
    "\n",
    "What player on a team with \"ia\" in the team name played less than 200 minutes and made more than 100 passes? Print the player surname."
   ]
  },
  {
   "cell_type": "code",
   "execution_count": 66,
   "metadata": {},
   "outputs": [
    {
     "data": {
      "text/plain": [
       "431    Kuzmanovic\n",
       "Name: surname, dtype: object"
      ]
     },
     "execution_count": 66,
     "metadata": {},
     "output_type": "execute_result"
    }
   ],
   "source": [
    "players_df[(players_df.team.str.contains(\"ia\")) & (players_df.minutes < 200) & (players_df.passes > 100)][\"surname\"]"
   ]
  },
  {
   "cell_type": "markdown",
   "metadata": {},
   "source": [
    "### Q6:\n",
    "\n",
    "What is the average number of passes made by forwards? By midfielders?"
   ]
  },
  {
   "cell_type": "code",
   "execution_count": 67,
   "metadata": {},
   "outputs": [
    {
     "data": {
      "text/plain": [
       "position\n",
       "defender      102.643617\n",
       "forward        50.825175\n",
       "goalkeeper     55.638889\n",
       "midfielder     95.271930\n",
       "Name: passes, dtype: float64"
      ]
     },
     "execution_count": 67,
     "metadata": {},
     "output_type": "execute_result"
    }
   ],
   "source": [
    "players_df.groupby(\"position\")[\"passes\"].mean()"
   ]
  },
  {
   "cell_type": "markdown",
   "metadata": {},
   "source": [
    "### Q7:\n",
    "\n",
    "Which team has the highest ratio of goalsFor to goalsAgainst? Print the team  only."
   ]
  },
  {
   "cell_type": "code",
   "execution_count": 77,
   "metadata": {},
   "outputs": [],
   "source": [
    "teams_df = pd.read_csv(\"Dataset/Teams.csv\")"
   ]
  },
  {
   "cell_type": "code",
   "execution_count": 84,
   "metadata": {},
   "outputs": [
    {
     "data": {
      "text/plain": [
       "'Brazil'"
      ]
     },
     "execution_count": 84,
     "metadata": {},
     "output_type": "execute_result"
    }
   ],
   "source": [
    "teams_df[\"ratio\"] = teams_df.goalsFor / teams_df.goalsAgainst\n",
    "teams_df.sort_values(\"ratio\", ascending = False)[\"team\"][0]"
   ]
  },
  {
   "cell_type": "markdown",
   "metadata": {},
   "source": [
    "### Q8:\n",
    "\n",
    "How many players on a team with ranking <10 played more than 350 minutes?"
   ]
  },
  {
   "cell_type": "code",
   "execution_count": 113,
   "metadata": {},
   "outputs": [
    {
     "data": {
      "text/plain": [
       "team\n",
       "Argentina       6\n",
       "Brazil          8\n",
       "England         5\n",
       "Germany        10\n",
       "Netherlands    10\n",
       "Portugal        5\n",
       "Spain          10\n",
       "Name: team, dtype: int64"
      ]
     },
     "execution_count": 113,
     "metadata": {},
     "output_type": "execute_result"
    }
   ],
   "source": [
    "# Merge the two datasets ('players' and 'teams'),\n",
    "# using column 'team' as the common index\n",
    "players_teams = players_df.merge(teams_df, on = \"team\")\n",
    "# after setting condition, then group by the teams, then count\n",
    "players_teams[(players_teams.ranking < 10) & (players_teams.minutes > 350)].groupby(\"team\")[\"team\"].count()"
   ]
  },
  {
   "cell_type": "markdown",
   "metadata": {},
   "source": [
    "### Q9:\n",
    "\n",
    "How many players on a team with goalsFor/goalsAgainst ratio of at least 1 and made more than 100 passes?"
   ]
  },
  {
   "cell_type": "code",
   "execution_count": 115,
   "metadata": {},
   "outputs": [
    {
     "data": {
      "text/plain": [
       "team\n",
       "Argentina      10\n",
       "Brazil          9\n",
       "Germany         9\n",
       "Ghana          10\n",
       "Ivory Coast     3\n",
       "Japan           7\n",
       "Netherlands    11\n",
       "New Zealand     1\n",
       "Paraguay        8\n",
       "Portugal        6\n",
       "Slovenia        4\n",
       "Spain          10\n",
       "Switzerland     2\n",
       "USA             7\n",
       "Uruguay        10\n",
       "Name: team, dtype: int64"
      ]
     },
     "execution_count": 115,
     "metadata": {},
     "output_type": "execute_result"
    }
   ],
   "source": [
    "players_teams[(players_teams.ratio >= 1) & (players_teams.passes > 100)].groupby(\"team\")[\"team\"].count()"
   ]
  }
 ],
 "metadata": {
  "kernelspec": {
   "display_name": "Python 3",
   "language": "python",
   "name": "python3"
  },
  "language_info": {
   "codemirror_mode": {
    "name": "ipython",
    "version": 3
   },
   "file_extension": ".py",
   "mimetype": "text/x-python",
   "name": "python",
   "nbconvert_exporter": "python",
   "pygments_lexer": "ipython3",
   "version": "3.13.5"
  }
 },
 "nbformat": 4,
 "nbformat_minor": 4
}
