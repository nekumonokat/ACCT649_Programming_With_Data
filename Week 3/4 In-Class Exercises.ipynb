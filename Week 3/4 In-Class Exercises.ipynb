{
 "cells": [
  {
   "cell_type": "markdown",
   "id": "e9d1210c",
   "metadata": {},
   "source": [
    "## Q1: Input Validation\n",
    "We often need to use while-loops to validate a user’s input. This exercise is all about validating user\n",
    "inputs.\n",
    "\n",
    "a) [ * ] Prompt the user for a positive integer. Keep prompting the user until the integer entered by the user is indeed positive. (You can assume that the user always enters an integer, but the user may enter a negative integer or 0, which is not considered valid.)\n",
    "\n",
    "See a sample run below. Texts in bold are user inputs."
   ]
  },
  {
   "cell_type": "code",
   "execution_count": 2,
   "id": "c26f0aca",
   "metadata": {},
   "outputs": [
    {
     "name": "stdout",
     "output_type": "stream",
     "text": [
      "Bingo!\n"
     ]
    }
   ],
   "source": [
    "# prompting user for integer\n",
    "val = int(input(\"Enter a positive integer: \"))\n",
    "\n",
    "while val <= 0:\n",
    "    val = int(input(\"Error! Enter a positive integer: \"))\n",
    "\n",
    "print(\"Bingo!\")"
   ]
  },
  {
   "cell_type": "markdown",
   "id": "fefbf1e4",
   "metadata": {},
   "source": [
    "b) [ * ] Prompt the user for a single word. Keep prompting the user until the string entered by the user doesn’t contain any space.\n",
    "\n",
    "See a sample run below. Texts in bold are user inputs."
   ]
  },
  {
   "cell_type": "code",
   "execution_count": null,
   "id": "be29f8fb",
   "metadata": {},
   "outputs": [
    {
     "name": "stdout",
     "output_type": "stream",
     "text": [
      "Bingo!\n"
     ]
    }
   ],
   "source": [
    "word = input(\"Enter a single word: \")\n",
    "\n",
    "# while len(word.split()) > 1:\n",
    "#     word = input(\"Error! Enter a single word: \")\n",
    "\n",
    "while \" \" in word:\n",
    "    word = input(\"Error! Enter a single word: \")\n",
    "\n",
    "print(\"Bingo!\")"
   ]
  },
  {
   "cell_type": "markdown",
   "id": "b340ea59",
   "metadata": {},
   "source": [
    "c) [ * ] Prompt the user for his/her age. Keep prompting the user until the input is between 0 and 100."
   ]
  },
  {
   "cell_type": "code",
   "execution_count": 6,
   "id": "17b1c009",
   "metadata": {},
   "outputs": [
    {
     "name": "stdout",
     "output_type": "stream",
     "text": [
      "Thanks!\n"
     ]
    }
   ],
   "source": [
    "age = int(input(\"How old are you? \"))\n",
    "\n",
    "while age <= 0 or age > 100:\n",
    "    age = int(input(\"Error! How old are you? \"))\n",
    "\n",
    "print(\"Thanks!\")"
   ]
  },
  {
   "cell_type": "markdown",
   "id": "d2306f99",
   "metadata": {},
   "source": [
    "d) [ * ] Ask the user whether he/she is a student. If the answer from the user is neither “yes” nor “no”, keep prompting the user until the answer is valid. The program should be flexible enough to accept “YES”, “Yes” and “yes” (but not “yEs”, “YEs”, etc.). Similarly for “no”.\n",
    "\n",
    "A sample run is below. Texts in bold font are user inputs."
   ]
  },
  {
   "cell_type": "code",
   "execution_count": 6,
   "id": "b18e8b33",
   "metadata": {},
   "outputs": [
    {
     "name": "stdout",
     "output_type": "stream",
     "text": [
      "Thanks!\n"
     ]
    }
   ],
   "source": [
    "student = input(\"Are you a student? \")\n",
    "VALID_ANSWERS = [\"yes\", \"Yes\", \"YES\", \"no\", \"No\", \"NO\"]\n",
    "\n",
    "while student not in VALID_ANSWERS:\n",
    "    student = input(\"Invalid answer! Are you a student? \")\n",
    "\n",
    "print(\"Thanks!\")"
   ]
  },
  {
   "cell_type": "markdown",
   "id": "16786e62",
   "metadata": {},
   "source": [
    "## Q2: Numbers (Part 1)\n",
    "[ * ] Prompt the user for a sequence of numbers. Keep prompting until the sum of all the numbers have exceeded 100. A sample run can be found below:"
   ]
  },
  {
   "cell_type": "code",
   "execution_count": 7,
   "id": "8a6f1eb1",
   "metadata": {},
   "outputs": [
    {
     "name": "stdout",
     "output_type": "stream",
     "text": [
      "Thanks! The sum is 105\n"
     ]
    }
   ],
   "source": [
    "val = int(input(\"Enter a number: \"))\n",
    "total = val\n",
    "\n",
    "while total < 100:\n",
    "    val = int(input(\"Enter a number: \"))\n",
    "    total += val\n",
    "\n",
    "print(f\"Thanks! The sum is {total}\")"
   ]
  },
  {
   "cell_type": "markdown",
   "id": "5f9bdd08",
   "metadata": {},
   "source": [
    "## Q3: Voucher\n",
    "[ * ] You have a $100 voucher to spend in a bookstore. Because the voucher has to be spent on a single receipt, you need to buy at least $100 of books. Write a program that helps you check whether the books you’ve picked are enough to use up the voucher. The program should keep prompting you to buy one more book until the total price is equal to or greater than $100. A sample run of the program can be found below:"
   ]
  },
  {
   "cell_type": "code",
   "execution_count": 47,
   "id": "b3407f93",
   "metadata": {},
   "outputs": [
    {
     "name": "stdout",
     "output_type": "stream",
     "text": [
      "You still have $90.0 left.\n",
      "You still have $74.5 left.\n",
      "You still have $21.2 left.\n",
      "You still have $11.2 left.\n",
      "The total price is $100.8\n"
     ]
    }
   ],
   "source": [
    "val = float(input(\"Please pick a book. How much is it? $\"))\n",
    "total = val\n",
    "\n",
    "while total < 100:\n",
    "    print(f\"You still have ${round(100 - total, 2)} left.\")\n",
    "    val = float(input(\"Please pick a book. How much is it? $\"))\n",
    "    total += val\n",
    "\n",
    "print(f\"The total price is ${round(total, 1)}\")"
   ]
  },
  {
   "cell_type": "markdown",
   "id": "0e196b97",
   "metadata": {},
   "source": [
    "## Q4: Numbers (Part 2)\n",
    "[ ** ] Prompt the user for a sequence of integers until the user enters a negative integer. The program then displays how many even numbers have been entered, excluding the last negative integer. A sample run of the code can be found below:"
   ]
  },
  {
   "cell_type": "code",
   "execution_count": 14,
   "id": "96c4c851",
   "metadata": {},
   "outputs": [
    {
     "name": "stdout",
     "output_type": "stream",
     "text": [
      "You've entered 3 even numbers (excluding the last negative number).\n"
     ]
    }
   ],
   "source": [
    "val = int(input(\"Enter an integer: \"))\n",
    "evens = 0\n",
    "\n",
    "while val >= 0:\n",
    "    if val % 2 == 0:\n",
    "        evens += 1\n",
    "    val = int(input(\"Enter an integer: \"))\n",
    "\n",
    "print(f\"You've entered {evens} even numbers (excluding the last negative number).\")"
   ]
  },
  {
   "cell_type": "markdown",
   "id": "4b03ff2c",
   "metadata": {},
   "source": [
    "## Q5: Print a Message with Separators\n",
    "**Part I [ * ]:**\n",
    "Prompt the user for a message. Display the message character by character but separate every two adjacent characters by a space. Your code should produce the following output:"
   ]
  },
  {
   "cell_type": "code",
   "execution_count": 29,
   "id": "db124436",
   "metadata": {},
   "outputs": [
    {
     "name": "stdout",
     "output_type": "stream",
     "text": [
      "P y t h o n "
     ]
    }
   ],
   "source": [
    "msg = input(\"Enter a message: \")\n",
    "\n",
    "for char in msg:\n",
    "    print(char + \" \", end = \"\")"
   ]
  },
  {
   "cell_type": "markdown",
   "id": "c66f6e9d",
   "metadata": {},
   "source": [
    "**Part II [ ** ]:**\n",
    "Now write another piece of code that displays the message from the user character by character but separate every two adjacent characters by a hyphen. Your code should produce the following output:"
   ]
  },
  {
   "cell_type": "code",
   "execution_count": 31,
   "id": "0a6ffd40",
   "metadata": {},
   "outputs": [
    {
     "name": "stdout",
     "output_type": "stream",
     "text": [
      "P-y-t-h-o-n- -i-s- -f-u-n-!"
     ]
    }
   ],
   "source": [
    "msg = input(\"Enter a message: \")\n",
    "first = True\n",
    "\n",
    "for char in msg:\n",
    "    if first:\n",
    "        print(char, end = \"\")\n",
    "        first = False\n",
    "    else:\n",
    "        print(\"-\" + char, end = \"\")"
   ]
  },
  {
   "cell_type": "markdown",
   "id": "08067df6",
   "metadata": {},
   "source": [
    "**Part III [ ** ]:**\n",
    "Now let us make the code above re-usable and more general. Define a function called print_message_with_separators that does the following:"
   ]
  },
  {
   "cell_type": "code",
   "execution_count": 38,
   "id": "1eb277d9",
   "metadata": {},
   "outputs": [
    {
     "name": "stdout",
     "output_type": "stream",
     "text": [
      "H*e*l*l*o* *W*o*r*l*d*!\n",
      "P/y/t/h/o/n"
     ]
    }
   ],
   "source": [
    "def print_message_with_separators(msg, sep):\n",
    "    first = True\n",
    "\n",
    "    for char in msg:\n",
    "        if first:\n",
    "            print(char, end = \"\")\n",
    "            first = False\n",
    "        else:\n",
    "            print(sep + char, end = \"\")\n",
    "\n",
    "# print_message_with_separators(\"Hello World!\", '*')\n",
    "# print_message_with_separators(\"Python\", '/')"
   ]
  },
  {
   "cell_type": "markdown",
   "id": "e7e2b586",
   "metadata": {},
   "source": [
    "## Q6: Display Numbers [ ** ]\n",
    "Define a function called display_numbers. The function takes in two parameters: m and n. It is assumed that both m and n are integers, and m is less than or equal to n. The function displays all the integers between m and n (both inclusive) one by one, separated by spaces. However, the function handles the following numbers in a special way:\n",
    "\n",
    "- If the number is a multiple of 3 but not a multiple of 5, the function displays a hyphen instead of the number.\n",
    "- If the number is a multiple of 5 but not a multiple of 3, the function displays an asterisk instead of the number.\n",
    "- If the number is a multiple of both 3 and 5, the function displays a # instead of the number.\n",
    "\n",
    "For example, calling display_numbers(4, 16):"
   ]
  },
  {
   "cell_type": "code",
   "execution_count": 45,
   "id": "57d94658",
   "metadata": {},
   "outputs": [
    {
     "name": "stdout",
     "output_type": "stream",
     "text": [
      "4 * - 7 8 - * 11 - 13 14 # 16 \n"
     ]
    }
   ],
   "source": [
    "def display_numbers(m, n):\n",
    "    # m and n are integers, m <= n\n",
    "    output = \"\"\n",
    "    for i in range(m, n+1):\n",
    "        # case 1: multiple of 3 but not multiple of 5\n",
    "        if i % 3 == 0 and i % 5 != 0:\n",
    "            output += \"- \"\n",
    "        # case 2: multiple of 5 but not multiple of 3\n",
    "        elif i % 5 == 0 and i % 3 != 0:\n",
    "            output += \"* \"\n",
    "        # case 3: multiple of both 3 and 5\n",
    "        elif i % 3 == 0 and i % 5 == 0: # also can i % 15 == 0\n",
    "            output += \"# \"\n",
    "        else:\n",
    "            output += f\"{i} \"\n",
    "\n",
    "    print(output)\n",
    "\n",
    "display_numbers(4, 16)"
   ]
  },
  {
   "cell_type": "markdown",
   "id": "fc709d94",
   "metadata": {},
   "source": [
    "## Q7: Nested if/else [ * ]\n",
    "What values of a, b, c and d can cause the code below to display the following output?\n",
    "- Alpha\n",
    "- Beta\n",
    "- Gamma\n",
    "- Delta\n",
    "\n",
    "| Output | Value of a | Value of b | Value of c | Value of d |\n",
    "|--------|------------|------------|------------|------------|\n",
    "| Alpha | True | True | True | True / False |\n",
    "| Beta | True | True | False | True / False |\n",
    "| Gamma | True | False | True / False | True |\n",
    "| Gamma | False | True | True / False | True |\n",
    "| Gamma | False | False | True / False | True |\n",
    "| Delta | True | False | True / False | False |\n",
    "| Delta | False | True | True / False | False |\n",
    "| Delta | False | False | True / False | False |\n",
    "\n",
    "** sorry i dont know if this is what you wanted"
   ]
  },
  {
   "cell_type": "markdown",
   "id": "1b23f117",
   "metadata": {},
   "source": [
    "## Q8: Evaluation of Expressions [ ** ]\n",
    "What are the values of the following expressions?\n",
    "- not True or (3 >= 3 or 9 < 4) and False\n",
    "- not True or 3 >= 3 or 9 < 4 and False\n",
    "- False == (False or not True) or not (2 * 4 % 3 == 1)\n",
    "\n",
    "You may want to check the Operator Precedence table provided below to evaluate the expressions.<br>\n",
    "Order Precedence: Parentheses, NOT, AND, OR\n",
    "\n",
    "a) not True or (3 >= 3 or 9 < 4) and False<br>\n",
    "= not True or (True or False) and False<br>\n",
    "= not True or True and False<br>\n",
    "= False or True and False<br>\n",
    "= False or False<br>\n",
    "= False\n",
    "\n",
    "b) not True or 3 >= 3 or 9 < 4 and False<br>\n",
    "= not True or True or False and False<br>\n",
    "= False or True or False and False<br>\n",
    "= False or True or False<br>\n",
    "= True\n",
    "\n",
    "c) False == (False or not True) or not (2 * 4 % 3 == 1)<br>\n",
    "= False == (False or False) or not (8 % 3 == 1)<br>\n",
    "= False == False or not (2 == 1)<br>\n",
    "= False == False or not False<br>\n",
    "= False == False or True<br>\n",
    "= True or True<br>\n",
    "= True"
   ]
  },
  {
   "cell_type": "code",
   "execution_count": 4,
   "id": "04ba03f0",
   "metadata": {},
   "outputs": [
    {
     "name": "stdout",
     "output_type": "stream",
     "text": [
      "False\n",
      "True\n",
      "True\n"
     ]
    }
   ],
   "source": [
    "print(not True or (3 >= 3 or 9 < 4) and False)\n",
    "print(not True or 3 >= 3 or 9 < 4 and False)\n",
    "print(False == (False or not True) or not (2 * 4 % 3 == 1))"
   ]
  },
  {
   "cell_type": "markdown",
   "id": "67ba5124",
   "metadata": {},
   "source": [
    "## Q9: De Morgan’s Law [ ** ]\n",
    "Simplify the following expression.\n",
    "\n",
    "not ( not ( a and not b ) or ( b or not a ) )\n",
    "\n",
    "STEP 1:\n",
    "not ( ( not a or b ) or ( b or not a ) )\n",
    "\n",
    "STEP 2:\n",
    "not ( not a or b )\n",
    "\n",
    "STEP 3:\n",
    "a and not b\n",
    "\n",
    "| a | b | not (not (a and not b) or (b or not a)) | a and not b |\n",
    "|---|---|-----------------------------------------|-------------|\n",
    "|True|True|not (not (True and not True) or (True or not True))|True and not True|\n",
    "|||not ((not True or True) or (True or not True))|True and not True|\n",
    "|||not (not True or True)|True and not True|\n",
    "|||**True and not True**|**True and not True**|\n",
    "|||True and False|True and False|\n",
    "|||False|False|\n",
    "|True|False|not (not (True and not False) or (False or not True))|True and not False|\n",
    "|||not ((not True or False) or (False or not True))|True and not False|\n",
    "|||not (not True or False)|True and not False|\n",
    "|||**True and not False**|**True and not False**|\n",
    "|||True and True|True and True|\n",
    "|||True|True|\n",
    "|False|True|not (not (False and not True) or (True or not False))|False and not True|\n",
    "|||not ((not False or True) or (True or not False))|False and not True|\n",
    "|||not (not False or True)|False and not True|\n",
    "|||**False and not True**|**False and not True**|\n",
    "|||False and False|False and False|\n",
    "|||False|False|\n",
    "|False|False|not (not (False and not False) or (False or not False))|False and not False|\n",
    "|||not ((not False or False) or (False or not False))|False and not False|\n",
    "|||not (not False or False)|False and not False|\n",
    "|||**False and not False**|**False and not False**|\n",
    "|||False and True|False and True|\n",
    "|||False|False|"
   ]
  },
  {
   "cell_type": "markdown",
   "id": "d90e01c7",
   "metadata": {},
   "source": [
    "## Q10: Compute Sum [ ** ]\n",
    "Write a function called compute_sum that takes in two parameters, m and n. The function returns the sum of all the integers between m and n.\n",
    "\n",
    "Then use your function. For example, if you call the function with arguments 4 and 10, the function should print 49."
   ]
  },
  {
   "cell_type": "code",
   "execution_count": 49,
   "id": "befbba9d",
   "metadata": {},
   "outputs": [
    {
     "name": "stdout",
     "output_type": "stream",
     "text": [
      "49\n"
     ]
    }
   ],
   "source": [
    "def compute_sum(m, n):\n",
    "    total = 0\n",
    "    for i in range(m, n+1): total += i\n",
    "    print(total)\n",
    "\n",
    "compute_sum(4, 10)"
   ]
  },
  {
   "cell_type": "markdown",
   "id": "ab42c053",
   "metadata": {},
   "source": [
    "## Q11: Palindrome [ *** ]\n",
    "A word is called a palindrome if it reads the same backwards as forwards. For example, “madam” and “rotator” are examples of palindromes.\n",
    "\n",
    "Write a program that prompts the user for a word and checks whether the word is a palindrome. Your code should produce the following output:"
   ]
  },
  {
   "cell_type": "code",
   "execution_count": null,
   "id": "3d62a974",
   "metadata": {},
   "outputs": [
    {
     "name": "stdout",
     "output_type": "stream",
     "text": [
      "racecar is a palindrome\n"
     ]
    }
   ],
   "source": [
    "# MY ORIGINAL CODE\n",
    "word = input(\"Enter a word: \")\n",
    "idx = len(word) // 2\n",
    "\n",
    "# base code: no letter / 1 letter\n",
    "if len(word) == 1 or len(word) == 0:\n",
    "    print(f\"{word} is a palindrome\")\n",
    "\n",
    "# if even word\n",
    "elif len(word) % 2 == 0:\n",
    "    if word[:idx] == word[:idx-1:-1]:\n",
    "        print(f\"{word} is a palindrome\")\n",
    "    else:\n",
    "        print(f\"{word} is NOT a palindrome\")\n",
    "\n",
    "# if odd word\n",
    "else:\n",
    "    if word[:idx] == word[:idx:-1]:\n",
    "        print(f\"{word} is a palindrome\")\n",
    "    else:\n",
    "        print(f\"{word} is NOT a palindrome\")"
   ]
  },
  {
   "cell_type": "code",
   "execution_count": 75,
   "id": "9d977402",
   "metadata": {},
   "outputs": [
    {
     "name": "stdout",
     "output_type": "stream",
     "text": [
      "madam is a palindrome\n"
     ]
    }
   ],
   "source": [
    "word = input(\"Enter a word: \")\n",
    "\n",
    "def is_palindrome(word):\n",
    "    for i in range(len(word) // 2):\n",
    "        # if current char is the same as character at end of string\n",
    "        if word[i] != word[-1-i]:\n",
    "            return False\n",
    "    return True\n",
    "\n",
    "if is_palindrome(word):\n",
    "    print(f\"{word} is a palindrome\")\n",
    "else:\n",
    "    print(f\"{word} is NOT a palindrome\")"
   ]
  },
  {
   "cell_type": "markdown",
   "id": "d8544502",
   "metadata": {},
   "source": [
    "## Q12: Buying Books [ *** ]\n",
    "Write a simple program that helps a bookstore’s customer to gather some statistics of the books she has picked.\n",
    "\n",
    "The program first asks the customer how many books she has in her basket. The program then prompts the customer for the price of each book. After that, the program does the following:\n",
    "\n",
    "a) The program displays the total price of all the books.<br>\n",
    "b) The program displays the average price of all the books.<br>\n",
    "c) The program displays the price of the least expensive book<br>\n",
    "d) The program displays the price of the most expensive book.<br>\n",
    "e) The program displays how many books are cheaper than $10.00.<br>\n",
    "f) The program displays the percentage of books cheaper than $10.00.\n",
    "\n",
    "Note: You may want to use the round() function to limit the number of digits after the decimal point to 2. For example, round(x,2) will round x to 2 decimal places."
   ]
  },
  {
   "cell_type": "code",
   "execution_count": 78,
   "id": "4a16a2ee",
   "metadata": {},
   "outputs": [
    {
     "name": "stdout",
     "output_type": "stream",
     "text": [
      "a) Total price: $29.2\n",
      "b) Average price: $9.73\n",
      "c) Price of the least expensive book: $5.5\n",
      "d) Price of the most expensive book: $15.5\n",
      "e) Number of books cheaper than $10: $2\n",
      "f) Percentage of books cheaper than $10: $66.67%\n"
     ]
    }
   ],
   "source": [
    "no_of_books = int(input(\"How many books do you have in your basket? \"))\n",
    "total_price = 0\n",
    "low_price = -1\n",
    "high_price = -1\n",
    "below_10 = 0\n",
    "\n",
    "for i in range(1, no_of_books+1):\n",
    "    price = float(input(f\"What is the price of the book number {i}? : $\"))\n",
    "    total_price += price\n",
    "    \n",
    "    # checks for lowest price\n",
    "    # base case: low_price set to -1\n",
    "    if low_price == -1: low_price = price\n",
    "    else: low_price = min(low_price, price)\n",
    "\n",
    "    # checks for highest price\n",
    "    # since all values will be higher than -1, no special case\n",
    "    high_price = max(high_price, price)\n",
    "\n",
    "    # checks for price below 10\n",
    "    if price < 10: below_10 += 1\n",
    "\n",
    "print(f\"a) Total price: ${total_price}\")\n",
    "print(f\"b) Average price: ${round(total_price / no_of_books, 2)}\")\n",
    "print(f\"c) Price of the least expensive book: ${low_price}\")\n",
    "print(f\"d) Price of the most expensive book: ${high_price}\")\n",
    "print(f\"e) Number of books cheaper than $10: ${below_10}\")\n",
    "print(f\"f) Percentage of books cheaper than $10: ${round((below_10 / no_of_books)*100, 2)}%\")"
   ]
  },
  {
   "cell_type": "markdown",
   "id": "e670d2ec",
   "metadata": {},
   "source": [
    "## Q13: Playing with Strings [ *** ]\n",
    "**Part I:**\n",
    "Write a program that prompts the user for a string as a message. The program displays a triangle that gradually reveals the whole message, as shown below."
   ]
  },
  {
   "cell_type": "code",
   "execution_count": 81,
   "id": "c0a31a38",
   "metadata": {},
   "outputs": [
    {
     "name": "stdout",
     "output_type": "stream",
     "text": [
      "\n",
      "P\n",
      "Py\n",
      "Pyt\n",
      "Pyth\n",
      "Pytho\n",
      "Python\n"
     ]
    }
   ],
   "source": [
    "msg = input(\"Enter a message: \")\n",
    "\n",
    "for i in range(len(msg)):\n",
    "    print(msg[:i])\n",
    "print(msg)"
   ]
  },
  {
   "cell_type": "markdown",
   "id": "3fc422ed",
   "metadata": {},
   "source": [
    "**Part II:**\n",
    "Write a similar program that displays the triangle upside down, as shown below."
   ]
  },
  {
   "cell_type": "code",
   "execution_count": 86,
   "id": "230a683e",
   "metadata": {},
   "outputs": [
    {
     "name": "stdout",
     "output_type": "stream",
     "text": [
      "Hello!\n",
      "Hello\n",
      "Hell\n",
      "Hel\n",
      "He\n",
      "H\n"
     ]
    }
   ],
   "source": [
    "msg = input(\"Enter a message: \")\n",
    "\n",
    "for i in range(len(msg), 0, -1):\n",
    "    print(msg[:i])"
   ]
  },
  {
   "cell_type": "markdown",
   "id": "fa30e179",
   "metadata": {},
   "source": [
    "## Q14: Count Words [ ** ]\n",
    "In this question we’ll count the number of “a” and “an” in a piece of text.\n",
    "\n",
    "Note: For this question, you are NOT allowed to use the count() method of string.\n",
    "\n",
    "a) Write a function called count_a that takes in a piece of text (as a string) and returns the number of times the word “a” occurs in the text. You do not need to handle uppercase “A”. You can assume that each time the word “a” occurs, both its previous character and its next character are a space.\n",
    "\n",
    "For example, count_a(\"I have a room with a window, a desk and a chair.\") should return 4."
   ]
  },
  {
   "cell_type": "code",
   "execution_count": 88,
   "id": "f09083f7",
   "metadata": {},
   "outputs": [
    {
     "name": "stdout",
     "output_type": "stream",
     "text": [
      "4\n"
     ]
    }
   ],
   "source": [
    "def count_a(text):\n",
    "    words = text.split()\n",
    "    count = 0\n",
    "    \n",
    "    for word in words:\n",
    "        if word == \"a\": count += 1\n",
    "\n",
    "    return count\n",
    "\n",
    "print(count_a(\"I have a room with a window, a desk and a chair.\"))"
   ]
  },
  {
   "cell_type": "markdown",
   "id": "0ace779b",
   "metadata": {},
   "source": [
    "b) Write a function called count_an that takes in a piece of text (as a string) and returns the number of times the word “an” occurs in the text. You do not need to handle uppercase “An”. You can assume that each time the word “an” occurs, its previous character and its next character are both a space.\n",
    "\n",
    "For example, count_an(\"Every day I have an egg, an apple and a banana for breakfast.\") should return 2."
   ]
  },
  {
   "cell_type": "code",
   "execution_count": 89,
   "id": "5b2b7475",
   "metadata": {},
   "outputs": [
    {
     "name": "stdout",
     "output_type": "stream",
     "text": [
      "2\n"
     ]
    }
   ],
   "source": [
    "def count_an(text):\n",
    "    words = text.split()\n",
    "    count = 0\n",
    "\n",
    "    for word in words:\n",
    "        if word == \"an\": count += 1\n",
    "\n",
    "    return count\n",
    "\n",
    "print(count_an(\"Every day I have an egg, an apple and a banana for breakfast.\"))"
   ]
  },
  {
   "cell_type": "markdown",
   "id": "37b9ff21",
   "metadata": {},
   "source": [
    "## Q15: Fibonacci Numbers [ *** ]\n",
    "Refer to the following link to understand Fibonacci numbers: https://en.wikipedia.org/wiki/Fibonacci_number\n",
    "\n",
    "Essentially, it is a sequence of numbers where each number is equal to the sum of its previous two numbers in the sequence.\n",
    "\n",
    "Write a function called display_fibonacci(). This function takes in an integer n (greater or equal to 3). It prints out the first n Fibonacci numbers, starting from 1. The function doesn’t return anything.\n",
    "\n",
    "For example:\n",
    "display_fibonacci(3) prints out the following output: 1 1 2<br>\n",
    "display_fibonacci(5) prints out the following output: 1 1 2 3 5<br>\n",
    "display_fibonacci(10) prints out the following output: 1 1 2 3 5 8 13 21 34 55"
   ]
  },
  {
   "cell_type": "code",
   "execution_count": 96,
   "id": "fb092325",
   "metadata": {},
   "outputs": [
    {
     "name": "stdout",
     "output_type": "stream",
     "text": [
      " 1 1 2\n",
      " 1 1 2 3 5\n",
      " 1 1 2 3 5 8 13 21 34 55\n"
     ]
    }
   ],
   "source": [
    "def display_fibonacci(n):\n",
    "    # n should be greater or equal to 3\n",
    "    curr = []\n",
    "    sequence = \"\"\n",
    "\n",
    "    for i in range(n):\n",
    "        # first 2 initiates fibonnacci\n",
    "        if i in [0, 1]:\n",
    "            curr += [1]\n",
    "            sequence += \" 1\"\n",
    "\n",
    "        # following numbers are the sum of previous 2 values\n",
    "        else:\n",
    "            next = curr[-1] + curr[-2]\n",
    "            curr += [next]\n",
    "            sequence += f\" {next}\"\n",
    "\n",
    "    return sequence\n",
    "\n",
    "print(display_fibonacci(3))\n",
    "print(display_fibonacci(5))\n",
    "print(display_fibonacci(10))"
   ]
  }
 ],
 "metadata": {
  "kernelspec": {
   "display_name": "Python 3",
   "language": "python",
   "name": "python3"
  },
  "language_info": {
   "codemirror_mode": {
    "name": "ipython",
    "version": 3
   },
   "file_extension": ".py",
   "mimetype": "text/x-python",
   "name": "python",
   "nbconvert_exporter": "python",
   "pygments_lexer": "ipython3",
   "version": "3.13.5"
  }
 },
 "nbformat": 4,
 "nbformat_minor": 5
}
