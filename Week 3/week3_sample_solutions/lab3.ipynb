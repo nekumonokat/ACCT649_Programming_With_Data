{
 "cells": [
  {
   "cell_type": "code",
   "execution_count": null,
   "id": "67f619de-8970-4dcc-bb55-4566a3fa3634",
   "metadata": {},
   "outputs": [],
   "source": [
    "### Author: Jason Chan"
   ]
  },
  {
   "cell_type": "code",
   "execution_count": 1,
   "id": "085fe33e-16c0-43b6-9d9e-9a266da16876",
   "metadata": {},
   "outputs": [
    {
     "name": "stdin",
     "output_type": "stream",
     "text": [
      "Enter a positive integer:  -2\n",
      "Error! Enter a positive integer:  0\n",
      "Error! Enter a positive integer:  -5\n",
      "Error! Enter a positive integer:  4\n"
     ]
    },
    {
     "name": "stdout",
     "output_type": "stream",
     "text": [
      "Bingo!\n"
     ]
    }
   ],
   "source": [
    "### Q1a\n",
    "\n",
    "# Prompt user for integer\n",
    "n = int(input(\"Enter a positive integer: \"))\n",
    "\n",
    "# Keep repeating while user input is not positive\n",
    "while (n <= 0):\n",
    "\n",
    "    # Prompt user again\n",
    "    n = int(input(\"Error! Enter a positive integer: \"))\n",
    "    \n",
    "# Print final result\n",
    "print(\"Bingo!\")"
   ]
  },
  {
   "cell_type": "code",
   "execution_count": 2,
   "id": "dd481567-324e-4a91-83f3-08621e689079",
   "metadata": {},
   "outputs": [
    {
     "name": "stdin",
     "output_type": "stream",
     "text": [
      "Enter a single word:  Python Programming\n",
      "Error! Enter a positive integer:  New York City\n",
      "Error! Enter a positive integer:  SMU\n"
     ]
    },
    {
     "name": "stdout",
     "output_type": "stream",
     "text": [
      "Bingo!\n"
     ]
    }
   ],
   "source": [
    "### Q1b\n",
    "\n",
    "# Prompt user for a string\n",
    "s = input(\"Enter a single word: \")\n",
    "\n",
    "# Keep repeating while there is a space in the input string\n",
    "while (' ' in s):\n",
    "\n",
    "    # Prompt user again\n",
    "    s = input(\"Error! Enter a positive integer: \")\n",
    "    \n",
    "# Print final result\n",
    "print(\"Bingo!\")"
   ]
  },
  {
   "cell_type": "code",
   "execution_count": 3,
   "id": "de6fac5f-fed9-47bb-944b-3d8a631c4cec",
   "metadata": {},
   "outputs": [
    {
     "name": "stdin",
     "output_type": "stream",
     "text": [
      "How old are you?  -3\n",
      "Error! How old are you?  101\n",
      "Error! How old are you?  99\n"
     ]
    },
    {
     "name": "stdout",
     "output_type": "stream",
     "text": [
      "Thanks!\n"
     ]
    }
   ],
   "source": [
    "### Q1c\n",
    "\n",
    "# Prompt user for integer\n",
    "n = int(input(\"How old are you? \"))\n",
    "\n",
    "# Keep repeating while user input is not between 0 and 100\n",
    "while (n < 0 or n > 100):\n",
    "\n",
    "    # Prompt user again\n",
    "    n = int(input(\"Error! How old are you? \"))\n",
    "    \n",
    "# Print final result\n",
    "print(\"Thanks!\")"
   ]
  },
  {
   "cell_type": "code",
   "execution_count": 4,
   "id": "317bc164-1090-4061-a560-195bedc03b34",
   "metadata": {},
   "outputs": [
    {
     "name": "stdin",
     "output_type": "stream",
     "text": [
      "Are you a student?  I am\n",
      "Error!Are you a student?  maybe\n",
      "Error!Are you a student?  No\n"
     ]
    },
    {
     "name": "stdout",
     "output_type": "stream",
     "text": [
      "Thanks!\n"
     ]
    }
   ],
   "source": [
    "### Q1d\n",
    "\n",
    "# Prompt user for a string\n",
    "s = input(\"Are you a student? \")\n",
    "\n",
    "# A tuple containing possible valid repsonses\n",
    "y = \"Yes\"\n",
    "n = \"No\"\n",
    "valid_responses = (y, n, y.upper(), n.upper(), y.lower(), n.lower())\n",
    "\n",
    "# Keep repeating while there is a space in the input string\n",
    "while (not(s in valid_responses)):\n",
    "\n",
    "    # Prompt user again\n",
    "    s = input(\"Error!Are you a student? \")\n",
    "    \n",
    "# Print final result\n",
    "print(\"Thanks!\")"
   ]
  },
  {
   "cell_type": "code",
   "execution_count": 8,
   "id": "e84ee654-594a-4f66-befc-9774f81afaeb",
   "metadata": {},
   "outputs": [
    {
     "name": "stdin",
     "output_type": "stream",
     "text": [
      "Enter a number: 10\n",
      "Enter a number: 30\n",
      "Enter a number: 20\n",
      "Enter a number: 35\n",
      "Enter a number: 10\n"
     ]
    },
    {
     "name": "stdout",
     "output_type": "stream",
     "text": [
      "Thanks! The sum is 105\n"
     ]
    }
   ],
   "source": [
    "### Q2\n",
    "\n",
    "# Sum of integers\n",
    "sum = 0\n",
    "\n",
    "# Prompt user for integer, and add to total\n",
    "sum += int(input(\"Enter a number:\"))\n",
    "\n",
    "# Keep repeating while sum does not exceed 100\n",
    "while (sum <= 100):\n",
    "\n",
    "    # Add user input to total\n",
    "    sum += int(input(\"Enter a number:\"))\n",
    "\n",
    "# Only print when total exceeds 100\n",
    "print(\"Thanks! The sum is \" + str(sum) + \".\")"
   ]
  },
  {
   "cell_type": "code",
   "execution_count": 12,
   "id": "884674d7-6520-4f1b-aadd-61f96cb0d116",
   "metadata": {},
   "outputs": [
    {
     "name": "stdin",
     "output_type": "stream",
     "text": [
      "Please pick a book. How much is it? $ 10\n"
     ]
    },
    {
     "name": "stdout",
     "output_type": "stream",
     "text": [
      "You still have $90.0 left\n"
     ]
    },
    {
     "name": "stdin",
     "output_type": "stream",
     "text": [
      "Please pick a book. How much is it? $ 15.5\n"
     ]
    },
    {
     "name": "stdout",
     "output_type": "stream",
     "text": [
      "You still have $74.5 left\n"
     ]
    },
    {
     "name": "stdin",
     "output_type": "stream",
     "text": [
      "Please pick a book. How much is it? $ 53.5\n"
     ]
    },
    {
     "name": "stdout",
     "output_type": "stream",
     "text": [
      "You still have $21.0 left\n"
     ]
    },
    {
     "name": "stdin",
     "output_type": "stream",
     "text": [
      "Please pick a book. How much is it? $ 10\n"
     ]
    },
    {
     "name": "stdout",
     "output_type": "stream",
     "text": [
      "You still have $11.0 left\n"
     ]
    },
    {
     "name": "stdin",
     "output_type": "stream",
     "text": [
      "Please pick a book. How much is it? $ 12\n"
     ]
    },
    {
     "name": "stdout",
     "output_type": "stream",
     "text": [
      "The total price is 101.0.\n"
     ]
    }
   ],
   "source": [
    "### Q3\n",
    "\n",
    "# Total price\n",
    "total_price = 0\n",
    "\n",
    "# Minimum spend required\n",
    "minimum_spend = 100\n",
    "\n",
    "# Prompt user for integer, and add to total\n",
    "total_price += float(input(\"Please pick a book. How much is it? $\"))\n",
    "\n",
    "# Keep repeating while minimum spend yet to be reached\n",
    "while (total_price < minimum_spend):\n",
    "    print(\"You still have $\" + str(round(minimum_spend - total_price, 1)) + \" left\")\n",
    "    total_price += float(input(\"Please pick a book. How much is it? $\"))\n",
    "\n",
    "# Only print when total exceeds 100\n",
    "print(\"The total price is $\" + str(round(total_price, 2)) + \".\")"
   ]
  },
  {
   "cell_type": "code",
   "execution_count": 14,
   "id": "c7021ea9-cec5-49c5-851f-9c361aa3d9be",
   "metadata": {},
   "outputs": [
    {
     "name": "stdin",
     "output_type": "stream",
     "text": [
      "Enter an integer: 7\n",
      "Enter an integer: 3\n",
      "Enter an integer: 8\n",
      "Enter an integer: 12\n",
      "Enter an integer: 23\n",
      "Enter an integer: 0\n",
      "Enter an integer: 3\n",
      "Enter an integer: -9\n"
     ]
    },
    {
     "name": "stdout",
     "output_type": "stream",
     "text": [
      "You've entered 3 even numbers (excluding the last negative number).\n"
     ]
    }
   ],
   "source": [
    "### Q4\n",
    "\n",
    "# How many even numbers?\n",
    "count = 0\n",
    "\n",
    "# Prompt user for integer\n",
    "n = int(input(\"Enter an integer:\"))\n",
    "\n",
    "# Keep repeating while user enters negative\n",
    "while (n >= 0):\n",
    "\n",
    "    # Count this integer if it is even\n",
    "    if (n % 2 == 0):\n",
    "        count = count + 1\n",
    "        \n",
    "    # Prompt user for integer\n",
    "    n = int(input(\"Enter an integer:\"))\n",
    "\n",
    "# Only print when user enters positive integer\n",
    "print(\"You've entered \" + str(count) + \" even numbers (excluding the last negative number).\")"
   ]
  },
  {
   "cell_type": "code",
   "execution_count": 16,
   "id": "bde4ab8d-6735-4837-b7d4-d7276b3de9e6",
   "metadata": {},
   "outputs": [
    {
     "name": "stdin",
     "output_type": "stream",
     "text": [
      "Enter a message: Hello!\n"
     ]
    },
    {
     "name": "stdout",
     "output_type": "stream",
     "text": [
      "H e l l o ! \n"
     ]
    }
   ],
   "source": [
    "### Q5-I\n",
    "\n",
    "# Prompt user for string\n",
    "s = input(\"Enter a message:\")\n",
    "\n",
    "# Go through each character in string\n",
    "for ch in s:\n",
    "\n",
    "    # Print character followed by space, without newline character\n",
    "    print(ch + \" \", end=\"\")"
   ]
  },
  {
   "cell_type": "code",
   "execution_count": 20,
   "id": "61918011-09db-43b7-965f-5a2c48faec64",
   "metadata": {},
   "outputs": [
    {
     "name": "stdin",
     "output_type": "stream",
     "text": [
      "Enter a message: Hello!\n"
     ]
    },
    {
     "name": "stdout",
     "output_type": "stream",
     "text": [
      "H-e-l-l-o-!"
     ]
    }
   ],
   "source": [
    "### Q5-II\n",
    "\n",
    "# Prompt user for string\n",
    "s = input(\"Enter a message:\")\n",
    "\n",
    "# Go through each position in string, except last position\n",
    "for i in range(len(s) - 1):\n",
    "\n",
    "    # Print character followed by hyphen, without newline character\n",
    "    print(s[i] + \"-\", end=\"\")\n",
    "\n",
    "# Print last character, without following hyphen\n",
    "print(s[len(s)-1])"
   ]
  },
  {
   "cell_type": "code",
   "execution_count": 23,
   "id": "d9592e7d-cd28-4409-b92e-45d398d308a9",
   "metadata": {},
   "outputs": [
    {
     "name": "stdout",
     "output_type": "stream",
     "text": [
      "H*e*l*l*o* *W*o*r*l*d*!\n",
      "P/y/t/h/o/n\n"
     ]
    }
   ],
   "source": [
    "### Q5-III\n",
    "\n",
    "def print_message_with_separators(s, sep):\n",
    "    \n",
    "    # Go through each position in string, except last position\n",
    "    for i in range(len(s) - 1):\n",
    "    \n",
    "        # Print character followed by separator, without newline character\n",
    "        print(s[i] + sep, end=\"\")\n",
    "    \n",
    "    # Print last character, without following hyphen\n",
    "    print(s[len(s) - 1])\n",
    "\n",
    "\n",
    "# Use above function\n",
    "print_message_with_separators(\"Hello World!\", \"*\")\n",
    "print_message_with_separators(\"Python\", \"/\")"
   ]
  },
  {
   "cell_type": "code",
   "execution_count": 24,
   "id": "54af1fc5-e79e-43e1-96f1-67ef29d81b4a",
   "metadata": {},
   "outputs": [
    {
     "name": "stdout",
     "output_type": "stream",
     "text": [
      "4 * - 7 8 - * 11 - 13 14 # 16  \n"
     ]
    }
   ],
   "source": [
    "### Q6\n",
    "\n",
    "def display_numbers(m, n):\n",
    "\n",
    "    # Go through each integer, from m to n inclusive\n",
    "    for i in range(m, n+1):\n",
    "\n",
    "        # If multiple of both 3 and 5, print hash\n",
    "        if i % 3 == 0 and i % 5 == 0:\n",
    "            print(\"# \", end=\"\")\n",
    "\n",
    "        # If multiple of 3, print hyphen\n",
    "        elif i % 3 == 0:\n",
    "            print(\"- \", end=\"\")\n",
    "\n",
    "        # If multiple of 5, print star\n",
    "        elif i % 5 == 0:\n",
    "            print(\"* \", end=\"\")\n",
    "\n",
    "        # If none of the above, print integer value\n",
    "        else:\n",
    "            print(str(i) + \" \", end=\"\")\n",
    "\n",
    "    # Print newline character\n",
    "    print(\" \")\n",
    "\n",
    "\n",
    "# Use above function\n",
    "display_numbers(4, 16)"
   ]
  },
  {
   "cell_type": "code",
   "execution_count": 5,
   "id": "26a34299-834d-4a69-b451-b945bd07e83c",
   "metadata": {},
   "outputs": [],
   "source": [
    "### Q7\n",
    "\n",
    "# output     value of a     value of b     value of c     value of d\n",
    "# ---------------------------------------------------------------------\n",
    "# Alpha      True           True           True           True or False\n",
    "# Beta       True           True           False          True or False\n",
    "# Gamma      False          True           True or False  True\n",
    "# Delta      False          True           True or False  False"
   ]
  },
  {
   "cell_type": "code",
   "execution_count": null,
   "id": "022ba122-bd8e-49ae-a1ac-b2862514da6c",
   "metadata": {},
   "outputs": [],
   "source": [
    "### Q8\n",
    "\n",
    "#   not True or (3 >= 3 or 9 < 4) and False\n",
    "# = False    or (True   or False) and False\n",
    "# = False    or (True           ) and False\n",
    "# = False   or False\n",
    "# = False\n",
    "\n",
    "#   not True or 3 >= 3 or 9 < 4 and False\n",
    "# = False    or True   or False and False\n",
    "# = False    or True   or False\n",
    "# = True\n",
    "\n",
    "#   False == (False or not True) or not (2 * 4 % 3 == 1)\n",
    "# = False == (False or False   ) or not (8     % 3 == 1)\n",
    "# = False == (False            ) or not (2         == 1)\n",
    "# = True                         or not (False         )\n",
    "# = True                         or True\n",
    "# = True"
   ]
  },
  {
   "cell_type": "code",
   "execution_count": 9,
   "id": "2f674ee7-fba5-4e78-a5eb-48caca022461",
   "metadata": {},
   "outputs": [],
   "source": [
    "### Q9\n",
    "\n",
    "#   not (not (a and not b ) or      (b     or  not a ) )\n",
    "# =          (a and not b ) and not (b     or  not a )\n",
    "# =          (a and not b ) and     (not b and a     )\n",
    "\n",
    "# a     | b     |   not (not (a     and not b    ) or (b     or not a    )) |    (a     and not b    ) and (not b     and a    )\n",
    "# ------+-------+-----------------------------------------------------------+------------------------------------------------\n",
    "# True  | True  |   not (not (True  and not True ) or (True  or not True )) |  = (True  and not True ) and (not True  and True )\n",
    "#       |       | = not (not (True  and False    ) or (True  or False    )) |  = (True  and False    ) and (False     and True )\n",
    "#       |       | = not (not (False              ) or (True              )) |  = (False              ) and (False              )\n",
    "#       |       | = not (True                      or  True               ) |  = False\n",
    "#       |       | = not (True                                             ) |\n",
    "#       |       | = False                                                   |\n",
    "# True  | False |   not (not (True  and not False) or (False or not True )) |   = (True  and not False) and (not False and True )\n",
    "#       |       | = not (not (True  and True     ) or (False or False    )) |  = (True  and True     ) and (True      and True )\n",
    "#       |       | = not (not (True               ) or (False             )) |  = (True               ) and (True               )\n",
    "#       |       | = not (False                     or  False              ) |  = True\n",
    "#       |       | = not (False                                            ) |\n",
    "#       |       | = True                                                    |\n",
    "# False | True  |   not (not (False and not True ) or (True  or not False)) |  = (False and not True ) and (not True  and False)\n",
    "#       |       | = not (not (False and False    ) or (True  or True     )) |  = (False and False    ) and (False     and False)\n",
    "#       |       | = not (not (False              ) or (True              )) |  = (False              ) and (False              )\n",
    "#       |       | = not (True                      or  True               ) |  = False\n",
    "#       |       | = not (True                                             ) |\n",
    "#       |       | = False                                                   |\n",
    "# False | False |   not (not (False and not False) or (False or not False)) |  = (False and not False) and (not False and False)\n",
    "#       |       | = not (not (False and True     ) or (False or True     )) |  = (False and True     ) and (True      and False)\n",
    "#       |       | = not (not (False              ) or (True              )) |  = (False              ) and (False              )\n",
    "#       |       | = not (True                      or  True               ) |  = False\n",
    "#       |       | = not (True                                             ) |\n",
    "#       |       | = False                                                   |"
   ]
  },
  {
   "cell_type": "code",
   "execution_count": 6,
   "id": "d5568125-4629-4037-99ce-e1e81aac82e0",
   "metadata": {},
   "outputs": [
    {
     "name": "stdout",
     "output_type": "stream",
     "text": [
      "49\n"
     ]
    }
   ],
   "source": [
    "### Q10\n",
    "\n",
    "def compute_sum(m, n):\n",
    "\n",
    "    # Total of integers\n",
    "    sum = 0\n",
    "\n",
    "    # Go through each integer from m to n inclusive\n",
    "    for i in range(m, n+1):\n",
    "\n",
    "        # Add current integer\n",
    "        sum += i\n",
    "\n",
    "    # Give back answer to whoever used the function\n",
    "    return sum\n",
    "\n",
    "\n",
    "# Use above function\n",
    "print(compute_sum(4, 10))"
   ]
  },
  {
   "cell_type": "code",
   "execution_count": 30,
   "id": "e43a4d99-9f97-4778-a9e8-0d361b88f2a1",
   "metadata": {},
   "outputs": [
    {
     "name": "stdin",
     "output_type": "stream",
     "text": [
      "Enter a word: abcdcba\n"
     ]
    },
    {
     "name": "stdout",
     "output_type": "stream",
     "text": [
      "abcdcba is a palindrome\n"
     ]
    }
   ],
   "source": [
    "### Q11\n",
    "\n",
    "def is_palindrome(s):\n",
    "\n",
    "    # Go through each position in the front half of the string.\n",
    "    # We ignore back half because the front half will compare to back half,\n",
    "    # and we ignore middle (if there is one) because it has nothing to compare to.\n",
    "    for i in range(0, int((len(s)+1)/2)):\n",
    "    \n",
    "        # If current character does not match corresponding character from back of string\n",
    "        if s[i] != s[-1*i - 1]:\n",
    "            return False\n",
    "\n",
    "    # If we reach here, then all characters match\n",
    "    return True\n",
    "\n",
    "\n",
    "# Prompt user for string\n",
    "s = input(\"Enter a word:\")\n",
    "\n",
    "# Print final result\n",
    "if is_palindrome(s):\n",
    "    print(s + \" is a palindrome\")\n",
    "else:\n",
    "    print(s + \" is NOT a palindrome\")"
   ]
  },
  {
   "cell_type": "code",
   "execution_count": 32,
   "id": "5f13441d-1407-4737-abe9-7d9747af5b37",
   "metadata": {},
   "outputs": [
    {
     "name": "stdin",
     "output_type": "stream",
     "text": [
      "How many books do you have in your basket? 3\n",
      "What is the price of the book number 1? :$ 5.5\n",
      "What is the price of the book number 2? :$ 8.2\n",
      "What is the price of the book number 3? :$ 15.5\n"
     ]
    },
    {
     "name": "stdout",
     "output_type": "stream",
     "text": [
      "a) Total price: $29.2\n",
      "b) Average price: $9.73\n",
      "c) Price of least expensive book : $5.5\n",
      "d) Price of most expensive book : $15.5\n",
      "e) Number of books cheaper than $10 : 2\n",
      "f) Percentage of books cheaper than $10 :66.67%\n"
     ]
    }
   ],
   "source": [
    "### Q12\n",
    "\n",
    "# Total price of all books\n",
    "total_price = 0\n",
    "\n",
    "# How many books cheaper than $10?\n",
    "count_cheaper_than_10 = 0\n",
    "\n",
    "# Prompt user for integer\n",
    "num_books = int(input(\"How many books do you have in your basket?\"))\n",
    "\n",
    "# Least expensive book\n",
    "min_price = -1\n",
    "\n",
    "# Most expensive book\n",
    "max_price = -1\n",
    "\n",
    "# Are we up to the first book?\n",
    "is_first_book = True\n",
    "\n",
    "# For each book\n",
    "for i in range(0, num_books):\n",
    "\n",
    "    # Prompt user for price\n",
    "    price = float(input(\"What is the price of the book number \" + str(i+1) + \"? :$\"))\n",
    "\n",
    "    # Add to total price\n",
    "    total_price += price\n",
    "\n",
    "    # Count if cheaper than $10\n",
    "    if price < 10:\n",
    "        count_cheaper_than_10 += 1\n",
    "\n",
    "    # If this book is cheapest or most expensive so far\n",
    "    if is_first_book or price < min_price:\n",
    "        min_price = price\n",
    "    if is_first_book or price > max_price:\n",
    "        max_price = price\n",
    "\n",
    "    # We are about to see another book\n",
    "    is_first_book = False\n",
    "\n",
    "# Calculate average book price\n",
    "average = total_price / num_books\n",
    "\n",
    "# Calculate percentage of books cheaper than $10\n",
    "pct = 100 * count_cheaper_than_10 / num_books\n",
    "\n",
    "print(\"a) Total price: $\" + str(round(total_price, 1)))\n",
    "print(\"b) Average price: $\" + str(round(average, 2)))\n",
    "print(\"c) Price of least expensive book : $\" + str(round(min_price, 1)))\n",
    "print(\"d) Price of most expensive book : $\" + str(round(max_price, 1)))\n",
    "print(\"e) Number of books cheaper than $10 : \" + str(count_cheaper_than_10))\n",
    "print(\"f) Percentage of books cheaper than $10 :\" + str(round(pct, 2)) + \"%\")"
   ]
  },
  {
   "cell_type": "code",
   "execution_count": 34,
   "id": "f2efdce6-6881-4ff1-8240-0d964f3cbd31",
   "metadata": {},
   "outputs": [
    {
     "name": "stdin",
     "output_type": "stream",
     "text": [
      "Enter a message : Hello!\n"
     ]
    },
    {
     "name": "stdout",
     "output_type": "stream",
     "text": [
      "H\n",
      "He\n",
      "Hel\n",
      "Hell\n",
      "Hello\n",
      "Hello!\n"
     ]
    }
   ],
   "source": [
    "### Q13I\n",
    "\n",
    "# Prompt user for string\n",
    "s = input(\"Enter a message :\")\n",
    "\n",
    "# Go through each position in string\n",
    "for i in range(len(s)):\n",
    "\n",
    "    # Print all characters from the first up to that position in the string\n",
    "    print(s[0:i+1])"
   ]
  },
  {
   "cell_type": "code",
   "execution_count": 36,
   "id": "4e6d06ed-c570-45e3-a6ee-100cc8bbcfe0",
   "metadata": {},
   "outputs": [
    {
     "name": "stdin",
     "output_type": "stream",
     "text": [
      "Enter a message : Hello!\n"
     ]
    },
    {
     "name": "stdout",
     "output_type": "stream",
     "text": [
      "Hello!\n",
      "Hello\n",
      "Hell\n",
      "Hel\n",
      "He\n",
      "H\n"
     ]
    }
   ],
   "source": [
    "### Q13II\n",
    "\n",
    "# Prompt user for string\n",
    "s = input(\"Enter a message :\")\n",
    "\n",
    "# Go through each position in string\n",
    "for i in range(len(s)):\n",
    "\n",
    "    # Print all characters from the first up to that position in the string\n",
    "    print(s[0:len(s)-i])"
   ]
  },
  {
   "cell_type": "code",
   "execution_count": 54,
   "id": "dead4e92-27f8-40a5-b8bd-91c89e4a2576",
   "metadata": {},
   "outputs": [
    {
     "name": "stdout",
     "output_type": "stream",
     "text": [
      "4\n"
     ]
    }
   ],
   "source": [
    "### Q14a\n",
    "\n",
    "def count_a(s):\n",
    "\n",
    "    # How many \" a \"?\n",
    "    count = 0\n",
    "\n",
    "    # Go through each position in given string,\n",
    "    # except the last 2 characters (since we are looking at a sequence of 3 characters,\n",
    "    # and the last 2 characters do not start a sequence of 3 characters)\n",
    "    for i in range(0, len(s)-2):\n",
    "\n",
    "        # If next 3 characters is \" a \"\n",
    "        if s[i] == \" \" and s[i+1] == \"a\" and s[i+2] == \" \":\n",
    "\n",
    "            # Count it\n",
    "            count += 1\n",
    "            \n",
    "    # Return final answer\n",
    "    return count\n",
    "\n",
    "\n",
    "# Use above function\n",
    "print(count_a(\"I have a room with a window, a desk and a chair.\"))"
   ]
  },
  {
   "cell_type": "code",
   "execution_count": 57,
   "id": "405cebc1-f695-4da7-b20b-f50215d1e57e",
   "metadata": {},
   "outputs": [
    {
     "name": "stdout",
     "output_type": "stream",
     "text": [
      "2\n"
     ]
    }
   ],
   "source": [
    "### Q14b)\n",
    "\n",
    "def count_an(s):\n",
    "\n",
    "    # How many \" an \"?\n",
    "    count = 0\n",
    "\n",
    "    # Go through each position in given string,\n",
    "    # except the last 3 characters (since we are looking at a sequence of 4 characters,\n",
    "    # and the last 3 characters do not start a sequence of 4 characters)\n",
    "    for i in range(0, len(s)-3):\n",
    "\n",
    "        # If next 4 characters is \" an \"\n",
    "        if s[i] == \" \" and s[i+1] == \"a\" and s[i+2] == \"n\" and s[i+3] == \" \":\n",
    "            \n",
    "            # Count it\n",
    "            count += 1\n",
    "            \n",
    "    # Return final answer\n",
    "    return count\n",
    "\n",
    "\n",
    "# Use above function\n",
    "print(count_an(\"Every day I have an egg, an apple and a banana for breakfast.\"))"
   ]
  },
  {
   "cell_type": "code",
   "execution_count": 52,
   "id": "853b4335-d505-4adc-8ed6-305cb5b6c072",
   "metadata": {},
   "outputs": [
    {
     "name": "stdout",
     "output_type": "stream",
     "text": [
      "1 1 2 3 5 8 13 21 34 55  \n"
     ]
    }
   ],
   "source": [
    "### Q15)\n",
    "\n",
    "def display_fibonacci(n):\n",
    "\n",
    "    # First 2 numbers in Fibonacci sequence\n",
    "    n1 = 1\n",
    "    n2 = 1\n",
    "    print(\"1 1 \", end=\"\")\n",
    "\n",
    "    # Go through each integer in sequence\n",
    "    for i in range(3,n+1):\n",
    "\n",
    "        # Calculate next number in Fibonacci sequence\n",
    "        n3 = n1 + n2\n",
    "        print(str(n3) + \" \", end=\"\")\n",
    "\n",
    "        # We are about to do next cycle of loop, so update variables\n",
    "        n1 = n2\n",
    "        n2 = n3\n",
    "\n",
    "    # Go to next line below\n",
    "    print(\" \")\n",
    "\n",
    "\n",
    "# Use above function\n",
    "display_fibonacci(10)"
   ]
  },
  {
   "cell_type": "code",
   "execution_count": null,
   "id": "c6932b7a-e098-4241-b623-4819002c1ee2",
   "metadata": {},
   "outputs": [],
   "source": []
  }
 ],
 "metadata": {
  "kernelspec": {
   "display_name": "Python 3 (ipykernel)",
   "language": "python",
   "name": "python3"
  },
  "language_info": {
   "codemirror_mode": {
    "name": "ipython",
    "version": 3
   },
   "file_extension": ".py",
   "mimetype": "text/x-python",
   "name": "python",
   "nbconvert_exporter": "python",
   "pygments_lexer": "ipython3",
   "version": "3.11.7"
  }
 },
 "nbformat": 4,
 "nbformat_minor": 5
}
