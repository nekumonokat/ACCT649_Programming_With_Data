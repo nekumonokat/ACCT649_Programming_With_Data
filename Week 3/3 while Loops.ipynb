{
 "cells": [
  {
   "cell_type": "markdown",
   "metadata": {},
   "source": [
    "<table class=\"table table-bordered\">\n",
    "    <tr>\n",
    "        <th style=\"text-align:center; width:35%\"><img src='https://dl.dropbox.com/s/qtzukmzqavebjd2/icon_smu.jpg' style=\"width: 300px; height: 90px; \"></th>\n",
    "        <th style=\"text-align:center;\"><h3>ACCT649 - Notebook</h3><h2>while-Loops</h2></th>\n",
    "    </tr>\n",
    "</table>\n",
    "\n",
    "*This course material is adapted based on the IS111 curriculum"
   ]
  },
  {
   "cell_type": "markdown",
   "metadata": {},
   "source": [
    "## Learning Outcomes\n",
    "\n",
    "At the end of this lesson, you should be able to:\n",
    "<ul>\n",
    "<li>Understand the flow of execution of a while-loop and trace a while-loop.</li>\n",
    "<li>Apply while-loops to solve problems where there are repetitions and the loop ends with a certain condition.</li>\n",
    "<li>Detect and avoid infinite loops.</li>\n",
    "</ul>"
   ]
  },
  {
   "cell_type": "markdown",
   "metadata": {},
   "source": [
    "We have seen how we can use a for-loop to go through a sequence of integers, to go through all the characters inside a string, and to go through all the elements inside a list. In all these cases, we know exactly how many times the loop is going to run.\n",
    "\n",
    "In some scenarios, we need to repeat an action until a certain condition is satisfied; we do not know how many times the loop is going to run before the loop starts.\n",
    "\n",
    "For example, when we prompt the user for a positive integer, we might want to verify that the user has indeed entered a positive integer, and if not, we would like to prompt the user again. This process repeats until the user has entered a positive integer.\n",
    "\n",
    "How can we write Python code to repeat this action of prompting the user again and again until the user's input number is positive? We can use a while-loop.\n",
    "\n",
    "## I. The while Statement\n",
    "\n",
    "A standard while-loop looks as follows:\n",
    "\n",
    "    while expression:\n",
    "        statement(s)\n",
    "\n",
    "The flow of execution of the while-loop above can be illustrated by the following flow chart:"
   ]
  },
  {
   "cell_type": "markdown",
   "metadata": {},
   "source": [
    "<img align=\"left\" src='https://media.geeksforgeeks.org/wp-content/uploads/20191101170515/while-loop.jpg'>"
   ]
  },
  {
   "cell_type": "markdown",
   "metadata": {},
   "source": [
    "<ul>\n",
    "<li>When we first enter the loop, the <b>expression</b>, which should have a Boolean value, is first evaluated, resulting in either <b>True</b> or <b>False</b>.\n",
    "<ul>\n",
    "<li>If the value is <font color = 'purple'><b>True</b></font>, each statement in the the body of the while-loop is executed. After that, the flow of execution of the program returns to the first row of the while-loop, which means the Boolean expression is to be evaluated again.</li>\n",
    "<li>If the value is <font color = 'purple'><b>False</b></font>, the program exits the while-loop immediately, and the flow of execution moves to the next statement after the while-loop.</li>\n",
    "</ul>\n",
    "</li>\n",
    "</ul>"
   ]
  },
  {
   "cell_type": "markdown",
   "metadata": {},
   "source": [
    "## II. An Example"
   ]
  },
  {
   "cell_type": "markdown",
   "metadata": {},
   "source": [
    "Take the previous scenario as an example. The following code will keep prompting the user until the user enters a positive integer. (It is assumed that the user always enters an integer.)"
   ]
  },
  {
   "cell_type": "code",
   "execution_count": 2,
   "metadata": {},
   "outputs": [
    {
     "name": "stdout",
     "output_type": "stream",
     "text": [
      "Error!\n",
      "Error!\n",
      "Error!\n",
      "Thanks! You've entered a valid number.\n"
     ]
    }
   ],
   "source": [
    "num = int(input(\"Enter a positive integer:\"))\n",
    "while num <= 0:\n",
    "    print(\"Error!\")\n",
    "    num = int(input(\"Enter a positive integer:\"))\n",
    "print(\"Thanks! You've entered a valid number.\")"
   ]
  },
  {
   "cell_type": "markdown",
   "metadata": {},
   "source": [
    "Try the following input values on the code above and observe the behaviors of the code:\n",
    "\n",
    "    Enter a positive integer:-9\n",
    "    Error!\n",
    "    Enter a positive integer:-4\n",
    "    Error! \n",
    "    Enter a positive integer:0\n",
    "    Error! \n",
    "    Enter a positive integer:6\n",
    "    Thanks! You've entered a valid number.\n",
    "\n",
    "We can see that the code in Line 3 and Line 4 above is repeated as long as the variable <b>num</b> is smaller than or equal to 0, i.e., when <b>num</b> is not a positive integer. Because of the code in Line 4, the variable <b>num</b> is updated before we go back to Line 2. When <b>num</b> becomes a positive integer, the condition in Line 2 becomes False and then we exit the loop.\n",
    "\n",
    "We can also see that we cannot use a for-loop to solve the problem above because we do not know beforehand how many times the code in Line 3 and Line 4 is to be executed."
   ]
  },
  {
   "cell_type": "markdown",
   "metadata": {},
   "source": [
    "Let's do an exercise !"
   ]
  },
  {
   "cell_type": "markdown",
   "metadata": {},
   "source": [
    "Use while-loop to write a piece of code that prompts the user for a string. Keep prompting the user until the string entered by the user has between 3 and 8 characters, i.e., the length of the string is between 3 and 8.\n",
    "\n",
    "Here's a sample run of the code:\n",
    "\n",
    "    Enter a string:IS\n",
    "    The string must have between 3 and 8 characters.\n",
    "    Enter a string:Programming\n",
    "    The string must have between 3 and 8 characters.\n",
    "    Enter a string:Python\n",
    "    Great!"
   ]
  },
  {
   "cell_type": "code",
   "execution_count": 4,
   "metadata": {},
   "outputs": [
    {
     "name": "stdout",
     "output_type": "stream",
     "text": [
      "The string must have between 3 and 8 characters.\n",
      "The string must have between 3 and 8 characters.\n",
      "Great!\n"
     ]
    }
   ],
   "source": [
    "# Write your code here:\n",
    "string = input(\"Enter a string: \")\n",
    "\n",
    "while len(string) < 3 or len(string) > 8:\n",
    "    print(\"The string must have between 3 and 8 characters.\")\n",
    "    string = input(\"Enter a string: \")\n",
    "print(\"Great!\")"
   ]
  },
  {
   "cell_type": "markdown",
   "metadata": {},
   "source": [
    "## III. Infinite Loops"
   ]
  },
  {
   "cell_type": "markdown",
   "metadata": {
    "collapsed": true,
    "jupyter": {
     "outputs_hidden": true
    }
   },
   "source": [
    "A common mistake when writing while-loops is to create an infinite loop. An infinite loop is one that never ends. In other words, the Boolean expression that controls the while-loop never becomes False.\n",
    "\n",
    "Let us revisit the previous example. Suppose our code looks like the following:"
   ]
  },
  {
   "cell_type": "code",
   "execution_count": 8,
   "metadata": {},
   "outputs": [
    {
     "name": "stdout",
     "output_type": "stream",
     "text": [
      "Error!\n",
      "Thanks! You've entered a valid number.\n"
     ]
    }
   ],
   "source": [
    "# Prompt user for integer\n",
    "num = int(input(\"Enter a positive integer:\"))\n",
    "\n",
    "# Keep going while user does not enter positive integer\n",
    "while num <= 0:\n",
    "    \n",
    "    # Prompt user again\n",
    "    print(\"Error!\")\n",
    "    # int(input(\"Enter a positive integer:\"))\n",
    "    num = int(input(\"Enter a positive integer:\"))\n",
    "    \n",
    "# Print final result\n",
    "print(\"Thanks! You've entered a valid number.\")"
   ]
  },
  {
   "cell_type": "markdown",
   "metadata": {},
   "source": [
    "Try the following values on the code above and observe the behaviors of the code. Can you find a way to fix the problem?\n",
    "\n",
    "    Enter a positive integer:-4\n",
    "    Error!\n",
    "    Enter a positive integer:3\n",
    "    Error!\n",
    "    Enter a positive integer:5\n",
    "    Error!\n",
    "\n",
    "To stop the program (since it will run forever otherwise), at the top of this screen, click Kernel > Interrupt"
   ]
  },
  {
   "cell_type": "markdown",
   "metadata": {},
   "source": [
    "## IV. Working with Complex Conditions\n",
    "\n",
    "Oftentimes while loops are used to check some complex conditions. For example, consider the following scenario: We want to prompt the user for an even number between 2 and 100 (both inclusive). We need to keep prompting the user until the user enters a valid number. How do we formulate the Boolean expression inside the while statemen for this scenario?\n",
    "\n",
    "We can see that if may not be easy the specify the condition under which we need to re-prompt the user. On the other hand, it is easier to formulate the condition under which the input is valid. Let <b>num</b> represent the input number from the user. The condition under which <b>num</b> is considered valid is the following:\n",
    "\n",
    "    num >= 2 and num <= 100 and num % 2 == 0\n",
    "    \n",
    "So when we write our while-loop to check whether we need to re-prompt the user, we need to check whether the complex condition above is NOT True, i.e., whether the condition above is False. When the entire condition above is False, we need to re-prompt the user.\n",
    "\n",
    "Therefore, we can write our while-loop as follows:"
   ]
  },
  {
   "cell_type": "code",
   "execution_count": 9,
   "metadata": {},
   "outputs": [],
   "source": [
    "num = int(input(\"Please enter a number: \"))\n",
    "while (not(num >= 2 and num <= 100 and num % 2 == 0)):\n",
    "       num = int(input(\"Error! Please enter a number: \"))"
   ]
  },
  {
   "cell_type": "markdown",
   "metadata": {},
   "source": [
    "If we apply the De Morgan's law, the code above can be simplified as follows:"
   ]
  },
  {
   "cell_type": "code",
   "execution_count": 10,
   "metadata": {},
   "outputs": [],
   "source": [
    "num = int(input(\"Please enter a number: \"))\n",
    "while (num < 2 or num > 100 or num % 2 != 0):\n",
    "       num = int(input(\"Error! Please enter a number: \"))"
   ]
  },
  {
   "cell_type": "markdown",
   "metadata": {},
   "source": [
    "Compare the two while-loops above, which are both correct solutions to the question. Which solution do you think is easier for you to come up with?"
   ]
  },
  {
   "cell_type": "markdown",
   "metadata": {},
   "source": [
    "In general, you may find it easier to first formulate the condition under which a while-loop needs to be terminated. Then you can simply add <b>not</b> in front of the entire complex condition to negate the condition, and place this negated condition inside the while statement as the Boolean expression to be checked. If you want, you can further apply De Morgan's law to simplify the condition."
   ]
  },
  {
   "cell_type": "markdown",
   "metadata": {},
   "source": [
    "Let's do an exercise !"
   ]
  },
  {
   "cell_type": "markdown",
   "metadata": {},
   "source": [
    "Use a while-loop to prompt the user for a string that satisfies the conditions below:\n",
    "\n",
    "(1) The string must start with either 'A' or 'a'.\n",
    "\n",
    "(2) The string must have at least 5 characters.\n",
    "\n",
    "(3) The string must end with either 'Z' or 'z'.\n",
    "\n",
    "A sample run of the code looks like the following:\n",
    "\n",
    "    Enter a string:123456\n",
    "    Error!\n",
    "    Enter a string:az\n",
    "    Error!\n",
    "    Enter a string:BCDEZ\n",
    "    Error!\n",
    "    Enter a string:ABCDz\n",
    "    Great!"
   ]
  },
  {
   "cell_type": "code",
   "execution_count": 11,
   "metadata": {},
   "outputs": [
    {
     "name": "stdout",
     "output_type": "stream",
     "text": [
      "Error!\n",
      "Error!\n",
      "Error!\n",
      "Great!\n"
     ]
    }
   ],
   "source": [
    "# Write your code here:\n",
    "string = input(\"Enter a string: \")\n",
    "\n",
    "while (string[0].lower() != \"a\") or (len(string) < 5) or (string[-1].lower() != \"z\"):\n",
    "    print(\"Error!\")\n",
    "    string = input(\"Enter a string: \")\n",
    "\n",
    "print(\"Great!\")"
   ]
  }
 ],
 "metadata": {
  "kernelspec": {
   "display_name": "Python 3",
   "language": "python",
   "name": "python3"
  },
  "language_info": {
   "codemirror_mode": {
    "name": "ipython",
    "version": 3
   },
   "file_extension": ".py",
   "mimetype": "text/x-python",
   "name": "python",
   "nbconvert_exporter": "python",
   "pygments_lexer": "ipython3",
   "version": "3.13.5"
  }
 },
 "nbformat": 4,
 "nbformat_minor": 4
}
