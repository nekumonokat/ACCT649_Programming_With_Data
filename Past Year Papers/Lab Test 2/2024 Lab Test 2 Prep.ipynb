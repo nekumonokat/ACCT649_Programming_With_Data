{
 "cells": [
  {
   "cell_type": "markdown",
   "metadata": {},
   "source": [
    "# AY23T2 Python Lab Test\n"
   ]
  },
  {
   "cell_type": "code",
   "execution_count": 1,
   "metadata": {},
   "outputs": [],
   "source": [
    "### Write your name here: Kathryn Chan"
   ]
  },
  {
   "cell_type": "markdown",
   "metadata": {},
   "source": [
    "### Instructions\n",
    " - Only perform the steps mentioned in the instructions. Do not perform additional data preparation\n",
    " - Use this notebook for coding, then submit this file.\n",
    " - You may add additional cells in this notebook as required\n",
    "\n",
    "\n",
    "### Data description\n",
    "\n",
    "This dataset represents data collected from patients who visited an American hospital.\n",
    "\n",
    "Each row in the dataset represents a patient.\n",
    "\n",
    "Some rows have the same patient id, but for simplicity, we will <font color=\"red\">assume that each row is a different patient</font>.\n",
    "\n",
    "The variables are:\n",
    "\n",
    "- <b>patient_id</b>: Unique identifier for each patient.\n",
    "- <b>race</b>: Nominal values are \"Caucasian\", \"Asian\", \"African American\", \"Hispanic\", and \"Other\".\n",
    "- <b>gender</b>: Nominal values are \"Male\" or \"Female\".\n",
    "- <b>age</b>: Age bracket of the patient, e.g. \"[10-20)\" means that the age is between 10 inclusive and 20 exclusive.\n",
    "- <b>time_in_hospital</b>: Days between hospital admission and discharge.\n",
    "- <b>lab_procedures</b>: How many lab tests performed on patient.\n",
    "- <b>other_procedures</b>: How many procedures (other than lab tests) performed on patient.\n",
    "- <b>medications</b>: How many distinct medications given to patient.\n",
    "- <b>admission_source</b>: Each integer is an ID representing a particular source of admission, e.g.\"physician referral\", \"transfer from hospital\", etc.\n",
    "- <b>outpatient</b>: How many times in the past year has the patient visited the hospital without requiring at an overnight stay.\n",
    "- <b>emergency</b>: How many times in the past year has the patient visited the hospital as an emergency.\n",
    "- <b>inpatient</b>: How many times in the past year has the patient visited the hospital requiring at least an overnight stay.\n",
    "- <b>diagnoses</b>: How many diagnoses made on patient.\n",
    "- <b>readmitted</b>: Whether the patient came back to the hospital later."
   ]
  },
  {
   "cell_type": "markdown",
   "metadata": {},
   "source": [
    "### Important!\n",
    " - Each question is worth 6 marks\n",
    " - Unless otherwise stated, full marks are scored ONLY if your code prints the correct answer, and nothing else (when relevant, also printing indices will be acceptable)\n",
    " - Part marks may be scored if your code still produces output from which you can determine the correct answer\n",
    " - See the examples below"
   ]
  },
  {
   "cell_type": "markdown",
   "metadata": {},
   "source": [
    "## 0. (Example question and sample answers) Create a 2-D array with the values 1 and 2 in the first row, and 3 and 4 in the second row. What is the sum of integers in the second column?\n",
    "[0 marks]"
   ]
  },
  {
   "cell_type": "code",
   "execution_count": 2,
   "metadata": {},
   "outputs": [
    {
     "data": {
      "text/plain": [
       "first_column     4\n",
       "second_column    6\n",
       "dtype: int64"
      ]
     },
     "execution_count": 2,
     "metadata": {},
     "output_type": "execute_result"
    }
   ],
   "source": [
    "# This sample solution would only score 4 marks,\n",
    "# because it does NOT only show sum of integers of second column\n",
    "# (it also shows the sum of integers on the first row)\n",
    "import pandas as pd\n",
    "dictionary = {'first_column':[1,3], 'second_column':[2,4]}\n",
    "dataframe = pd.DataFrame(dictionary)\n",
    "dataframe.sum()"
   ]
  },
  {
   "cell_type": "code",
   "execution_count": 3,
   "metadata": {},
   "outputs": [
    {
     "data": {
      "text/plain": [
       "np.int64(6)"
      ]
     },
     "execution_count": 3,
     "metadata": {},
     "output_type": "execute_result"
    }
   ],
   "source": [
    "# This sample solution would score 6 marks (full marks)\n",
    "dictionary = {'first_column':[1,3], 'second_column':[2,4]}\n",
    "dataframe = pd.DataFrame(dictionary)\n",
    "dataframe['second_column'].sum()"
   ]
  },
  {
   "cell_type": "markdown",
   "metadata": {},
   "source": [
    "## Make sure to run this cell first:"
   ]
  },
  {
   "cell_type": "code",
   "execution_count": 4,
   "metadata": {},
   "outputs": [],
   "source": [
    "# Import libraries\n",
    "import numpy as np\n",
    "import pandas as pd\n",
    "import seaborn as sns\n",
    "import matplotlib.pyplot as plt\n",
    "%matplotlib inline\n",
    "\n",
    "# Read dataset from CSV file.\n",
    "# You may have to change the following line of code slightly, depending on your computer's operating system.\n",
    "df = pd.read_csv('hospital.csv')"
   ]
  },
  {
   "cell_type": "markdown",
   "metadata": {},
   "source": [
    "## 1. Show the first 10 rows of the dataframe.\n",
    "\n",
    "[6 marks]"
   ]
  },
  {
   "cell_type": "code",
   "execution_count": 5,
   "metadata": {},
   "outputs": [
    {
     "data": {
      "text/html": [
       "<div>\n",
       "<style scoped>\n",
       "    .dataframe tbody tr th:only-of-type {\n",
       "        vertical-align: middle;\n",
       "    }\n",
       "\n",
       "    .dataframe tbody tr th {\n",
       "        vertical-align: top;\n",
       "    }\n",
       "\n",
       "    .dataframe thead th {\n",
       "        text-align: right;\n",
       "    }\n",
       "</style>\n",
       "<table border=\"1\" class=\"dataframe\">\n",
       "  <thead>\n",
       "    <tr style=\"text-align: right;\">\n",
       "      <th></th>\n",
       "      <th>patient_id</th>\n",
       "      <th>race</th>\n",
       "      <th>gender</th>\n",
       "      <th>age</th>\n",
       "      <th>time_in_hospital</th>\n",
       "      <th>lab_procedures</th>\n",
       "      <th>other_procedures</th>\n",
       "      <th>medications</th>\n",
       "      <th>admission_source</th>\n",
       "      <th>outpatient</th>\n",
       "      <th>inpatient</th>\n",
       "      <th>emergency</th>\n",
       "      <th>diagnoses</th>\n",
       "      <th>readmitted</th>\n",
       "    </tr>\n",
       "  </thead>\n",
       "  <tbody>\n",
       "    <tr>\n",
       "      <th>0</th>\n",
       "      <td>8222157</td>\n",
       "      <td>Caucasian</td>\n",
       "      <td>Female</td>\n",
       "      <td>[0-10)</td>\n",
       "      <td>1</td>\n",
       "      <td>41</td>\n",
       "      <td>0</td>\n",
       "      <td>1</td>\n",
       "      <td>1</td>\n",
       "      <td>0</td>\n",
       "      <td>0</td>\n",
       "      <td>0</td>\n",
       "      <td>1</td>\n",
       "      <td>NO</td>\n",
       "    </tr>\n",
       "    <tr>\n",
       "      <th>1</th>\n",
       "      <td>55629189</td>\n",
       "      <td>Caucasian</td>\n",
       "      <td>Female</td>\n",
       "      <td>[10-20)</td>\n",
       "      <td>3</td>\n",
       "      <td>59</td>\n",
       "      <td>0</td>\n",
       "      <td>18</td>\n",
       "      <td>7</td>\n",
       "      <td>0</td>\n",
       "      <td>0</td>\n",
       "      <td>0</td>\n",
       "      <td>9</td>\n",
       "      <td>YES</td>\n",
       "    </tr>\n",
       "    <tr>\n",
       "      <th>2</th>\n",
       "      <td>86047875</td>\n",
       "      <td>AfricanAmerican</td>\n",
       "      <td>Female</td>\n",
       "      <td>[20-30)</td>\n",
       "      <td>2</td>\n",
       "      <td>11</td>\n",
       "      <td>5</td>\n",
       "      <td>13</td>\n",
       "      <td>7</td>\n",
       "      <td>2</td>\n",
       "      <td>1</td>\n",
       "      <td>0</td>\n",
       "      <td>6</td>\n",
       "      <td>NO</td>\n",
       "    </tr>\n",
       "    <tr>\n",
       "      <th>3</th>\n",
       "      <td>82442376</td>\n",
       "      <td>Caucasian</td>\n",
       "      <td>Male</td>\n",
       "      <td>[30-40)</td>\n",
       "      <td>2</td>\n",
       "      <td>44</td>\n",
       "      <td>1</td>\n",
       "      <td>16</td>\n",
       "      <td>7</td>\n",
       "      <td>0</td>\n",
       "      <td>0</td>\n",
       "      <td>0</td>\n",
       "      <td>7</td>\n",
       "      <td>NO</td>\n",
       "    </tr>\n",
       "    <tr>\n",
       "      <th>4</th>\n",
       "      <td>42519267</td>\n",
       "      <td>Caucasian</td>\n",
       "      <td>Male</td>\n",
       "      <td>[40-50)</td>\n",
       "      <td>1</td>\n",
       "      <td>51</td>\n",
       "      <td>0</td>\n",
       "      <td>8</td>\n",
       "      <td>7</td>\n",
       "      <td>0</td>\n",
       "      <td>0</td>\n",
       "      <td>0</td>\n",
       "      <td>5</td>\n",
       "      <td>NO</td>\n",
       "    </tr>\n",
       "    <tr>\n",
       "      <th>5</th>\n",
       "      <td>82637451</td>\n",
       "      <td>Caucasian</td>\n",
       "      <td>Male</td>\n",
       "      <td>[50-60)</td>\n",
       "      <td>3</td>\n",
       "      <td>31</td>\n",
       "      <td>6</td>\n",
       "      <td>16</td>\n",
       "      <td>2</td>\n",
       "      <td>0</td>\n",
       "      <td>0</td>\n",
       "      <td>0</td>\n",
       "      <td>9</td>\n",
       "      <td>YES</td>\n",
       "    </tr>\n",
       "    <tr>\n",
       "      <th>6</th>\n",
       "      <td>84259809</td>\n",
       "      <td>Caucasian</td>\n",
       "      <td>Male</td>\n",
       "      <td>[60-70)</td>\n",
       "      <td>4</td>\n",
       "      <td>70</td>\n",
       "      <td>1</td>\n",
       "      <td>21</td>\n",
       "      <td>2</td>\n",
       "      <td>0</td>\n",
       "      <td>0</td>\n",
       "      <td>0</td>\n",
       "      <td>7</td>\n",
       "      <td>NO</td>\n",
       "    </tr>\n",
       "    <tr>\n",
       "      <th>7</th>\n",
       "      <td>114882984</td>\n",
       "      <td>Caucasian</td>\n",
       "      <td>Male</td>\n",
       "      <td>[70-80)</td>\n",
       "      <td>5</td>\n",
       "      <td>73</td>\n",
       "      <td>0</td>\n",
       "      <td>12</td>\n",
       "      <td>7</td>\n",
       "      <td>0</td>\n",
       "      <td>0</td>\n",
       "      <td>0</td>\n",
       "      <td>8</td>\n",
       "      <td>YES</td>\n",
       "    </tr>\n",
       "    <tr>\n",
       "      <th>8</th>\n",
       "      <td>48330783</td>\n",
       "      <td>Caucasian</td>\n",
       "      <td>Female</td>\n",
       "      <td>[80-90)</td>\n",
       "      <td>13</td>\n",
       "      <td>68</td>\n",
       "      <td>2</td>\n",
       "      <td>28</td>\n",
       "      <td>4</td>\n",
       "      <td>0</td>\n",
       "      <td>0</td>\n",
       "      <td>0</td>\n",
       "      <td>8</td>\n",
       "      <td>NO</td>\n",
       "    </tr>\n",
       "    <tr>\n",
       "      <th>9</th>\n",
       "      <td>63555939</td>\n",
       "      <td>Caucasian</td>\n",
       "      <td>Female</td>\n",
       "      <td>[90-100)</td>\n",
       "      <td>12</td>\n",
       "      <td>33</td>\n",
       "      <td>3</td>\n",
       "      <td>18</td>\n",
       "      <td>4</td>\n",
       "      <td>0</td>\n",
       "      <td>0</td>\n",
       "      <td>0</td>\n",
       "      <td>8</td>\n",
       "      <td>NO</td>\n",
       "    </tr>\n",
       "  </tbody>\n",
       "</table>\n",
       "</div>"
      ],
      "text/plain": [
       "   patient_id             race  gender       age  time_in_hospital  \\\n",
       "0     8222157        Caucasian  Female    [0-10)                 1   \n",
       "1    55629189        Caucasian  Female   [10-20)                 3   \n",
       "2    86047875  AfricanAmerican  Female   [20-30)                 2   \n",
       "3    82442376        Caucasian    Male   [30-40)                 2   \n",
       "4    42519267        Caucasian    Male   [40-50)                 1   \n",
       "5    82637451        Caucasian    Male   [50-60)                 3   \n",
       "6    84259809        Caucasian    Male   [60-70)                 4   \n",
       "7   114882984        Caucasian    Male   [70-80)                 5   \n",
       "8    48330783        Caucasian  Female   [80-90)                13   \n",
       "9    63555939        Caucasian  Female  [90-100)                12   \n",
       "\n",
       "   lab_procedures  other_procedures  medications  admission_source  \\\n",
       "0              41                 0            1                 1   \n",
       "1              59                 0           18                 7   \n",
       "2              11                 5           13                 7   \n",
       "3              44                 1           16                 7   \n",
       "4              51                 0            8                 7   \n",
       "5              31                 6           16                 2   \n",
       "6              70                 1           21                 2   \n",
       "7              73                 0           12                 7   \n",
       "8              68                 2           28                 4   \n",
       "9              33                 3           18                 4   \n",
       "\n",
       "   outpatient  inpatient  emergency  diagnoses readmitted  \n",
       "0           0          0          0          1         NO  \n",
       "1           0          0          0          9        YES  \n",
       "2           2          1          0          6         NO  \n",
       "3           0          0          0          7         NO  \n",
       "4           0          0          0          5         NO  \n",
       "5           0          0          0          9        YES  \n",
       "6           0          0          0          7         NO  \n",
       "7           0          0          0          8        YES  \n",
       "8           0          0          0          8         NO  \n",
       "9           0          0          0          8         NO  "
      ]
     },
     "execution_count": 5,
     "metadata": {},
     "output_type": "execute_result"
    }
   ],
   "source": [
    "df.head(10)"
   ]
  },
  {
   "cell_type": "markdown",
   "metadata": {},
   "source": [
    "## 2. How many columns are in the dataset?\n",
    "\n",
    "Friendly reminder: To score full marks, you should only print the number of columns, and NOT also print number of rows.\n",
    "\n",
    "This friendly reminder will not be given in future questions.\n",
    "\n",
    "[6 marks]"
   ]
  },
  {
   "cell_type": "code",
   "execution_count": 6,
   "metadata": {},
   "outputs": [
    {
     "data": {
      "text/plain": [
       "14"
      ]
     },
     "execution_count": 6,
     "metadata": {},
     "output_type": "execute_result"
    }
   ],
   "source": [
    "df.shape[1]"
   ]
  },
  {
   "cell_type": "markdown",
   "metadata": {},
   "source": [
    "## 3. How many missing values are there for the variable 'race'?\n",
    "\n",
    "Note: Do not actually remove any missing values yet, until told to do so.\n",
    "\n",
    "[6 marks]"
   ]
  },
  {
   "cell_type": "code",
   "execution_count": 7,
   "metadata": {},
   "outputs": [
    {
     "name": "stdout",
     "output_type": "stream",
     "text": [
      "2271\n"
     ]
    }
   ],
   "source": [
    "print(df[\"race\"].isna().sum())"
   ]
  },
  {
   "cell_type": "markdown",
   "metadata": {},
   "source": [
    "## 4. How many patients had greater than 10 but less than or equal to 20 medications?\n",
    "\n",
    "[6 marks]"
   ]
  },
  {
   "cell_type": "code",
   "execution_count": 8,
   "metadata": {},
   "outputs": [
    {
     "name": "stdout",
     "output_type": "stream",
     "text": [
      "52025\n"
     ]
    }
   ],
   "source": [
    "print(df[(df.medications > 10) & (df.medications <= 20)][\"patient_id\"].count())"
   ]
  },
  {
   "cell_type": "markdown",
   "metadata": {},
   "source": [
    "## 5. What is the standard deviation of number of emergencies of those aged between 50 inclusive and 60 exclusive (rounded to 3 decimal places)?\n",
    "\n",
    "For this question, it is OK to NOT only show the final answer.\n",
    "\n",
    "Write your answer as a comment at the bottom of your cell.\n",
    "\n",
    "[6 marks]"
   ]
  },
  {
   "cell_type": "code",
   "execution_count": 9,
   "metadata": {},
   "outputs": [
    {
     "name": "stdout",
     "output_type": "stream",
     "text": [
      "0.866\n"
     ]
    }
   ],
   "source": [
    "print(round(df[df.age == \"[50-60)\"][\"emergency\"].std(), 3))\n",
    "\n",
    "# Write a comment below with your final answer:\n",
    "### 0.866"
   ]
  },
  {
   "cell_type": "markdown",
   "metadata": {},
   "source": [
    "## 6. How many patients had 7 diagnoses?\n",
    "\n",
    "[6 marks]"
   ]
  },
  {
   "cell_type": "code",
   "execution_count": 10,
   "metadata": {},
   "outputs": [
    {
     "name": "stdout",
     "output_type": "stream",
     "text": [
      "10393\n"
     ]
    }
   ],
   "source": [
    "print(df[df.diagnoses == 7][\"patient_id\"].count())"
   ]
  },
  {
   "cell_type": "markdown",
   "metadata": {},
   "source": [
    "## 7. What is the total number of medications for the age group 60 (inclusive) to 70 (exclusive)?\n",
    "\n",
    "For this question, it is OK to NOT only show the final answer.\n",
    "\n",
    "Write your answer as a comment at the bottom of your cell.\n",
    "\n",
    "[6 marks]"
   ]
  },
  {
   "cell_type": "code",
   "execution_count": 11,
   "metadata": {},
   "outputs": [
    {
     "name": "stdout",
     "output_type": "stream",
     "text": [
      "385587\n"
     ]
    }
   ],
   "source": [
    "# Write your code here:\n",
    "print(df[df.age == \"[60-70)\"][\"medications\"].sum())\n",
    "\n",
    "# Write a comment below with your final answer:\n",
    "### 385587"
   ]
  },
  {
   "cell_type": "markdown",
   "metadata": {},
   "source": [
    "## 8. What is the patient_id of the person of Caucasian race who had the highest number of lab procedures?\n",
    "\n",
    "[6 marks]"
   ]
  },
  {
   "cell_type": "code",
   "execution_count": 12,
   "metadata": {},
   "outputs": [
    {
     "name": "stdout",
     "output_type": "stream",
     "text": [
      "95206707\n"
     ]
    }
   ],
   "source": [
    "print(df[df.race == \"Caucasian\"].sort_values(\"lab_procedures\", ascending = False).iloc[0][\"patient_id\"])"
   ]
  },
  {
   "cell_type": "markdown",
   "metadata": {},
   "source": [
    "## 9. Generate a heatmap to determine which two different variables have the highest correlation?\n",
    "\n",
    "For this question, it is OK to NOT only show the final answer.\n",
    "\n",
    "Write your answer (write only the names of TWO differnet variables) as a comment at the bottom of your cell.\n",
    "\n",
    "[6 marks]"
   ]
  },
  {
   "cell_type": "code",
   "execution_count": 14,
   "metadata": {},
   "outputs": [
    {
     "data": {
      "text/plain": [
       "<Axes: >"
      ]
     },
     "execution_count": 14,
     "metadata": {},
     "output_type": "execute_result"
    },
    {
     "data": {
      "image/png": "[encoded data removed]",
      "text/plain": [
       "<Figure size 640x480 with 2 Axes>"
      ]
     },
     "metadata": {},
     "output_type": "display_data"
    }
   ],
   "source": [
    "import seaborn as sns\n",
    "%matplotlib inline\n",
    "\n",
    "sns.heatmap(df.corr(numeric_only = True), annot = True)\n",
    "\n",
    "# Write a comment below with your final answer:\n",
    "### time_in_hospital, medications"
   ]
  },
  {
   "cell_type": "markdown",
   "metadata": {},
   "source": [
    "## 10. Divide up the patients into 4 categories based on the value of the variable 'medications':\n",
    "\n",
    "- 'low', with a value of 'medications' less than or equal to 10\n",
    "- 'medium', with a value of 'medications' between 10 exclusive and 20 inclusive\n",
    "- 'high', with a value of 'medications' between 20 exclusive and 30 inclusive\n",
    "- 'very high', with a value of 'medications' above 30\n",
    "\n",
    "## What is the average of the median of 'time_in_hospital' among these four new categories? (round to 2 decimal places)\n",
    "[12 marks]"
   ]
  },
  {
   "cell_type": "code",
   "execution_count": 15,
   "metadata": {},
   "outputs": [
    {
     "name": "stdout",
     "output_type": "stream",
     "text": [
      "4.75\n"
     ]
    },
    {
     "name": "stderr",
     "output_type": "stream",
     "text": [
      "C:\\Users\\sbgka\\AppData\\Local\\Temp\\ipykernel_1200\\3401882037.py:3: FutureWarning: The default of observed=False is deprecated and will be changed to True in a future version of pandas. Pass observed=False to retain current behavior or observed=True to adopt the future default and silence this warning.\n",
      "  print(df.groupby(\"medication_amt\")[\"time_in_hospital\"].median().mean())\n"
     ]
    }
   ],
   "source": [
    "highest = df[\"medications\"].max()\n",
    "df[\"medication_amt\"] = pd.cut(df[\"medications\"], bins = [0, 10, 20, 30, highest], labels = [\"low\", \"medium\", \"high\", \"very high\"])\n",
    "print(df.groupby(\"medication_amt\")[\"time_in_hospital\"].median().mean())"
   ]
  },
  {
   "cell_type": "markdown",
   "metadata": {},
   "source": [
    "Question: average of median of \"time_in_hospital\" means take the time_in_hospital medians separately then count mean? or am i interpreting wrongly"
   ]
  },
  {
   "cell_type": "markdown",
   "metadata": {},
   "source": [
    "## 11. Suppose we eliminate the smallest 25% and largest 25% of values in the variable 'lab_procedures'. What is the range of the values that remain (i.e. difference between smallest and largest remaining values)?\n",
    "\n",
    "For this question, it is OK to NOT only show the final answer.\n",
    "\n",
    "Write your answer as a comment at the bottom of your cell.\n",
    "\n",
    "[6 marks]"
   ]
  },
  {
   "cell_type": "code",
   "execution_count": 16,
   "metadata": {},
   "outputs": [
    {
     "name": "stdout",
     "output_type": "stream",
     "text": [
      "26.0\n"
     ]
    }
   ],
   "source": [
    "smallest25 = df[\"lab_procedures\"].describe()[\"25%\"]\n",
    "largest25 = df[\"lab_procedures\"].describe()[\"75%\"]\n",
    "print(largest25 - smallest25)\n",
    "\n",
    "# Write a comment below with your final answer:\n",
    "### 26"
   ]
  },
  {
   "cell_type": "markdown",
   "metadata": {},
   "source": [
    "## 12. Create a pivot table that shows average values of medications, with variable 'race' shown as rows and 'age' as columns. Include margin data.\n",
    "\n",
    "## What is the average number of medications for Hispanics aged 30 inclusive to 40 exclusive? Give your answer showing all available decimal places.\n",
    "\n",
    "For this question, it is OK to NOT only show the final answer (i.e. you can show the entire pivot table).\n",
    "\n",
    "Write your answer as a comment at the bottom of your cell.\n",
    "\n",
    "[6 marks]"
   ]
  },
  {
   "cell_type": "code",
   "execution_count": 17,
   "metadata": {},
   "outputs": [
    {
     "data": {
      "text/html": [
       "<div>\n",
       "<style scoped>\n",
       "    .dataframe tbody tr th:only-of-type {\n",
       "        vertical-align: middle;\n",
       "    }\n",
       "\n",
       "    .dataframe tbody tr th {\n",
       "        vertical-align: top;\n",
       "    }\n",
       "\n",
       "    .dataframe thead th {\n",
       "        text-align: right;\n",
       "    }\n",
       "</style>\n",
       "<table border=\"1\" class=\"dataframe\">\n",
       "  <thead>\n",
       "    <tr style=\"text-align: right;\">\n",
       "      <th>age</th>\n",
       "      <th>[0-10)</th>\n",
       "      <th>[10-20)</th>\n",
       "      <th>[20-30)</th>\n",
       "      <th>[30-40)</th>\n",
       "      <th>[40-50)</th>\n",
       "      <th>[50-60)</th>\n",
       "      <th>[60-70)</th>\n",
       "      <th>[70-80)</th>\n",
       "      <th>[80-90)</th>\n",
       "      <th>[90-100)</th>\n",
       "      <th>All</th>\n",
       "    </tr>\n",
       "    <tr>\n",
       "      <th>race</th>\n",
       "      <th></th>\n",
       "      <th></th>\n",
       "      <th></th>\n",
       "      <th></th>\n",
       "      <th></th>\n",
       "      <th></th>\n",
       "      <th></th>\n",
       "      <th></th>\n",
       "      <th></th>\n",
       "      <th></th>\n",
       "      <th></th>\n",
       "    </tr>\n",
       "  </thead>\n",
       "  <tbody>\n",
       "    <tr>\n",
       "      <th>AfricanAmerican</th>\n",
       "      <td>6.375000</td>\n",
       "      <td>7.645933</td>\n",
       "      <td>12.207407</td>\n",
       "      <td>14.036795</td>\n",
       "      <td>15.264801</td>\n",
       "      <td>16.094911</td>\n",
       "      <td>16.328922</td>\n",
       "      <td>15.496855</td>\n",
       "      <td>14.641167</td>\n",
       "      <td>12.727536</td>\n",
       "      <td>15.368922</td>\n",
       "    </tr>\n",
       "    <tr>\n",
       "      <th>Asian</th>\n",
       "      <td>8.000000</td>\n",
       "      <td>5.000000</td>\n",
       "      <td>10.333333</td>\n",
       "      <td>10.600000</td>\n",
       "      <td>11.807692</td>\n",
       "      <td>13.845528</td>\n",
       "      <td>13.906250</td>\n",
       "      <td>13.488889</td>\n",
       "      <td>12.822222</td>\n",
       "      <td>13.545455</td>\n",
       "      <td>13.291732</td>\n",
       "    </tr>\n",
       "    <tr>\n",
       "      <th>Caucasian</th>\n",
       "      <td>6.169118</td>\n",
       "      <td>8.598174</td>\n",
       "      <td>11.951795</td>\n",
       "      <td>14.379029</td>\n",
       "      <td>15.612298</td>\n",
       "      <td>16.939248</td>\n",
       "      <td>17.502905</td>\n",
       "      <td>16.627041</td>\n",
       "      <td>15.438639</td>\n",
       "      <td>13.932473</td>\n",
       "      <td>16.285733</td>\n",
       "    </tr>\n",
       "    <tr>\n",
       "      <th>Hispanic</th>\n",
       "      <td>4.000000</td>\n",
       "      <td>8.913043</td>\n",
       "      <td>11.380952</td>\n",
       "      <td>13.017241</td>\n",
       "      <td>14.032641</td>\n",
       "      <td>13.622829</td>\n",
       "      <td>14.509202</td>\n",
       "      <td>14.971503</td>\n",
       "      <td>14.503546</td>\n",
       "      <td>13.000000</td>\n",
       "      <td>14.030437</td>\n",
       "    </tr>\n",
       "    <tr>\n",
       "      <th>Other</th>\n",
       "      <td>6.500000</td>\n",
       "      <td>7.100000</td>\n",
       "      <td>11.518519</td>\n",
       "      <td>12.154762</td>\n",
       "      <td>14.575949</td>\n",
       "      <td>15.258900</td>\n",
       "      <td>16.036232</td>\n",
       "      <td>15.956923</td>\n",
       "      <td>14.966667</td>\n",
       "      <td>13.791667</td>\n",
       "      <td>15.181395</td>\n",
       "    </tr>\n",
       "    <tr>\n",
       "      <th>All</th>\n",
       "      <td>6.193750</td>\n",
       "      <td>8.284457</td>\n",
       "      <td>12.001862</td>\n",
       "      <td>14.135983</td>\n",
       "      <td>15.415531</td>\n",
       "      <td>16.595738</td>\n",
       "      <td>17.156585</td>\n",
       "      <td>16.401877</td>\n",
       "      <td>15.326310</td>\n",
       "      <td>13.770558</td>\n",
       "      <td>16.026545</td>\n",
       "    </tr>\n",
       "  </tbody>\n",
       "</table>\n",
       "</div>"
      ],
      "text/plain": [
       "age                [0-10)   [10-20)    [20-30)    [30-40)    [40-50)  \\\n",
       "race                                                                   \n",
       "AfricanAmerican  6.375000  7.645933  12.207407  14.036795  15.264801   \n",
       "Asian            8.000000  5.000000  10.333333  10.600000  11.807692   \n",
       "Caucasian        6.169118  8.598174  11.951795  14.379029  15.612298   \n",
       "Hispanic         4.000000  8.913043  11.380952  13.017241  14.032641   \n",
       "Other            6.500000  7.100000  11.518519  12.154762  14.575949   \n",
       "All              6.193750  8.284457  12.001862  14.135983  15.415531   \n",
       "\n",
       "age                [50-60)    [60-70)    [70-80)    [80-90)   [90-100)  \\\n",
       "race                                                                     \n",
       "AfricanAmerican  16.094911  16.328922  15.496855  14.641167  12.727536   \n",
       "Asian            13.845528  13.906250  13.488889  12.822222  13.545455   \n",
       "Caucasian        16.939248  17.502905  16.627041  15.438639  13.932473   \n",
       "Hispanic         13.622829  14.509202  14.971503  14.503546  13.000000   \n",
       "Other            15.258900  16.036232  15.956923  14.966667  13.791667   \n",
       "All              16.595738  17.156585  16.401877  15.326310  13.770558   \n",
       "\n",
       "age                    All  \n",
       "race                        \n",
       "AfricanAmerican  15.368922  \n",
       "Asian            13.291732  \n",
       "Caucasian        16.285733  \n",
       "Hispanic         14.030437  \n",
       "Other            15.181395  \n",
       "All              16.026545  "
      ]
     },
     "execution_count": 17,
     "metadata": {},
     "output_type": "execute_result"
    }
   ],
   "source": [
    "df.pivot_table(\"medications\", index = \"race\", columns = \"age\", margins = True)\n",
    "\n",
    "# Write a comment below with your final answer:\n",
    "### 13.017241"
   ]
  },
  {
   "cell_type": "markdown",
   "metadata": {},
   "source": [
    "## 13. Create a pivot table that shows standard deviation of 'lab_procedures', with variable 'race' shown as rows, and two variables 'gender' and 'readmitted' shown as columns. Do NOT margin data.\n",
    "\n",
    "## What is the standard deviation of lab_procedures for female Caucasians who were readmitted? Give your answer showing all available decimal places.\n",
    "\n",
    "For this question, it is OK to NOT only show the final answer (i.e. you can show the entire pivot table).\n",
    "\n",
    "Write your answer as a comment at the bottom of your cell.\n",
    "\n",
    "[6 marks]"
   ]
  },
  {
   "cell_type": "code",
   "execution_count": 18,
   "metadata": {},
   "outputs": [
    {
     "data": {
      "text/html": [
       "<div>\n",
       "<style scoped>\n",
       "    .dataframe tbody tr th:only-of-type {\n",
       "        vertical-align: middle;\n",
       "    }\n",
       "\n",
       "    .dataframe tbody tr th {\n",
       "        vertical-align: top;\n",
       "    }\n",
       "\n",
       "    .dataframe thead tr th {\n",
       "        text-align: left;\n",
       "    }\n",
       "\n",
       "    .dataframe thead tr:last-of-type th {\n",
       "        text-align: right;\n",
       "    }\n",
       "</style>\n",
       "<table border=\"1\" class=\"dataframe\">\n",
       "  <thead>\n",
       "    <tr>\n",
       "      <th>gender</th>\n",
       "      <th colspan=\"2\" halign=\"left\">Female</th>\n",
       "      <th colspan=\"2\" halign=\"left\">Male</th>\n",
       "    </tr>\n",
       "    <tr>\n",
       "      <th>readmitted</th>\n",
       "      <th>NO</th>\n",
       "      <th>YES</th>\n",
       "      <th>NO</th>\n",
       "      <th>YES</th>\n",
       "    </tr>\n",
       "    <tr>\n",
       "      <th>race</th>\n",
       "      <th></th>\n",
       "      <th></th>\n",
       "      <th></th>\n",
       "      <th></th>\n",
       "    </tr>\n",
       "  </thead>\n",
       "  <tbody>\n",
       "    <tr>\n",
       "      <th>AfricanAmerican</th>\n",
       "      <td>17.969967</td>\n",
       "      <td>17.611859</td>\n",
       "      <td>17.970187</td>\n",
       "      <td>17.951799</td>\n",
       "    </tr>\n",
       "    <tr>\n",
       "      <th>Asian</th>\n",
       "      <td>21.332209</td>\n",
       "      <td>20.254801</td>\n",
       "      <td>21.925151</td>\n",
       "      <td>18.898278</td>\n",
       "    </tr>\n",
       "    <tr>\n",
       "      <th>Caucasian</th>\n",
       "      <td>20.378205</td>\n",
       "      <td>20.005049</td>\n",
       "      <td>19.995317</td>\n",
       "      <td>19.721956</td>\n",
       "    </tr>\n",
       "    <tr>\n",
       "      <th>Hispanic</th>\n",
       "      <td>20.653217</td>\n",
       "      <td>20.031994</td>\n",
       "      <td>20.263637</td>\n",
       "      <td>20.025622</td>\n",
       "    </tr>\n",
       "    <tr>\n",
       "      <th>Other</th>\n",
       "      <td>21.717803</td>\n",
       "      <td>20.788930</td>\n",
       "      <td>20.835051</td>\n",
       "      <td>21.829595</td>\n",
       "    </tr>\n",
       "  </tbody>\n",
       "</table>\n",
       "</div>"
      ],
      "text/plain": [
       "gender              Female                  Male           \n",
       "readmitted              NO        YES         NO        YES\n",
       "race                                                       \n",
       "AfricanAmerican  17.969967  17.611859  17.970187  17.951799\n",
       "Asian            21.332209  20.254801  21.925151  18.898278\n",
       "Caucasian        20.378205  20.005049  19.995317  19.721956\n",
       "Hispanic         20.653217  20.031994  20.263637  20.025622\n",
       "Other            21.717803  20.788930  20.835051  21.829595"
      ]
     },
     "execution_count": 18,
     "metadata": {},
     "output_type": "execute_result"
    }
   ],
   "source": [
    "df.pivot_table(\"lab_procedures\", index = \"race\", columns = [\"gender\", \"readmitted\"], aggfunc = \"std\")\n",
    "\n",
    "# Write a comment below with your final answer:\n",
    "### 20.005049"
   ]
  },
  {
   "cell_type": "markdown",
   "metadata": {},
   "source": [
    "## 14. Write code that creates a new CSV file called 'output.csv' in the same folder where this .ipynb file is saved.\n",
    "\n",
    "## This new CSV file should only contain rows 50,000 to 60,000 inclusive (where row 0 is the first row), and only variables 'patient_id', 'lab_procedures' and 'readmitted' (and no other columns, including indexes).\n",
    "\n",
    "## df should remain unchanged.\n",
    "\n",
    "[6 marks]"
   ]
  },
  {
   "cell_type": "code",
   "execution_count": 19,
   "metadata": {},
   "outputs": [],
   "source": [
    "import csv\n",
    "\n",
    "new_df = df.iloc[50000:60001][[\"patient_id\", \"lab_procedures\", \"readmitted\"]]\n",
    "new_df.to_csv(\"output2.csv\", index = False) # put as output2 because storing tgt"
   ]
  },
  {
   "cell_type": "markdown",
   "metadata": {},
   "source": [
    "## 15. Show a diagram that displays the distribution of values of the variable 'lab_procedures'.\n",
    "\n",
    "[6 marks]"
   ]
  },
  {
   "cell_type": "code",
   "execution_count": 22,
   "metadata": {},
   "outputs": [
    {
     "data": {
      "text/plain": [
       "<Axes: xlabel='lab_procedures', ylabel='Count'>"
      ]
     },
     "execution_count": 22,
     "metadata": {},
     "output_type": "execute_result"
    },
    {
     "data": {
      "image/png": "[encoded data removed]",
      "text/plain": [
       "<Figure size 640x480 with 1 Axes>"
      ]
     },
     "metadata": {},
     "output_type": "display_data"
    }
   ],
   "source": [
    "# sns.countplot(df[\"lab_procedures\"].dropna())\n",
    "\n",
    "sns.histplot(df[\"lab_procedures\"].dropna())"
   ]
  },
  {
   "cell_type": "markdown",
   "metadata": {},
   "source": [
    "## 16. Show the distribution of the variable 'patient_id', using the default values of the function that generates the histogram.\n",
    "\n",
    "## After showing the diagram, use the diagram only (without writing any more code) to determine what is the value of 'patient_id' where the highest peaks occurs at.\n",
    "\n",
    "## In a comment, write your answer as an integer, rounded to the nearest 10,000,000 (i.e. the last 7 digits of your answer should be zeros). \n",
    "\n",
    "[6 marks]"
   ]
  },
  {
   "cell_type": "code",
   "execution_count": null,
   "metadata": {},
   "outputs": [
    {
     "data": {
      "text/plain": [
       "<Axes: xlabel='patient_id', ylabel='Count'>"
      ]
     },
     "execution_count": 25,
     "metadata": {},
     "output_type": "execute_result"
    },
    {
     "data": {
      "image/png": "[encoded data removed]",
      "text/plain": [
       "<Figure size 640x480 with 1 Axes>"
      ]
     },
     "metadata": {},
     "output_type": "display_data"
    }
   ],
   "source": [
    "sns.histplot(df[\"patient_id\"].dropna())\n",
    "\n",
    "# Write a comment below with your final answer:\n",
    "### 30000000"
   ]
  },
  {
   "cell_type": "markdown",
   "metadata": {},
   "source": [
    "Question: can explain this question? i am stuck with the understanding"
   ]
  },
  {
   "cell_type": "markdown",
   "metadata": {},
   "source": [
    "## <font color=\"red\">IMPORTANT:</font> All questions above this point involved dataframe 'df'. The questions below may ask you to create or use other dataframes, or to make modifications to the original dataframe 'df'.\n",
    "\n",
    "## Despite the workings of the previous questions, your dataset should still contain all the patients from the original dataset.\n",
    "\n",
    "## To be safe, in case you have removed some patients, execute the following code to reload the dataset from the file. \n",
    "\n",
    "## However, note that this action will also undo any changes made previously, such as adding new columns."
   ]
  },
  {
   "cell_type": "code",
   "execution_count": 85,
   "metadata": {},
   "outputs": [
    {
     "name": "stdout",
     "output_type": "stream",
     "text": [
      "(101763, 14)\n"
     ]
    },
    {
     "data": {
      "text/html": [
       "<div>\n",
       "<style scoped>\n",
       "    .dataframe tbody tr th:only-of-type {\n",
       "        vertical-align: middle;\n",
       "    }\n",
       "\n",
       "    .dataframe tbody tr th {\n",
       "        vertical-align: top;\n",
       "    }\n",
       "\n",
       "    .dataframe thead th {\n",
       "        text-align: right;\n",
       "    }\n",
       "</style>\n",
       "<table border=\"1\" class=\"dataframe\">\n",
       "  <thead>\n",
       "    <tr style=\"text-align: right;\">\n",
       "      <th></th>\n",
       "      <th>patient_id</th>\n",
       "      <th>race</th>\n",
       "      <th>gender</th>\n",
       "      <th>age</th>\n",
       "      <th>time_in_hospital</th>\n",
       "      <th>lab_procedures</th>\n",
       "      <th>other_procedures</th>\n",
       "      <th>medications</th>\n",
       "      <th>admission_source</th>\n",
       "      <th>outpatient</th>\n",
       "      <th>inpatient</th>\n",
       "      <th>emergency</th>\n",
       "      <th>diagnoses</th>\n",
       "      <th>readmitted</th>\n",
       "    </tr>\n",
       "  </thead>\n",
       "  <tbody>\n",
       "    <tr>\n",
       "      <th>0</th>\n",
       "      <td>8222157</td>\n",
       "      <td>Caucasian</td>\n",
       "      <td>Female</td>\n",
       "      <td>[0-10)</td>\n",
       "      <td>1</td>\n",
       "      <td>41</td>\n",
       "      <td>0</td>\n",
       "      <td>1</td>\n",
       "      <td>1</td>\n",
       "      <td>0</td>\n",
       "      <td>0</td>\n",
       "      <td>0</td>\n",
       "      <td>1</td>\n",
       "      <td>NO</td>\n",
       "    </tr>\n",
       "    <tr>\n",
       "      <th>1</th>\n",
       "      <td>55629189</td>\n",
       "      <td>Caucasian</td>\n",
       "      <td>Female</td>\n",
       "      <td>[10-20)</td>\n",
       "      <td>3</td>\n",
       "      <td>59</td>\n",
       "      <td>0</td>\n",
       "      <td>18</td>\n",
       "      <td>7</td>\n",
       "      <td>0</td>\n",
       "      <td>0</td>\n",
       "      <td>0</td>\n",
       "      <td>9</td>\n",
       "      <td>YES</td>\n",
       "    </tr>\n",
       "    <tr>\n",
       "      <th>2</th>\n",
       "      <td>86047875</td>\n",
       "      <td>AfricanAmerican</td>\n",
       "      <td>Female</td>\n",
       "      <td>[20-30)</td>\n",
       "      <td>2</td>\n",
       "      <td>11</td>\n",
       "      <td>5</td>\n",
       "      <td>13</td>\n",
       "      <td>7</td>\n",
       "      <td>2</td>\n",
       "      <td>1</td>\n",
       "      <td>0</td>\n",
       "      <td>6</td>\n",
       "      <td>NO</td>\n",
       "    </tr>\n",
       "    <tr>\n",
       "      <th>3</th>\n",
       "      <td>82442376</td>\n",
       "      <td>Caucasian</td>\n",
       "      <td>Male</td>\n",
       "      <td>[30-40)</td>\n",
       "      <td>2</td>\n",
       "      <td>44</td>\n",
       "      <td>1</td>\n",
       "      <td>16</td>\n",
       "      <td>7</td>\n",
       "      <td>0</td>\n",
       "      <td>0</td>\n",
       "      <td>0</td>\n",
       "      <td>7</td>\n",
       "      <td>NO</td>\n",
       "    </tr>\n",
       "    <tr>\n",
       "      <th>4</th>\n",
       "      <td>42519267</td>\n",
       "      <td>Caucasian</td>\n",
       "      <td>Male</td>\n",
       "      <td>[40-50)</td>\n",
       "      <td>1</td>\n",
       "      <td>51</td>\n",
       "      <td>0</td>\n",
       "      <td>8</td>\n",
       "      <td>7</td>\n",
       "      <td>0</td>\n",
       "      <td>0</td>\n",
       "      <td>0</td>\n",
       "      <td>5</td>\n",
       "      <td>NO</td>\n",
       "    </tr>\n",
       "  </tbody>\n",
       "</table>\n",
       "</div>"
      ],
      "text/plain": [
       "   patient_id             race  gender      age  time_in_hospital  \\\n",
       "0     8222157        Caucasian  Female   [0-10)                 1   \n",
       "1    55629189        Caucasian  Female  [10-20)                 3   \n",
       "2    86047875  AfricanAmerican  Female  [20-30)                 2   \n",
       "3    82442376        Caucasian    Male  [30-40)                 2   \n",
       "4    42519267        Caucasian    Male  [40-50)                 1   \n",
       "\n",
       "   lab_procedures  other_procedures  medications  admission_source  \\\n",
       "0              41                 0            1                 1   \n",
       "1              59                 0           18                 7   \n",
       "2              11                 5           13                 7   \n",
       "3              44                 1           16                 7   \n",
       "4              51                 0            8                 7   \n",
       "\n",
       "   outpatient  inpatient  emergency  diagnoses readmitted  \n",
       "0           0          0          0          1         NO  \n",
       "1           0          0          0          9        YES  \n",
       "2           2          1          0          6         NO  \n",
       "3           0          0          0          7         NO  \n",
       "4           0          0          0          5         NO  "
      ]
     },
     "execution_count": 85,
     "metadata": {},
     "output_type": "execute_result"
    }
   ],
   "source": [
    "# Read dataset from CSV file.\n",
    "# You may have to change the following line of code slightly, depending on your computer's operating system.\n",
    "df = pd.read_csv('hospital.csv')\n",
    "\n",
    "# Show dimensions (number of rows and columns) of dataset.\n",
    "# There should be 101763 rows and 14 columns.\n",
    "print(df.shape)\n",
    "\n",
    "# Show first 5 rows of dataset\n",
    "df.head()"
   ]
  },
  {
   "cell_type": "markdown",
   "metadata": {},
   "source": [
    "## 17. Create a new dataframe 'df2' which only contains the following variables from dataframe 'df' (which should remain unchanged):\n",
    "\n",
    "## 'time_in_hospital', 'lab_procedures', 'other_procedures', 'medications', 'admission_source', 'outpatient', 'inpatient', 'emergency', 'diagnoses'\n",
    "\n",
    "## This new dataframe 'df2' should have 101763 rows and 9 columns. Verify this.\n",
    "\n",
    "## Using dataframe 'df2', and WITHOUT using a heatmap, what is the correlation value of the two most correlated (and different) independent variables? (round to 3 decimal places)\n",
    "\n",
    "For this question, it is OK to NOT only show the final answer.\n",
    "\n",
    "Write your answer as a comment at the bottom of your cell.\n",
    "\n",
    "[6 marks]"
   ]
  },
  {
   "cell_type": "code",
   "execution_count": 86,
   "metadata": {},
   "outputs": [
    {
     "data": {
      "text/plain": [
       "(101763, 9)"
      ]
     },
     "execution_count": 86,
     "metadata": {},
     "output_type": "execute_result"
    }
   ],
   "source": [
    "# Write your code here, and verify that 'df2' has 101763 rows and 9 columns:\n",
    "df2 = df[[\"time_in_hospital\", \"lab_procedures\", \"other_procedures\", \"medications\", \"admission_source\", \"outpatient\", \"inpatient\", \"emergency\", \"diagnoses\"]]\n",
    "df2.shape"
   ]
  },
  {
   "cell_type": "code",
   "execution_count": 87,
   "metadata": {},
   "outputs": [
    {
     "data": {
      "text/html": [
       "<div>\n",
       "<style scoped>\n",
       "    .dataframe tbody tr th:only-of-type {\n",
       "        vertical-align: middle;\n",
       "    }\n",
       "\n",
       "    .dataframe tbody tr th {\n",
       "        vertical-align: top;\n",
       "    }\n",
       "\n",
       "    .dataframe thead th {\n",
       "        text-align: right;\n",
       "    }\n",
       "</style>\n",
       "<table border=\"1\" class=\"dataframe\">\n",
       "  <thead>\n",
       "    <tr style=\"text-align: right;\">\n",
       "      <th></th>\n",
       "      <th>time_in_hospital</th>\n",
       "      <th>lab_procedures</th>\n",
       "      <th>other_procedures</th>\n",
       "      <th>medications</th>\n",
       "      <th>admission_source</th>\n",
       "      <th>outpatient</th>\n",
       "      <th>inpatient</th>\n",
       "      <th>emergency</th>\n",
       "      <th>diagnoses</th>\n",
       "    </tr>\n",
       "  </thead>\n",
       "  <tbody>\n",
       "    <tr>\n",
       "      <th>time_in_hospital</th>\n",
       "      <td>1.000000</td>\n",
       "      <td>0.318429</td>\n",
       "      <td>0.191497</td>\n",
       "      <td>0.466137</td>\n",
       "      <td>-0.006979</td>\n",
       "      <td>-0.008919</td>\n",
       "      <td>0.073619</td>\n",
       "      <td>-0.009683</td>\n",
       "      <td>0.220153</td>\n",
       "    </tr>\n",
       "    <tr>\n",
       "      <th>lab_procedures</th>\n",
       "      <td>0.318429</td>\n",
       "      <td>1.000000</td>\n",
       "      <td>0.058105</td>\n",
       "      <td>0.268176</td>\n",
       "      <td>0.048862</td>\n",
       "      <td>-0.007606</td>\n",
       "      <td>0.039225</td>\n",
       "      <td>-0.002282</td>\n",
       "      <td>0.152737</td>\n",
       "    </tr>\n",
       "    <tr>\n",
       "      <th>other_procedures</th>\n",
       "      <td>0.191497</td>\n",
       "      <td>0.058105</td>\n",
       "      <td>1.000000</td>\n",
       "      <td>0.385761</td>\n",
       "      <td>-0.135380</td>\n",
       "      <td>-0.024813</td>\n",
       "      <td>-0.066226</td>\n",
       "      <td>-0.038175</td>\n",
       "      <td>0.073769</td>\n",
       "    </tr>\n",
       "    <tr>\n",
       "      <th>medications</th>\n",
       "      <td>0.466137</td>\n",
       "      <td>0.268176</td>\n",
       "      <td>0.385761</td>\n",
       "      <td>1.000000</td>\n",
       "      <td>-0.054524</td>\n",
       "      <td>0.045198</td>\n",
       "      <td>0.064196</td>\n",
       "      <td>0.013180</td>\n",
       "      <td>0.261529</td>\n",
       "    </tr>\n",
       "    <tr>\n",
       "      <th>admission_source</th>\n",
       "      <td>-0.006979</td>\n",
       "      <td>0.048862</td>\n",
       "      <td>-0.135380</td>\n",
       "      <td>-0.054524</td>\n",
       "      <td>1.000000</td>\n",
       "      <td>0.027243</td>\n",
       "      <td>0.036312</td>\n",
       "      <td>0.059891</td>\n",
       "      <td>0.072098</td>\n",
       "    </tr>\n",
       "    <tr>\n",
       "      <th>outpatient</th>\n",
       "      <td>-0.008919</td>\n",
       "      <td>-0.007606</td>\n",
       "      <td>-0.024813</td>\n",
       "      <td>0.045198</td>\n",
       "      <td>0.027243</td>\n",
       "      <td>1.000000</td>\n",
       "      <td>0.107334</td>\n",
       "      <td>0.091457</td>\n",
       "      <td>0.094148</td>\n",
       "    </tr>\n",
       "    <tr>\n",
       "      <th>inpatient</th>\n",
       "      <td>0.073619</td>\n",
       "      <td>0.039225</td>\n",
       "      <td>-0.066226</td>\n",
       "      <td>0.064196</td>\n",
       "      <td>0.036312</td>\n",
       "      <td>0.107334</td>\n",
       "      <td>1.000000</td>\n",
       "      <td>0.266557</td>\n",
       "      <td>0.104703</td>\n",
       "    </tr>\n",
       "    <tr>\n",
       "      <th>emergency</th>\n",
       "      <td>-0.009683</td>\n",
       "      <td>-0.002282</td>\n",
       "      <td>-0.038175</td>\n",
       "      <td>0.013180</td>\n",
       "      <td>0.059891</td>\n",
       "      <td>0.091457</td>\n",
       "      <td>0.266557</td>\n",
       "      <td>1.000000</td>\n",
       "      <td>0.055536</td>\n",
       "    </tr>\n",
       "    <tr>\n",
       "      <th>diagnoses</th>\n",
       "      <td>0.220153</td>\n",
       "      <td>0.152737</td>\n",
       "      <td>0.073769</td>\n",
       "      <td>0.261529</td>\n",
       "      <td>0.072098</td>\n",
       "      <td>0.094148</td>\n",
       "      <td>0.104703</td>\n",
       "      <td>0.055536</td>\n",
       "      <td>1.000000</td>\n",
       "    </tr>\n",
       "  </tbody>\n",
       "</table>\n",
       "</div>"
      ],
      "text/plain": [
       "                  time_in_hospital  lab_procedures  other_procedures  \\\n",
       "time_in_hospital          1.000000        0.318429          0.191497   \n",
       "lab_procedures            0.318429        1.000000          0.058105   \n",
       "other_procedures          0.191497        0.058105          1.000000   \n",
       "medications               0.466137        0.268176          0.385761   \n",
       "admission_source         -0.006979        0.048862         -0.135380   \n",
       "outpatient               -0.008919       -0.007606         -0.024813   \n",
       "inpatient                 0.073619        0.039225         -0.066226   \n",
       "emergency                -0.009683       -0.002282         -0.038175   \n",
       "diagnoses                 0.220153        0.152737          0.073769   \n",
       "\n",
       "                  medications  admission_source  outpatient  inpatient  \\\n",
       "time_in_hospital     0.466137         -0.006979   -0.008919   0.073619   \n",
       "lab_procedures       0.268176          0.048862   -0.007606   0.039225   \n",
       "other_procedures     0.385761         -0.135380   -0.024813  -0.066226   \n",
       "medications          1.000000         -0.054524    0.045198   0.064196   \n",
       "admission_source    -0.054524          1.000000    0.027243   0.036312   \n",
       "outpatient           0.045198          0.027243    1.000000   0.107334   \n",
       "inpatient            0.064196          0.036312    0.107334   1.000000   \n",
       "emergency            0.013180          0.059891    0.091457   0.266557   \n",
       "diagnoses            0.261529          0.072098    0.094148   0.104703   \n",
       "\n",
       "                  emergency  diagnoses  \n",
       "time_in_hospital  -0.009683   0.220153  \n",
       "lab_procedures    -0.002282   0.152737  \n",
       "other_procedures  -0.038175   0.073769  \n",
       "medications        0.013180   0.261529  \n",
       "admission_source   0.059891   0.072098  \n",
       "outpatient         0.091457   0.094148  \n",
       "inpatient          0.266557   0.104703  \n",
       "emergency          1.000000   0.055536  \n",
       "diagnoses          0.055536   1.000000  "
      ]
     },
     "execution_count": 87,
     "metadata": {},
     "output_type": "execute_result"
    }
   ],
   "source": [
    "df2.corr(numeric_only = True)\n",
    "\n",
    "# my working:\n",
    "# 1. convert this to string, split to have each element\n",
    "# lst = df2.corr(numeric_only = True).to_string().split()\n",
    "# 2. sort in reverse\n",
    "# lst.sort(reverse = True)\n",
    "# 3. remove headers to see the highest (ignore 1.000000)\n",
    "# lst[18:] # removes all headers\n",
    "\n",
    "# Write a comment below with your final answer:\n",
    "### 0.466"
   ]
  },
  {
   "cell_type": "markdown",
   "metadata": {},
   "source": [
    "## 18. Create a new dataframe 'df3', which has all the same data as 'df', except that all missing values of variable 'race' in datafame 'df' are replaced with the value 'Unknown'.\n",
    "\n",
    "## Dataframe 'df' should remain unchanged (i.e. it should still have missing values).\n",
    "\n",
    "## Then write code to show the number of patients for each value of race (including 'Unknown') for both dataframes 'df' and 'df3'.\n",
    "[6 marks]"
   ]
  },
  {
   "cell_type": "code",
   "execution_count": 100,
   "metadata": {},
   "outputs": [
    {
     "name": "stdout",
     "output_type": "stream",
     "text": [
      "race\n",
      "AfricanAmerican    19210\n",
      "Asian                641\n",
      "Caucasian          76099\n",
      "Hispanic            2037\n",
      "Other               1505\n",
      "Name: patient_id, dtype: int64\n",
      "\n",
      "race\n",
      "AfricanAmerican    19210\n",
      "Asian                641\n",
      "Caucasian          76099\n",
      "Hispanic            2037\n",
      "Other               1505\n",
      "Unknown             2271\n",
      "Name: patient_id, dtype: int64\n"
     ]
    },
    {
     "name": "stderr",
     "output_type": "stream",
     "text": [
      "C:\\Users\\sbgka\\AppData\\Local\\Temp\\ipykernel_1200\\2878729731.py:2: FutureWarning: A value is trying to be set on a copy of a DataFrame or Series through chained assignment using an inplace method.\n",
      "The behavior will change in pandas 3.0. This inplace method will never work because the intermediate object on which we are setting values always behaves as a copy.\n",
      "\n",
      "For example, when doing 'df[col].method(value, inplace=True)', try using 'df.method({col: value}, inplace=True)' or df[col] = df[col].method(value) instead, to perform the operation inplace on the original object.\n",
      "\n",
      "\n",
      "  df3[\"race\"].fillna(value = \"Unknown\", inplace = True)\n"
     ]
    }
   ],
   "source": [
    "df3 = df.copy()\n",
    "df3[\"race\"].fillna(value = \"Unknown\", inplace = True)\n",
    "\n",
    "print(df.groupby(\"race\")[\"patient_id\"].count())\n",
    "print()\n",
    "print(df3.groupby(\"race\")[\"patient_id\"].count())"
   ]
  },
  {
   "cell_type": "markdown",
   "metadata": {},
   "source": [
    "## 19. Remove rows with missing values, and also write code to make sure that the dataframe 'df' is affected so that it now has 99492 rows.\n",
    "\n",
    "[6 marks]"
   ]
  },
  {
   "cell_type": "code",
   "execution_count": 101,
   "metadata": {},
   "outputs": [
    {
     "data": {
      "text/plain": [
       "99492"
      ]
     },
     "execution_count": 101,
     "metadata": {},
     "output_type": "execute_result"
    }
   ],
   "source": [
    "df.dropna(inplace = True)\n",
    "df.shape[0]"
   ]
  }
 ],
 "metadata": {
  "kernelspec": {
   "display_name": "Python 3",
   "language": "python",
   "name": "python3"
  },
  "language_info": {
   "codemirror_mode": {
    "name": "ipython",
    "version": 3
   },
   "file_extension": ".py",
   "mimetype": "text/x-python",
   "name": "python",
   "nbconvert_exporter": "python",
   "pygments_lexer": "ipython3",
   "version": "3.13.5"
  }
 },
 "nbformat": 4,
 "nbformat_minor": 4
}
