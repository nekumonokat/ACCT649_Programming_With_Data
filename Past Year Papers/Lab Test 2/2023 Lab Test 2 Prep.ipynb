{
 "cells": [
  {
   "cell_type": "markdown",
   "metadata": {},
   "source": [
    "# AY23-24 T1 ACCT649 Lab Test 2\n"
   ]
  },
  {
   "cell_type": "markdown",
   "metadata": {},
   "source": [
    "### Instructions\n",
    " - Only perform the steps mentioned in the instructions. Do not perform additional data preparation\n",
    " - Use this notebook for coding, then submit this file.\n",
    " - You may add additional cells in this notebook as required\n",
    " - If a question asks you to write code, you will only score marks if your code produces output from which you can determine the correct answer\n",
    " - If a question asks you to type an answer that is not code, you will only score marks if you type the correct answer\n",
    "\n",
    "\n",
    "\n",
    "\n",
    "### Data description\n",
    "\n",
    "This dataset represents data collected from police in a country.\n",
    "\n",
    "Each row in the dataset represents a local area, which is a small rectangular area on a map.\n",
    "\n",
    "The attributes (columns) of the dataset and their meanings are:\n",
    "\n",
    "- region - In which larger region the local area is in\n",
    "- x - The x-coordinate of the center of the local area\n",
    "- y - The y-coordinate of the center of the local area\n",
    "- x_range - Half of the width of the local area\n",
    "- y_range - Half of the length of the local area\n",
    "- local_area_size - A categorical value based on the size of the local area\n",
    "- incidents - How many incidents have occurred in the local area\n",
    "- arrests - How many arrests have occurred in the local area\n",
    "- patrols - How many patrols on average occur in the local area per unit of time"
   ]
  },
  {
   "cell_type": "markdown",
   "metadata": {},
   "source": [
    "### Important!\n",
    " - Each question is worth 3 marks\n",
    " - For most questions, full marks are scored ONLY if your code prints the correct answer, and nothing else\n",
    " - Part marks may be scored if your code still produces output from which you can determine the correct answer\n",
    " - See the examples below"
   ]
  },
  {
   "cell_type": "markdown",
   "metadata": {},
   "source": [
    "## 0. (Example question and sample answers) Create a 2-D array with the values 1 and 2 in the first row, and 3 and 4 in the second row. What is the sum of integers in the second column?\n",
    "[0 marks]"
   ]
  },
  {
   "cell_type": "code",
   "execution_count": 1,
   "metadata": {},
   "outputs": [
    {
     "data": {
      "text/plain": [
       "first_column     4\n",
       "second_column    6\n",
       "dtype: int64"
      ]
     },
     "execution_count": 1,
     "metadata": {},
     "output_type": "execute_result"
    }
   ],
   "source": [
    "# This sample solution would only score 2 marks,\n",
    "# because it does NOT only show sum of integers of second column\n",
    "# (it also shows the sum of integers on the first row)\n",
    "import pandas as pd\n",
    "dictionary = {'first_column':[1,3], 'second_column':[2,4]}\n",
    "dataframe = pd.DataFrame(dictionary)\n",
    "dataframe.sum()"
   ]
  },
  {
   "cell_type": "code",
   "execution_count": 2,
   "metadata": {},
   "outputs": [
    {
     "data": {
      "text/plain": [
       "np.int64(6)"
      ]
     },
     "execution_count": 2,
     "metadata": {},
     "output_type": "execute_result"
    }
   ],
   "source": [
    "# This sample solution would score 3 marks (full marks)\n",
    "dictionary = {'first_column':[1,3], 'second_column':[2,4]}\n",
    "dataframe = pd.DataFrame(dictionary)\n",
    "dataframe['second_column'].sum()"
   ]
  },
  {
   "cell_type": "markdown",
   "metadata": {},
   "source": [
    "Question: How come question says create by row, but can create by columns?"
   ]
  },
  {
   "cell_type": "markdown",
   "metadata": {},
   "source": [
    "## Make sure to run this cell first:"
   ]
  },
  {
   "cell_type": "code",
   "execution_count": 4,
   "metadata": {},
   "outputs": [],
   "source": [
    "# Import libraries\n",
    "import numpy as np\n",
    "import pandas as pd\n",
    "import seaborn as sns\n",
    "import matplotlib.pyplot as plt\n",
    "%matplotlib inline"
   ]
  },
  {
   "cell_type": "markdown",
   "metadata": {},
   "source": [
    "## 1. Read the dataset from CSV file and save into a variable called 'df'. Then show the first 5 rows of the dataframe.\n",
    "[3 marks]"
   ]
  },
  {
   "cell_type": "code",
   "execution_count": 7,
   "metadata": {},
   "outputs": [
    {
     "data": {
      "text/html": [
       "<div>\n",
       "<style scoped>\n",
       "    .dataframe tbody tr th:only-of-type {\n",
       "        vertical-align: middle;\n",
       "    }\n",
       "\n",
       "    .dataframe tbody tr th {\n",
       "        vertical-align: top;\n",
       "    }\n",
       "\n",
       "    .dataframe thead th {\n",
       "        text-align: right;\n",
       "    }\n",
       "</style>\n",
       "<table border=\"1\" class=\"dataframe\">\n",
       "  <thead>\n",
       "    <tr style=\"text-align: right;\">\n",
       "      <th></th>\n",
       "      <th>region</th>\n",
       "      <th>x</th>\n",
       "      <th>y</th>\n",
       "      <th>x_range</th>\n",
       "      <th>y_range</th>\n",
       "      <th>local_area_size</th>\n",
       "      <th>incidents</th>\n",
       "      <th>arrests</th>\n",
       "      <th>patrols</th>\n",
       "    </tr>\n",
       "  </thead>\n",
       "  <tbody>\n",
       "    <tr>\n",
       "      <th>0</th>\n",
       "      <td>SW</td>\n",
       "      <td>1149842.696</td>\n",
       "      <td>1877758.827</td>\n",
       "      <td>1938.351906</td>\n",
       "      <td>5720.275370</td>\n",
       "      <td>small</td>\n",
       "      <td>13971</td>\n",
       "      <td>2689</td>\n",
       "      <td>854.039725</td>\n",
       "    </tr>\n",
       "    <tr>\n",
       "      <th>1</th>\n",
       "      <td>SW</td>\n",
       "      <td>1150150.279</td>\n",
       "      <td>1875969.757</td>\n",
       "      <td>737.137748</td>\n",
       "      <td>13754.796780</td>\n",
       "      <td>big</td>\n",
       "      <td>40533</td>\n",
       "      <td>9656</td>\n",
       "      <td>905.711272</td>\n",
       "    </tr>\n",
       "    <tr>\n",
       "      <th>2</th>\n",
       "      <td>SW</td>\n",
       "      <td>1150381.846</td>\n",
       "      <td>1883146.164</td>\n",
       "      <td>6457.156173</td>\n",
       "      <td>4553.813230</td>\n",
       "      <td>big</td>\n",
       "      <td>68759</td>\n",
       "      <td>19246</td>\n",
       "      <td>1020.126209</td>\n",
       "    </tr>\n",
       "    <tr>\n",
       "      <th>3</th>\n",
       "      <td>SW</td>\n",
       "      <td>1150397.503</td>\n",
       "      <td>1876165.074</td>\n",
       "      <td>1624.312523</td>\n",
       "      <td>2422.325833</td>\n",
       "      <td>small</td>\n",
       "      <td>4068</td>\n",
       "      <td>790</td>\n",
       "      <td>817.587021</td>\n",
       "    </tr>\n",
       "    <tr>\n",
       "      <th>4</th>\n",
       "      <td>SW</td>\n",
       "      <td>1150603.439</td>\n",
       "      <td>1875453.049</td>\n",
       "      <td>3353.859873</td>\n",
       "      <td>2056.304264</td>\n",
       "      <td>small</td>\n",
       "      <td>6870</td>\n",
       "      <td>1133</td>\n",
       "      <td>818.067249</td>\n",
       "    </tr>\n",
       "  </tbody>\n",
       "</table>\n",
       "</div>"
      ],
      "text/plain": [
       "  region            x            y      x_range       y_range local_area_size  \\\n",
       "0     SW  1149842.696  1877758.827  1938.351906   5720.275370           small   \n",
       "1     SW  1150150.279  1875969.757   737.137748  13754.796780             big   \n",
       "2     SW  1150381.846  1883146.164  6457.156173   4553.813230             big   \n",
       "3     SW  1150397.503  1876165.074  1624.312523   2422.325833           small   \n",
       "4     SW  1150603.439  1875453.049  3353.859873   2056.304264           small   \n",
       "\n",
       "   incidents  arrests      patrols  \n",
       "0      13971     2689   854.039725  \n",
       "1      40533     9656   905.711272  \n",
       "2      68759    19246  1020.126209  \n",
       "3       4068      790   817.587021  \n",
       "4       6870     1133   818.067249  "
      ]
     },
     "execution_count": 7,
     "metadata": {},
     "output_type": "execute_result"
    }
   ],
   "source": [
    "df = pd.read_csv(\"police.csv\")\n",
    "df.head()"
   ]
  },
  {
   "cell_type": "markdown",
   "metadata": {},
   "source": [
    "## 2. How many rows and how many columns are in the dataset?\n",
    "[3 marks]"
   ]
  },
  {
   "cell_type": "code",
   "execution_count": 9,
   "metadata": {},
   "outputs": [
    {
     "data": {
      "text/plain": [
       "(200000, 9)"
      ]
     },
     "execution_count": 9,
     "metadata": {},
     "output_type": "execute_result"
    }
   ],
   "source": [
    "df.shape"
   ]
  },
  {
   "cell_type": "markdown",
   "metadata": {},
   "source": [
    "## 3. How many missing values are there for the variable 'patrols'?\n",
    "[3 marks]"
   ]
  },
  {
   "cell_type": "code",
   "execution_count": 21,
   "metadata": {},
   "outputs": [
    {
     "name": "stdout",
     "output_type": "stream",
     "text": [
      "157\n"
     ]
    }
   ],
   "source": [
    "print(df[\"patrols\"].isna().sum())"
   ]
  },
  {
   "cell_type": "markdown",
   "metadata": {},
   "source": [
    "## 4. What is the range (difference between maximum and minimum) of values in the 'incidents' variable?\n",
    "[3 marks]"
   ]
  },
  {
   "cell_type": "code",
   "execution_count": 20,
   "metadata": {},
   "outputs": [
    {
     "name": "stdout",
     "output_type": "stream",
     "text": [
      "985284\n"
     ]
    }
   ],
   "source": [
    "print(df[\"incidents\"].max() - df[\"incidents\"].min())"
   ]
  },
  {
   "cell_type": "markdown",
   "metadata": {},
   "source": [
    "## 5. What is the standard deviation of number of patrols in the NE region? (round to 2 decimal places)\n",
    "[3 marks]"
   ]
  },
  {
   "cell_type": "code",
   "execution_count": 19,
   "metadata": {},
   "outputs": [
    {
     "name": "stdout",
     "output_type": "stream",
     "text": [
      "268.0\n"
     ]
    }
   ],
   "source": [
    "print(round(df[df.region == \"NE\"][\"patrols\"].std(), 2))"
   ]
  },
  {
   "cell_type": "markdown",
   "metadata": {},
   "source": [
    "## 4. How many local areas (rows in dataset) had more than 10,000 arrests?\n",
    "[3 marks] "
   ]
  },
  {
   "cell_type": "code",
   "execution_count": 28,
   "metadata": {},
   "outputs": [
    {
     "name": "stdout",
     "output_type": "stream",
     "text": [
      "152825\n"
     ]
    }
   ],
   "source": [
    "print(len(df[df.arrests > 10000]))"
   ]
  },
  {
   "cell_type": "markdown",
   "metadata": {},
   "source": [
    "## 5. How many local areas (rows in dataset) had between 900 and 1,000 patrols, inclusive (including 900 and 1000)?\n",
    "[3 marks]"
   ]
  },
  {
   "cell_type": "code",
   "execution_count": 29,
   "metadata": {},
   "outputs": [
    {
     "name": "stdout",
     "output_type": "stream",
     "text": [
      "51193\n"
     ]
    }
   ],
   "source": [
    "print(len(df[(df.patrols >= 900) & (df.patrols <= 1000)]))"
   ]
  },
  {
   "cell_type": "markdown",
   "metadata": {},
   "source": [
    "## 6. What is the total number of incidents in the SW region?\n",
    "[3 marks] "
   ]
  },
  {
   "cell_type": "code",
   "execution_count": 32,
   "metadata": {},
   "outputs": [
    {
     "name": "stdout",
     "output_type": "stream",
     "text": [
      "9431762107\n"
     ]
    }
   ],
   "source": [
    "print(df[df.region == \"SW\"][\"incidents\"].sum())"
   ]
  },
  {
   "cell_type": "markdown",
   "metadata": {},
   "source": [
    "## 7. What is the highest median of patrols, when grouping by region and local_area_size?\n",
    "[3 marks] "
   ]
  },
  {
   "cell_type": "code",
   "execution_count": 45,
   "metadata": {},
   "outputs": [
    {
     "name": "stdout",
     "output_type": "stream",
     "text": [
      "1295.3220625\n"
     ]
    }
   ],
   "source": [
    "print(df.groupby([\"region\", \"local_area_size\"])[\"patrols\"].median().max())"
   ]
  },
  {
   "cell_type": "markdown",
   "metadata": {},
   "source": [
    "## 8. What is the value of the variable 'x' of the local area (row in dataset) in the NW region that had the highest number of incidents?\n",
    "[3 marks]"
   ]
  },
  {
   "cell_type": "code",
   "execution_count": 52,
   "metadata": {},
   "outputs": [
    {
     "name": "stdout",
     "output_type": "stream",
     "text": [
      "1154329.133\n"
     ]
    }
   ],
   "source": [
    "print(df[df.region == \"NW\"].sort_values(\"incidents\", ascending = False)[\"x\"].iloc[0])"
   ]
  },
  {
   "cell_type": "markdown",
   "metadata": {},
   "source": [
    "## 9. Divide up the local areas (rows in dataset) into 3 categories based on the value of the variable 'incidents':\n",
    "\n",
    "- low incident rate, with incidents values less than or equal to 330,000 incidents\n",
    "- high incident rate, with incidents values greater than 660,000 incidents\n",
    "- medium incident rate, with incidents values in between the above two categories\n",
    "\n",
    "## These categories should be the values of a new variable called 'incidents_group'\n",
    "\n",
    "## What is the lowest standard deviation of the number of patrols among these three categories?\n",
    "[3 marks]"
   ]
  },
  {
   "cell_type": "code",
   "execution_count": 72,
   "metadata": {},
   "outputs": [
    {
     "name": "stdout",
     "output_type": "stream",
     "text": [
      "96.88444314947127\n"
     ]
    },
    {
     "name": "stderr",
     "output_type": "stream",
     "text": [
      "C:\\Users\\sbgka\\AppData\\Local\\Temp\\ipykernel_8480\\456539415.py:3: FutureWarning: The default of observed=False is deprecated and will be changed to True in a future version of pandas. Pass observed=False to retain current behavior or observed=True to adopt the future default and silence this warning.\n",
      "  print(df.groupby(\"incidents_group\")[\"patrols\"].std().min())\n"
     ]
    }
   ],
   "source": [
    "highest_incidents = df[\"incidents\"].max()\n",
    "df[\"incidents_group\"] = pd.cut(df[\"incidents\"], bins = [0, 330000, 660000, highest_incidents], labels = [\"low\", \"medium\", \"high\"])\n",
    "print(df.groupby(\"incidents_group\")[\"patrols\"].std().min())"
   ]
  },
  {
   "cell_type": "markdown",
   "metadata": {},
   "source": [
    "## 10. Create a pivot table that shows average values of arrests, with variable 'local_area_size' shown as rows and 'region' as columns. Include margin data.\n",
    "[3 marks]"
   ]
  },
  {
   "cell_type": "code",
   "execution_count": 74,
   "metadata": {},
   "outputs": [
    {
     "data": {
      "text/html": [
       "<div>\n",
       "<style scoped>\n",
       "    .dataframe tbody tr th:only-of-type {\n",
       "        vertical-align: middle;\n",
       "    }\n",
       "\n",
       "    .dataframe tbody tr th {\n",
       "        vertical-align: top;\n",
       "    }\n",
       "\n",
       "    .dataframe thead th {\n",
       "        text-align: right;\n",
       "    }\n",
       "</style>\n",
       "<table border=\"1\" class=\"dataframe\">\n",
       "  <thead>\n",
       "    <tr style=\"text-align: right;\">\n",
       "      <th>region</th>\n",
       "      <th>NE</th>\n",
       "      <th>NW</th>\n",
       "      <th>SE</th>\n",
       "      <th>SW</th>\n",
       "    </tr>\n",
       "    <tr>\n",
       "      <th>local_area_size</th>\n",
       "      <th></th>\n",
       "      <th></th>\n",
       "      <th></th>\n",
       "      <th></th>\n",
       "    </tr>\n",
       "  </thead>\n",
       "  <tbody>\n",
       "    <tr>\n",
       "      <th>big</th>\n",
       "      <td>65893.571429</td>\n",
       "      <td>85157.020486</td>\n",
       "      <td>64596.219746</td>\n",
       "      <td>45296.096217</td>\n",
       "    </tr>\n",
       "    <tr>\n",
       "      <th>small</th>\n",
       "      <td>20406.272727</td>\n",
       "      <td>22455.551211</td>\n",
       "      <td>21216.194362</td>\n",
       "      <td>9826.515778</td>\n",
       "    </tr>\n",
       "  </tbody>\n",
       "</table>\n",
       "</div>"
      ],
      "text/plain": [
       "region                     NE            NW            SE            SW\n",
       "local_area_size                                                        \n",
       "big              65893.571429  85157.020486  64596.219746  45296.096217\n",
       "small            20406.272727  22455.551211  21216.194362   9826.515778"
      ]
     },
     "execution_count": 74,
     "metadata": {},
     "output_type": "execute_result"
    }
   ],
   "source": [
    "df.pivot_table(\"arrests\", index = \"local_area_size\", columns = \"region\")"
   ]
  },
  {
   "cell_type": "markdown",
   "metadata": {},
   "source": [
    "## 11. Create a pivot table that shows average number of arrests, for a small local area size, the NW region, and low incident rate. \n",
    "\n",
    "## Then write down this value as a comment after your code.\n",
    "\n",
    "## Your code does NOT need to only show the above value (it's OK if your pivot shows other data as well).\n",
    "[3 marks]"
   ]
  },
  {
   "cell_type": "code",
   "execution_count": 82,
   "metadata": {},
   "outputs": [],
   "source": [
    "# df_filtered = df[(df.local_area_size == \"small\") & (df.region == \"NW\") & (df.incidents_group == \"low\")]\n",
    "# df_filtered"
   ]
  },
  {
   "cell_type": "markdown",
   "metadata": {},
   "source": [
    "Question: stuck with this question because my assumption is i am to filter it? or do i pivot then display out the relevant value?"
   ]
  },
  {
   "cell_type": "markdown",
   "metadata": {},
   "source": [
    "## 12. Write code to show all possible combinations of only the categorical values that exist in df (you can print a dataframe, where each row is a combination).\n",
    "\n",
    "## Each combination should only be shown once.\n",
    "\n",
    "## Your code should NOT show any combinations of these categorical values that do not exist.\n",
    "\n",
    "## e.g. In df, if there is no row that contains the values ['SW', 'small', 'high'] for variables ['region', 'local_area_size', 'incidents_group'], then you should not print that row.\n",
    "\n",
    "## df should remain unchanged.\n",
    "[3 marks]"
   ]
  },
  {
   "cell_type": "code",
   "execution_count": 91,
   "metadata": {},
   "outputs": [
    {
     "data": {
      "text/html": [
       "<div>\n",
       "<style scoped>\n",
       "    .dataframe tbody tr th:only-of-type {\n",
       "        vertical-align: middle;\n",
       "    }\n",
       "\n",
       "    .dataframe tbody tr th {\n",
       "        vertical-align: top;\n",
       "    }\n",
       "\n",
       "    .dataframe thead th {\n",
       "        text-align: right;\n",
       "    }\n",
       "</style>\n",
       "<table border=\"1\" class=\"dataframe\">\n",
       "  <thead>\n",
       "    <tr style=\"text-align: right;\">\n",
       "      <th></th>\n",
       "      <th>region</th>\n",
       "      <th>local_area_size</th>\n",
       "      <th>incidents_group</th>\n",
       "    </tr>\n",
       "  </thead>\n",
       "  <tbody>\n",
       "    <tr>\n",
       "      <th>0</th>\n",
       "      <td>SW</td>\n",
       "      <td>small</td>\n",
       "      <td>low</td>\n",
       "    </tr>\n",
       "    <tr>\n",
       "      <th>1</th>\n",
       "      <td>SW</td>\n",
       "      <td>big</td>\n",
       "      <td>low</td>\n",
       "    </tr>\n",
       "    <tr>\n",
       "      <th>13</th>\n",
       "      <td>NW</td>\n",
       "      <td>big</td>\n",
       "      <td>low</td>\n",
       "    </tr>\n",
       "    <tr>\n",
       "      <th>29</th>\n",
       "      <td>NW</td>\n",
       "      <td>small</td>\n",
       "      <td>low</td>\n",
       "    </tr>\n",
       "    <tr>\n",
       "      <th>34</th>\n",
       "      <td>SW</td>\n",
       "      <td>big</td>\n",
       "      <td>medium</td>\n",
       "    </tr>\n",
       "    <tr>\n",
       "      <th>117</th>\n",
       "      <td>NW</td>\n",
       "      <td>big</td>\n",
       "      <td>medium</td>\n",
       "    </tr>\n",
       "    <tr>\n",
       "      <th>167</th>\n",
       "      <td>SW</td>\n",
       "      <td>small</td>\n",
       "      <td>NaN</td>\n",
       "    </tr>\n",
       "    <tr>\n",
       "      <th>229</th>\n",
       "      <td>NW</td>\n",
       "      <td>big</td>\n",
       "      <td>high</td>\n",
       "    </tr>\n",
       "    <tr>\n",
       "      <th>1570</th>\n",
       "      <td>NW</td>\n",
       "      <td>small</td>\n",
       "      <td>medium</td>\n",
       "    </tr>\n",
       "    <tr>\n",
       "      <th>9828</th>\n",
       "      <td>SW</td>\n",
       "      <td>big</td>\n",
       "      <td>NaN</td>\n",
       "    </tr>\n",
       "    <tr>\n",
       "      <th>16187</th>\n",
       "      <td>NW</td>\n",
       "      <td>big</td>\n",
       "      <td>NaN</td>\n",
       "    </tr>\n",
       "    <tr>\n",
       "      <th>20424</th>\n",
       "      <td>NW</td>\n",
       "      <td>small</td>\n",
       "      <td>NaN</td>\n",
       "    </tr>\n",
       "    <tr>\n",
       "      <th>36934</th>\n",
       "      <td>SW</td>\n",
       "      <td>big</td>\n",
       "      <td>high</td>\n",
       "    </tr>\n",
       "    <tr>\n",
       "      <th>159850</th>\n",
       "      <td>SE</td>\n",
       "      <td>small</td>\n",
       "      <td>low</td>\n",
       "    </tr>\n",
       "    <tr>\n",
       "      <th>159851</th>\n",
       "      <td>SE</td>\n",
       "      <td>big</td>\n",
       "      <td>low</td>\n",
       "    </tr>\n",
       "    <tr>\n",
       "      <th>159852</th>\n",
       "      <td>SE</td>\n",
       "      <td>big</td>\n",
       "      <td>medium</td>\n",
       "    </tr>\n",
       "    <tr>\n",
       "      <th>160707</th>\n",
       "      <td>SE</td>\n",
       "      <td>small</td>\n",
       "      <td>NaN</td>\n",
       "    </tr>\n",
       "    <tr>\n",
       "      <th>161304</th>\n",
       "      <td>NE</td>\n",
       "      <td>big</td>\n",
       "      <td>low</td>\n",
       "    </tr>\n",
       "    <tr>\n",
       "      <th>161665</th>\n",
       "      <td>NE</td>\n",
       "      <td>big</td>\n",
       "      <td>medium</td>\n",
       "    </tr>\n",
       "    <tr>\n",
       "      <th>162107</th>\n",
       "      <td>NE</td>\n",
       "      <td>small</td>\n",
       "      <td>low</td>\n",
       "    </tr>\n",
       "    <tr>\n",
       "      <th>172281</th>\n",
       "      <td>SE</td>\n",
       "      <td>big</td>\n",
       "      <td>NaN</td>\n",
       "    </tr>\n",
       "  </tbody>\n",
       "</table>\n",
       "</div>"
      ],
      "text/plain": [
       "       region local_area_size incidents_group\n",
       "0          SW           small             low\n",
       "1          SW             big             low\n",
       "13         NW             big             low\n",
       "29         NW           small             low\n",
       "34         SW             big          medium\n",
       "117        NW             big          medium\n",
       "167        SW           small             NaN\n",
       "229        NW             big            high\n",
       "1570       NW           small          medium\n",
       "9828       SW             big             NaN\n",
       "16187      NW             big             NaN\n",
       "20424      NW           small             NaN\n",
       "36934      SW             big            high\n",
       "159850     SE           small             low\n",
       "159851     SE             big             low\n",
       "159852     SE             big          medium\n",
       "160707     SE           small             NaN\n",
       "161304     NE             big             low\n",
       "161665     NE             big          medium\n",
       "162107     NE           small             low\n",
       "172281     SE             big             NaN"
      ]
     },
     "execution_count": 91,
     "metadata": {},
     "output_type": "execute_result"
    }
   ],
   "source": [
    "df[[\"region\", \"local_area_size\", \"incidents_group\"]].drop_duplicates()"
   ]
  },
  {
   "cell_type": "markdown",
   "metadata": {},
   "source": [
    "## 13. Write code that creates a new CSV file called 'output.csv' in the same folder where this .ipynb file is saved.\n",
    "\n",
    "## This new CSV file should only contain rows 10,000 to 20,000 inclusive (where row 0 is the first row), and only variables 'incidents' and 'arrests' (and no other columns, including indexes).\n",
    "\n",
    "## df should remain unchanged.\n",
    "[3 marks]"
   ]
  },
  {
   "cell_type": "code",
   "execution_count": 98,
   "metadata": {},
   "outputs": [],
   "source": [
    "import csv\n",
    "\n",
    "new_df = df.iloc[10000:20001][[\"incidents\", \"arrests\"]]\n",
    "new_df.to_csv(\"output.csv\", index = False)"
   ]
  },
  {
   "cell_type": "markdown",
   "metadata": {},
   "source": [
    "## 14. Show a diagram that displays the distribution of values of the variable 'patrols'.\n",
    "[3 marks] "
   ]
  },
  {
   "cell_type": "code",
   "execution_count": 104,
   "metadata": {},
   "outputs": [
    {
     "data": {
      "text/plain": [
       "<Axes: xlabel='patrols', ylabel='Count'>"
      ]
     },
     "execution_count": 104,
     "metadata": {},
     "output_type": "execute_result"
    },
    {
     "data": {
      "image/png": "[encoded data removed]",
      "text/plain": [
       "<Figure size 640x480 with 1 Axes>"
      ]
     },
     "metadata": {},
     "output_type": "display_data"
    }
   ],
   "source": [
    "import seaborn as sns\n",
    "%matplotlib inline\n",
    "\n",
    "sns.histplot(df[\"patrols\"].dropna())"
   ]
  },
  {
   "cell_type": "markdown",
   "metadata": {},
   "source": [
    "## 15. Show the distribution of the variable 'y'. There should be 3 clear peaks in the distribution.\n",
    "\n",
    "## After showing the diagram, use the diagram (without writing any more code) to determine what is the value of 'y' where the middle of the three peaks occurs at?\n",
    "\n",
    "## In a comment, write your answer as an integer, rounded to the nearest 10,000. \n",
    "[3 marks] "
   ]
  },
  {
   "cell_type": "code",
   "execution_count": 109,
   "metadata": {},
   "outputs": [
    {
     "data": {
      "text/plain": [
       "<Axes: xlabel='y', ylabel='Count'>"
      ]
     },
     "execution_count": 109,
     "metadata": {},
     "output_type": "execute_result"
    },
    {
     "data": {
      "image/png": "[encoded data removed]",
      "text/plain": [
       "<Figure size 640x480 with 1 Axes>"
      ]
     },
     "metadata": {},
     "output_type": "display_data"
    }
   ],
   "source": [
    "sns.histplot(df[\"y\"].dropna())\n",
    "# 1900000?"
   ]
  },
  {
   "cell_type": "markdown",
   "metadata": {},
   "source": [
    "Question: what does 1e6 mean"
   ]
  },
  {
   "cell_type": "markdown",
   "metadata": {},
   "source": [
    "## <font color=\"red\">IMPORTANT:</font> All questions above this point involved dataframe 'df'. The questions below may ask you to use other dataframes."
   ]
  },
  {
   "cell_type": "markdown",
   "metadata": {},
   "source": [
    "## 16. Remove rows with missing values, and save the result in a new dataframe called 'df2'. \n",
    "\n",
    "## Then write code to make sure that this dataset should now contain 199843 rows but still have 10 columns.\n",
    "\n",
    "## Also write code to make sure that the number of rows and columns in the original dataframe 'df' is unchanged.\n",
    "[3 marks] "
   ]
  },
  {
   "cell_type": "code",
   "execution_count": 117,
   "metadata": {},
   "outputs": [
    {
     "name": "stdout",
     "output_type": "stream",
     "text": [
      "(200000, 10)\n",
      "(199843, 10)\n"
     ]
    }
   ],
   "source": [
    "df2 = df.dropna()\n",
    "print(df.shape)\n",
    "print(df2.shape)"
   ]
  },
  {
   "cell_type": "markdown",
   "metadata": {},
   "source": [
    "## 17. Using df2, write code to show the correlation between all numeric variables using a heatmap.\n",
    "[3 marks]"
   ]
  },
  {
   "cell_type": "code",
   "execution_count": 119,
   "metadata": {},
   "outputs": [
    {
     "data": {
      "text/plain": [
       "<Axes: >"
      ]
     },
     "execution_count": 119,
     "metadata": {},
     "output_type": "execute_result"
    },
    {
     "data": {
      "image/png": "[encoded data removed]",
      "text/plain": [
       "<Figure size 640x480 with 2 Axes>"
      ]
     },
     "metadata": {},
     "output_type": "display_data"
    }
   ],
   "source": [
    "sns.heatmap(df2.corr(numeric_only = True), annot = True)"
   ]
  },
  {
   "cell_type": "markdown",
   "metadata": {},
   "source": [
    "## 18. Using only the output of the heatmap (and no other code, nor any other information), what are the different variables that are the most correleted? Write your answer as a comment.\n",
    "[3 marks]"
   ]
  },
  {
   "cell_type": "code",
   "execution_count": 126,
   "metadata": {},
   "outputs": [],
   "source": [
    "# incidents and arrests with 0.99 correlation\n",
    "# y and patrols with 0.79 correlation"
   ]
  },
  {
   "cell_type": "markdown",
   "metadata": {},
   "source": [
    "Question: when they say \"different variables\" are they asking for only the highest?"
   ]
  },
  {
   "cell_type": "markdown",
   "metadata": {},
   "source": [
    "## 19. From df (not df2), write code to create another dataframe df3, which contains only the variables ['x', 'y', 'x_range', 'y_range', 'incidents', 'arrests', 'patrols'].\n",
    "\n",
    "## Show the number of rows and columns in df3.\n",
    "[3 marks]"
   ]
  },
  {
   "cell_type": "code",
   "execution_count": 125,
   "metadata": {},
   "outputs": [
    {
     "data": {
      "text/plain": [
       "(200000, 7)"
      ]
     },
     "execution_count": 125,
     "metadata": {},
     "output_type": "execute_result"
    }
   ],
   "source": [
    "df3 = df[[\"x\", \"y\", \"x_range\", \"y_range\", \"incidents\", \"arrests\", \"patrols\"]]\n",
    "df3.shape"
   ]
  },
  {
   "cell_type": "markdown",
   "metadata": {},
   "source": [
    "## 20. Using df3, replace all missing values in the variable 'patrols' with 1000. Store the resultant dataset in a new dataframe df4.\n",
    "\n",
    "## df3 should remain unchanged.\n",
    "\n",
    "## Show the average value of variable patrols for both df3 and df4.\n",
    "[3 marks]"
   ]
  },
  {
   "cell_type": "code",
   "execution_count": 136,
   "metadata": {},
   "outputs": [
    {
     "data": {
      "text/plain": [
       "np.int64(157)"
      ]
     },
     "execution_count": 136,
     "metadata": {},
     "output_type": "execute_result"
    }
   ],
   "source": [
    "df3[\"patrols\"].isna().sum()"
   ]
  },
  {
   "cell_type": "code",
   "execution_count": 150,
   "metadata": {},
   "outputs": [
    {
     "name": "stdout",
     "output_type": "stream",
     "text": [
      "1042.6866300477134\n",
      "1042.653121043126\n"
     ]
    }
   ],
   "source": [
    "df4 = df3[\"patrols\"].fillna(1000)\n",
    "print(df3[\"patrols\"].mean())\n",
    "print(df4.mean())"
   ]
  },
  {
   "cell_type": "markdown",
   "metadata": {},
   "source": [
    "Question: df4 becomes singular column because we are storing new<br>do we do df4 = df3 then change?"
   ]
  }
 ],
 "metadata": {
  "kernelspec": {
   "display_name": "Python 3",
   "language": "python",
   "name": "python3"
  },
  "language_info": {
   "codemirror_mode": {
    "name": "ipython",
    "version": 3
   },
   "file_extension": ".py",
   "mimetype": "text/x-python",
   "name": "python",
   "nbconvert_exporter": "python",
   "pygments_lexer": "ipython3",
   "version": "3.13.5"
  }
 },
 "nbformat": 4,
 "nbformat_minor": 4
}
