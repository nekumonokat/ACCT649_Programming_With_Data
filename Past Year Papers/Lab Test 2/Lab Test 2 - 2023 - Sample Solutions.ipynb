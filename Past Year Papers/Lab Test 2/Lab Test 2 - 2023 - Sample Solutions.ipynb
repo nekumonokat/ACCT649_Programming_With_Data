{
 "cells": [
  {
   "cell_type": "markdown",
   "metadata": {},
   "source": [
    "# AY23-24 T1 ACCT649 Lab Test 2\n"
   ]
  },
  {
   "cell_type": "code",
   "execution_count": null,
   "metadata": {},
   "outputs": [],
   "source": [
    "### Author: Jason Chan"
   ]
  },
  {
   "cell_type": "markdown",
   "metadata": {},
   "source": [
    "### Instructions\n",
    " - Only perform the steps mentioned in the instructions. Do not perform additional data preparation\n",
    " - Use this notebook for coding, then submit this file.\n",
    " - You may add additional cells in this notebook as required\n",
    " - If a question asks you to write code, you will only score marks if your code produces output from which you can determine the correct answer\n",
    " - If a question asks you to type an answer that is not code, you will only score marks if you type the correct answer\n",
    "\n",
    "\n",
    "\n",
    "\n",
    "### Data description\n",
    "\n",
    "This dataset represents data collected from police in a country.\n",
    "\n",
    "Each row in the dataset represents a local area, which is a small rectangular area on a map.\n",
    "\n",
    "The attributes (columns) of the dataset and their meanings are:\n",
    "\n",
    "- region - In which larger region the local area is in\n",
    "- x - The x-coordinate of the center of the local area\n",
    "- y - The y-coordinate of the center of the local area\n",
    "- x_range - Half of the width of the local area\n",
    "- y_range - Half of the length of the local area\n",
    "- local_area_size - A categorical value based on the size of the local area\n",
    "- incidents - How many incidents have occurred in the local area\n",
    "- arrests - How many arrests have occurred in the local area\n",
    "- patrols - How many patrols on average occur in the local area per unit of time"
   ]
  },
  {
   "cell_type": "markdown",
   "metadata": {},
   "source": [
    "### Important!\n",
    " - Each question is worth 3 marks\n",
    " - For most questions, full marks are scored ONLY if your code prints the correct answer, and nothing else\n",
    " - Part marks may be scored if your code still produces output from which you can determine the correct answer\n",
    " - See the examples below"
   ]
  },
  {
   "cell_type": "markdown",
   "metadata": {},
   "source": [
    "## 0. (Example question and sample answers) Create a 2-D array with the values 1 and 2 in the first row, and 3 and 4 in the second row. What is the sum of integers in the second column?\n",
    "[0 marks]"
   ]
  },
  {
   "cell_type": "code",
   "execution_count": 1,
   "metadata": {},
   "outputs": [
    {
     "data": {
      "text/plain": [
       "first_column     4\n",
       "second_column    6\n",
       "dtype: int64"
      ]
     },
     "execution_count": 1,
     "metadata": {},
     "output_type": "execute_result"
    }
   ],
   "source": [
    "# This sample solution would only score 2 marks,\n",
    "# because it does NOT only show sum of integers of second column\n",
    "# (it also shows the sum of integers on the first row)\n",
    "import pandas as pd\n",
    "dictionary = {'first_column':[1,3], 'second_column':[2,4]}\n",
    "dataframe = pd.DataFrame(dictionary)\n",
    "dataframe.sum()"
   ]
  },
  {
   "cell_type": "code",
   "execution_count": 2,
   "metadata": {},
   "outputs": [
    {
     "data": {
      "text/plain": [
       "6"
      ]
     },
     "execution_count": 2,
     "metadata": {},
     "output_type": "execute_result"
    }
   ],
   "source": [
    "# This sample solution would score 3 marks (full marks)\n",
    "dictionary = {'first_column':[1,3], 'second_column':[2,4]}\n",
    "dataframe = pd.DataFrame(dictionary)\n",
    "dataframe['second_column'].sum()"
   ]
  },
  {
   "cell_type": "markdown",
   "metadata": {},
   "source": [
    "## Make sure to run this cell first:"
   ]
  },
  {
   "cell_type": "code",
   "execution_count": 3,
   "metadata": {},
   "outputs": [],
   "source": [
    "# Import libraries\n",
    "import numpy as np\n",
    "import pandas as pd\n",
    "import seaborn as sns\n",
    "import matplotlib.pyplot as plt\n",
    "%matplotlib inline"
   ]
  },
  {
   "cell_type": "markdown",
   "metadata": {},
   "source": [
    "## 1. Read the dataset from CSV file and save into a variable called 'df'. Then show the first 5 rows of the dataframe.\n",
    "[3 marks]"
   ]
  },
  {
   "cell_type": "code",
   "execution_count": 4,
   "metadata": {},
   "outputs": [
    {
     "data": {
      "text/html": [
       "<div>\n",
       "<style scoped>\n",
       "    .dataframe tbody tr th:only-of-type {\n",
       "        vertical-align: middle;\n",
       "    }\n",
       "\n",
       "    .dataframe tbody tr th {\n",
       "        vertical-align: top;\n",
       "    }\n",
       "\n",
       "    .dataframe thead th {\n",
       "        text-align: right;\n",
       "    }\n",
       "</style>\n",
       "<table border=\"1\" class=\"dataframe\">\n",
       "  <thead>\n",
       "    <tr style=\"text-align: right;\">\n",
       "      <th></th>\n",
       "      <th>region</th>\n",
       "      <th>x</th>\n",
       "      <th>y</th>\n",
       "      <th>x_range</th>\n",
       "      <th>y_range</th>\n",
       "      <th>local_area_size</th>\n",
       "      <th>incidents</th>\n",
       "      <th>arrests</th>\n",
       "      <th>patrols</th>\n",
       "    </tr>\n",
       "  </thead>\n",
       "  <tbody>\n",
       "    <tr>\n",
       "      <th>0</th>\n",
       "      <td>SW</td>\n",
       "      <td>1149842.696</td>\n",
       "      <td>1877758.827</td>\n",
       "      <td>1938.351906</td>\n",
       "      <td>5720.275370</td>\n",
       "      <td>small</td>\n",
       "      <td>13971</td>\n",
       "      <td>2689</td>\n",
       "      <td>854.039725</td>\n",
       "    </tr>\n",
       "    <tr>\n",
       "      <th>1</th>\n",
       "      <td>SW</td>\n",
       "      <td>1150150.279</td>\n",
       "      <td>1875969.757</td>\n",
       "      <td>737.137748</td>\n",
       "      <td>13754.796780</td>\n",
       "      <td>big</td>\n",
       "      <td>40533</td>\n",
       "      <td>9656</td>\n",
       "      <td>905.711272</td>\n",
       "    </tr>\n",
       "    <tr>\n",
       "      <th>2</th>\n",
       "      <td>SW</td>\n",
       "      <td>1150381.846</td>\n",
       "      <td>1883146.164</td>\n",
       "      <td>6457.156173</td>\n",
       "      <td>4553.813230</td>\n",
       "      <td>big</td>\n",
       "      <td>68759</td>\n",
       "      <td>19246</td>\n",
       "      <td>1020.126209</td>\n",
       "    </tr>\n",
       "    <tr>\n",
       "      <th>3</th>\n",
       "      <td>SW</td>\n",
       "      <td>1150397.503</td>\n",
       "      <td>1876165.074</td>\n",
       "      <td>1624.312523</td>\n",
       "      <td>2422.325833</td>\n",
       "      <td>small</td>\n",
       "      <td>4068</td>\n",
       "      <td>790</td>\n",
       "      <td>817.587021</td>\n",
       "    </tr>\n",
       "    <tr>\n",
       "      <th>4</th>\n",
       "      <td>SW</td>\n",
       "      <td>1150603.439</td>\n",
       "      <td>1875453.049</td>\n",
       "      <td>3353.859873</td>\n",
       "      <td>2056.304264</td>\n",
       "      <td>small</td>\n",
       "      <td>6870</td>\n",
       "      <td>1133</td>\n",
       "      <td>818.067249</td>\n",
       "    </tr>\n",
       "  </tbody>\n",
       "</table>\n",
       "</div>"
      ],
      "text/plain": [
       "  region            x            y      x_range       y_range local_area_size  \\\n",
       "0     SW  1149842.696  1877758.827  1938.351906   5720.275370           small   \n",
       "1     SW  1150150.279  1875969.757   737.137748  13754.796780             big   \n",
       "2     SW  1150381.846  1883146.164  6457.156173   4553.813230             big   \n",
       "3     SW  1150397.503  1876165.074  1624.312523   2422.325833           small   \n",
       "4     SW  1150603.439  1875453.049  3353.859873   2056.304264           small   \n",
       "\n",
       "   incidents  arrests      patrols  \n",
       "0      13971     2689   854.039725  \n",
       "1      40533     9656   905.711272  \n",
       "2      68759    19246  1020.126209  \n",
       "3       4068      790   817.587021  \n",
       "4       6870     1133   818.067249  "
      ]
     },
     "execution_count": 4,
     "metadata": {},
     "output_type": "execute_result"
    }
   ],
   "source": [
    "# Read dataset from CSV file\n",
    "df = pd.read_csv('police.csv')\n",
    "\n",
    "# Show first 5 rows of dataset\n",
    "df.head()"
   ]
  },
  {
   "cell_type": "markdown",
   "metadata": {},
   "source": [
    "## 2. How many rows and how many columns are in the dataset?\n",
    "[3 marks]"
   ]
  },
  {
   "cell_type": "code",
   "execution_count": 5,
   "metadata": {},
   "outputs": [
    {
     "name": "stdout",
     "output_type": "stream",
     "text": [
      "(200000, 9)\n"
     ]
    }
   ],
   "source": [
    "# Show dimensions (number of rows and columns) of dataset\n",
    "print(df.shape)\n",
    "\n",
    "### (200000, 9)"
   ]
  },
  {
   "cell_type": "markdown",
   "metadata": {},
   "source": [
    "## 3. How many missing values are there for the variable 'patrols'?\n",
    "[3 marks]"
   ]
  },
  {
   "cell_type": "code",
   "execution_count": 6,
   "metadata": {},
   "outputs": [
    {
     "data": {
      "text/plain": [
       "157"
      ]
     },
     "execution_count": 6,
     "metadata": {},
     "output_type": "execute_result"
    }
   ],
   "source": [
    "# First, get only 'patrols' column.\n",
    "# Then, check each value if it is null.\n",
    "# Then, add up all 'True' values as 1, and 'False' values as 0\n",
    "df['patrols'].isnull().sum()\n",
    "\n",
    "### 157"
   ]
  },
  {
   "cell_type": "markdown",
   "metadata": {},
   "source": [
    "## 4. What is the range (difference between maximum and minimum) of values in the 'incidents' variable?\n",
    "[3 marks]"
   ]
  },
  {
   "cell_type": "code",
   "execution_count": 7,
   "metadata": {},
   "outputs": [
    {
     "data": {
      "text/plain": [
       "985284"
      ]
     },
     "execution_count": 7,
     "metadata": {},
     "output_type": "execute_result"
    }
   ],
   "source": [
    "# Get range of values in attribute 'incidents'\n",
    "df['incidents'].max() - df['incidents'].min()\n",
    "\n",
    "### 985284"
   ]
  },
  {
   "cell_type": "markdown",
   "metadata": {},
   "source": [
    "## 5. What is the standard deviation of number of patrols in the NE region? (round to 2 decimal places)\n",
    "[3 marks]"
   ]
  },
  {
   "cell_type": "code",
   "execution_count": 8,
   "metadata": {},
   "outputs": [
    {
     "data": {
      "text/plain": [
       "268.0"
      ]
     },
     "execution_count": 8,
     "metadata": {},
     "output_type": "execute_result"
    }
   ],
   "source": [
    "# First, group by region,\n",
    "# then, use only the 'patrols' column,\n",
    "# then get standard deviation,\n",
    "# then get only the 'NE' column,\n",
    "# rounded to 2 decimal places\n",
    "round(df.groupby('region')['patrols'].std()['NE'], 2)\n",
    "\n",
    "### 268"
   ]
  },
  {
   "cell_type": "code",
   "execution_count": 27,
   "metadata": {},
   "outputs": [
    {
     "data": {
      "text/plain": [
       "268.00422858952146"
      ]
     },
     "execution_count": 27,
     "metadata": {},
     "output_type": "execute_result"
    }
   ],
   "source": [
    "df.groupby('region')['patrols'].std()['NE']"
   ]
  },
  {
   "cell_type": "markdown",
   "metadata": {},
   "source": [
    "## 4. How many local areas (rows in dataset) had more than 10,000 arrests?\n",
    "[3 marks] "
   ]
  },
  {
   "cell_type": "code",
   "execution_count": 9,
   "metadata": {},
   "outputs": [
    {
     "data": {
      "text/plain": [
       "152825"
      ]
     },
     "execution_count": 9,
     "metadata": {},
     "output_type": "execute_result"
    }
   ],
   "source": [
    "# First, get rows with more than 10,000 arrests.\n",
    "# Then, get dimensions (number of rows and columns) of result.\n",
    "# Then, show only number of rows.\n",
    "df[df['arrests'] > 10000].shape[0]\n",
    "\n",
    "### 152825"
   ]
  },
  {
   "cell_type": "code",
   "execution_count": 29,
   "metadata": {},
   "outputs": [
    {
     "data": {
      "text/plain": [
       "(152825, 10)"
      ]
     },
     "execution_count": 29,
     "metadata": {},
     "output_type": "execute_result"
    }
   ],
   "source": [
    "df[df['arrests'] > 10000].shape"
   ]
  },
  {
   "cell_type": "markdown",
   "metadata": {},
   "source": [
    "## 5. How many local areas (rows in dataset) had between 900 and 1,000 patrols, inclusive (including 900 and 1000)?\n",
    "[3 marks]"
   ]
  },
  {
   "cell_type": "code",
   "execution_count": 10,
   "metadata": {},
   "outputs": [
    {
     "data": {
      "text/plain": [
       "51193"
      ]
     },
     "execution_count": 10,
     "metadata": {},
     "output_type": "execute_result"
    }
   ],
   "source": [
    "# First, get rows with more than 900 patrols and less than 1,000 patrols.\n",
    "# Then, get dimensions (number of rows and columns) of result.\n",
    "# Then, show only number of rows\n",
    "df[(df['patrols'] >= 900) & (df['patrols'] <= 1000)].shape[0]\n",
    "\n",
    "### 51193"
   ]
  },
  {
   "cell_type": "markdown",
   "metadata": {},
   "source": [
    "## 6. What is the total number of incidents in the SW region?\n",
    "[3 marks] "
   ]
  },
  {
   "cell_type": "code",
   "execution_count": 11,
   "metadata": {},
   "outputs": [
    {
     "data": {
      "text/plain": [
       "9431762107"
      ]
     },
     "execution_count": 11,
     "metadata": {},
     "output_type": "execute_result"
    }
   ],
   "source": [
    "# First, group by region,\n",
    "# then get only the incidents column,\n",
    "# then get total,\n",
    "# then get only 'SW' column\n",
    "df.groupby('region')['incidents'].sum()['SW']\n",
    "\n",
    "### 9431762107"
   ]
  },
  {
   "cell_type": "code",
   "execution_count": 31,
   "metadata": {},
   "outputs": [
    {
     "data": {
      "text/plain": [
       "region\n",
       "NE       12637562\n",
       "NW    16412669284\n",
       "SE     6053507176\n",
       "SW     9431762107\n",
       "Name: incidents, dtype: int64"
      ]
     },
     "execution_count": 31,
     "metadata": {},
     "output_type": "execute_result"
    }
   ],
   "source": [
    "df.groupby('region')['incidents'].sum()"
   ]
  },
  {
   "cell_type": "markdown",
   "metadata": {},
   "source": [
    "## 7. What is the highest median of patrols, when grouping by region and local_area_size?\n",
    "[3 marks] "
   ]
  },
  {
   "cell_type": "code",
   "execution_count": 12,
   "metadata": {},
   "outputs": [
    {
     "data": {
      "text/plain": [
       "1295.3220625"
      ]
     },
     "execution_count": 12,
     "metadata": {},
     "output_type": "execute_result"
    }
   ],
   "source": [
    "# First, group by 'region', then group by 'local_area_size'\n",
    "# then show median of 'patrols',\n",
    "# then show maximum value\n",
    "df.groupby(['region', 'local_area_size'])['patrols'].median().max()\n",
    "\n",
    "### 1295.3220625"
   ]
  },
  {
   "cell_type": "code",
   "execution_count": 32,
   "metadata": {},
   "outputs": [
    {
     "data": {
      "text/plain": [
       "region  local_area_size\n",
       "NE      big                 482.071575\n",
       "        small               257.823043\n",
       "NW      big                1288.742053\n",
       "        small              1295.322062\n",
       "SE      big                 689.306220\n",
       "        small               808.332529\n",
       "SW      big                 912.937380\n",
       "        small               913.928945\n",
       "Name: patrols, dtype: float64"
      ]
     },
     "execution_count": 32,
     "metadata": {},
     "output_type": "execute_result"
    }
   ],
   "source": [
    "df.groupby(['region', 'local_area_size'])['patrols'].median()"
   ]
  },
  {
   "cell_type": "markdown",
   "metadata": {},
   "source": [
    "## 8. What is the value of the variable 'x' of the local area (row in dataset) in the NW region that had the highest number of incidents?\n",
    "[3 marks]"
   ]
  },
  {
   "cell_type": "code",
   "execution_count": 13,
   "metadata": {},
   "outputs": [
    {
     "name": "stdout",
     "output_type": "stream",
     "text": [
      "4748    1154329.133\n",
      "Name: x, dtype: float64\n"
     ]
    }
   ],
   "source": [
    "# First, get only the local areas in the NW region\n",
    "df_NW = df[df['region'] == 'NW']\n",
    "\n",
    "# Then, get only the local area from these local areas in the SW region\n",
    "# that had the minimum number of incidents,\n",
    "# then get only column 'x'\n",
    "print(df_NW[df_NW['incidents'] == df_NW['incidents'].max()]['x'])\n",
    "\n",
    "### 1154329.133"
   ]
  },
  {
   "cell_type": "code",
   "execution_count": 37,
   "metadata": {},
   "outputs": [
    {
     "name": "stdout",
     "output_type": "stream",
     "text": [
      "region\n",
      "NE    1182336.635\n",
      "NW    1167059.485\n",
      "SE    1185386.150\n",
      "SW    1166985.321\n",
      "Name: x, dtype: float64\n"
     ]
    }
   ],
   "source": [
    "region = df.groupby(\"region\").max()\n",
    "region_x = region[\"x\"]\n",
    " \n",
    "print(region_x)"
   ]
  },
  {
   "cell_type": "code",
   "execution_count": 36,
   "metadata": {},
   "outputs": [
    {
     "data": {
      "text/html": [
       "<div>\n",
       "<style scoped>\n",
       "    .dataframe tbody tr th:only-of-type {\n",
       "        vertical-align: middle;\n",
       "    }\n",
       "\n",
       "    .dataframe tbody tr th {\n",
       "        vertical-align: top;\n",
       "    }\n",
       "\n",
       "    .dataframe thead th {\n",
       "        text-align: right;\n",
       "    }\n",
       "</style>\n",
       "<table border=\"1\" class=\"dataframe\">\n",
       "  <thead>\n",
       "    <tr style=\"text-align: right;\">\n",
       "      <th></th>\n",
       "      <th>region</th>\n",
       "      <th>x</th>\n",
       "      <th>y</th>\n",
       "      <th>x_range</th>\n",
       "      <th>y_range</th>\n",
       "      <th>local_area_size</th>\n",
       "      <th>incidents</th>\n",
       "      <th>arrests</th>\n",
       "      <th>patrols</th>\n",
       "    </tr>\n",
       "  </thead>\n",
       "  <tbody>\n",
       "    <tr>\n",
       "      <th>4748</th>\n",
       "      <td>NW</td>\n",
       "      <td>1154329.133</td>\n",
       "      <td>1901557.542</td>\n",
       "      <td>7921.394402</td>\n",
       "      <td>15314.93095</td>\n",
       "      <td>big</td>\n",
       "      <td>985284</td>\n",
       "      <td>347441</td>\n",
       "      <td>1305.927679</td>\n",
       "    </tr>\n",
       "  </tbody>\n",
       "</table>\n",
       "</div>"
      ],
      "text/plain": [
       "     region            x            y      x_range      y_range  \\\n",
       "4748     NW  1154329.133  1901557.542  7921.394402  15314.93095   \n",
       "\n",
       "     local_area_size  incidents  arrests      patrols  \n",
       "4748             big     985284   347441  1305.927679  "
      ]
     },
     "execution_count": 36,
     "metadata": {},
     "output_type": "execute_result"
    }
   ],
   "source": [
    "df_NW[df_NW['incidents'] == df_NW['incidents'].max()]"
   ]
  },
  {
   "cell_type": "markdown",
   "metadata": {},
   "source": [
    "## 9. Divide up the local areas (rows in dataset) into 3 categories based on the value of the variable 'incidents':\n",
    "\n",
    "- low incident rate, with incidents values less than or equal to 330,000 incidents\n",
    "- high incident rate, with incidents values greater than 660,000 incidents\n",
    "- medium incident rate, with incidents values in between the above two categories\n",
    "\n",
    "## These categories should be the values of a new variable called 'incidents_group'\n",
    "\n",
    "## What is the lowest standard deviation of the number of patrols among these three categories?\n",
    "[3 marks]"
   ]
  },
  {
   "cell_type": "code",
   "execution_count": 14,
   "metadata": {},
   "outputs": [
    {
     "data": {
      "text/plain": [
       "96.88444314947127"
      ]
     },
     "execution_count": 14,
     "metadata": {},
     "output_type": "execute_result"
    }
   ],
   "source": [
    "# Create a new variable 'incidents_bins' which will be categorical.\n",
    "# We use the 'crimes' variable to create bins with the given bin boundaries, and label each bin\n",
    "df['incidents_group'] = pd.cut(df['incidents'], bins = [-1,330000,660000,990000], labels = ['low','medium','high'])\n",
    "\n",
    "# Show minimum 'patrol' values for each category in 'incidents_bins' variable\n",
    "df.groupby('incidents_group')['patrols'].std().min()\n",
    "\n",
    "### 96.88444314947127"
   ]
  },
  {
   "cell_type": "markdown",
   "metadata": {},
   "source": [
    "## 10. Create a pivot table that shows average values of arrests, with variable 'local_area_size' shown as rows and 'region' as columns. Include margin data.\n",
    "[3 marks]"
   ]
  },
  {
   "cell_type": "code",
   "execution_count": 15,
   "metadata": {},
   "outputs": [
    {
     "data": {
      "text/html": [
       "<div>\n",
       "<style scoped>\n",
       "    .dataframe tbody tr th:only-of-type {\n",
       "        vertical-align: middle;\n",
       "    }\n",
       "\n",
       "    .dataframe tbody tr th {\n",
       "        vertical-align: top;\n",
       "    }\n",
       "\n",
       "    .dataframe thead th {\n",
       "        text-align: right;\n",
       "    }\n",
       "</style>\n",
       "<table border=\"1\" class=\"dataframe\">\n",
       "  <thead>\n",
       "    <tr style=\"text-align: right;\">\n",
       "      <th>region</th>\n",
       "      <th>NE</th>\n",
       "      <th>NW</th>\n",
       "      <th>SE</th>\n",
       "      <th>SW</th>\n",
       "      <th>All</th>\n",
       "    </tr>\n",
       "    <tr>\n",
       "      <th>local_area_size</th>\n",
       "      <th></th>\n",
       "      <th></th>\n",
       "      <th></th>\n",
       "      <th></th>\n",
       "      <th></th>\n",
       "    </tr>\n",
       "  </thead>\n",
       "  <tbody>\n",
       "    <tr>\n",
       "      <th>big</th>\n",
       "      <td>65893.571429</td>\n",
       "      <td>85157.020486</td>\n",
       "      <td>64596.219746</td>\n",
       "      <td>45296.096217</td>\n",
       "      <td>64860.416852</td>\n",
       "    </tr>\n",
       "    <tr>\n",
       "      <th>small</th>\n",
       "      <td>20406.272727</td>\n",
       "      <td>22455.551211</td>\n",
       "      <td>21216.194362</td>\n",
       "      <td>9826.515778</td>\n",
       "      <td>17091.019781</td>\n",
       "    </tr>\n",
       "    <tr>\n",
       "      <th>All</th>\n",
       "      <td>51798.915493</td>\n",
       "      <td>62905.955084</td>\n",
       "      <td>49237.489234</td>\n",
       "      <td>32736.659920</td>\n",
       "      <td>47932.136765</td>\n",
       "    </tr>\n",
       "  </tbody>\n",
       "</table>\n",
       "</div>"
      ],
      "text/plain": [
       "region                     NE            NW            SE            SW  \\\n",
       "local_area_size                                                           \n",
       "big              65893.571429  85157.020486  64596.219746  45296.096217   \n",
       "small            20406.272727  22455.551211  21216.194362   9826.515778   \n",
       "All              51798.915493  62905.955084  49237.489234  32736.659920   \n",
       "\n",
       "region                    All  \n",
       "local_area_size                \n",
       "big              64860.416852  \n",
       "small            17091.019781  \n",
       "All              47932.136765  "
      ]
     },
     "execution_count": 15,
     "metadata": {},
     "output_type": "execute_result"
    }
   ],
   "source": [
    "# Create pivot table, showing average number of arrests,\n",
    "# with 'local_area_size' as rows and 'region' as coluns,\n",
    "# with margin data\n",
    "df.pivot_table('arrests', index = 'local_area_size', columns = 'region', margins=all)"
   ]
  },
  {
   "cell_type": "markdown",
   "metadata": {},
   "source": [
    "## 11. Create a pivot table that shows average number of arrests, for a small local area size, the NW region, and low incident rate. \n",
    "\n",
    "## Then write down this value as a comment after your code.\n",
    "\n",
    "## Your code does NOT need to only show the above value (it's OK if your pivot shows other data as well).\n",
    "[3 marks]"
   ]
  },
  {
   "cell_type": "code",
   "execution_count": 16,
   "metadata": {},
   "outputs": [
    {
     "data": {
      "text/html": [
       "<div>\n",
       "<style scoped>\n",
       "    .dataframe tbody tr th:only-of-type {\n",
       "        vertical-align: middle;\n",
       "    }\n",
       "\n",
       "    .dataframe tbody tr th {\n",
       "        vertical-align: top;\n",
       "    }\n",
       "\n",
       "    .dataframe thead th {\n",
       "        text-align: right;\n",
       "    }\n",
       "</style>\n",
       "<table border=\"1\" class=\"dataframe\">\n",
       "  <thead>\n",
       "    <tr style=\"text-align: right;\">\n",
       "      <th></th>\n",
       "      <th>region</th>\n",
       "      <th>NE</th>\n",
       "      <th>NW</th>\n",
       "      <th>SE</th>\n",
       "      <th>SW</th>\n",
       "      <th>All</th>\n",
       "    </tr>\n",
       "    <tr>\n",
       "      <th>local_area_size</th>\n",
       "      <th>incidents_group</th>\n",
       "      <th></th>\n",
       "      <th></th>\n",
       "      <th></th>\n",
       "      <th></th>\n",
       "      <th></th>\n",
       "    </tr>\n",
       "  </thead>\n",
       "  <tbody>\n",
       "    <tr>\n",
       "      <th rowspan=\"3\" valign=\"top\">big</th>\n",
       "      <th>low</th>\n",
       "      <td>41531.323529</td>\n",
       "      <td>48383.206688</td>\n",
       "      <td>52057.418750</td>\n",
       "      <td>36291.483588</td>\n",
       "      <td>43548.552980</td>\n",
       "    </tr>\n",
       "    <tr>\n",
       "      <th>medium</th>\n",
       "      <td>121114.666667</td>\n",
       "      <td>139501.373706</td>\n",
       "      <td>125021.459879</td>\n",
       "      <td>119473.917020</td>\n",
       "      <td>132792.053484</td>\n",
       "    </tr>\n",
       "    <tr>\n",
       "      <th>high</th>\n",
       "      <td>NaN</td>\n",
       "      <td>233911.648729</td>\n",
       "      <td>NaN</td>\n",
       "      <td>253924.000000</td>\n",
       "      <td>233931.571429</td>\n",
       "    </tr>\n",
       "    <tr>\n",
       "      <th rowspan=\"2\" valign=\"top\">small</th>\n",
       "      <th>low</th>\n",
       "      <td>20406.272727</td>\n",
       "      <td>22390.901346</td>\n",
       "      <td>21216.194362</td>\n",
       "      <td>9826.515778</td>\n",
       "      <td>17064.244320</td>\n",
       "    </tr>\n",
       "    <tr>\n",
       "      <th>medium</th>\n",
       "      <td>NaN</td>\n",
       "      <td>128694.294118</td>\n",
       "      <td>NaN</td>\n",
       "      <td>NaN</td>\n",
       "      <td>128694.294118</td>\n",
       "    </tr>\n",
       "    <tr>\n",
       "      <th>All</th>\n",
       "      <th></th>\n",
       "      <td>51798.915493</td>\n",
       "      <td>62905.955084</td>\n",
       "      <td>49237.489234</td>\n",
       "      <td>32736.659920</td>\n",
       "      <td>47932.136765</td>\n",
       "    </tr>\n",
       "  </tbody>\n",
       "</table>\n",
       "</div>"
      ],
      "text/plain": [
       "region                                      NE             NW             SE  \\\n",
       "local_area_size incidents_group                                                \n",
       "big             low               41531.323529   48383.206688   52057.418750   \n",
       "                medium           121114.666667  139501.373706  125021.459879   \n",
       "                high                       NaN  233911.648729            NaN   \n",
       "small           low               20406.272727   22390.901346   21216.194362   \n",
       "                medium                     NaN  128694.294118            NaN   \n",
       "All                               51798.915493   62905.955084   49237.489234   \n",
       "\n",
       "region                                      SW            All  \n",
       "local_area_size incidents_group                                \n",
       "big             low               36291.483588   43548.552980  \n",
       "                medium           119473.917020  132792.053484  \n",
       "                high             253924.000000  233931.571429  \n",
       "small           low                9826.515778   17064.244320  \n",
       "                medium                     NaN  128694.294118  \n",
       "All                               32736.659920   47932.136765  "
      ]
     },
     "execution_count": 16,
     "metadata": {},
     "output_type": "execute_result"
    }
   ],
   "source": [
    "# Create pivot table, showing average number of arrests,\n",
    "# with 'local_area_size' as rows and 'region' as coluns,\n",
    "# with margin data\n",
    "df.pivot_table('arrests', index = ['local_area_size', 'incidents_group'], columns = 'region', margins=all)\n",
    "\n",
    "### 22390.901346"
   ]
  },
  {
   "cell_type": "code",
   "execution_count": 38,
   "metadata": {},
   "outputs": [
    {
     "data": {
      "text/html": [
       "<div>\n",
       "<style scoped>\n",
       "    .dataframe tbody tr th:only-of-type {\n",
       "        vertical-align: middle;\n",
       "    }\n",
       "\n",
       "    .dataframe tbody tr th {\n",
       "        vertical-align: top;\n",
       "    }\n",
       "\n",
       "    .dataframe thead th {\n",
       "        text-align: right;\n",
       "    }\n",
       "</style>\n",
       "<table border=\"1\" class=\"dataframe\">\n",
       "  <thead>\n",
       "    <tr style=\"text-align: right;\">\n",
       "      <th></th>\n",
       "      <th>incidents_group</th>\n",
       "      <th>low</th>\n",
       "      <th>medium</th>\n",
       "      <th>high</th>\n",
       "    </tr>\n",
       "    <tr>\n",
       "      <th>local_area_size</th>\n",
       "      <th>region</th>\n",
       "      <th></th>\n",
       "      <th></th>\n",
       "      <th></th>\n",
       "    </tr>\n",
       "  </thead>\n",
       "  <tbody>\n",
       "    <tr>\n",
       "      <th rowspan=\"4\" valign=\"top\">big</th>\n",
       "      <th>NE</th>\n",
       "      <td>41531.323529</td>\n",
       "      <td>121114.666667</td>\n",
       "      <td>NaN</td>\n",
       "    </tr>\n",
       "    <tr>\n",
       "      <th>NW</th>\n",
       "      <td>48383.206688</td>\n",
       "      <td>139501.373706</td>\n",
       "      <td>233911.648729</td>\n",
       "    </tr>\n",
       "    <tr>\n",
       "      <th>SE</th>\n",
       "      <td>52057.418750</td>\n",
       "      <td>125021.459879</td>\n",
       "      <td>NaN</td>\n",
       "    </tr>\n",
       "    <tr>\n",
       "      <th>SW</th>\n",
       "      <td>36291.483588</td>\n",
       "      <td>119473.917020</td>\n",
       "      <td>253924.000000</td>\n",
       "    </tr>\n",
       "    <tr>\n",
       "      <th rowspan=\"4\" valign=\"top\">small</th>\n",
       "      <th>NE</th>\n",
       "      <td>20406.272727</td>\n",
       "      <td>NaN</td>\n",
       "      <td>NaN</td>\n",
       "    </tr>\n",
       "    <tr>\n",
       "      <th>NW</th>\n",
       "      <td>22390.901346</td>\n",
       "      <td>128694.294118</td>\n",
       "      <td>NaN</td>\n",
       "    </tr>\n",
       "    <tr>\n",
       "      <th>SE</th>\n",
       "      <td>21216.194362</td>\n",
       "      <td>NaN</td>\n",
       "      <td>NaN</td>\n",
       "    </tr>\n",
       "    <tr>\n",
       "      <th>SW</th>\n",
       "      <td>9826.515778</td>\n",
       "      <td>NaN</td>\n",
       "      <td>NaN</td>\n",
       "    </tr>\n",
       "  </tbody>\n",
       "</table>\n",
       "</div>"
      ],
      "text/plain": [
       "incidents_group                  low         medium           high\n",
       "local_area_size region                                            \n",
       "big             NE      41531.323529  121114.666667            NaN\n",
       "                NW      48383.206688  139501.373706  233911.648729\n",
       "                SE      52057.418750  125021.459879            NaN\n",
       "                SW      36291.483588  119473.917020  253924.000000\n",
       "small           NE      20406.272727            NaN            NaN\n",
       "                NW      22390.901346  128694.294118            NaN\n",
       "                SE      21216.194362            NaN            NaN\n",
       "                SW       9826.515778            NaN            NaN"
      ]
     },
     "execution_count": 38,
     "metadata": {},
     "output_type": "execute_result"
    }
   ],
   "source": [
    "# Write your code here:\n",
    "df.pivot_table('arrests', index = ['local_area_size', 'region'], columns = 'incidents_group')\n",
    "##the value should be 24418.989284"
   ]
  },
  {
   "cell_type": "markdown",
   "metadata": {},
   "source": [
    "## 12. Write code to show all possible combinations of only the categorical values that exist in df (you can print a dataframe, where each row is a combination).\n",
    "\n",
    "## Each combination should only be shown once.\n",
    "\n",
    "## Your code should NOT show any combinations of these categorical values that do not exist.\n",
    "\n",
    "## e.g. In df, if there is no row that contains the values ['SW', 'small', 'high'] for variables ['region', 'local_area_size', 'incidents_group'], then you should not print that row.\n",
    "\n",
    "## df should remain unchanged.\n",
    "[3 marks]"
   ]
  },
  {
   "cell_type": "code",
   "execution_count": 17,
   "metadata": {},
   "outputs": [
    {
     "data": {
      "text/html": [
       "<div>\n",
       "<style scoped>\n",
       "    .dataframe tbody tr th:only-of-type {\n",
       "        vertical-align: middle;\n",
       "    }\n",
       "\n",
       "    .dataframe tbody tr th {\n",
       "        vertical-align: top;\n",
       "    }\n",
       "\n",
       "    .dataframe thead th {\n",
       "        text-align: right;\n",
       "    }\n",
       "</style>\n",
       "<table border=\"1\" class=\"dataframe\">\n",
       "  <thead>\n",
       "    <tr style=\"text-align: right;\">\n",
       "      <th></th>\n",
       "      <th>region</th>\n",
       "      <th>local_area_size</th>\n",
       "      <th>incidents_group</th>\n",
       "    </tr>\n",
       "  </thead>\n",
       "  <tbody>\n",
       "    <tr>\n",
       "      <th>0</th>\n",
       "      <td>SW</td>\n",
       "      <td>small</td>\n",
       "      <td>low</td>\n",
       "    </tr>\n",
       "    <tr>\n",
       "      <th>1</th>\n",
       "      <td>SW</td>\n",
       "      <td>big</td>\n",
       "      <td>low</td>\n",
       "    </tr>\n",
       "    <tr>\n",
       "      <th>13</th>\n",
       "      <td>NW</td>\n",
       "      <td>big</td>\n",
       "      <td>low</td>\n",
       "    </tr>\n",
       "    <tr>\n",
       "      <th>29</th>\n",
       "      <td>NW</td>\n",
       "      <td>small</td>\n",
       "      <td>low</td>\n",
       "    </tr>\n",
       "    <tr>\n",
       "      <th>34</th>\n",
       "      <td>SW</td>\n",
       "      <td>big</td>\n",
       "      <td>medium</td>\n",
       "    </tr>\n",
       "    <tr>\n",
       "      <th>117</th>\n",
       "      <td>NW</td>\n",
       "      <td>big</td>\n",
       "      <td>medium</td>\n",
       "    </tr>\n",
       "    <tr>\n",
       "      <th>229</th>\n",
       "      <td>NW</td>\n",
       "      <td>big</td>\n",
       "      <td>high</td>\n",
       "    </tr>\n",
       "    <tr>\n",
       "      <th>1570</th>\n",
       "      <td>NW</td>\n",
       "      <td>small</td>\n",
       "      <td>medium</td>\n",
       "    </tr>\n",
       "    <tr>\n",
       "      <th>36934</th>\n",
       "      <td>SW</td>\n",
       "      <td>big</td>\n",
       "      <td>high</td>\n",
       "    </tr>\n",
       "    <tr>\n",
       "      <th>159850</th>\n",
       "      <td>SE</td>\n",
       "      <td>small</td>\n",
       "      <td>low</td>\n",
       "    </tr>\n",
       "    <tr>\n",
       "      <th>159851</th>\n",
       "      <td>SE</td>\n",
       "      <td>big</td>\n",
       "      <td>low</td>\n",
       "    </tr>\n",
       "    <tr>\n",
       "      <th>159852</th>\n",
       "      <td>SE</td>\n",
       "      <td>big</td>\n",
       "      <td>medium</td>\n",
       "    </tr>\n",
       "    <tr>\n",
       "      <th>161304</th>\n",
       "      <td>NE</td>\n",
       "      <td>big</td>\n",
       "      <td>low</td>\n",
       "    </tr>\n",
       "    <tr>\n",
       "      <th>161665</th>\n",
       "      <td>NE</td>\n",
       "      <td>big</td>\n",
       "      <td>medium</td>\n",
       "    </tr>\n",
       "    <tr>\n",
       "      <th>162107</th>\n",
       "      <td>NE</td>\n",
       "      <td>small</td>\n",
       "      <td>low</td>\n",
       "    </tr>\n",
       "  </tbody>\n",
       "</table>\n",
       "</div>"
      ],
      "text/plain": [
       "       region local_area_size incidents_group\n",
       "0          SW           small             low\n",
       "1          SW             big             low\n",
       "13         NW             big             low\n",
       "29         NW           small             low\n",
       "34         SW             big          medium\n",
       "117        NW             big          medium\n",
       "229        NW             big            high\n",
       "1570       NW           small          medium\n",
       "36934      SW             big            high\n",
       "159850     SE           small             low\n",
       "159851     SE             big             low\n",
       "159852     SE             big          medium\n",
       "161304     NE             big             low\n",
       "161665     NE             big          medium\n",
       "162107     NE           small             low"
      ]
     },
     "execution_count": 17,
     "metadata": {},
     "output_type": "execute_result"
    }
   ],
   "source": [
    "# Keep only some variables in the dataset\n",
    "df_categorical = df[['region', 'local_area_size', 'incidents_group']]\n",
    "\n",
    "# Remove any duplicates, to show each possible combination only once\n",
    "df_categorical.drop_duplicates()"
   ]
  },
  {
   "cell_type": "markdown",
   "metadata": {},
   "source": [
    "## 13. Write code that creates a new CSV file called 'output.csv' in the same folder where this .ipynb file is saved.\n",
    "\n",
    "## This new CSV file should only contain rows 10,000 to 20,000 inclusive (where row 0 is the first row), and only variables 'incidents' and 'arrests' (and no other columns, including indexes).\n",
    "\n",
    "## df should remain unchanged.\n",
    "[3 marks]"
   ]
  },
  {
   "cell_type": "code",
   "execution_count": 18,
   "metadata": {},
   "outputs": [],
   "source": [
    "# Get only rows 10000 to 20000 inclusive\n",
    "df_cut1 = df.iloc[10000:20001]\n",
    "\n",
    "# Get only columns ['incidents', 'arrests']\n",
    "df_cut2 = df_cut1[['incidents', 'arrests']]\n",
    "\n",
    "# Write a DataFrame to CSV, not including the indices\n",
    "df_cut2.to_csv('output.csv', index = False)"
   ]
  },
  {
   "cell_type": "code",
   "execution_count": null,
   "metadata": {},
   "outputs": [],
   "source": [
    "# Get only rows 10000 to 20000 inclusive\n",
    "df_cut1 = df.iloc[10000:20001]\n",
    "\n",
    "# Get only columns ['incidents', 'arrests']\n",
    "df_cut2 = df_cut1.iloc[6:8]\n",
    "\n",
    "# Write a DataFrame to CSV, not including the indices\n",
    "df_cut2.to_csv('output.csv', index = False)"
   ]
  },
  {
   "cell_type": "markdown",
   "metadata": {},
   "source": [
    "## 14. Show a diagram that displays the distribution of values of the variable 'patrols'.\n",
    "[3 marks] "
   ]
  },
  {
   "cell_type": "code",
   "execution_count": 19,
   "metadata": {},
   "outputs": [
    {
     "data": {
      "text/plain": [
       "<AxesSubplot:xlabel='patrols', ylabel='Count'>"
      ]
     },
     "execution_count": 19,
     "metadata": {},
     "output_type": "execute_result"
    },
    {
     "data": {
      "image/png": "[encoded data removed]",
      "text/plain": [
       "<Figure size 432x288 with 1 Axes>"
      ]
     },
     "metadata": {
      "needs_background": "light"
     },
     "output_type": "display_data"
    }
   ],
   "source": [
    "# Show histogram of 'patrols' variable\n",
    "sns.histplot(df['patrols'])"
   ]
  },
  {
   "cell_type": "markdown",
   "metadata": {},
   "source": [
    "## 15. Show the distribution of the variable 'y'. There should be 3 clear peaks in the distribution.\n",
    "\n",
    "## After showing the diagram, use the diagram (without writing any more code) to determine what is the value of 'y' where the middle of the three peaks occurs at?\n",
    "\n",
    "## In a comment, write your answer as an integer, rounded to the nearest 10,000. \n",
    "[3 marks] "
   ]
  },
  {
   "cell_type": "code",
   "execution_count": 20,
   "metadata": {},
   "outputs": [
    {
     "data": {
      "text/plain": [
       "<AxesSubplot:xlabel='y', ylabel='Count'>"
      ]
     },
     "execution_count": 20,
     "metadata": {},
     "output_type": "execute_result"
    },
    {
     "data": {
      "image/png": "[encoded data removed]",
      "text/plain": [
       "<Figure size 432x288 with 1 Axes>"
      ]
     },
     "metadata": {
      "needs_background": "light"
     },
     "output_type": "display_data"
    }
   ],
   "source": [
    "# Show histogram of 'y' variable\n",
    "sns.histplot(df['y'])\n",
    "\n",
    "### 1900000"
   ]
  },
  {
   "cell_type": "markdown",
   "metadata": {},
   "source": [
    "## <font color=\"red\">IMPORTANT:</font> All questions above this point involved dataframe 'df'. The questions below may ask you to use other dataframes."
   ]
  },
  {
   "cell_type": "markdown",
   "metadata": {},
   "source": [
    "## 16. Remove rows with missing values, and save the result in a new dataframe called 'df2'. \n",
    "\n",
    "## Then write code to make sure that this dataset should now contain 199893 rows but still have 10 columns.\n",
    "\n",
    "## Also write code to make sure that the number of rows and columns in the original dataframe 'df' is unchanged.\n",
    "[3 marks] "
   ]
  },
  {
   "cell_type": "code",
   "execution_count": 21,
   "metadata": {},
   "outputs": [
    {
     "name": "stdout",
     "output_type": "stream",
     "text": [
      "(199843, 10)\n",
      "(200000, 10)\n"
     ]
    }
   ],
   "source": [
    "# Remove rows with any missing values, and save into a new dataframe df2\n",
    "df2 = df.dropna()\n",
    "\n",
    "# Print dimensions (number of rows and columns) of resulting DataFrame\n",
    "print(df2.shape)\n",
    "\n",
    "# Print dimensions (number of rows and columns) of original DataFrame\n",
    "print(df.shape)"
   ]
  },
  {
   "cell_type": "markdown",
   "metadata": {},
   "source": [
    "## 17. Using df2, write code to show the correlation between all numeric variables using a heatmap.\n",
    "[3 marks]"
   ]
  },
  {
   "cell_type": "code",
   "execution_count": 22,
   "metadata": {},
   "outputs": [
    {
     "data": {
      "text/plain": [
       "<AxesSubplot:>"
      ]
     },
     "execution_count": 22,
     "metadata": {},
     "output_type": "execute_result"
    },
    {
     "data": {
      "image/png": "[encoded data removed]",
      "text/plain": [
       "<Figure size 432x288 with 2 Axes>"
      ]
     },
     "metadata": {
      "needs_background": "light"
     },
     "output_type": "display_data"
    }
   ],
   "source": [
    "# Show correlation between variables as a heatmap instead\n",
    "# (light colors means higher correlation,\n",
    "# dark colors means lower correlation)\n",
    "sns.heatmap(df2.corr(), annot=True)"
   ]
  },
  {
   "cell_type": "markdown",
   "metadata": {},
   "source": [
    "## 18. Using only the output of the heatmap (and no other code, nor any other information), what are the different variables that are the most correleted? Write your answer as a comment.\n",
    "[3 marks]"
   ]
  },
  {
   "cell_type": "code",
   "execution_count": 23,
   "metadata": {},
   "outputs": [],
   "source": [
    "### 'incidents' and 'arrests'"
   ]
  },
  {
   "cell_type": "markdown",
   "metadata": {},
   "source": [
    "## 19. From df (not df2), write code to create another dataframe df3, which contains only the variables ['x', 'y', 'x_range', 'y_range', 'incidents', 'arrests', 'patrols'].\n",
    "\n",
    "## Show the number of rows and columns in df3.\n",
    "[3 marks]"
   ]
  },
  {
   "cell_type": "code",
   "execution_count": 24,
   "metadata": {},
   "outputs": [
    {
     "data": {
      "text/plain": [
       "(200000, 7)"
      ]
     },
     "execution_count": 24,
     "metadata": {},
     "output_type": "execute_result"
    }
   ],
   "source": [
    "# Keep only some variables in the dataset\n",
    "df3 = df[['x', 'y', 'x_range', 'y_range', 'incidents', 'arrests', 'patrols']]\n",
    "\n",
    "# Determine dimensions (number of rows and columns) of dataset\n",
    "df3.shape"
   ]
  },
  {
   "cell_type": "markdown",
   "metadata": {},
   "source": [
    "## 20. Using df3, replace all missing values in the variable 'patrols' with 1000. Store the resultant dataset in a new dataframe df4.\n",
    "\n",
    "## df3 should remain unchanged.\n",
    "\n",
    "## Show the average value of variable patrols for both df3 and df4.\n",
    "[3 marks]"
   ]
  },
  {
   "cell_type": "code",
   "execution_count": 25,
   "metadata": {},
   "outputs": [
    {
     "name": "stdout",
     "output_type": "stream",
     "text": [
      "1042.6866300477038\n",
      "1042.6531210431158\n"
     ]
    }
   ],
   "source": [
    "# Replace missing values with 1000,\n",
    "# and put into new dataframe df4\n",
    "df4 = df3.fillna(value = 1000)\n",
    "\n",
    "# Show average value of patrols, before replacement\n",
    "df3_avg_patrol = df3['patrols'].mean()\n",
    "print(df3_avg_patrol)\n",
    "\n",
    "# Show new average value of patrols, after replacement\n",
    "df4_avg_patrol = df4['patrols'].mean()\n",
    "print(df4_avg_patrol)"
   ]
  }
 ],
 "metadata": {
  "kernelspec": {
   "display_name": "Python 3 (ipykernel)",
   "language": "python",
   "name": "python3"
  },
  "language_info": {
   "codemirror_mode": {
    "name": "ipython",
    "version": 3
   },
   "file_extension": ".py",
   "mimetype": "text/x-python",
   "name": "python",
   "nbconvert_exporter": "python",
   "pygments_lexer": "ipython3",
   "version": "3.11.7"
  }
 },
 "nbformat": 4,
 "nbformat_minor": 4
}
