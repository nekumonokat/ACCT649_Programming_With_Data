{
 "cells": [
  {
   "cell_type": "code",
   "execution_count": null,
   "id": "1c4b02ab",
   "metadata": {},
   "outputs": [
    {
     "name": "stdout",
     "output_type": "stream",
     "text": [
      "4.188786666666666\n",
      "33.51029333333333\n"
     ]
    }
   ],
   "source": [
    "### Q1\n",
    "\n",
    "PI = 3.14159\n",
    "\n",
    "# volume of a sphere ball\n",
    "def calculate_volume(radius):\n",
    "    volume = (4/3) * PI * (radius**3)\n",
    "    return volume\n",
    "\n",
    "## TESTING SCENARIOS\n",
    "# print(calculate_volume(1) == 4.188786666666666)\n",
    "# print(calculate_volume(2) == 33.51029333333333)\n",
    "\n",
    "print(calculate_volume(1))\n",
    "print(calculate_volume(2))"
   ]
  },
  {
   "cell_type": "code",
   "execution_count": null,
   "id": "47c9ac50",
   "metadata": {},
   "outputs": [
    {
     "name": "stdout",
     "output_type": "stream",
     "text": [
      "2020 is a leap year.\n",
      "2024 is a leap year.\n",
      "2022 is not a leap year.\n",
      "2023 is not a leap year.\n",
      "2100 is not a leap year.\n",
      "2200 is not a leap year.\n",
      "2000 is a leap year.\n",
      "2400 is a leap year.\n"
     ]
    }
   ],
   "source": [
    "### Q2\n",
    "\n",
    "# determines whether given year is leap year\n",
    "def is_leap_year(year):\n",
    "    is_leap = False\n",
    "\n",
    "    # multiples of 4\n",
    "    if year % 4 == 0:\n",
    "        is_leap = True\n",
    "\n",
    "    # divisible by 100 - NOT LEAP YEAR\n",
    "    if year % 100 == 0:\n",
    "        # divisible by 400 - EXCEPTION\n",
    "        ## 1 NOTES: since year % 400 is the exception, put that first\n",
    "        if year % 400 == 0:\n",
    "            is_leap = True\n",
    "        ## 2 NOTES: after then elif year % 100\n",
    "        ##          this way no need to internal if else\n",
    "        else:\n",
    "            is_leap = False\n",
    "\n",
    "    return is_leap\n",
    "\n",
    "## TESTING SCENARIOS\n",
    "# years = [2020, 2024, 2022, 2023, 2100, 2200, 2000, 2400]\n",
    "# booleans = [True, True, False, False, False, False, True, True]\n",
    "# for i in range(len(years)):\n",
    "#     print(is_leap_year(years[i]) == booleans[i])\n",
    "\n",
    "years = [2020, 2024, 2022, 2023, 2100, 2200, 2000, 2400]\n",
    "\n",
    "for year in years:\n",
    "    if is_leap_year(year):\n",
    "        print(f\"{year} is a leap year.\")\n",
    "    else:\n",
    "        print(f\"{year} is not a leap year.\")"
   ]
  },
  {
   "cell_type": "code",
   "execution_count": 32,
   "id": "09bbc8c7",
   "metadata": {},
   "outputs": [
    {
     "name": "stdout",
     "output_type": "stream",
     "text": [
      "ion\n",
      "fighter\n",
      "fighter\n",
      "\n"
     ]
    }
   ],
   "source": [
    "### Q3\n",
    "\n",
    "# get longest suffix 2 parameter strings share\n",
    "def get_longest_suffix(str_a, str_b):\n",
    "    suffix = \"\"\n",
    "    short, long = None, None\n",
    "\n",
    "    if len(str_a) < len(str_b):\n",
    "        short = str_a\n",
    "        long = str_b\n",
    "    else:\n",
    "        short = str_b\n",
    "        long = str_a\n",
    "\n",
    "    for start in range(-len(short), 0):\n",
    "        if short[start:] == long[start:]:\n",
    "            suffix = short[start:]\n",
    "            break\n",
    "\n",
    "    return suffix\n",
    "\n",
    "## TESTING SCENARIOS\n",
    "# print(get_longest_suffix('station','stallion') == \"ion\")\n",
    "# print(get_longest_suffix('firefighter','fighter') == \"fighter\")\n",
    "# print(get_longest_suffix('firefighter','fighter') == \"fighter\")\n",
    "# print(get_longest_suffix('python','programming') == \"\")\n",
    "\n",
    "print(get_longest_suffix('station','stallion'))\n",
    "print(get_longest_suffix('firefighter','fighter'))\n",
    "print(get_longest_suffix('firefighter','fighter'))\n",
    "print(get_longest_suffix('python','programming'))"
   ]
  },
  {
   "cell_type": "markdown",
   "id": "dfb83c2f",
   "metadata": {},
   "source": [
    "## Note to self:\n",
    "- Cleared first 3 qns in 45 mins\n",
    "- Last 3 (distracted) 1 hr 11 mins\n",
    "- Struggle - swap digit pairs"
   ]
  },
  {
   "cell_type": "code",
   "execution_count": 38,
   "id": "7fb412b1",
   "metadata": {},
   "outputs": [
    {
     "name": "stdout",
     "output_type": "stream",
     "text": [
      "True\n",
      "True\n"
     ]
    }
   ],
   "source": [
    "### Q4\n",
    "\n",
    "def swap_digit_pairs(val):\n",
    "\n",
    "    # BASE CASE: SINGLE DIGIT\n",
    "    if val < 10: return val\n",
    "\n",
    "    result = 0\n",
    "    position = 0\n",
    "\n",
    "    # processing digits in pairs\n",
    "    while val > 0:\n",
    "        # extracting last 2 digits\n",
    "        if val >= 10:\n",
    "            last_two = val % 100\n",
    "            # swapping the 2 values\n",
    "            first_digit = last_two % 10\n",
    "            second_digit = last_two // 10\n",
    "            swapped = first_digit * 10 + second_digit\n",
    "\n",
    "            # adding value to result at the correct position\n",
    "            result += swapped * (10**position)\n",
    "            # moving 2 digits forward (val and position)\n",
    "            val //= 100\n",
    "            position += 2\n",
    "\n",
    "        else:\n",
    "            # only 1 digit left (keep left-most value)\n",
    "            result += val * (10**position)\n",
    "            break\n",
    "\n",
    "    return result\n",
    "\n",
    "    ## STRING METHOD, BAD\n",
    "    # str_int = str(val)\n",
    "    # output = \"\"\n",
    "\n",
    "    # # checks for odd number of digits\n",
    "    # # keeps left-most digit, swaps the rest\n",
    "    # if len(str_int) % 2 == 1:\n",
    "    #     output += str_int[0]\n",
    "    #     str_int = str_int[1:]\n",
    "\n",
    "    # for i in range(0 ,len(str_int), 2):\n",
    "    #     # add to output second val then first\n",
    "    #     output += str_int[i+1] + str_int[i]\n",
    "    \n",
    "    # # \n",
    "    # return int(output)\n",
    "\n",
    "print(swap_digit_pairs(123456) == 214365)\n",
    "print(swap_digit_pairs(12345) == 13254)"
   ]
  },
  {
   "cell_type": "code",
   "execution_count": 1,
   "id": "baa21bdf",
   "metadata": {},
   "outputs": [
    {
     "name": "stdout",
     "output_type": "stream",
     "text": [
      "*****    *\n",
      " ****   **\n",
      "  ***  ***\n",
      "   ** ****\n",
      "    ******\n",
      "******    \n",
      "**** **   \n",
      "***  ***  \n",
      "**   **** \n",
      "*    *****\n"
     ]
    }
   ],
   "source": [
    "### Q5\n",
    "\n",
    "def print_pattern(n):\n",
    "    for r in range(1, (n*2)+1):\n",
    "        for c in range(1, (n*2)+1):\n",
    "            ## CONDITIONS:\n",
    "            # 1. if first 5 columns, row <= column\n",
    "            if c <= n and r <= c:\n",
    "                print(\"*\", end = \"\")\n",
    "            # 2. if last 5 columns, row >= column\n",
    "            elif c > n and r >= c:\n",
    "                print(\"*\", end = \"\")\n",
    "            # 3. if first 5 rows, row + column >= 2n + 1\n",
    "            elif r <= n and c+r >= (2*n)+1:\n",
    "                print(\"*\", end = \"\")\n",
    "            # 4. if last 5 rows, row + column <= 2n + 1\n",
    "            elif r > n and c+r <= (2*n)+1:\n",
    "                print(\"*\", end = \"\")\n",
    "            else:\n",
    "                print(\" \", end = \"\")\n",
    "        print()\n",
    "\n",
    "print_pattern(5)"
   ]
  },
  {
   "cell_type": "code",
   "execution_count": 23,
   "id": "054b069c",
   "metadata": {},
   "outputs": [
    {
     "name": "stdout",
     "output_type": "stream",
     "text": [
      "True\n",
      "True\n",
      "True\n",
      "True\n",
      "True\n",
      "True\n",
      "True\n",
      "True\n"
     ]
    }
   ],
   "source": [
    "### Q6\n",
    "\n",
    "def jumble_words(string):\n",
    "    output = []\n",
    "    substr = \"\"\n",
    "\n",
    "    for char in string:\n",
    "        # creating substrings\n",
    "        if char != \" \":\n",
    "            substr += char\n",
    "        # if it is a space, then add word to output\n",
    "        else:\n",
    "            if substr:\n",
    "                output.append(substr)\n",
    "                substr = \"\"\n",
    "    \n",
    "    # at the end, add final substr to output\n",
    "    if substr:\n",
    "        output.append(substr)\n",
    "\n",
    "    for i in range(len(output)):\n",
    "        word = output[i]\n",
    "        # having evens and odds separated\n",
    "        evens, odds = \"\", \"\"\n",
    "\n",
    "        # BASE CASE: FIRST AND LAST LETTERS NOT JUMBLED\n",
    "        # if 3 letters, middle letter cannot jumble\n",
    "        if len(word) <= 3:\n",
    "            continue\n",
    "    \n",
    "        # go through each index (non inclusive first and last)\n",
    "        for j in range(1, len(word)-1):\n",
    "            # if even index, add to evens string\n",
    "            if j % 2 == 0: evens += word[j]\n",
    "            # if odd index, add to odds string\n",
    "            else: odds += word[j]\n",
    "\n",
    "        # output should be formatted as FIRST + EVENS + ODDS + LAST\n",
    "        output[i] = word[0] + evens + odds + word[-1]\n",
    "\n",
    "    return output\n",
    "\n",
    "print(jumble_words(\"0123456789\") == [\"0246813579\"])\n",
    "print(jumble_words(\"01234\") == [\"02134\"])\n",
    "print(jumble_words(\"Programming\") == [\"Pormirgamng\"])\n",
    "print(jumble_words(\"is\") == [\"is\"])\n",
    "print(jumble_words(\"fun\") == [\"fun\"])\n",
    "print(jumble_words(\"such\") == [\"scuh\"])\n",
    "print(jumble_words(\"Programming is really fun\") == ['Pormirgamng', 'is', 'ralely', 'fun'])\n",
    "print(jumble_words(\"Python is such an interesting language\") == ['Ptoyhn', 'is', 'scuh', 'an', 'itrsineetng', 'lnugagae'])"
   ]
  }
 ],
 "metadata": {
  "kernelspec": {
   "display_name": "Python 3",
   "language": "python",
   "name": "python3"
  },
  "language_info": {
   "codemirror_mode": {
    "name": "ipython",
    "version": 3
   },
   "file_extension": ".py",
   "mimetype": "text/x-python",
   "name": "python",
   "nbconvert_exporter": "python",
   "pygments_lexer": "ipython3",
   "version": "3.13.5"
  }
 },
 "nbformat": 4,
 "nbformat_minor": 5
}
