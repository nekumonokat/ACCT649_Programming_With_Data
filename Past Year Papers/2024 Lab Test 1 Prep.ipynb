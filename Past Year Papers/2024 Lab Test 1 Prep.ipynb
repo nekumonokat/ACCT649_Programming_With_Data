{
 "cells": [
  {
   "cell_type": "code",
   "execution_count": 2,
   "id": "6c7146c5",
   "metadata": {},
   "outputs": [
    {
     "name": "stdout",
     "output_type": "stream",
     "text": [
      "True\n",
      "True\n"
     ]
    }
   ],
   "source": [
    "### Q1\n",
    "\n",
    "# importing math package\n",
    "import math\n",
    "\n",
    "# returns length of hypotenuse\n",
    "def calculate_hypotenuse(a, b):\n",
    "    return math.sqrt(a**2 + b**2)\n",
    "\n",
    "print(calculate_hypotenuse(3, 4) == 5)\n",
    "print(calculate_hypotenuse(2, 7) == 7.280109889280518)"
   ]
  },
  {
   "cell_type": "code",
   "execution_count": 6,
   "id": "cd4d451a",
   "metadata": {},
   "outputs": [
    {
     "name": "stdout",
     "output_type": "stream",
     "text": [
      "Test1:\n",
      "boiling\n",
      "\n",
      "Test2:\n",
      "boiling\n",
      "freezing\n",
      "\n",
      "Test3:\n",
      "freezing\n",
      "all equal\n",
      "\n",
      "Test4:\n",
      "normal\n"
     ]
    }
   ],
   "source": [
    "### Q2\n",
    "\n",
    "def check_temps(temp1, temp2, temp3):\n",
    "    # checker for normal\n",
    "    is_normal = True\n",
    "\n",
    "    # 1. at least one temp at least 100 - print boiling\n",
    "    if temp1 >= 100 or temp2 >= 100 or temp3 >= 100:\n",
    "        print(\"boiling\")\n",
    "        is_normal = False\n",
    "    # 2. at least one temp is 0 or less - print freezing\n",
    "    if temp1 <= 0 or temp2 <= 0 or temp3 <= 0:\n",
    "        print(\"freezing\")\n",
    "        is_normal = False\n",
    "    # 3. all 3 are the same - print all equal\n",
    "    if temp1 == temp2 and temp2 == temp3:\n",
    "        print(\"all equal\")\n",
    "        is_normal = False\n",
    "    # 4. none are printed out, print normal\n",
    "    if is_normal: print(\"normal\")\n",
    "\n",
    "print(\"Test1:\")\n",
    "check_temps(4, 102, 76)\n",
    "print(\"\\nTest2:\")\n",
    "check_temps(4,102,-76)\n",
    "print(\"\\nTest3:\")\n",
    "check_temps(-76,-76,-76)\n",
    "print(\"\\nTest4:\")\n",
    "check_temps(76,83,4)"
   ]
  },
  {
   "cell_type": "code",
   "execution_count": 11,
   "id": "57595287",
   "metadata": {},
   "outputs": [
    {
     "name": "stdout",
     "output_type": "stream",
     "text": [
      "Test1:\n",
      "Programming with data\n",
      "   g  m     w        \n",
      "Test2:\n",
      "Programming with data\n",
      "   g  m     w    da\n",
      "Test3:\n",
      "Programming with data\n",
      "   g  m              \n",
      "Test4:\n",
      "Programming with data\n",
      "                     "
     ]
    }
   ],
   "source": [
    "### Q3\n",
    "\n",
    "def match_positions(str1, str2):\n",
    "    # printing str1 first\n",
    "    print(str1)\n",
    "    # using pointer for str2\n",
    "    curr = 0\n",
    "\n",
    "    # iterating thru str1\n",
    "    for char in str1:\n",
    "        # checks for match and within length of str2\n",
    "        if curr < len(str2):\n",
    "            if char == str2[curr]:\n",
    "                # if match, print out and increment curr\n",
    "                print(char, end = \"\")\n",
    "                curr += 1\n",
    "            else:\n",
    "                print(\" \", end = \"\")\n",
    "\n",
    "print(\"Test1:\")\n",
    "match_positions('Programming with data','gmwDa')\n",
    "print(\"\\nTest2:\")\n",
    "match_positions('Programming with data','gmwda')\n",
    "print(\"\\nTest3:\")\n",
    "match_positions('Programming with data','gmP')\n",
    "print(\"\\nTest4:\")\n",
    "match_positions('Programming with data','Xabc')"
   ]
  },
  {
   "cell_type": "code",
   "execution_count": 31,
   "id": "8a3f5856",
   "metadata": {},
   "outputs": [
    {
     "name": "stdout",
     "output_type": "stream",
     "text": [
      "True\n",
      "True\n"
     ]
    }
   ],
   "source": [
    "### Q4\n",
    "\n",
    "def swap_halves(n):\n",
    "    # need to get the power to modulo\n",
    "    pow = 1\n",
    "    while n > 10**pow:\n",
    "        pow += 1\n",
    "\n",
    "    # take the last digits\n",
    "    ends = n % (10**(pow//2))\n",
    "    # take the start digits\n",
    "    starts = n // (10**(pow//2))\n",
    "\n",
    "    # handles odd lengths\n",
    "    if pow % 2 == 1:\n",
    "        mid = starts % 10\n",
    "        starts = starts // 10\n",
    "        return ends * (10**(pow//2+1)) + mid * (10**(pow//2)) + starts\n",
    "    \n",
    "    # handles even lengths\n",
    "    else:\n",
    "        return ends * (10**(pow//2)) + starts\n",
    "\n",
    "print(swap_halves(123456) == 456123) # 456123\n",
    "print(swap_halves(12345) == 45312) # 45312"
   ]
  },
  {
   "cell_type": "code",
   "execution_count": 1,
   "id": "28ce4969",
   "metadata": {},
   "outputs": [
    {
     "name": "stdout",
     "output_type": "stream",
     "text": [
      "**********\n",
      "****  ****\n",
      "***    ***\n",
      "**      **\n",
      "*        *\n",
      " ******** \n",
      "  ******  \n",
      "   ****   \n",
      "    **    \n"
     ]
    }
   ],
   "source": [
    "def print_pattern(n):\n",
    "    # Question asked for 9 rows, NOT 10\n",
    "    for r in range(1, (n*2)):\n",
    "        for c in range(1, (n*2)+1):\n",
    "            ## CONDITIONS:\n",
    "            # 1. first 5 columns and rows, row + column <= n+1 \n",
    "            if c <= n and r <= n and r+c <= n+1:\n",
    "                print(\"*\", end = \"\")\n",
    "            # 2. last 5 columns and rows, column - n >= row\n",
    "            elif c > n and r > n and r+c < (3*n)+1:\n",
    "                print(\"*\", end = \"\")\n",
    "            # 3. last 5 rows, first 5 columns, row-n <= column\n",
    "            elif r > n and c <= n and r-n < c:\n",
    "                print(\"*\", end = \"\")\n",
    "            # 3. first 5 rows, last 5 columns, row-n <= column\n",
    "            elif r <= n and c > n and c-n >= r:\n",
    "                print(\"*\", end = \"\")\n",
    "            else:\n",
    "                print(\" \", end = \"\")\n",
    "\n",
    "        print()\n",
    "    pass\n",
    "\n",
    "print_pattern(5)\n",
    "# print_pattern(8)"
   ]
  },
  {
   "cell_type": "code",
   "execution_count": 47,
   "id": "367b1a6d",
   "metadata": {},
   "outputs": [
    {
     "name": "stdout",
     "output_type": "stream",
     "text": [
      "[214, 547]\n",
      "[214, 547]\n",
      "[214, 547]\n"
     ]
    }
   ],
   "source": [
    "### Q6\n",
    "\n",
    "def increase_integers(string, integer):\n",
    "    # CONSTANT: DEFINE NUMBERS\n",
    "    NUMBERS = \"0123456789\"\n",
    "    output = []\n",
    "    curr_int = \"\"\n",
    "\n",
    "    for char in string:\n",
    "        # if continuous numbers, keep adding\n",
    "        if char in NUMBERS:\n",
    "            curr_int += char\n",
    "        # if not number, add to output and clear curr_int\n",
    "        else:\n",
    "            if curr_int != \"\":\n",
    "                output += [int(curr_int) + integer]\n",
    "                curr_int = \"\"\n",
    "\n",
    "    return output\n",
    "\n",
    "print(increase_integers(\"abc 123 defgh 456 ij\", 91))\n",
    "print(increase_integers(\"abc 123 defgh 00456 ij\", 91))\n",
    "print(increase_integers(\"abc 123de fgh456 ij\", 91))"
   ]
  }
 ],
 "metadata": {
  "kernelspec": {
   "display_name": "Python 3",
   "language": "python",
   "name": "python3"
  },
  "language_info": {
   "codemirror_mode": {
    "name": "ipython",
    "version": 3
   },
   "file_extension": ".py",
   "mimetype": "text/x-python",
   "name": "python",
   "nbconvert_exporter": "python",
   "pygments_lexer": "ipython3",
   "version": "3.13.5"
  }
 },
 "nbformat": 4,
 "nbformat_minor": 5
}
