{
 "cells": [
  {
   "cell_type": "code",
   "execution_count": 1,
   "metadata": {},
   "outputs": [
    {
     "data": {
      "text/plain": [
       "{'Salesrep': ['Sam', 'Sam', 'Wendy', 'Wendy', 'Dan'],\n",
       " 'Weekday': ['Monday', 'Tuesday', 'Monday', 'Tuesday', 'Monday'],\n",
       " 'Salesmade': [200, 100, 300, 200, 400]}"
      ]
     },
     "execution_count": 1,
     "metadata": {},
     "output_type": "execute_result"
    }
   ],
   "source": [
    "# Import Pandas and Numpy Libraries.\n",
    "# Numpy stands for \"number python\".\n",
    "# Numpy is the library that performs special numeric operations.\n",
    "import pandas as pd\n",
    "import numpy as np\n",
    "\n",
    "# Create a dictionary, which contains a list (of strings) associated with each key\n",
    "data1 = {'Salesrep':['Sam','Sam','Wendy','Wendy','Dan'],'Weekday':['Monday','Tuesday','Monday','Tuesday','Monday'],'Salesmade':[200,100,300,200,400]}\n",
    "data1"
   ]
  },
  {
   "cell_type": "code",
   "execution_count": 2,
   "metadata": {},
   "outputs": [
    {
     "data": {
      "text/html": [
       "<div>\n",
       "<style scoped>\n",
       "    .dataframe tbody tr th:only-of-type {\n",
       "        vertical-align: middle;\n",
       "    }\n",
       "\n",
       "    .dataframe tbody tr th {\n",
       "        vertical-align: top;\n",
       "    }\n",
       "\n",
       "    .dataframe thead th {\n",
       "        text-align: right;\n",
       "    }\n",
       "</style>\n",
       "<table border=\"1\" class=\"dataframe\">\n",
       "  <thead>\n",
       "    <tr style=\"text-align: right;\">\n",
       "      <th></th>\n",
       "      <th>Salesrep</th>\n",
       "      <th>Weekday</th>\n",
       "      <th>Salesmade</th>\n",
       "    </tr>\n",
       "  </thead>\n",
       "  <tbody>\n",
       "    <tr>\n",
       "      <th>0</th>\n",
       "      <td>Sam</td>\n",
       "      <td>Monday</td>\n",
       "      <td>200</td>\n",
       "    </tr>\n",
       "    <tr>\n",
       "      <th>1</th>\n",
       "      <td>Sam</td>\n",
       "      <td>Tuesday</td>\n",
       "      <td>100</td>\n",
       "    </tr>\n",
       "    <tr>\n",
       "      <th>2</th>\n",
       "      <td>Wendy</td>\n",
       "      <td>Monday</td>\n",
       "      <td>300</td>\n",
       "    </tr>\n",
       "    <tr>\n",
       "      <th>3</th>\n",
       "      <td>Wendy</td>\n",
       "      <td>Tuesday</td>\n",
       "      <td>200</td>\n",
       "    </tr>\n",
       "    <tr>\n",
       "      <th>4</th>\n",
       "      <td>Dan</td>\n",
       "      <td>Monday</td>\n",
       "      <td>400</td>\n",
       "    </tr>\n",
       "  </tbody>\n",
       "</table>\n",
       "</div>"
      ],
      "text/plain": [
       "  Salesrep  Weekday  Salesmade\n",
       "0      Sam   Monday        200\n",
       "1      Sam  Tuesday        100\n",
       "2    Wendy   Monday        300\n",
       "3    Wendy  Tuesday        200\n",
       "4      Dan   Monday        400"
      ]
     },
     "execution_count": 2,
     "metadata": {},
     "output_type": "execute_result"
    }
   ],
   "source": [
    "# Create a DataFrame directly from a dictionary structure.\n",
    "# A DataFrame is a 2-D structure where each column in the DataFrame is a Series.\n",
    "df = pd.DataFrame(data1)\n",
    "df"
   ]
  },
  {
   "cell_type": "code",
   "execution_count": 3,
   "metadata": {},
   "outputs": [],
   "source": [
    "# Create a data structure where rows are grouped by 'Salesrep'.\n",
    "# Therefore, when we perform statistical queries, they will be performed for each group,\n",
    "# i.e. for each Salesrep.\n",
    "repgrp = df.groupby('Salesrep')"
   ]
  },
  {
   "cell_type": "code",
   "execution_count": 4,
   "metadata": {},
   "outputs": [
    {
     "data": {
      "text/plain": [
       "Salesrep\n",
       "Dan      400.0\n",
       "Sam      150.0\n",
       "Wendy    250.0\n",
       "Name: Salesmade, dtype: float64"
      ]
     },
     "execution_count": 4,
     "metadata": {},
     "output_type": "execute_result"
    }
   ],
   "source": [
    "# Display the average of all numeric variables for each group.\n",
    "# i.e. Display average 'Salesmade' for each 'Salesrep'.\n",
    "repgrp['Salesmade'].mean()\n",
    "\n",
    "# Older versions of Python:\n",
    "#repgrp.mean()"
   ]
  },
  {
   "cell_type": "code",
   "execution_count": 5,
   "metadata": {},
   "outputs": [
    {
     "data": {
      "text/plain": [
       "Salesrep\n",
       "Dan      400.0\n",
       "Sam      150.0\n",
       "Wendy    250.0\n",
       "Name: Salesmade, dtype: float64"
      ]
     },
     "execution_count": 5,
     "metadata": {},
     "output_type": "execute_result"
    }
   ],
   "source": [
    "# This does the same as above, but uses the dataframe directly\n",
    "# instead of the variable repgrp\n",
    "df.groupby('Salesrep')['Salesmade'].mean()\n",
    "\n",
    "# Older versions of Python:\n",
    "#df.groupby('Salesrep').mean()"
   ]
  },
  {
   "cell_type": "code",
   "execution_count": 6,
   "metadata": {},
   "outputs": [
    {
     "data": {
      "text/html": [
       "<div>\n",
       "<style scoped>\n",
       "    .dataframe tbody tr th:only-of-type {\n",
       "        vertical-align: middle;\n",
       "    }\n",
       "\n",
       "    .dataframe tbody tr th {\n",
       "        vertical-align: top;\n",
       "    }\n",
       "\n",
       "    .dataframe thead th {\n",
       "        text-align: right;\n",
       "    }\n",
       "</style>\n",
       "<table border=\"1\" class=\"dataframe\">\n",
       "  <thead>\n",
       "    <tr style=\"text-align: right;\">\n",
       "      <th></th>\n",
       "      <th>Weekday</th>\n",
       "      <th>Salesmade</th>\n",
       "    </tr>\n",
       "    <tr>\n",
       "      <th>Salesrep</th>\n",
       "      <th></th>\n",
       "      <th></th>\n",
       "    </tr>\n",
       "  </thead>\n",
       "  <tbody>\n",
       "    <tr>\n",
       "      <th>Dan</th>\n",
       "      <td>Monday</td>\n",
       "      <td>400</td>\n",
       "    </tr>\n",
       "    <tr>\n",
       "      <th>Sam</th>\n",
       "      <td>MondayTuesday</td>\n",
       "      <td>300</td>\n",
       "    </tr>\n",
       "    <tr>\n",
       "      <th>Wendy</th>\n",
       "      <td>MondayTuesday</td>\n",
       "      <td>500</td>\n",
       "    </tr>\n",
       "  </tbody>\n",
       "</table>\n",
       "</div>"
      ],
      "text/plain": [
       "                Weekday  Salesmade\n",
       "Salesrep                          \n",
       "Dan              Monday        400\n",
       "Sam       MondayTuesday        300\n",
       "Wendy     MondayTuesday        500"
      ]
     },
     "execution_count": 6,
     "metadata": {},
     "output_type": "execute_result"
    }
   ],
   "source": [
    "# Display total for all variables for each 'Salesrep'\n",
    "repgrp.sum()"
   ]
  },
  {
   "cell_type": "code",
   "execution_count": 7,
   "metadata": {},
   "outputs": [
    {
     "data": {
      "text/plain": [
       "Salesrep\n",
       "Dan      400\n",
       "Sam      300\n",
       "Wendy    500\n",
       "Name: Salesmade, dtype: int64"
      ]
     },
     "execution_count": 7,
     "metadata": {},
     "output_type": "execute_result"
    }
   ],
   "source": [
    "# Display total 'Salesmade' for each 'Salesrep'\n",
    "repgrp['Salesmade'].sum()"
   ]
  },
  {
   "cell_type": "code",
   "execution_count": 8,
   "metadata": {},
   "outputs": [
    {
     "data": {
      "text/plain": [
       "Salesrep\n",
       "Dan            NaN\n",
       "Sam      70.710678\n",
       "Wendy    70.710678\n",
       "Name: Salesmade, dtype: float64"
      ]
     },
     "execution_count": 8,
     "metadata": {},
     "output_type": "execute_result"
    }
   ],
   "source": [
    "# Display standard deviation of 'Salesmade' for each 'Salesrep'\n",
    "repgrp['Salesmade'].std()"
   ]
  },
  {
   "cell_type": "code",
   "execution_count": 9,
   "metadata": {},
   "outputs": [
    {
     "data": {
      "text/plain": [
       "Salesrep\n",
       "Dan      400.0\n",
       "Sam      150.0\n",
       "Wendy    250.0\n",
       "Name: Salesmade, dtype: float64"
      ]
     },
     "execution_count": 9,
     "metadata": {},
     "output_type": "execute_result"
    }
   ],
   "source": [
    "# Display average 'Salesmade' for each 'Salesrep'.\n",
    "# This is a little different to the above example.\n",
    "df.groupby('Salesrep')['Salesmade'].mean()\n",
    "\n",
    "# Older versions of Python:\n",
    "#df.groupby('Salesrep').mean()"
   ]
  },
  {
   "cell_type": "code",
   "execution_count": 10,
   "metadata": {},
   "outputs": [
    {
     "data": {
      "text/plain": [
       "400.0"
      ]
     },
     "execution_count": 10,
     "metadata": {},
     "output_type": "execute_result"
    }
   ],
   "source": [
    "# Display average 'Salesmade' for each 'Salesrep', but only show the first row (Salesrep)\n",
    "df.groupby('Salesrep')['Salesmade'].mean().iloc[0]\n",
    "\n",
    "# Older versions of Python:\n",
    "#df.groupby('Salesrep').mean().iloc[0]"
   ]
  },
  {
   "cell_type": "code",
   "execution_count": 11,
   "metadata": {},
   "outputs": [
    {
     "data": {
      "text/plain": [
       "400.0"
      ]
     },
     "execution_count": 11,
     "metadata": {},
     "output_type": "execute_result"
    }
   ],
   "source": [
    "# Display average 'Salesmade' for each 'Salesrep', but only show Dan's result\n",
    "df.groupby('Salesrep')['Salesmade'].mean().loc['Dan']\n",
    "\n",
    "# Older versions of Python:\n",
    "#df.groupby('Salesrep').mean().loc['Dan']"
   ]
  },
  {
   "cell_type": "code",
   "execution_count": 12,
   "metadata": {},
   "outputs": [
    {
     "data": {
      "text/html": [
       "<div>\n",
       "<style scoped>\n",
       "    .dataframe tbody tr th:only-of-type {\n",
       "        vertical-align: middle;\n",
       "    }\n",
       "\n",
       "    .dataframe tbody tr th {\n",
       "        vertical-align: top;\n",
       "    }\n",
       "\n",
       "    .dataframe thead th {\n",
       "        text-align: right;\n",
       "    }\n",
       "</style>\n",
       "<table border=\"1\" class=\"dataframe\">\n",
       "  <thead>\n",
       "    <tr style=\"text-align: right;\">\n",
       "      <th></th>\n",
       "      <th>Weekday</th>\n",
       "      <th>Salesmade</th>\n",
       "    </tr>\n",
       "    <tr>\n",
       "      <th>Salesrep</th>\n",
       "      <th></th>\n",
       "      <th></th>\n",
       "    </tr>\n",
       "  </thead>\n",
       "  <tbody>\n",
       "    <tr>\n",
       "      <th>Dan</th>\n",
       "      <td>1</td>\n",
       "      <td>1</td>\n",
       "    </tr>\n",
       "    <tr>\n",
       "      <th>Sam</th>\n",
       "      <td>2</td>\n",
       "      <td>2</td>\n",
       "    </tr>\n",
       "    <tr>\n",
       "      <th>Wendy</th>\n",
       "      <td>2</td>\n",
       "      <td>2</td>\n",
       "    </tr>\n",
       "  </tbody>\n",
       "</table>\n",
       "</div>"
      ],
      "text/plain": [
       "          Weekday  Salesmade\n",
       "Salesrep                    \n",
       "Dan             1          1\n",
       "Sam             2          2\n",
       "Wendy           2          2"
      ]
     },
     "execution_count": 12,
     "metadata": {},
     "output_type": "execute_result"
    }
   ],
   "source": [
    "# Count all variable values for each variable, for each 'Salesrep'\n",
    "df.groupby('Salesrep').count()"
   ]
  },
  {
   "cell_type": "code",
   "execution_count": 13,
   "metadata": {},
   "outputs": [
    {
     "data": {
      "text/plain": [
       "Salesrep\n",
       "Dan      400\n",
       "Sam      300\n",
       "Wendy    500\n",
       "Name: Salesmade, dtype: int64"
      ]
     },
     "execution_count": 13,
     "metadata": {},
     "output_type": "execute_result"
    }
   ],
   "source": [
    "# Display total 'Salesmade' for each 'Salesrep'.\n",
    "# This is another way to do it.\n",
    "df.groupby('Salesrep')['Salesmade'].sum()"
   ]
  },
  {
   "cell_type": "markdown",
   "metadata": {},
   "source": [
    "## Self Practice Exercises"
   ]
  },
  {
   "cell_type": "markdown",
   "metadata": {},
   "source": [
    "1) Which day has a greater average salesmade (per salesrep)?"
   ]
  },
  {
   "cell_type": "code",
   "execution_count": 14,
   "metadata": {},
   "outputs": [
    {
     "data": {
      "text/plain": [
       "Weekday\n",
       "Monday     300.0\n",
       "Tuesday    150.0\n",
       "Name: Salesmade, dtype: float64"
      ]
     },
     "execution_count": 14,
     "metadata": {},
     "output_type": "execute_result"
    }
   ],
   "source": [
    "# First, group by 'Weekday',\n",
    "# then get column 'Salesmade',\n",
    "# then show average\n",
    "df.groupby('Weekday')['Salesmade'].mean()"
   ]
  },
  {
   "cell_type": "markdown",
   "metadata": {},
   "source": [
    "2) What's the maximum salesmade for each day (by one sales rep)?"
   ]
  },
  {
   "cell_type": "code",
   "execution_count": 15,
   "metadata": {},
   "outputs": [
    {
     "data": {
      "text/plain": [
       "Weekday\n",
       "Monday     400\n",
       "Tuesday    200\n",
       "Name: Salesmade, dtype: int64"
      ]
     },
     "execution_count": 15,
     "metadata": {},
     "output_type": "execute_result"
    }
   ],
   "source": [
    "# First, group by 'Weekday',\n",
    "# then get column 'Salesmade',\n",
    "# then show maximum\n",
    "df.groupby('Weekday')['Salesmade'].max()"
   ]
  },
  {
   "cell_type": "markdown",
   "metadata": {},
   "source": [
    "3) Display the output which performs the groupby using Weekday and Salesrep as below.The numeric column shows the average salesmade "
   ]
  },
  {
   "cell_type": "code",
   "execution_count": 16,
   "metadata": {},
   "outputs": [
    {
     "data": {
      "text/plain": [
       "Weekday  Salesrep\n",
       "Monday   Dan         400.0\n",
       "         Sam         200.0\n",
       "         Wendy       300.0\n",
       "Tuesday  Sam         100.0\n",
       "         Wendy       200.0\n",
       "Name: Salesmade, dtype: float64"
      ]
     },
     "execution_count": 16,
     "metadata": {},
     "output_type": "execute_result"
    }
   ],
   "source": [
    "# First, group by 'Weekday', then group by 'Salesrep'\n",
    "# then get column 'Salesmade',\n",
    "# then show average\n",
    "df.groupby(['Weekday', 'Salesrep'])['Salesmade'].mean()"
   ]
  }
 ],
 "metadata": {
  "kernelspec": {
   "display_name": "Python 3 (ipykernel)",
   "language": "python",
   "name": "python3"
  },
  "language_info": {
   "codemirror_mode": {
    "name": "ipython",
    "version": 3
   },
   "file_extension": ".py",
   "mimetype": "text/x-python",
   "name": "python",
   "nbconvert_exporter": "python",
   "pygments_lexer": "ipython3",
   "version": "3.11.7"
  },
  "toc": {
   "base_numbering": 1,
   "nav_menu": {},
   "number_sections": true,
   "sideBar": true,
   "skip_h1_title": false,
   "title_cell": "Table of Contents",
   "title_sidebar": "Contents",
   "toc_cell": false,
   "toc_position": {},
   "toc_section_display": true,
   "toc_window_display": false
  },
  "varInspector": {
   "cols": {
    "lenName": 16,
    "lenType": 16,
    "lenVar": 40
   },
   "kernels_config": {
    "python": {
     "delete_cmd_postfix": "",
     "delete_cmd_prefix": "del ",
     "library": "var_list.py",
     "varRefreshCmd": "print(var_dic_list())"
    },
    "r": {
     "delete_cmd_postfix": ") ",
     "delete_cmd_prefix": "rm(",
     "library": "var_list.r",
     "varRefreshCmd": "cat(var_dic_list()) "
    }
   },
   "types_to_exclude": [
    "module",
    "function",
    "builtin_function_or_method",
    "instance",
    "_Feature"
   ],
   "window_display": false
  }
 },
 "nbformat": 4,
 "nbformat_minor": 4
}
