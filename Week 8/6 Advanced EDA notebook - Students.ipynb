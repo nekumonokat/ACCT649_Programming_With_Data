{
 "cells": [
  {
   "cell_type": "markdown",
   "metadata": {},
   "source": [
    "## Systematic approach to Exploring a given data set \n",
    "I have used the popular titanic dataset to go through a series of sequential questions that you need to answer when exploring a new dataset \n",
    "1) How many rows and columns are there in the dataset?\n",
    "2) Appropriate summaries of columns \n",
    "    1) Summary statistics of numerical values\n",
    "    2) Frequency distribution of categorical values\n",
    "    3) Find out the missing values and replace with the mean \n",
    "3) Univariate visualizations to know the distrbutions \n",
    "    1) Histograms and box plots for numeric columns\n",
    "    2) Bar charts for categorical data\n",
    "4) Bivariate analysis\n",
    "    1) Correlation between 2 numeric variables\n",
    "    2) Scatter plot between 2 numeric variables\n",
    "5) Convert categorical into dummy variable taking value 1 and 0 \n",
    "6) Converting numeric variables into categorical data types\n",
    "    1) Using an advanced function which maps values into bins of desired ranges \n",
    "    \n",
    "    "
   ]
  },
  {
   "cell_type": "code",
   "execution_count": 1,
   "metadata": {},
   "outputs": [],
   "source": [
    "# Import pandas and numpy libraries\n",
    "import pandas as pd\n",
    "import numpy as np"
   ]
  },
  {
   "cell_type": "code",
   "execution_count": 2,
   "metadata": {},
   "outputs": [],
   "source": [
    "# Read dataset from a URL (online), and store into a DataFrame\n",
    "titanic = pd.read_csv('https://raw.githubusercontent.com/vincentarelbundock/Rdatasets/master/csv/carData/TitanicSurvival.csv')"
   ]
  },
  {
   "cell_type": "code",
   "execution_count": 3,
   "metadata": {},
   "outputs": [
    {
     "name": "stdout",
     "output_type": "stream",
     "text": [
      "<class 'pandas.core.frame.DataFrame'>\n",
      "RangeIndex: 1309 entries, 0 to 1308\n",
      "Data columns (total 5 columns):\n",
      " #   Column          Non-Null Count  Dtype  \n",
      "---  ------          --------------  -----  \n",
      " 0   rownames        1309 non-null   object \n",
      " 1   survived        1309 non-null   object \n",
      " 2   sex             1309 non-null   object \n",
      " 3   age             1046 non-null   float64\n",
      " 4   passengerClass  1309 non-null   object \n",
      "dtypes: float64(1), object(4)\n",
      "memory usage: 51.3+ KB\n"
     ]
    }
   ],
   "source": [
    "# Show information about the dataset, including variable details\n",
    "titanic.info()"
   ]
  },
  {
   "cell_type": "code",
   "execution_count": 4,
   "metadata": {},
   "outputs": [
    {
     "data": {
      "text/html": [
       "<div>\n",
       "<style scoped>\n",
       "    .dataframe tbody tr th:only-of-type {\n",
       "        vertical-align: middle;\n",
       "    }\n",
       "\n",
       "    .dataframe tbody tr th {\n",
       "        vertical-align: top;\n",
       "    }\n",
       "\n",
       "    .dataframe thead th {\n",
       "        text-align: right;\n",
       "    }\n",
       "</style>\n",
       "<table border=\"1\" class=\"dataframe\">\n",
       "  <thead>\n",
       "    <tr style=\"text-align: right;\">\n",
       "      <th></th>\n",
       "      <th>rownames</th>\n",
       "      <th>survived</th>\n",
       "      <th>sex</th>\n",
       "      <th>age</th>\n",
       "      <th>passengerClass</th>\n",
       "    </tr>\n",
       "  </thead>\n",
       "  <tbody>\n",
       "    <tr>\n",
       "      <th>0</th>\n",
       "      <td>Allen, Miss. Elisabeth Walton</td>\n",
       "      <td>yes</td>\n",
       "      <td>female</td>\n",
       "      <td>29.0000</td>\n",
       "      <td>1st</td>\n",
       "    </tr>\n",
       "    <tr>\n",
       "      <th>1</th>\n",
       "      <td>Allison, Master. Hudson Trevor</td>\n",
       "      <td>yes</td>\n",
       "      <td>male</td>\n",
       "      <td>0.9167</td>\n",
       "      <td>1st</td>\n",
       "    </tr>\n",
       "    <tr>\n",
       "      <th>2</th>\n",
       "      <td>Allison, Miss. Helen Loraine</td>\n",
       "      <td>no</td>\n",
       "      <td>female</td>\n",
       "      <td>2.0000</td>\n",
       "      <td>1st</td>\n",
       "    </tr>\n",
       "    <tr>\n",
       "      <th>3</th>\n",
       "      <td>Allison, Mr. Hudson Joshua Crei</td>\n",
       "      <td>no</td>\n",
       "      <td>male</td>\n",
       "      <td>30.0000</td>\n",
       "      <td>1st</td>\n",
       "    </tr>\n",
       "    <tr>\n",
       "      <th>4</th>\n",
       "      <td>Allison, Mrs. Hudson J C (Bessi</td>\n",
       "      <td>no</td>\n",
       "      <td>female</td>\n",
       "      <td>25.0000</td>\n",
       "      <td>1st</td>\n",
       "    </tr>\n",
       "  </tbody>\n",
       "</table>\n",
       "</div>"
      ],
      "text/plain": [
       "                          rownames survived     sex      age passengerClass\n",
       "0    Allen, Miss. Elisabeth Walton      yes  female  29.0000            1st\n",
       "1   Allison, Master. Hudson Trevor      yes    male   0.9167            1st\n",
       "2     Allison, Miss. Helen Loraine       no  female   2.0000            1st\n",
       "3  Allison, Mr. Hudson Joshua Crei       no    male  30.0000            1st\n",
       "4  Allison, Mrs. Hudson J C (Bessi       no  female  25.0000            1st"
      ]
     },
     "execution_count": 4,
     "metadata": {},
     "output_type": "execute_result"
    }
   ],
   "source": [
    "# Show a summary of the first 5 rows of the dataset\n",
    "titanic.head()"
   ]
  },
  {
   "cell_type": "markdown",
   "metadata": {},
   "source": [
    "## First task for you is to get a comprehensive output of all the steps from 1 to 2 mentioned above for variables in the titanic dataset \n",
    "Which function did you use for each of the tasks ?"
   ]
  },
  {
   "cell_type": "markdown",
   "metadata": {},
   "source": [
    "## Lets focus on missing values now "
   ]
  },
  {
   "cell_type": "code",
   "execution_count": 5,
   "metadata": {},
   "outputs": [
    {
     "data": {
      "text/plain": [
       "rownames          1309\n",
       "survived          1309\n",
       "sex               1309\n",
       "age               1046\n",
       "passengerClass    1309\n",
       "dtype: int64"
      ]
     },
     "execution_count": 5,
     "metadata": {},
     "output_type": "execute_result"
    }
   ],
   "source": [
    "# How many non-missing values in each column?\n",
    "titanic.count()"
   ]
  },
  {
   "cell_type": "code",
   "execution_count": 6,
   "metadata": {},
   "outputs": [
    {
     "data": {
      "text/plain": [
       "rownames            0\n",
       "survived            0\n",
       "sex                 0\n",
       "age               263\n",
       "passengerClass      0\n",
       "dtype: int64"
      ]
     },
     "execution_count": 6,
     "metadata": {},
     "output_type": "execute_result"
    }
   ],
   "source": [
    "# How many missing values in each column? \n",
    "titanic.isnull().sum()"
   ]
  },
  {
   "cell_type": "code",
   "execution_count": 7,
   "metadata": {},
   "outputs": [
    {
     "data": {
      "text/plain": [
       "np.int64(1309)"
      ]
     },
     "execution_count": 7,
     "metadata": {},
     "output_type": "execute_result"
    }
   ],
   "source": [
    "# Replace the missing with mean of age for non missing values,\n",
    "# then show how many non-missing values in the 'age' variable\n",
    "titanic['age'].fillna(titanic['age'].mean).count()"
   ]
  },
  {
   "cell_type": "code",
   "execution_count": 8,
   "metadata": {},
   "outputs": [
    {
     "data": {
      "text/plain": [
       "array(['1st', '2nd', '3rd'], dtype=object)"
      ]
     },
     "execution_count": 8,
     "metadata": {},
     "output_type": "execute_result"
    }
   ],
   "source": [
    "# List all the possible unique values in the 'passengerClass' variable\n",
    "titanic['passengerClass'].unique()"
   ]
  },
  {
   "cell_type": "code",
   "execution_count": 9,
   "metadata": {},
   "outputs": [
    {
     "data": {
      "text/plain": [
       "3"
      ]
     },
     "execution_count": 9,
     "metadata": {},
     "output_type": "execute_result"
    }
   ],
   "source": [
    "# How many possible unique values in the 'passengerClass' variable?\n",
    "titanic['passengerClass'].nunique()"
   ]
  },
  {
   "cell_type": "code",
   "execution_count": 10,
   "metadata": {},
   "outputs": [
    {
     "data": {
      "text/plain": [
       "passengerClass\n",
       "3rd    709\n",
       "1st    323\n",
       "2nd    277\n",
       "Name: count, dtype: int64"
      ]
     },
     "execution_count": 10,
     "metadata": {},
     "output_type": "execute_result"
    }
   ],
   "source": [
    "# For each possible unique value in the 'passengerClass' variable,\n",
    "# count how often that value occurs\n",
    "titanic['passengerClass'].value_counts()"
   ]
  },
  {
   "cell_type": "markdown",
   "metadata": {},
   "source": [
    "## Secondly lets explore some  visualization functions using a special library called seaborn to work on steps 3 to 4 "
   ]
  },
  {
   "cell_type": "code",
   "execution_count": 11,
   "metadata": {},
   "outputs": [],
   "source": [
    "# Import some libraries that allow us to perform visualization\n",
    "import matplotlib.pyplot as plt\n",
    "import seaborn as sns\n",
    "%matplotlib inline"
   ]
  },
  {
   "cell_type": "code",
   "execution_count": 12,
   "metadata": {},
   "outputs": [
    {
     "data": {
      "text/plain": [
       "<Axes: xlabel='age', ylabel='Count'>"
      ]
     },
     "execution_count": 12,
     "metadata": {},
     "output_type": "execute_result"
    },
    {
     "data": {
      "image/png": "[encoded data removed]",
      "text/plain": [
       "<Figure size 640x480 with 1 Axes>"
      ]
     },
     "metadata": {},
     "output_type": "display_data"
    }
   ],
   "source": [
    "# Show historgram of 'age' variable after removing NA's\n",
    "sns.histplot(titanic['age'].dropna())"
   ]
  },
  {
   "cell_type": "code",
   "execution_count": 13,
   "metadata": {},
   "outputs": [
    {
     "data": {
      "text/plain": [
       "<Axes: xlabel='age', ylabel='Density'>"
      ]
     },
     "execution_count": 13,
     "metadata": {},
     "output_type": "execute_result"
    },
    {
     "data": {
      "image/png": "[encoded data removed]",
      "text/plain": [
       "<Figure size 640x480 with 1 Axes>"
      ]
     },
     "metadata": {},
     "output_type": "display_data"
    }
   ],
   "source": [
    "# Show density plot of 'age' variable.\n",
    "# A density plot is like a histogram, but is used for continuous variables,\n",
    "# so the y-axis does not measure count, but rather probability.\n",
    "sns.kdeplot(titanic['age'])"
   ]
  },
  {
   "cell_type": "code",
   "execution_count": 14,
   "metadata": {},
   "outputs": [
    {
     "data": {
      "text/plain": [
       "<Axes: ylabel='age'>"
      ]
     },
     "execution_count": 14,
     "metadata": {},
     "output_type": "execute_result"
    },
    {
     "data": {
      "image/png": "[encoded data removed]",
      "text/plain": [
       "<Figure size 640x480 with 1 Axes>"
      ]
     },
     "metadata": {},
     "output_type": "display_data"
    }
   ],
   "source": [
    "# Show boxplot for variable 'age'\n",
    "sns.boxplot(y = titanic['age'])"
   ]
  },
  {
   "cell_type": "code",
   "execution_count": 15,
   "metadata": {},
   "outputs": [
    {
     "data": {
      "text/plain": [
       "<Axes: xlabel='survived', ylabel='count'>"
      ]
     },
     "execution_count": 15,
     "metadata": {},
     "output_type": "execute_result"
    },
    {
     "data": {
      "image/png": "[encoded data removed]",
      "text/plain": [
       "<Figure size 640x480 with 1 Axes>"
      ]
     },
     "metadata": {},
     "output_type": "display_data"
    }
   ],
   "source": [
    "# Show bar chart for variable 'survived' \n",
    "sns.countplot(titanic, x='survived')"
   ]
  },
  {
   "cell_type": "code",
   "execution_count": 16,
   "metadata": {},
   "outputs": [
    {
     "data": {
      "text/html": [
       "<div>\n",
       "<style scoped>\n",
       "    .dataframe tbody tr th:only-of-type {\n",
       "        vertical-align: middle;\n",
       "    }\n",
       "\n",
       "    .dataframe tbody tr th {\n",
       "        vertical-align: top;\n",
       "    }\n",
       "\n",
       "    .dataframe thead th {\n",
       "        text-align: right;\n",
       "    }\n",
       "</style>\n",
       "<table border=\"1\" class=\"dataframe\">\n",
       "  <thead>\n",
       "    <tr style=\"text-align: right;\">\n",
       "      <th></th>\n",
       "      <th>age</th>\n",
       "    </tr>\n",
       "  </thead>\n",
       "  <tbody>\n",
       "    <tr>\n",
       "      <th>age</th>\n",
       "      <td>1.0</td>\n",
       "    </tr>\n",
       "  </tbody>\n",
       "</table>\n",
       "</div>"
      ],
      "text/plain": [
       "     age\n",
       "age  1.0"
      ]
     },
     "execution_count": 16,
     "metadata": {},
     "output_type": "execute_result"
    }
   ],
   "source": [
    "# Show correlation between numeric varibles.\n",
    "# There is only one numeric variable in the titanic dataset,\n",
    "# so of course the correlation between the 'age' variable and itself is 1.\n",
    "titanic.corr(numeric_only=True)"
   ]
  },
  {
   "cell_type": "code",
   "execution_count": 17,
   "metadata": {},
   "outputs": [
    {
     "data": {
      "text/html": [
       "<div>\n",
       "<style scoped>\n",
       "    .dataframe tbody tr th:only-of-type {\n",
       "        vertical-align: middle;\n",
       "    }\n",
       "\n",
       "    .dataframe tbody tr th {\n",
       "        vertical-align: top;\n",
       "    }\n",
       "\n",
       "    .dataframe thead th {\n",
       "        text-align: right;\n",
       "    }\n",
       "</style>\n",
       "<table border=\"1\" class=\"dataframe\">\n",
       "  <thead>\n",
       "    <tr style=\"text-align: right;\">\n",
       "      <th></th>\n",
       "      <th>financial_year</th>\n",
       "      <th>type_of_hdb</th>\n",
       "      <th>no_of_cases</th>\n",
       "      <th>median_annual_value</th>\n",
       "      <th>property_tax_collection</th>\n",
       "    </tr>\n",
       "  </thead>\n",
       "  <tbody>\n",
       "    <tr>\n",
       "      <th>0</th>\n",
       "      <td>2010</td>\n",
       "      <td>1 or 2 Room</td>\n",
       "      <td>8632</td>\n",
       "      <td>4500</td>\n",
       "      <td>190</td>\n",
       "    </tr>\n",
       "    <tr>\n",
       "      <th>1</th>\n",
       "      <td>2010</td>\n",
       "      <td>3 Room</td>\n",
       "      <td>213865</td>\n",
       "      <td>6300</td>\n",
       "      <td>16259</td>\n",
       "    </tr>\n",
       "    <tr>\n",
       "      <th>2</th>\n",
       "      <td>2010</td>\n",
       "      <td>4 Room</td>\n",
       "      <td>339721</td>\n",
       "      <td>8100</td>\n",
       "      <td>45089</td>\n",
       "    </tr>\n",
       "    <tr>\n",
       "      <th>3</th>\n",
       "      <td>2010</td>\n",
       "      <td>5 Room</td>\n",
       "      <td>209210</td>\n",
       "      <td>9000</td>\n",
       "      <td>37936</td>\n",
       "    </tr>\n",
       "    <tr>\n",
       "      <th>4</th>\n",
       "      <td>2010</td>\n",
       "      <td>Executive &amp; Others</td>\n",
       "      <td>64613</td>\n",
       "      <td>9300</td>\n",
       "      <td>13046</td>\n",
       "    </tr>\n",
       "    <tr>\n",
       "      <th>5</th>\n",
       "      <td>2011</td>\n",
       "      <td>1 or 2 Room</td>\n",
       "      <td>9310</td>\n",
       "      <td>5400</td>\n",
       "      <td>242</td>\n",
       "    </tr>\n",
       "    <tr>\n",
       "      <th>6</th>\n",
       "      <td>2011</td>\n",
       "      <td>3 Room</td>\n",
       "      <td>214311</td>\n",
       "      <td>7800</td>\n",
       "      <td>15120</td>\n",
       "    </tr>\n",
       "    <tr>\n",
       "      <th>7</th>\n",
       "      <td>2011</td>\n",
       "      <td>4 Room</td>\n",
       "      <td>347111</td>\n",
       "      <td>9600</td>\n",
       "      <td>41575</td>\n",
       "    </tr>\n",
       "    <tr>\n",
       "      <th>8</th>\n",
       "      <td>2011</td>\n",
       "      <td>5 Room</td>\n",
       "      <td>212018</td>\n",
       "      <td>10800</td>\n",
       "      <td>35677</td>\n",
       "    </tr>\n",
       "    <tr>\n",
       "      <th>9</th>\n",
       "      <td>2011</td>\n",
       "      <td>Executive &amp; Others</td>\n",
       "      <td>64858</td>\n",
       "      <td>11100</td>\n",
       "      <td>11929</td>\n",
       "    </tr>\n",
       "    <tr>\n",
       "      <th>10</th>\n",
       "      <td>2012</td>\n",
       "      <td>1 or 2 Room</td>\n",
       "      <td>10465</td>\n",
       "      <td>5400</td>\n",
       "      <td>301</td>\n",
       "    </tr>\n",
       "    <tr>\n",
       "      <th>11</th>\n",
       "      <td>2012</td>\n",
       "      <td>3 Room</td>\n",
       "      <td>215381</td>\n",
       "      <td>8700</td>\n",
       "      <td>25037</td>\n",
       "    </tr>\n",
       "    <tr>\n",
       "      <th>12</th>\n",
       "      <td>2012</td>\n",
       "      <td>4 Room</td>\n",
       "      <td>353814</td>\n",
       "      <td>10500</td>\n",
       "      <td>58422</td>\n",
       "    </tr>\n",
       "    <tr>\n",
       "      <th>13</th>\n",
       "      <td>2012</td>\n",
       "      <td>5 Room</td>\n",
       "      <td>214028</td>\n",
       "      <td>11400</td>\n",
       "      <td>45548</td>\n",
       "    </tr>\n",
       "    <tr>\n",
       "      <th>14</th>\n",
       "      <td>2012</td>\n",
       "      <td>Executive &amp; Others</td>\n",
       "      <td>64953</td>\n",
       "      <td>12000</td>\n",
       "      <td>15107</td>\n",
       "    </tr>\n",
       "    <tr>\n",
       "      <th>15</th>\n",
       "      <td>2013</td>\n",
       "      <td>1 or 2 Room</td>\n",
       "      <td>12729</td>\n",
       "      <td>5400</td>\n",
       "      <td>328</td>\n",
       "    </tr>\n",
       "    <tr>\n",
       "      <th>16</th>\n",
       "      <td>2013</td>\n",
       "      <td>3 Room</td>\n",
       "      <td>218383</td>\n",
       "      <td>8940</td>\n",
       "      <td>26535</td>\n",
       "    </tr>\n",
       "    <tr>\n",
       "      <th>17</th>\n",
       "      <td>2013</td>\n",
       "      <td>4 Room</td>\n",
       "      <td>361255</td>\n",
       "      <td>10800</td>\n",
       "      <td>60632</td>\n",
       "    </tr>\n",
       "    <tr>\n",
       "      <th>18</th>\n",
       "      <td>2013</td>\n",
       "      <td>5 Room</td>\n",
       "      <td>215881</td>\n",
       "      <td>11700</td>\n",
       "      <td>47061</td>\n",
       "    </tr>\n",
       "    <tr>\n",
       "      <th>19</th>\n",
       "      <td>2013</td>\n",
       "      <td>Executive &amp; Others</td>\n",
       "      <td>65006</td>\n",
       "      <td>12000</td>\n",
       "      <td>15602</td>\n",
       "    </tr>\n",
       "    <tr>\n",
       "      <th>20</th>\n",
       "      <td>2014</td>\n",
       "      <td>1 or 2 Room</td>\n",
       "      <td>16938</td>\n",
       "      <td>5400</td>\n",
       "      <td>356</td>\n",
       "    </tr>\n",
       "    <tr>\n",
       "      <th>21</th>\n",
       "      <td>2014</td>\n",
       "      <td>3 Room</td>\n",
       "      <td>222563</td>\n",
       "      <td>8640</td>\n",
       "      <td>23150</td>\n",
       "    </tr>\n",
       "    <tr>\n",
       "      <th>22</th>\n",
       "      <td>2014</td>\n",
       "      <td>4 Room</td>\n",
       "      <td>373416</td>\n",
       "      <td>10440</td>\n",
       "      <td>57919</td>\n",
       "    </tr>\n",
       "    <tr>\n",
       "      <th>23</th>\n",
       "      <td>2014</td>\n",
       "      <td>5 Room</td>\n",
       "      <td>221702</td>\n",
       "      <td>11340</td>\n",
       "      <td>44686</td>\n",
       "    </tr>\n",
       "    <tr>\n",
       "      <th>24</th>\n",
       "      <td>2014</td>\n",
       "      <td>Executive &amp; Others</td>\n",
       "      <td>65005</td>\n",
       "      <td>11640</td>\n",
       "      <td>14175</td>\n",
       "    </tr>\n",
       "    <tr>\n",
       "      <th>25</th>\n",
       "      <td>2015</td>\n",
       "      <td>1 or 2 Room</td>\n",
       "      <td>19041</td>\n",
       "      <td>5400</td>\n",
       "      <td>364</td>\n",
       "    </tr>\n",
       "    <tr>\n",
       "      <th>26</th>\n",
       "      <td>2015</td>\n",
       "      <td>3 Room</td>\n",
       "      <td>226485</td>\n",
       "      <td>8340</td>\n",
       "      <td>20880</td>\n",
       "    </tr>\n",
       "    <tr>\n",
       "      <th>27</th>\n",
       "      <td>2015</td>\n",
       "      <td>4 Room</td>\n",
       "      <td>384906</td>\n",
       "      <td>10080</td>\n",
       "      <td>55798</td>\n",
       "    </tr>\n",
       "    <tr>\n",
       "      <th>28</th>\n",
       "      <td>2015</td>\n",
       "      <td>5 Room</td>\n",
       "      <td>226932</td>\n",
       "      <td>10920</td>\n",
       "      <td>43592</td>\n",
       "    </tr>\n",
       "    <tr>\n",
       "      <th>29</th>\n",
       "      <td>2015</td>\n",
       "      <td>Executive &amp; Others</td>\n",
       "      <td>65001</td>\n",
       "      <td>11220</td>\n",
       "      <td>13623</td>\n",
       "    </tr>\n",
       "    <tr>\n",
       "      <th>30</th>\n",
       "      <td>2016</td>\n",
       "      <td>1 or 2 Room</td>\n",
       "      <td>20925</td>\n",
       "      <td>5400</td>\n",
       "      <td>418</td>\n",
       "    </tr>\n",
       "    <tr>\n",
       "      <th>31</th>\n",
       "      <td>2016</td>\n",
       "      <td>3 Room</td>\n",
       "      <td>229746</td>\n",
       "      <td>7860</td>\n",
       "      <td>18514</td>\n",
       "    </tr>\n",
       "    <tr>\n",
       "      <th>32</th>\n",
       "      <td>2016</td>\n",
       "      <td>4 Room</td>\n",
       "      <td>395335</td>\n",
       "      <td>9600</td>\n",
       "      <td>50305</td>\n",
       "    </tr>\n",
       "    <tr>\n",
       "      <th>33</th>\n",
       "      <td>2016</td>\n",
       "      <td>5 Room</td>\n",
       "      <td>232069</td>\n",
       "      <td>10380</td>\n",
       "      <td>40927</td>\n",
       "    </tr>\n",
       "    <tr>\n",
       "      <th>34</th>\n",
       "      <td>2016</td>\n",
       "      <td>Executive &amp; Others</td>\n",
       "      <td>65014</td>\n",
       "      <td>10680</td>\n",
       "      <td>12712</td>\n",
       "    </tr>\n",
       "    <tr>\n",
       "      <th>35</th>\n",
       "      <td>2017</td>\n",
       "      <td>1 or 2 Room</td>\n",
       "      <td>25985</td>\n",
       "      <td>5400</td>\n",
       "      <td>421</td>\n",
       "    </tr>\n",
       "    <tr>\n",
       "      <th>36</th>\n",
       "      <td>2017</td>\n",
       "      <td>3 Room</td>\n",
       "      <td>234846</td>\n",
       "      <td>7860</td>\n",
       "      <td>17748</td>\n",
       "    </tr>\n",
       "    <tr>\n",
       "      <th>37</th>\n",
       "      <td>2017</td>\n",
       "      <td>4 Room</td>\n",
       "      <td>408310</td>\n",
       "      <td>9600</td>\n",
       "      <td>48672</td>\n",
       "    </tr>\n",
       "    <tr>\n",
       "      <th>38</th>\n",
       "      <td>2017</td>\n",
       "      <td>5 Room</td>\n",
       "      <td>237748</td>\n",
       "      <td>10380</td>\n",
       "      <td>39115</td>\n",
       "    </tr>\n",
       "    <tr>\n",
       "      <th>39</th>\n",
       "      <td>2017</td>\n",
       "      <td>Executive &amp; Others</td>\n",
       "      <td>65028</td>\n",
       "      <td>10680</td>\n",
       "      <td>11991</td>\n",
       "    </tr>\n",
       "  </tbody>\n",
       "</table>\n",
       "</div>"
      ],
      "text/plain": [
       "    financial_year         type_of_hdb  no_of_cases  median_annual_value  \\\n",
       "0             2010         1 or 2 Room         8632                 4500   \n",
       "1             2010              3 Room       213865                 6300   \n",
       "2             2010              4 Room       339721                 8100   \n",
       "3             2010              5 Room       209210                 9000   \n",
       "4             2010  Executive & Others        64613                 9300   \n",
       "5             2011         1 or 2 Room         9310                 5400   \n",
       "6             2011              3 Room       214311                 7800   \n",
       "7             2011              4 Room       347111                 9600   \n",
       "8             2011              5 Room       212018                10800   \n",
       "9             2011  Executive & Others        64858                11100   \n",
       "10            2012         1 or 2 Room        10465                 5400   \n",
       "11            2012              3 Room       215381                 8700   \n",
       "12            2012              4 Room       353814                10500   \n",
       "13            2012              5 Room       214028                11400   \n",
       "14            2012  Executive & Others        64953                12000   \n",
       "15            2013         1 or 2 Room        12729                 5400   \n",
       "16            2013              3 Room       218383                 8940   \n",
       "17            2013              4 Room       361255                10800   \n",
       "18            2013              5 Room       215881                11700   \n",
       "19            2013  Executive & Others        65006                12000   \n",
       "20            2014         1 or 2 Room        16938                 5400   \n",
       "21            2014              3 Room       222563                 8640   \n",
       "22            2014              4 Room       373416                10440   \n",
       "23            2014              5 Room       221702                11340   \n",
       "24            2014  Executive & Others        65005                11640   \n",
       "25            2015         1 or 2 Room        19041                 5400   \n",
       "26            2015              3 Room       226485                 8340   \n",
       "27            2015              4 Room       384906                10080   \n",
       "28            2015              5 Room       226932                10920   \n",
       "29            2015  Executive & Others        65001                11220   \n",
       "30            2016         1 or 2 Room        20925                 5400   \n",
       "31            2016              3 Room       229746                 7860   \n",
       "32            2016              4 Room       395335                 9600   \n",
       "33            2016              5 Room       232069                10380   \n",
       "34            2016  Executive & Others        65014                10680   \n",
       "35            2017         1 or 2 Room        25985                 5400   \n",
       "36            2017              3 Room       234846                 7860   \n",
       "37            2017              4 Room       408310                 9600   \n",
       "38            2017              5 Room       237748                10380   \n",
       "39            2017  Executive & Others        65028                10680   \n",
       "\n",
       "    property_tax_collection  \n",
       "0                       190  \n",
       "1                     16259  \n",
       "2                     45089  \n",
       "3                     37936  \n",
       "4                     13046  \n",
       "5                       242  \n",
       "6                     15120  \n",
       "7                     41575  \n",
       "8                     35677  \n",
       "9                     11929  \n",
       "10                      301  \n",
       "11                    25037  \n",
       "12                    58422  \n",
       "13                    45548  \n",
       "14                    15107  \n",
       "15                      328  \n",
       "16                    26535  \n",
       "17                    60632  \n",
       "18                    47061  \n",
       "19                    15602  \n",
       "20                      356  \n",
       "21                    23150  \n",
       "22                    57919  \n",
       "23                    44686  \n",
       "24                    14175  \n",
       "25                      364  \n",
       "26                    20880  \n",
       "27                    55798  \n",
       "28                    43592  \n",
       "29                    13623  \n",
       "30                      418  \n",
       "31                    18514  \n",
       "32                    50305  \n",
       "33                    40927  \n",
       "34                    12712  \n",
       "35                      421  \n",
       "36                    17748  \n",
       "37                    48672  \n",
       "38                    39115  \n",
       "39                    11991  "
      ]
     },
     "execution_count": 17,
     "metadata": {},
     "output_type": "execute_result"
    }
   ],
   "source": [
    "# Read property dataset from CSV file\n",
    "propertyDataset = pd.read_csv('property.csv')\n",
    "propertyDataset"
   ]
  },
  {
   "cell_type": "code",
   "execution_count": 19,
   "metadata": {},
   "outputs": [
    {
     "data": {
      "text/html": [
       "<div>\n",
       "<style scoped>\n",
       "    .dataframe tbody tr th:only-of-type {\n",
       "        vertical-align: middle;\n",
       "    }\n",
       "\n",
       "    .dataframe tbody tr th {\n",
       "        vertical-align: top;\n",
       "    }\n",
       "\n",
       "    .dataframe thead th {\n",
       "        text-align: right;\n",
       "    }\n",
       "</style>\n",
       "<table border=\"1\" class=\"dataframe\">\n",
       "  <thead>\n",
       "    <tr style=\"text-align: right;\">\n",
       "      <th></th>\n",
       "      <th>financial_year</th>\n",
       "      <th>no_of_cases</th>\n",
       "      <th>median_annual_value</th>\n",
       "      <th>property_tax_collection</th>\n",
       "    </tr>\n",
       "  </thead>\n",
       "  <tbody>\n",
       "    <tr>\n",
       "      <th>financial_year</th>\n",
       "      <td>1.000000</td>\n",
       "      <td>0.070673</td>\n",
       "      <td>0.086333</td>\n",
       "      <td>0.025257</td>\n",
       "    </tr>\n",
       "    <tr>\n",
       "      <th>no_of_cases</th>\n",
       "      <td>0.070673</td>\n",
       "      <td>1.000000</td>\n",
       "      <td>0.397860</td>\n",
       "      <td>0.906023</td>\n",
       "    </tr>\n",
       "    <tr>\n",
       "      <th>median_annual_value</th>\n",
       "      <td>0.086333</td>\n",
       "      <td>0.397860</td>\n",
       "      <td>1.000000</td>\n",
       "      <td>0.615492</td>\n",
       "    </tr>\n",
       "    <tr>\n",
       "      <th>property_tax_collection</th>\n",
       "      <td>0.025257</td>\n",
       "      <td>0.906023</td>\n",
       "      <td>0.615492</td>\n",
       "      <td>1.000000</td>\n",
       "    </tr>\n",
       "  </tbody>\n",
       "</table>\n",
       "</div>"
      ],
      "text/plain": [
       "                         financial_year  no_of_cases  median_annual_value  \\\n",
       "financial_year                 1.000000     0.070673             0.086333   \n",
       "no_of_cases                    0.070673     1.000000             0.397860   \n",
       "median_annual_value            0.086333     0.397860             1.000000   \n",
       "property_tax_collection        0.025257     0.906023             0.615492   \n",
       "\n",
       "                         property_tax_collection  \n",
       "financial_year                          0.025257  \n",
       "no_of_cases                             0.906023  \n",
       "median_annual_value                     0.615492  \n",
       "property_tax_collection                 1.000000  "
      ]
     },
     "execution_count": 19,
     "metadata": {},
     "output_type": "execute_result"
    }
   ],
   "source": [
    "# Show correlation between numeric variables\n",
    "propertyDataset.corr(numeric_only=True)"
   ]
  },
  {
   "cell_type": "code",
   "execution_count": 27,
   "metadata": {},
   "outputs": [
    {
     "data": {
      "text/plain": [
       "<Axes: >"
      ]
     },
     "execution_count": 27,
     "metadata": {},
     "output_type": "execute_result"
    },
    {
     "data": {
      "image/png": "[encoded data removed]",
      "text/plain": [
       "<Figure size 640x480 with 2 Axes>"
      ]
     },
     "metadata": {},
     "output_type": "display_data"
    }
   ],
   "source": [
    "# Show correlation between variables as a heatmap instead\n",
    "# (light colors means higher correlation, dark colors means lower correlation)\n",
    "# annot ensures that the heatmap is annotated\n",
    "sns.heatmap(propertyDataset.corr(numeric_only=True), annot=True)"
   ]
  },
  {
   "cell_type": "markdown",
   "metadata": {},
   "source": [
    "## Lets try to create new variable to address step 6 from EDA \n",
    "We will discretize the variable age into multiple categories identified by age bands \n",
    "\n",
    "1) What is descretization\n",
    "\n",
    "2) ```pd.cut``` function"
   ]
  },
  {
   "cell_type": "code",
   "execution_count": 21,
   "metadata": {},
   "outputs": [
    {
     "data": {
      "text/html": [
       "<div>\n",
       "<style scoped>\n",
       "    .dataframe tbody tr th:only-of-type {\n",
       "        vertical-align: middle;\n",
       "    }\n",
       "\n",
       "    .dataframe tbody tr th {\n",
       "        vertical-align: top;\n",
       "    }\n",
       "\n",
       "    .dataframe thead th {\n",
       "        text-align: right;\n",
       "    }\n",
       "</style>\n",
       "<table border=\"1\" class=\"dataframe\">\n",
       "  <thead>\n",
       "    <tr style=\"text-align: right;\">\n",
       "      <th></th>\n",
       "      <th>rownames</th>\n",
       "      <th>survived</th>\n",
       "      <th>sex</th>\n",
       "      <th>age</th>\n",
       "      <th>passengerClass</th>\n",
       "      <th>agebins</th>\n",
       "    </tr>\n",
       "  </thead>\n",
       "  <tbody>\n",
       "    <tr>\n",
       "      <th>0</th>\n",
       "      <td>Allen, Miss. Elisabeth Walton</td>\n",
       "      <td>yes</td>\n",
       "      <td>female</td>\n",
       "      <td>29.0000</td>\n",
       "      <td>1st</td>\n",
       "      <td>(25.115, 30.104]</td>\n",
       "    </tr>\n",
       "    <tr>\n",
       "      <th>1</th>\n",
       "      <td>Allison, Master. Hudson Trevor</td>\n",
       "      <td>yes</td>\n",
       "      <td>male</td>\n",
       "      <td>0.9167</td>\n",
       "      <td>1st</td>\n",
       "      <td>(0.0869, 5.156]</td>\n",
       "    </tr>\n",
       "    <tr>\n",
       "      <th>2</th>\n",
       "      <td>Allison, Miss. Helen Loraine</td>\n",
       "      <td>no</td>\n",
       "      <td>female</td>\n",
       "      <td>2.0000</td>\n",
       "      <td>1st</td>\n",
       "      <td>(0.0869, 5.156]</td>\n",
       "    </tr>\n",
       "    <tr>\n",
       "      <th>3</th>\n",
       "      <td>Allison, Mr. Hudson Joshua Crei</td>\n",
       "      <td>no</td>\n",
       "      <td>male</td>\n",
       "      <td>30.0000</td>\n",
       "      <td>1st</td>\n",
       "      <td>(25.115, 30.104]</td>\n",
       "    </tr>\n",
       "    <tr>\n",
       "      <th>4</th>\n",
       "      <td>Allison, Mrs. Hudson J C (Bessi</td>\n",
       "      <td>no</td>\n",
       "      <td>female</td>\n",
       "      <td>25.0000</td>\n",
       "      <td>1st</td>\n",
       "      <td>(20.125, 25.115]</td>\n",
       "    </tr>\n",
       "    <tr>\n",
       "      <th>...</th>\n",
       "      <td>...</td>\n",
       "      <td>...</td>\n",
       "      <td>...</td>\n",
       "      <td>...</td>\n",
       "      <td>...</td>\n",
       "      <td>...</td>\n",
       "    </tr>\n",
       "    <tr>\n",
       "      <th>1304</th>\n",
       "      <td>Zabour, Miss. Hileni</td>\n",
       "      <td>no</td>\n",
       "      <td>female</td>\n",
       "      <td>14.5000</td>\n",
       "      <td>3rd</td>\n",
       "      <td>(10.146, 15.135]</td>\n",
       "    </tr>\n",
       "    <tr>\n",
       "      <th>1305</th>\n",
       "      <td>Zabour, Miss. Thamine</td>\n",
       "      <td>no</td>\n",
       "      <td>female</td>\n",
       "      <td>NaN</td>\n",
       "      <td>3rd</td>\n",
       "      <td>NaN</td>\n",
       "    </tr>\n",
       "    <tr>\n",
       "      <th>1306</th>\n",
       "      <td>Zakarian, Mr. Mapriededer</td>\n",
       "      <td>no</td>\n",
       "      <td>male</td>\n",
       "      <td>26.5000</td>\n",
       "      <td>3rd</td>\n",
       "      <td>(25.115, 30.104]</td>\n",
       "    </tr>\n",
       "    <tr>\n",
       "      <th>1307</th>\n",
       "      <td>Zakarian, Mr. Ortin</td>\n",
       "      <td>no</td>\n",
       "      <td>male</td>\n",
       "      <td>27.0000</td>\n",
       "      <td>3rd</td>\n",
       "      <td>(25.115, 30.104]</td>\n",
       "    </tr>\n",
       "    <tr>\n",
       "      <th>1308</th>\n",
       "      <td>Zimmerman, Mr. Leo</td>\n",
       "      <td>no</td>\n",
       "      <td>male</td>\n",
       "      <td>29.0000</td>\n",
       "      <td>3rd</td>\n",
       "      <td>(25.115, 30.104]</td>\n",
       "    </tr>\n",
       "  </tbody>\n",
       "</table>\n",
       "<p>1309 rows × 6 columns</p>\n",
       "</div>"
      ],
      "text/plain": [
       "                             rownames survived     sex      age  \\\n",
       "0       Allen, Miss. Elisabeth Walton      yes  female  29.0000   \n",
       "1      Allison, Master. Hudson Trevor      yes    male   0.9167   \n",
       "2        Allison, Miss. Helen Loraine       no  female   2.0000   \n",
       "3     Allison, Mr. Hudson Joshua Crei       no    male  30.0000   \n",
       "4     Allison, Mrs. Hudson J C (Bessi       no  female  25.0000   \n",
       "...                               ...      ...     ...      ...   \n",
       "1304             Zabour, Miss. Hileni       no  female  14.5000   \n",
       "1305            Zabour, Miss. Thamine       no  female      NaN   \n",
       "1306        Zakarian, Mr. Mapriededer       no    male  26.5000   \n",
       "1307              Zakarian, Mr. Ortin       no    male  27.0000   \n",
       "1308               Zimmerman, Mr. Leo       no    male  29.0000   \n",
       "\n",
       "     passengerClass           agebins  \n",
       "0               1st  (25.115, 30.104]  \n",
       "1               1st   (0.0869, 5.156]  \n",
       "2               1st   (0.0869, 5.156]  \n",
       "3               1st  (25.115, 30.104]  \n",
       "4               1st  (20.125, 25.115]  \n",
       "...             ...               ...  \n",
       "1304            3rd  (10.146, 15.135]  \n",
       "1305            3rd               NaN  \n",
       "1306            3rd  (25.115, 30.104]  \n",
       "1307            3rd  (25.115, 30.104]  \n",
       "1308            3rd  (25.115, 30.104]  \n",
       "\n",
       "[1309 rows x 6 columns]"
      ]
     },
     "execution_count": 21,
     "metadata": {},
     "output_type": "execute_result"
    }
   ],
   "source": [
    "# Create a new variable 'agebins' which will be categorical.\n",
    "# We use the 'age' variable to create 16 bins.\n",
    "titanic['agebins'] = pd.cut(titanic['age'], 16)\n",
    "titanic"
   ]
  },
  {
   "cell_type": "code",
   "execution_count": 22,
   "metadata": {},
   "outputs": [
    {
     "data": {
      "text/html": [
       "<div>\n",
       "<style scoped>\n",
       "    .dataframe tbody tr th:only-of-type {\n",
       "        vertical-align: middle;\n",
       "    }\n",
       "\n",
       "    .dataframe tbody tr th {\n",
       "        vertical-align: top;\n",
       "    }\n",
       "\n",
       "    .dataframe thead th {\n",
       "        text-align: right;\n",
       "    }\n",
       "</style>\n",
       "<table border=\"1\" class=\"dataframe\">\n",
       "  <thead>\n",
       "    <tr style=\"text-align: right;\">\n",
       "      <th></th>\n",
       "      <th>rownames</th>\n",
       "      <th>survived</th>\n",
       "      <th>sex</th>\n",
       "      <th>age</th>\n",
       "      <th>passengerClass</th>\n",
       "      <th>agebins</th>\n",
       "      <th>agebins2</th>\n",
       "    </tr>\n",
       "  </thead>\n",
       "  <tbody>\n",
       "    <tr>\n",
       "      <th>0</th>\n",
       "      <td>Allen, Miss. Elisabeth Walton</td>\n",
       "      <td>yes</td>\n",
       "      <td>female</td>\n",
       "      <td>29.0000</td>\n",
       "      <td>1st</td>\n",
       "      <td>(25.115, 30.104]</td>\n",
       "      <td>young</td>\n",
       "    </tr>\n",
       "    <tr>\n",
       "      <th>1</th>\n",
       "      <td>Allison, Master. Hudson Trevor</td>\n",
       "      <td>yes</td>\n",
       "      <td>male</td>\n",
       "      <td>0.9167</td>\n",
       "      <td>1st</td>\n",
       "      <td>(0.0869, 5.156]</td>\n",
       "      <td>children</td>\n",
       "    </tr>\n",
       "    <tr>\n",
       "      <th>2</th>\n",
       "      <td>Allison, Miss. Helen Loraine</td>\n",
       "      <td>no</td>\n",
       "      <td>female</td>\n",
       "      <td>2.0000</td>\n",
       "      <td>1st</td>\n",
       "      <td>(0.0869, 5.156]</td>\n",
       "      <td>children</td>\n",
       "    </tr>\n",
       "    <tr>\n",
       "      <th>3</th>\n",
       "      <td>Allison, Mr. Hudson Joshua Crei</td>\n",
       "      <td>no</td>\n",
       "      <td>male</td>\n",
       "      <td>30.0000</td>\n",
       "      <td>1st</td>\n",
       "      <td>(25.115, 30.104]</td>\n",
       "      <td>young</td>\n",
       "    </tr>\n",
       "    <tr>\n",
       "      <th>4</th>\n",
       "      <td>Allison, Mrs. Hudson J C (Bessi</td>\n",
       "      <td>no</td>\n",
       "      <td>female</td>\n",
       "      <td>25.0000</td>\n",
       "      <td>1st</td>\n",
       "      <td>(20.125, 25.115]</td>\n",
       "      <td>young</td>\n",
       "    </tr>\n",
       "    <tr>\n",
       "      <th>...</th>\n",
       "      <td>...</td>\n",
       "      <td>...</td>\n",
       "      <td>...</td>\n",
       "      <td>...</td>\n",
       "      <td>...</td>\n",
       "      <td>...</td>\n",
       "      <td>...</td>\n",
       "    </tr>\n",
       "    <tr>\n",
       "      <th>1304</th>\n",
       "      <td>Zabour, Miss. Hileni</td>\n",
       "      <td>no</td>\n",
       "      <td>female</td>\n",
       "      <td>14.5000</td>\n",
       "      <td>3rd</td>\n",
       "      <td>(10.146, 15.135]</td>\n",
       "      <td>young</td>\n",
       "    </tr>\n",
       "    <tr>\n",
       "      <th>1305</th>\n",
       "      <td>Zabour, Miss. Thamine</td>\n",
       "      <td>no</td>\n",
       "      <td>female</td>\n",
       "      <td>NaN</td>\n",
       "      <td>3rd</td>\n",
       "      <td>NaN</td>\n",
       "      <td>NaN</td>\n",
       "    </tr>\n",
       "    <tr>\n",
       "      <th>1306</th>\n",
       "      <td>Zakarian, Mr. Mapriededer</td>\n",
       "      <td>no</td>\n",
       "      <td>male</td>\n",
       "      <td>26.5000</td>\n",
       "      <td>3rd</td>\n",
       "      <td>(25.115, 30.104]</td>\n",
       "      <td>young</td>\n",
       "    </tr>\n",
       "    <tr>\n",
       "      <th>1307</th>\n",
       "      <td>Zakarian, Mr. Ortin</td>\n",
       "      <td>no</td>\n",
       "      <td>male</td>\n",
       "      <td>27.0000</td>\n",
       "      <td>3rd</td>\n",
       "      <td>(25.115, 30.104]</td>\n",
       "      <td>young</td>\n",
       "    </tr>\n",
       "    <tr>\n",
       "      <th>1308</th>\n",
       "      <td>Zimmerman, Mr. Leo</td>\n",
       "      <td>no</td>\n",
       "      <td>male</td>\n",
       "      <td>29.0000</td>\n",
       "      <td>3rd</td>\n",
       "      <td>(25.115, 30.104]</td>\n",
       "      <td>young</td>\n",
       "    </tr>\n",
       "  </tbody>\n",
       "</table>\n",
       "<p>1309 rows × 7 columns</p>\n",
       "</div>"
      ],
      "text/plain": [
       "                             rownames survived     sex      age  \\\n",
       "0       Allen, Miss. Elisabeth Walton      yes  female  29.0000   \n",
       "1      Allison, Master. Hudson Trevor      yes    male   0.9167   \n",
       "2        Allison, Miss. Helen Loraine       no  female   2.0000   \n",
       "3     Allison, Mr. Hudson Joshua Crei       no    male  30.0000   \n",
       "4     Allison, Mrs. Hudson J C (Bessi       no  female  25.0000   \n",
       "...                               ...      ...     ...      ...   \n",
       "1304             Zabour, Miss. Hileni       no  female  14.5000   \n",
       "1305            Zabour, Miss. Thamine       no  female      NaN   \n",
       "1306        Zakarian, Mr. Mapriededer       no    male  26.5000   \n",
       "1307              Zakarian, Mr. Ortin       no    male  27.0000   \n",
       "1308               Zimmerman, Mr. Leo       no    male  29.0000   \n",
       "\n",
       "     passengerClass           agebins  agebins2  \n",
       "0               1st  (25.115, 30.104]     young  \n",
       "1               1st   (0.0869, 5.156]  children  \n",
       "2               1st   (0.0869, 5.156]  children  \n",
       "3               1st  (25.115, 30.104]     young  \n",
       "4               1st  (20.125, 25.115]     young  \n",
       "...             ...               ...       ...  \n",
       "1304            3rd  (10.146, 15.135]     young  \n",
       "1305            3rd               NaN       NaN  \n",
       "1306            3rd  (25.115, 30.104]     young  \n",
       "1307            3rd  (25.115, 30.104]     young  \n",
       "1308            3rd  (25.115, 30.104]     young  \n",
       "\n",
       "[1309 rows x 7 columns]"
      ]
     },
     "execution_count": 22,
     "metadata": {},
     "output_type": "execute_result"
    }
   ],
   "source": [
    "# Same as above, but choose exactly where the bin boundaries are, and label each bin\n",
    "titanic['agebins2'] = pd.cut(titanic['age'], bins = [0,10,35,55,80], labels = ['children','young','adult','elderly'])\n",
    "titanic"
   ]
  },
  {
   "cell_type": "code",
   "execution_count": 23,
   "metadata": {},
   "outputs": [
    {
     "data": {
      "text/plain": [
       "agebins2\n",
       "young       638\n",
       "adult       263\n",
       "children     86\n",
       "elderly      59\n",
       "Name: count, dtype: int64"
      ]
     },
     "execution_count": 23,
     "metadata": {},
     "output_type": "execute_result"
    }
   ],
   "source": [
    "# Show the frequency of each value of the 'agebins2' variable\n",
    "titanic['agebins2'].value_counts()"
   ]
  },
  {
   "cell_type": "code",
   "execution_count": 24,
   "metadata": {},
   "outputs": [
    {
     "name": "stderr",
     "output_type": "stream",
     "text": [
      "C:\\Users\\sbgka\\AppData\\Local\\Temp\\ipykernel_10092\\623229407.py:2: FutureWarning: The default of observed=False is deprecated and will be changed to True in a future version of pandas. Pass observed=False to retain current behavior or observed=True to adopt the future default and silence this warning.\n",
      "  titanic.groupby('agebins2')['age'].min()\n"
     ]
    },
    {
     "data": {
      "text/plain": [
       "agebins2\n",
       "children     0.1667\n",
       "young       11.0000\n",
       "adult       36.0000\n",
       "elderly     55.5000\n",
       "Name: age, dtype: float64"
      ]
     },
     "execution_count": 24,
     "metadata": {},
     "output_type": "execute_result"
    }
   ],
   "source": [
    "# Show minimum 'age' values for each category in 'agebins2' variable\n",
    "titanic.groupby('agebins2')['age'].min()"
   ]
  },
  {
   "cell_type": "code",
   "execution_count": 25,
   "metadata": {},
   "outputs": [
    {
     "name": "stderr",
     "output_type": "stream",
     "text": [
      "C:\\Users\\sbgka\\AppData\\Local\\Temp\\ipykernel_10092\\4167118763.py:2: FutureWarning: The default of observed=False is deprecated and will be changed to True in a future version of pandas. Pass observed=False to retain current behavior or observed=True to adopt the future default and silence this warning.\n",
      "  titanic.groupby('agebins2')['age'].max()\n"
     ]
    },
    {
     "data": {
      "text/plain": [
       "agebins2\n",
       "children    10.0\n",
       "young       35.0\n",
       "adult       55.0\n",
       "elderly     80.0\n",
       "Name: age, dtype: float64"
      ]
     },
     "execution_count": 25,
     "metadata": {},
     "output_type": "execute_result"
    }
   ],
   "source": [
    "# Show maximum 'age' values for each category in 'agebins2' variable\n",
    "titanic.groupby('agebins2')['age'].max()"
   ]
  },
  {
   "cell_type": "code",
   "execution_count": 26,
   "metadata": {},
   "outputs": [
    {
     "data": {
      "text/plain": [
       "<Axes: xlabel='agebins2', ylabel='count'>"
      ]
     },
     "execution_count": 26,
     "metadata": {},
     "output_type": "execute_result"
    },
    {
     "data": {
      "image/png": "[encoded data removed]",
      "text/plain": [
       "<Figure size 640x480 with 1 Axes>"
      ]
     },
     "metadata": {},
     "output_type": "display_data"
    }
   ],
   "source": [
    "# Show column graph for each category in 'agebins2' variable\n",
    "sns.countplot(titanic, x = 'agebins2')"
   ]
  }
 ],
 "metadata": {
  "kernelspec": {
   "display_name": "Python 3",
   "language": "python",
   "name": "python3"
  },
  "language_info": {
   "codemirror_mode": {
    "name": "ipython",
    "version": 3
   },
   "file_extension": ".py",
   "mimetype": "text/x-python",
   "name": "python",
   "nbconvert_exporter": "python",
   "pygments_lexer": "ipython3",
   "version": "3.13.5"
  }
 },
 "nbformat": 4,
 "nbformat_minor": 4
}
