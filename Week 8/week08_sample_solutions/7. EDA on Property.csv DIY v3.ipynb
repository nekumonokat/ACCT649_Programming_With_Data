{
 "cells": [
  {
   "cell_type": "markdown",
   "metadata": {},
   "source": [
    "**Self Practice Exercises**"
   ]
  },
  {
   "cell_type": "markdown",
   "metadata": {},
   "source": [
    "1)Load property dataset 2) Which type of hdb has the most entries in the dataset? 3) Display the total property_tax_collection for each financial year. 4) Generate the histogram charts. 5) Create a heatmap from sns for the function corr() on property dataset. Which is the most correlated pair of attributes? 6) Try sns.pairplot on property data. 7) Create 3 bins on no_of_cases (small : 0 to 10000, medium : 10001-100000, large : 100001-500000). 8) Generate the barchart on the newly created bins. 9) For each bin, display the average for the collected property tax."
   ]
  },
  {
   "cell_type": "markdown",
   "metadata": {},
   "source": [
    "**1) Load the data in the given file - property.csv.**"
   ]
  },
  {
   "cell_type": "code",
   "execution_count": 9,
   "metadata": {},
   "outputs": [
    {
     "data": {
      "text/html": [
       "<div>\n",
       "<style scoped>\n",
       "    .dataframe tbody tr th:only-of-type {\n",
       "        vertical-align: middle;\n",
       "    }\n",
       "\n",
       "    .dataframe tbody tr th {\n",
       "        vertical-align: top;\n",
       "    }\n",
       "\n",
       "    .dataframe thead th {\n",
       "        text-align: right;\n",
       "    }\n",
       "</style>\n",
       "<table border=\"1\" class=\"dataframe\">\n",
       "  <thead>\n",
       "    <tr style=\"text-align: right;\">\n",
       "      <th></th>\n",
       "      <th>financial_year</th>\n",
       "      <th>type_of_hdb</th>\n",
       "      <th>no_of_cases</th>\n",
       "      <th>median_annual_value</th>\n",
       "      <th>property_tax_collection</th>\n",
       "    </tr>\n",
       "  </thead>\n",
       "  <tbody>\n",
       "    <tr>\n",
       "      <th>0</th>\n",
       "      <td>2010</td>\n",
       "      <td>1 or 2 Room</td>\n",
       "      <td>8632</td>\n",
       "      <td>4500</td>\n",
       "      <td>190</td>\n",
       "    </tr>\n",
       "    <tr>\n",
       "      <th>1</th>\n",
       "      <td>2010</td>\n",
       "      <td>3 Room</td>\n",
       "      <td>213865</td>\n",
       "      <td>6300</td>\n",
       "      <td>16259</td>\n",
       "    </tr>\n",
       "    <tr>\n",
       "      <th>2</th>\n",
       "      <td>2010</td>\n",
       "      <td>4 Room</td>\n",
       "      <td>339721</td>\n",
       "      <td>8100</td>\n",
       "      <td>45089</td>\n",
       "    </tr>\n",
       "    <tr>\n",
       "      <th>3</th>\n",
       "      <td>2010</td>\n",
       "      <td>5 Room</td>\n",
       "      <td>209210</td>\n",
       "      <td>9000</td>\n",
       "      <td>37936</td>\n",
       "    </tr>\n",
       "    <tr>\n",
       "      <th>4</th>\n",
       "      <td>2010</td>\n",
       "      <td>Executive &amp; Others</td>\n",
       "      <td>64613</td>\n",
       "      <td>9300</td>\n",
       "      <td>13046</td>\n",
       "    </tr>\n",
       "  </tbody>\n",
       "</table>\n",
       "</div>"
      ],
      "text/plain": [
       "   financial_year         type_of_hdb  no_of_cases  median_annual_value  \\\n",
       "0            2010         1 or 2 Room         8632                 4500   \n",
       "1            2010              3 Room       213865                 6300   \n",
       "2            2010              4 Room       339721                 8100   \n",
       "3            2010              5 Room       209210                 9000   \n",
       "4            2010  Executive & Others        64613                 9300   \n",
       "\n",
       "   property_tax_collection  \n",
       "0                      190  \n",
       "1                    16259  \n",
       "2                    45089  \n",
       "3                    37936  \n",
       "4                    13046  "
      ]
     },
     "execution_count": 9,
     "metadata": {},
     "output_type": "execute_result"
    }
   ],
   "source": [
    "# Import csv library, which allows us to handle CSV files\n",
    "import csv\n",
    "\n",
    "# Import features that allow us to plot\n",
    "import matplotlib.pyplot as plt\n",
    "import seaborn as sns\n",
    "\n",
    "# Import pandas library\n",
    "import pandas as pd\n",
    "\n",
    "# Read property dataset from CSV file\n",
    "propertyDataset = pd.read_csv('property.csv')\n",
    "\n",
    "# Show a summary of the first 5 rows of the dataset\n",
    "propertyDataset.head()"
   ]
  },
  {
   "cell_type": "code",
   "execution_count": null,
   "metadata": {},
   "outputs": [],
   "source": []
  },
  {
   "cell_type": "code",
   "execution_count": null,
   "metadata": {
    "scrolled": true
   },
   "outputs": [],
   "source": []
  },
  {
   "cell_type": "markdown",
   "metadata": {},
   "source": [
    "**2) Which type of hdb has the most entries in the dataset?**"
   ]
  },
  {
   "cell_type": "code",
   "execution_count": 10,
   "metadata": {},
   "outputs": [
    {
     "data": {
      "text/plain": [
       "1 or 2 Room           8\n",
       "3 Room                8\n",
       "4 Room                8\n",
       "5 Room                8\n",
       "Executive & Others    8\n",
       "Name: type_of_hdb, dtype: int64"
      ]
     },
     "execution_count": 10,
     "metadata": {},
     "output_type": "execute_result"
    }
   ],
   "source": [
    "# For each possible unique value in the 'type_of_hdb' variable,\n",
    "# count how often that value occurs\n",
    "propertyDataset['type_of_hdb'].value_counts()"
   ]
  },
  {
   "cell_type": "code",
   "execution_count": null,
   "metadata": {},
   "outputs": [],
   "source": []
  },
  {
   "cell_type": "code",
   "execution_count": null,
   "metadata": {
    "scrolled": true
   },
   "outputs": [],
   "source": []
  },
  {
   "cell_type": "markdown",
   "metadata": {},
   "source": [
    "**3) Display the total property_tax_collection for each financial year.**"
   ]
  },
  {
   "cell_type": "code",
   "execution_count": 11,
   "metadata": {},
   "outputs": [
    {
     "data": {
      "text/plain": [
       "financial_year\n",
       "2010    112520\n",
       "2011    104543\n",
       "2012    144415\n",
       "2013    150158\n",
       "2014    140286\n",
       "2015    134257\n",
       "2016    122876\n",
       "2017    117947\n",
       "Name: property_tax_collection, dtype: int64"
      ]
     },
     "execution_count": 11,
     "metadata": {},
     "output_type": "execute_result"
    }
   ],
   "source": [
    "# First, group records by 'financial_year'.\n",
    "# Then, add up 'property_tax_collection' for each group.\n",
    "propertyDataset.groupby('financial_year')['property_tax_collection'].sum()"
   ]
  },
  {
   "cell_type": "code",
   "execution_count": null,
   "metadata": {},
   "outputs": [],
   "source": []
  },
  {
   "cell_type": "code",
   "execution_count": null,
   "metadata": {
    "scrolled": true
   },
   "outputs": [],
   "source": []
  },
  {
   "cell_type": "markdown",
   "metadata": {},
   "source": [
    "**4) Generate the histogram charts.**"
   ]
  },
  {
   "cell_type": "code",
   "execution_count": 12,
   "metadata": {},
   "outputs": [
    {
     "data": {
      "image/png": "[encoded data removed]",
      "text/plain": [
       "<Figure size 1080x1080 with 4 Axes>"
      ]
     },
     "metadata": {
      "needs_background": "light"
     },
     "output_type": "display_data"
    }
   ],
   "source": [
    "# Show histograms of all numeric variables in the dataset.\n",
    "# \"figsize\" controls the size of the histogram.\n",
    "propertyDataset.hist(figsize = (15,15))\n",
    "\n",
    "# This just lays out the diagrams with more space in between\n",
    "plt.tight_layout()"
   ]
  },
  {
   "cell_type": "code",
   "execution_count": null,
   "metadata": {},
   "outputs": [],
   "source": []
  },
  {
   "cell_type": "markdown",
   "metadata": {},
   "source": [
    "**5) Create a heatmap from sns for the function corr() on property dataset. Which is the most correlated pair of attributes?**\n"
   ]
  },
  {
   "cell_type": "code",
   "execution_count": 13,
   "metadata": {},
   "outputs": [
    {
     "data": {
      "text/plain": [
       "<AxesSubplot:>"
      ]
     },
     "execution_count": 13,
     "metadata": {},
     "output_type": "execute_result"
    },
    {
     "data": {
      "image/png": "[encoded data removed]",
      "text/plain": [
       "<Figure size 432x288 with 2 Axes>"
      ]
     },
     "metadata": {
      "needs_background": "light"
     },
     "output_type": "display_data"
    }
   ],
   "source": [
    "# Show correlation between variables as a heatmap instead\n",
    "# (light colors means higher correlation,\n",
    "# dark colors means lower correlation)\n",
    "#sns.heatmap(propertyDataset.corr(), annot=True)\n",
    "\n",
    "# Python 3.12\n",
    "sns.heatmap(propertyDataset.corr(numeric_only=True), annot=True)"
   ]
  },
  {
   "cell_type": "code",
   "execution_count": null,
   "metadata": {},
   "outputs": [],
   "source": []
  },
  {
   "cell_type": "markdown",
   "metadata": {},
   "source": [
    "**6) Try sns.pairplot on property**"
   ]
  },
  {
   "cell_type": "code",
   "execution_count": 14,
   "metadata": {},
   "outputs": [
    {
     "data": {
      "text/plain": [
       "<seaborn.axisgrid.PairGrid at 0x222e01c3d60>"
      ]
     },
     "execution_count": 14,
     "metadata": {},
     "output_type": "execute_result"
    },
    {
     "data": {
      "image/png": "[encoded data removed]",
      "text/plain": [
       "<Figure size 720x720 with 20 Axes>"
      ]
     },
     "metadata": {
      "needs_background": "light"
     },
     "output_type": "display_data"
    }
   ],
   "source": [
    "# This creates a separate plot for each pair of numeric variables.\n",
    "# When a variable is plotted against itself, a histogram is shown instead.\n",
    "sns.pairplot(propertyDataset)"
   ]
  },
  {
   "cell_type": "code",
   "execution_count": null,
   "metadata": {},
   "outputs": [],
   "source": []
  },
  {
   "cell_type": "markdown",
   "metadata": {},
   "source": [
    "**7) Create 3 bins on no_of_cases (small : 0 to 10000, medium : 10001-100000, large : 100001-500000).**"
   ]
  },
  {
   "cell_type": "code",
   "execution_count": 15,
   "metadata": {},
   "outputs": [
    {
     "data": {
      "text/html": [
       "<div>\n",
       "<style scoped>\n",
       "    .dataframe tbody tr th:only-of-type {\n",
       "        vertical-align: middle;\n",
       "    }\n",
       "\n",
       "    .dataframe tbody tr th {\n",
       "        vertical-align: top;\n",
       "    }\n",
       "\n",
       "    .dataframe thead th {\n",
       "        text-align: right;\n",
       "    }\n",
       "</style>\n",
       "<table border=\"1\" class=\"dataframe\">\n",
       "  <thead>\n",
       "    <tr style=\"text-align: right;\">\n",
       "      <th></th>\n",
       "      <th>financial_year</th>\n",
       "      <th>type_of_hdb</th>\n",
       "      <th>no_of_cases</th>\n",
       "      <th>median_annual_value</th>\n",
       "      <th>property_tax_collection</th>\n",
       "      <th>no_cases_bins</th>\n",
       "    </tr>\n",
       "  </thead>\n",
       "  <tbody>\n",
       "    <tr>\n",
       "      <th>0</th>\n",
       "      <td>2010</td>\n",
       "      <td>1 or 2 Room</td>\n",
       "      <td>8632</td>\n",
       "      <td>4500</td>\n",
       "      <td>190</td>\n",
       "      <td>small</td>\n",
       "    </tr>\n",
       "    <tr>\n",
       "      <th>1</th>\n",
       "      <td>2010</td>\n",
       "      <td>3 Room</td>\n",
       "      <td>213865</td>\n",
       "      <td>6300</td>\n",
       "      <td>16259</td>\n",
       "      <td>large</td>\n",
       "    </tr>\n",
       "    <tr>\n",
       "      <th>2</th>\n",
       "      <td>2010</td>\n",
       "      <td>4 Room</td>\n",
       "      <td>339721</td>\n",
       "      <td>8100</td>\n",
       "      <td>45089</td>\n",
       "      <td>large</td>\n",
       "    </tr>\n",
       "    <tr>\n",
       "      <th>3</th>\n",
       "      <td>2010</td>\n",
       "      <td>5 Room</td>\n",
       "      <td>209210</td>\n",
       "      <td>9000</td>\n",
       "      <td>37936</td>\n",
       "      <td>large</td>\n",
       "    </tr>\n",
       "    <tr>\n",
       "      <th>4</th>\n",
       "      <td>2010</td>\n",
       "      <td>Executive &amp; Others</td>\n",
       "      <td>64613</td>\n",
       "      <td>9300</td>\n",
       "      <td>13046</td>\n",
       "      <td>medium</td>\n",
       "    </tr>\n",
       "  </tbody>\n",
       "</table>\n",
       "</div>"
      ],
      "text/plain": [
       "   financial_year         type_of_hdb  no_of_cases  median_annual_value  \\\n",
       "0            2010         1 or 2 Room         8632                 4500   \n",
       "1            2010              3 Room       213865                 6300   \n",
       "2            2010              4 Room       339721                 8100   \n",
       "3            2010              5 Room       209210                 9000   \n",
       "4            2010  Executive & Others        64613                 9300   \n",
       "\n",
       "   property_tax_collection no_cases_bins  \n",
       "0                      190         small  \n",
       "1                    16259         large  \n",
       "2                    45089         large  \n",
       "3                    37936         large  \n",
       "4                    13046        medium  "
      ]
     },
     "execution_count": 15,
     "metadata": {},
     "output_type": "execute_result"
    }
   ],
   "source": [
    "# Create a new categorical variable, using the 'no_of_cases' variable by splitting it up into bins\n",
    "propertyDataset['no_cases_bins'] = pd.cut(propertyDataset['no_of_cases'], bins = [0, 10000, 100000, 500000], labels = ['small', 'medium', 'large'])\n",
    "propertyDataset.head()"
   ]
  },
  {
   "cell_type": "code",
   "execution_count": null,
   "metadata": {},
   "outputs": [],
   "source": []
  },
  {
   "cell_type": "markdown",
   "metadata": {},
   "source": [
    "**8) Generate the column chart on the newly created bins.**"
   ]
  },
  {
   "cell_type": "code",
   "execution_count": 16,
   "metadata": {},
   "outputs": [
    {
     "name": "stderr",
     "output_type": "stream",
     "text": [
      "C:\\Users\\jasonchan\\Anaconda3\\lib\\site-packages\\seaborn\\_decorators.py:36: FutureWarning: Pass the following variable as a keyword arg: x. From version 0.12, the only valid positional argument will be `data`, and passing other arguments without an explicit keyword will result in an error or misinterpretation.\n",
      "  warnings.warn(\n"
     ]
    },
    {
     "data": {
      "text/plain": [
       "<AxesSubplot:xlabel='no_cases_bins', ylabel='count'>"
      ]
     },
     "execution_count": 16,
     "metadata": {},
     "output_type": "execute_result"
    },
    {
     "data": {
      "image/png": "[encoded data removed]",
      "text/plain": [
       "<Figure size 432x288 with 1 Axes>"
      ]
     },
     "metadata": {
      "needs_background": "light"
     },
     "output_type": "display_data"
    }
   ],
   "source": [
    "# Show histogram of agebins2\n",
    "#sns.countplot(titanic['agebins2'])\n",
    "\n",
    "# Python 3.12\n",
    "sns.countplot(propertyDataset, x = 'no_cases_bins')"
   ]
  },
  {
   "cell_type": "code",
   "execution_count": null,
   "metadata": {},
   "outputs": [],
   "source": []
  },
  {
   "cell_type": "code",
   "execution_count": null,
   "metadata": {},
   "outputs": [],
   "source": []
  },
  {
   "cell_type": "markdown",
   "metadata": {},
   "source": [
    "**9) For each bin, display the average for the collected property tax.**"
   ]
  },
  {
   "cell_type": "code",
   "execution_count": 17,
   "metadata": {},
   "outputs": [
    {
     "data": {
      "text/plain": [
       "no_cases_bins\n",
       "small       216.000000\n",
       "medium     7883.785714\n",
       "large     38174.875000\n",
       "Name: property_tax_collection, dtype: float64"
      ]
     },
     "execution_count": 17,
     "metadata": {},
     "output_type": "execute_result"
    }
   ],
   "source": [
    "# First, group by 'no_cases_bins'.\n",
    "# Then, find the average values.\n",
    "# Then, only show 'property_tax_collection' variable\n",
    "propertyDataset.groupby('no_cases_bins').mean()['property_tax_collection']"
   ]
  },
  {
   "cell_type": "code",
   "execution_count": null,
   "metadata": {},
   "outputs": [],
   "source": []
  },
  {
   "cell_type": "code",
   "execution_count": null,
   "metadata": {},
   "outputs": [],
   "source": []
  },
  {
   "cell_type": "code",
   "execution_count": null,
   "metadata": {},
   "outputs": [],
   "source": []
  }
 ],
 "metadata": {
  "kernelspec": {
   "display_name": "Python 3 (ipykernel)",
   "language": "python",
   "name": "python3"
  },
  "language_info": {
   "codemirror_mode": {
    "name": "ipython",
    "version": 3
   },
   "file_extension": ".py",
   "mimetype": "text/x-python",
   "name": "python",
   "nbconvert_exporter": "python",
   "pygments_lexer": "ipython3",
   "version": "3.11.7"
  },
  "toc": {
   "base_numbering": 1,
   "nav_menu": {},
   "number_sections": true,
   "sideBar": true,
   "skip_h1_title": false,
   "title_cell": "Table of Contents",
   "title_sidebar": "Contents",
   "toc_cell": false,
   "toc_position": {},
   "toc_section_display": true,
   "toc_window_display": false
  },
  "varInspector": {
   "cols": {
    "lenName": 16,
    "lenType": 16,
    "lenVar": 40
   },
   "kernels_config": {
    "python": {
     "delete_cmd_postfix": "",
     "delete_cmd_prefix": "del ",
     "library": "var_list.py",
     "varRefreshCmd": "print(var_dic_list())"
    },
    "r": {
     "delete_cmd_postfix": ") ",
     "delete_cmd_prefix": "rm(",
     "library": "var_list.r",
     "varRefreshCmd": "cat(var_dic_list()) "
    }
   },
   "types_to_exclude": [
    "module",
    "function",
    "builtin_function_or_method",
    "instance",
    "_Feature"
   ],
   "window_display": false
  }
 },
 "nbformat": 4,
 "nbformat_minor": 4
}
