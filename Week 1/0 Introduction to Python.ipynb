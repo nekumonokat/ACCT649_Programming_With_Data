{
 "cells": [
  {
   "cell_type": "markdown",
   "metadata": {},
   "source": [
    "<table class=\"table table-bordered\">\n",
    "    <tr>\n",
    "        <th style=\"text-align:center; width:35%\"><img src='https://dl.dropbox.com/s/qtzukmzqavebjd2/icon_smu.jpg' style=\"width: 300px; height: 90px; \"></th>\n",
    "        <th style=\"text-align:center;\"><h3>ACCT649 - Progamming with Data</h3><h3>Week 1 </h3></th>\n",
    "    </tr>\n",
    "</table>"
   ]
  },
  {
   "cell_type": "markdown",
   "metadata": {},
   "source": [
    "# jupyter Notebook"
   ]
  },
  {
   "cell_type": "markdown",
   "metadata": {},
   "source": [
    "The Jupyter Notebook is an __interactive computing environment__ that enables users to author notebook documents that include: - Live code - Interactive widgets - Plots - Narrative text - Equations - Images - Video.\n",
    "\n",
    "The rest of this Jupyter Notebook will review the standard mechanisms for documenting your work in Markdown.\n",
    "\n",
    "-----\n",
    "\n",
    "- \"Markdown\" and \"Code\" cells\n",
    "- Execute the code inside a cell\n",
    "- Add a new cell\n",
    "- Delete a cell\n",
    "- Execution errors\n",
    "- Save your notebook\n",
    "- Restart your notebook\n",
    "- Shut down your notebook"
   ]
  },
  {
   "cell_type": "markdown",
   "metadata": {},
   "source": [
    "### The following cell contains some correct code."
   ]
  },
  {
   "cell_type": "code",
   "execution_count": 3,
   "metadata": {},
   "outputs": [
    {
     "name": "stdout",
     "output_type": "stream",
     "text": [
      "abcde\n"
     ]
    }
   ],
   "source": [
    "# Prints the characters \"abcde\" on the screen, since we used double quotes (or single quotes)\n",
    "print(\"abcde\")"
   ]
  },
  {
   "cell_type": "markdown",
   "metadata": {},
   "source": [
    "### The following cell contains some incorrect code."
   ]
  },
  {
   "cell_type": "code",
   "execution_count": 2,
   "metadata": {},
   "outputs": [
    {
     "ename": "NameError",
     "evalue": "name 'abcde' is not defined",
     "output_type": "error",
     "traceback": [
      "\u001b[31m---------------------------------------------------------------------------\u001b[39m",
      "\u001b[31mNameError\u001b[39m                                 Traceback (most recent call last)",
      "\u001b[36mCell\u001b[39m\u001b[36m \u001b[39m\u001b[32mIn[2]\u001b[39m\u001b[32m, line 4\u001b[39m\n\u001b[32m      1\u001b[39m \u001b[38;5;66;03m# No quotes were used, so this will try to print out the value of a variable.\u001b[39;00m\n\u001b[32m      2\u001b[39m \u001b[38;5;66;03m# This is an error, because there is no variable called \"abcde\",\u001b[39;00m\n\u001b[32m      3\u001b[39m \u001b[38;5;66;03m# therefore we cannot print out the value of this variable.\u001b[39;00m\n\u001b[32m----> \u001b[39m\u001b[32m4\u001b[39m \u001b[38;5;28mprint\u001b[39m(\u001b[43mabcde\u001b[49m)\n",
      "\u001b[31mNameError\u001b[39m: name 'abcde' is not defined"
     ]
    }
   ],
   "source": [
    "# No quotes were used, so this will try to print out the value of a variable.\n",
    "# This is an error, because there is no variable called \"abcde\",\n",
    "# therefore we cannot print out the value of this variable.\n",
    "print(abcde)"
   ]
  },
  {
   "cell_type": "markdown",
   "metadata": {},
   "source": [
    "### The following cell contains some interactive code."
   ]
  },
  {
   "cell_type": "code",
   "execution_count": null,
   "metadata": {},
   "outputs": [],
   "source": [
    "# Prompt user for a string. The user can use their keyboard to type something.\n",
    "# Whatever they type, until they press \"enter\", will be stored in the variable 'name'\n",
    "name = input(\"What's your name?\")\n",
    "\n",
    "# Print out a greeting, which includes what the user typed\n",
    "print(\"Hello \" + name + \"! :)\")"
   ]
  },
  {
   "cell_type": "markdown",
   "metadata": {},
   "source": [
    "# Python Operators\n",
    "\n",
    "The following list presents the basic mathematical operators, in order of precedence:\n",
    "\n",
    "| Operator                         | Description                              | Example                                  |\n",
    "| -------------------------------- | ---------------------------------------- | ---------------------------------------- |\n",
    "| `()`                             | Parenthesis for grouping                 | `(1 + 5)`                                |\n",
    "| `**`                             | Exponential function                     | `2**5`                                   |\n",
    "| `*`<br/> `/`<br/> `//` <br/> `%` | Multiplication<br/> Division<br/>Integer Division<br/> Remainder | `3*4.1` <br/> `5.2 / 1.5 ` <br/> `6//4` <br/> `6%4` |\n",
    "| `+` <br/> `-`                    | Addition <br/> Subtraction               | `1.45 + 3.14` <br/> `5.3 - 2.125`        |\n",
    "\n",
    "\n",
    "The Python language also provides a number of built-in functions, which generally convert a number either to a different datatype or different precision. The following table presents some of the more useful built-in functions for use in mathematical expressions.\n",
    "\n",
    "| Built-in Function | Description                              |\n",
    "| ----------------- | ---------------------------------------- |\n",
    "| `abs(x)`          | Returns the absolute value of `x`        |\n",
    "| `divmod(x, y)`    | Returns both the quotient and remainder of `x/y` when using integer division |\n",
    "| `float(x)`        | Returns `x` as a floating-point value    |\n",
    "| `int(x)`          | Returns `x` as a integer value           |\n",
    "| `pow(x, y)`       | Returns the exponential function `x**y`  |\n",
    "| `round(x, n)`     | Returns `x` as a floating-point value rounded to `n` digits (by default `n=0`) |\n",
    "\n",
    "In addition to these operators and built-in functions, there exist a number of mathematical operators in the Python math library, including constants, numerical testing functions, trigonometric functions, logarithmic functions, and several special functions like the error function.\n",
    "\n",
    "```python   \n",
    "import math\n",
    "\n",
    "x = 2.3\n",
    "y = math.sqrt(x/2.3) - math.sin(x/math.pi) + math.log(x**2)\n",
    "```\n",
    "\n",
    "Python is a dynamically typed language; thus we do not need to first declare the variable and its type before using it. If the variable is reused and assigned a different value, the variable takes on a new type. Python has a built-in `type` function that can always be used to ascertain the underlying data type of a variable, or any other legal Python construct as shown in the following code block."
   ]
  },
  {
   "cell_type": "code",
   "execution_count": 8,
   "metadata": {},
   "outputs": [
    {
     "data": {
      "text/plain": [
       "2.0"
      ]
     },
     "execution_count": 8,
     "metadata": {},
     "output_type": "execute_result"
    }
   ],
   "source": [
    "# This allows our program to use math features\n",
    "import math\n",
    "\n",
    "# Calculate e to the power of 0, plus cosine of 0\n",
    "math.exp(0) + math.cos(0)"
   ]
  },
  {
   "cell_type": "code",
   "execution_count": 9,
   "metadata": {},
   "outputs": [
    {
     "data": {
      "text/plain": [
       "1.4142135623730951"
      ]
     },
     "execution_count": 9,
     "metadata": {},
     "output_type": "execute_result"
    }
   ],
   "source": [
    "# A single underscore is a variable that stores the result of the most recent calculation.\n",
    "# So here, we calculate the square root of 2.\n",
    "math.sqrt(2)"
   ]
  },
  {
   "cell_type": "code",
   "execution_count": 10,
   "metadata": {},
   "outputs": [
    {
     "data": {
      "text/plain": [
       "4.414213562373095"
      ]
     },
     "execution_count": 10,
     "metadata": {},
     "output_type": "execute_result"
    }
   ],
   "source": [
    "# A double underscore is a variable that stores the result of the second-most recent calculation.\n",
    "# So here, we calculate 1.4142135623730951 + 2 + [e to the power of 0]\n",
    "math.sqrt(2) + math.exp(0) + math.cos(0) + math.exp(0)"
   ]
  },
  {
   "cell_type": "markdown",
   "metadata": {},
   "source": [
    "-----\n",
    "Calculate $10^{3}$ and save it in a variable called `x`."
   ]
  },
  {
   "cell_type": "code",
   "execution_count": 5,
   "metadata": {},
   "outputs": [],
   "source": [
    "# Write your code below:\n",
    "x = 10**3"
   ]
  },
  {
   "cell_type": "markdown",
   "metadata": {},
   "source": [
    "-----\n",
    "Write the following code corresponding to this equation:\n",
    "$y = 5^{3}$\n",
    "\n",
    "Store the result of this function in a variable named `y`."
   ]
  },
  {
   "cell_type": "code",
   "execution_count": 6,
   "metadata": {},
   "outputs": [],
   "source": [
    "# Write your code below:\n",
    "y = 5**3"
   ]
  },
  {
   "cell_type": "markdown",
   "metadata": {},
   "source": [
    "-----\n",
    "Use the `sqrt` function in Python's math library to calculate the square root of 16. Store the result in a variable called `a`.\n",
    "Use the `abs` function and pass in the number `-0.42`. Store the result in a variable called `b`."
   ]
  },
  {
   "cell_type": "code",
   "execution_count": 13,
   "metadata": {},
   "outputs": [
    {
     "name": "stdout",
     "output_type": "stream",
     "text": [
      "4.0 0.42\n"
     ]
    }
   ],
   "source": [
    "# Write your code below:\n",
    "a = math.sqrt(16)\n",
    "b = abs(-0.42)\n",
    "print(a, b)"
   ]
  }
 ],
 "metadata": {
  "kernelspec": {
   "display_name": "Python 3",
   "language": "python",
   "name": "python3"
  },
  "language_info": {
   "codemirror_mode": {
    "name": "ipython",
    "version": 3
   },
   "file_extension": ".py",
   "mimetype": "text/x-python",
   "name": "python",
   "nbconvert_exporter": "python",
   "pygments_lexer": "ipython3",
   "version": "3.13.7"
  },
  "widgets": {
   "application/vnd.jupyter.widget-state+json": {
    "state": {},
    "version_major": 2,
    "version_minor": 0
   }
  }
 },
 "nbformat": 4,
 "nbformat_minor": 4
}
