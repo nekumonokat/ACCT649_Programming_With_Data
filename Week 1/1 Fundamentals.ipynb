{
 "cells": [
  {
   "cell_type": "markdown",
   "metadata": {},
   "source": [
    "<table class=\"table table-bordered\">\n",
    "    <tr>\n",
    "        <th style=\"text-align:center; width:35%\"><img src='https://dl.dropbox.com/s/qtzukmzqavebjd2/icon_smu.jpg' style=\"width: 300px; height: 90px; \"></th>\n",
    "        <th style=\"text-align:center;\"><h3>ACCT649 - Lab 1</h3><h3>Fundamentals</h3></th>\n",
    "    </tr>\n",
    "</table>"
   ]
  },
  {
   "cell_type": "markdown",
   "metadata": {},
   "source": [
    "### Q1: Code Tracing\n",
    "\n",
    "Can you figure out what the following Python code produces <b>without running the code</b>?<br/>\n",
    "\n",
    "You may want to use a <b>sheet of paper</b> to note down the various <b>values</b> of the <b>variables</b> stored in memory as well as what is <b>displayed</b> on the <b>screen</b> (if applicable).\n",
    "\n",
    "Now run the code to <b>check</b> whether your guess is correct.\n"
   ]
  },
  {
   "cell_type": "code",
   "execution_count": null,
   "metadata": {},
   "outputs": [
    {
     "name": "stdout",
     "output_type": "stream",
     "text": [
      "17\n",
      "-2\n",
      "4.5 20.5\n",
      "2.0\n",
      "2525\n",
      "Result4 = 1\n",
      "4.8\n",
      "-3.0\n",
      "-3.0\n",
      "4\n",
      "1\n",
      "1\n",
      "abc def\n"
     ]
    },
    {
     "ename": "TypeError",
     "evalue": "can only concatenate str (not \"int\") to str",
     "output_type": "error",
     "traceback": [
      "\u001b[31m---------------------------------------------------------------------------\u001b[39m",
      "\u001b[31mTypeError\u001b[39m                                 Traceback (most recent call last)",
      "\u001b[36mCell\u001b[39m\u001b[36m \u001b[39m\u001b[32mIn[1]\u001b[39m\u001b[32m, line 36\u001b[39m\n\u001b[32m     33\u001b[39m \u001b[38;5;28mprint\u001b[39m(\u001b[32m2\u001b[39m + \u001b[32m3\u001b[39m * \u001b[32m6\u001b[39m % \u001b[32m3\u001b[39m ** \u001b[32m2\u001b[39m - \u001b[32m1\u001b[39m)\n\u001b[32m     35\u001b[39m \u001b[38;5;28mprint\u001b[39m(\u001b[33m\"\u001b[39m\u001b[33mabc\u001b[39m\u001b[33m\"\u001b[39m + \u001b[33m\"\u001b[39m\u001b[33m \u001b[39m\u001b[33m\"\u001b[39m + \u001b[33m\"\u001b[39m\u001b[33mdef\u001b[39m\u001b[33m\"\u001b[39m)\n\u001b[32m---> \u001b[39m\u001b[32m36\u001b[39m \u001b[38;5;28mprint\u001b[39m(\u001b[33;43m\"\u001b[39;49m\u001b[33;43mabc\u001b[39;49m\u001b[33;43m\"\u001b[39;49m\u001b[43m \u001b[49m\u001b[43m+\u001b[49m\u001b[43m \u001b[49m\u001b[32;43m123\u001b[39;49m)\n",
      "\u001b[31mTypeError\u001b[39m: can only concatenate str (not \"int\") to str"
     ]
    }
   ],
   "source": [
    "# lab1_Q1\n",
    "\n",
    "# ###########################################\n",
    "# The code below is given. Guess the output.\n",
    "# ###########################################\n",
    "\n",
    "a = 5 \n",
    "b = 3\n",
    "c = 6\n",
    "d = \"25\"\n",
    "e = 2.0\n",
    "\n",
    "print(2 + a * b) # 17\n",
    "print(c % a - b) # -2\n",
    "\n",
    "result1 = (b + c) / 2 # 4.5\n",
    "result2 = int(d) - result1 # 20.5\n",
    "print(result1, result2)\n",
    "\n",
    "print(a // e) # 2\n",
    "\n",
    "result3 = d * (c // b) # \"25\" * 2 = \"2525\"\n",
    "print(result3)\n",
    "\n",
    "result4 = a // b # 1\n",
    "print(\"Result4 = \" + str(result4)) # Result4 = 1\n",
    "\n",
    "print(2 + 3 * 3 / 5 - 2 + 8 % 5) # 2 + 9/5 - 2 + 3 = 4.8\n",
    "print(15 % 5 - 15 / 5) # -3\n",
    "print(10 / 2.5 / 2 - 5) # -3\n",
    "print(11 // 4 * 2) # 2*2 = 4\n",
    "print((3 + 5) * 2 % 3) # 1\n",
    "print(2 + 3 * 6 % 3 ** 2 - 1) # 1\n",
    "\n",
    "print(\"abc\" + \" \" + \"def\") # abc def\n",
    "print(\"abc\" + 123) # error"
   ]
  },
  {
   "cell_type": "markdown",
   "metadata": {},
   "source": [
    "### Q2: Circles\n",
    "\n",
    "\n",
    "Write a piece of Python code that prompts the user for the <b>radius</b> of a circle (in cm). The program then calculates and displays the <b>circumference</b> and the <b>area</b> of the specified circle.\n",
    "\n",
    "The formulas of circumference and area of a circle are as follows (the value of <b>&pi;</b> being set to <b>3.14</b>):\n",
    "<ul>\n",
    "<li>circumference = 2 x &pi; x radius</li>\n",
    "<li>area = &pi; x radius<b><sup>2</sup></b></li>\n",
    "</ul>\n",
    "\n",
    "<b>Note</b>: <br />\n",
    "\n",
    "Generally the convention is that if a variable's <b>value</b> is <b>not supposed to be changed</b> in the program, then this variable is considered a \"<b><font color = green>constant</font></b>\". \n",
    "<br />\n",
    "Then to make people know that this variable is actually a constant, and that its value should not be changed later in the program, the name given to that variable follows the following convention: <b>all capital letters with underscores separating words</b>: <br />\n",
    "For Example <b><font color = green>PI</font></b>, <b><font color = green>INTEREST_RATE</font></b>, or <b><font color = green>MAX_SIZE</font></b>.<br />\n",
    "\n",
    "In this exercise, the variable &pi; has to be declared as a constant : <b>PI = 3.14</b>.<br />\n",
    "\n",
    "Your code should produce the following output:<br />\n",
    "\n",
    "<blockquote style=\"font-family:'Courier New'\">\n",
    "Input radius:  <b>1.23</b><br/>\n",
    "Circumference = 7.7244<br/>\n",
    "Area = 4.750506<br/>\n",
    "</blockquote>\n",
    "<!--\n",
    "<img align=\"left\" src='https://drive.google.com/uc?export=view&id=0B08uY8vosNfoOUdfZEtGYnM0eWs' style=\"width: 420px; height: 70px;\">\n",
    "-->"
   ]
  },
  {
   "cell_type": "code",
   "execution_count": 20,
   "metadata": {},
   "outputs": [
    {
     "name": "stdout",
     "output_type": "stream",
     "text": [
      "Circumference = 7.7244\n",
      "Area = 4.750506\n"
     ]
    }
   ],
   "source": [
    "# lab1_Q2\n",
    "\n",
    "# ###########################\n",
    "# Write your code below:\n",
    "# ###########################\n",
    "\n",
    "radius = float(input(\"Input radius: \"))\n",
    "PI = 3.14\n",
    "circumference = 2 * PI * radius\n",
    "area = PI * radius**2\n",
    "\n",
    "print(\"Circumference =\", circumference)\n",
    "print(\"Area =\", area)"
   ]
  },
  {
   "cell_type": "markdown",
   "metadata": {},
   "source": [
    "### Q3: Your Weight on a Difference Planet\n",
    "\n",
    "You can probably recall from your science class that your <b>weight</b> on Earth depends on both your <b>mass</b> and the <b>gravity</b> of Earth. <br />Your weight would then be different on a different planet because the gravity changes.\n",
    "\n",
    "Because <b>weight = mass x gravity</b>, multiplying your weight on Earth by the numbers below will give you your weight on another planets.\n",
    "\n",
    "<table align=\"left\" class=\"table table-bordered\" style=\"width:40%\">\n",
    "<tr>\n",
    "<th style=\"text-align:center; width:15%\">Planet</th>\n",
    "<th style=\"text-align:center; width:20%\">Multiply the Earth Weight by</th>\n",
    "</tr>\n",
    "<tr>\n",
    "<td style=\"text-align:center;\">Mercury</td>\n",
    "<td style=\"text-align:center;\">0.38</td>\n",
    "</tr>\n",
    "<tr>\n",
    "<td style=\"text-align:center;\">Venus</td>\n",
    "<td style=\"text-align:center;\">0.91</td>\n",
    "</tr>\n",
    "<tr>\n",
    "<td style=\"text-align:center;\">Jupiter</td>\n",
    "<td style=\"text-align:center;\">2.34</td>\n",
    "</tr>\n",
    "</table>\n",
    "<br /><br /><br /><br /><br /><br /><br /><br /><br />\n",
    "\n",
    "Write a piece of Python code that prompts the user for his/her weight on Earth and calculates and displays his/her weight on various other planets.\n",
    "\n",
    "You can use the following link to double check the results from your code:\n",
    "https://www.livescience.com/33356-weight-on-planets-mars-moon.html\n"
   ]
  },
  {
   "cell_type": "code",
   "execution_count": 33,
   "metadata": {},
   "outputs": [
    {
     "name": "stdout",
     "output_type": "stream",
     "text": [
      "Your weight on Earth: 45.0\n",
      "Weight in Mercury: 17.1\n",
      "Weight in Venus: 40.95\n",
      "Weight in Jupiter: 105.3\n"
     ]
    }
   ],
   "source": [
    "## lab1_Q3\n",
    "\n",
    "# ########################\n",
    "# Write your code below:\n",
    "# ########################\n",
    "\n",
    "weight = float(input(\"Your weight on earth:\"))\n",
    "weight_ratios = [0.38, 0.91, 2.34]\n",
    "names = [\"Mercury\", \"Venus\", \"Jupiter\"]\n",
    "\n",
    "print(\"Your weight on Earth:\", weight)\n",
    "print(f\"Weight in {names[0]}: {weight * weight_ratios[0]}\")\n",
    "print(f\"Weight in {names[1]}: {weight * weight_ratios[1]}\")\n",
    "print(f\"Weight in {names[2]}: {weight * weight_ratios[2]}\")"
   ]
  },
  {
   "cell_type": "markdown",
   "metadata": {},
   "source": [
    "### Q4: Final Score Calculator\n",
    "\n",
    "Let's write some Python code that helps you calculate your final <b>cumulative score</b> for a course titled \"Introduction to University Life\".\n",
    "\n",
    "This course has several assessments. For each assessment, there is a <b>total score</b>, which is the maximum score you could achieve for that assessment. Each assessment counts towards a certain <b>percentage of the final cumulative score</b>. The final cumulative score is on a scale of <b>0 - 100</b>.\n",
    "\n",
    "The assessments of this course are shown below:\n",
    "\n",
    "<ul>\n",
    "<li>Assignments:\n",
    "    <ul>\n",
    "        <li>Assignment 1: (total score 10 marks), 10%</li>\n",
    "        <li>Assignment 2: (total score 10 marks), 10%</li>\n",
    "        <li>Assignment 3: (total score 10 marks), 10%</li>\n",
    "    </ul>\n",
    "</li>\n",
    "<li>Tests:\n",
    "    <ul>\n",
    "        <li>Test 1: (total score 30 marks), 15%</li>\n",
    "        <li>Test 2: (total score 40 marks), 20%</li>\n",
    "        <li>Exam: (total score 140 marks), 35%</li>\n",
    "    </ul>\n",
    "</li>\n",
    "</ul>\n",
    "\n",
    "For example, Test 1 is 30 marks in total and counts towards 15% of your final score. If your raw score for Test 1 is 20 marks, it is two thirds of the total score for Test 1 and it will contribute 10 marks (which is two thirds of 15) to your final cumulative score.\n",
    "\n",
    "Your code should produce the following sample output:<br />\n",
    "\n",
    "<blockquote style=\"font-family:'Courier New'\">\n",
    "What's your score for Assignment 1?  <b>7</b><br/>\n",
    "What's your score for Assignment 2?  <b>8</b><br/>\n",
    "What's your score for Assignment 3?  <b>9</b><br/>\n",
    "What's your score for Test 1?  <b>13</b><br/>\n",
    "What's your score for Test 2?  <b>19</b><br/>\n",
    "What's your score for the exam?  <b>122</b><br/>\n",
    "Your final cumulative score is 70.5 / 100<br/>\n",
    "</blockquote>\n",
    "\n",
    "\n",
    "<!--\n",
    "<img align=\"left\" src='https://drive.google.com/uc?export=view&id=0B08uY8vosNfodDdrN1hFVi1rdFE' style=\"width: 350px; height: 130px;\">\n",
    "-->"
   ]
  },
  {
   "cell_type": "code",
   "execution_count": 19,
   "metadata": {},
   "outputs": [
    {
     "name": "stdout",
     "output_type": "stream",
     "text": [
      "Your final cumulative score is 70.5 / 100\n"
     ]
    }
   ],
   "source": [
    "# lab1_Q4\n",
    "\n",
    "# #########################\n",
    "# Write your code below:\n",
    "# #########################\n",
    "\n",
    "a1 = int(input(\"What's your score for Assignment 1?\"))/10\n",
    "a2 = int(input(\"What's your score for Assignment 2?\"))/10\n",
    "a3 = int(input(\"What's your score for Assignment 3?\"))/10\n",
    "t1 = int(input(\"What's your score for Test 1?\"))/30\n",
    "t2 = int(input(\"What's your score for Test 2?\"))/40\n",
    "exam = int(input(\"What's your score for the exam?\"))/140\n",
    "score = a1*0.1 + a2*0.1 + a3*0.1 + t1*0.15 + t2*0.2 + exam*0.35\n",
    "\n",
    "print(\"Your final cumulative score is\", round(score*100, 2), \"/ 100\")"
   ]
  },
  {
   "cell_type": "markdown",
   "metadata": {},
   "source": [
    "\n",
    "### Q5: Compound Interest Calculator\n",
    "\n",
    "You're now going to implement a calculator for <b>compound interest</b> with a <b>fixed annual interest rate of 0.5%</b>, compounded monthly.\n",
    "\n",
    "Take a look at the following page to understand how compound interest is calculated:\n",
    "<a href=\"http://www.thecalculatorsite.com/articles/finance/compound-interest-formula.php\">Compound Interest Formula - Explained</a>\n",
    "\n",
    "Your code should:\n",
    "<ul>\n",
    "    <li>Prompt the user for the amount of principal that's deposited.</li>\n",
    "    <li>Prompt the user for the deposit time (in years).</li>\n",
    "    <li>Calculate the amount of interest the user will earn at the end of the deposit period.</li>\n",
    "</ul>\n",
    "\n",
    "Your code should produce the following sample output:<br />\n",
    "\n",
    "<blockquote>\n",
    "What's the amount of your principal?  <b>1000</b><br/>\n",
    "How many years do you want to deposit the money?  <b>9</b><br/>\n",
    "\n",
    "The interest you will earn is $46.02<br/>\n",
    "</blockquote>\n",
    "\n",
    "\n",
    "<!--\n",
    "<img align=\"left\" src='https://drive.google.com/uc?export=view&id=0B08uY8vosNfoalVPWHlnWnViaEU' style=\"width: 350px; height: 80px;\"> <br /><br /><br /><br /><br />\n",
    "-->\n",
    "\n",
    "<b>Note</b>: To round a real number x with n decimals after the decimal point, use the following function: <b>round(x, n)</b>."
   ]
  },
  {
   "cell_type": "code",
   "execution_count": 28,
   "metadata": {},
   "outputs": [
    {
     "name": "stdout",
     "output_type": "stream",
     "text": [
      "The interest you will earn is $46.02\n"
     ]
    }
   ],
   "source": [
    "# lab1_Q5\n",
    "\n",
    "# #################################\n",
    "# The code below is given!!!!\n",
    "# #################################\n",
    "# You are given the following constants:\n",
    "\n",
    "# Annual interest rate (which is fixed)\n",
    "ANNUAL_INTEREST_RATE = 0.005\n",
    "# Number of times the interest is compounded per year\n",
    "FREQUENCY_OF_COMPOUNDING = 12\n",
    "\n",
    "# #################################\n",
    "# Write your code below:\n",
    "# #################################\n",
    "\n",
    "principal = int(input(\"What's the amount of your principal?\"))\n",
    "years = int(input(\"How many years do you want to deposit the money?\"))\n",
    "\n",
    "amt = round(principal*(1 + (ANNUAL_INTEREST_RATE/FREQUENCY_OF_COMPOUNDING))**(FREQUENCY_OF_COMPOUNDING*years)-principal, 2)\n",
    "print(\"The interest you will earn is $\" + str(amt))"
   ]
  },
  {
   "cell_type": "markdown",
   "metadata": {},
   "source": [
    "### Q6: Change Calculator \n",
    "\n",
    "\n",
    "If you visit the United States, you'll need to get familiar with their currency and the various <b>coins</b> and <b>notes</b> in circulation. Look at this link to find out more about their various coins and notes: \n",
    "http://www.immihelp.com/newcomer/usa-currency-coins.html\n",
    "\n",
    "Here's a list of common coins:\n",
    "<ul>\n",
    "<li>Penny - 1 cent</li>\n",
    "<li>Nickle - 5 cents</li>\n",
    "<li>Dime - 10 cents</li>\n",
    "<li>Quarter - 25 cents</li>\n",
    "</ul>\n",
    "\n",
    "And the commonly used notes are : \\$1, \\$5, \\$10 and \\$20 notes.\n",
    "\n",
    "Let's write some Python code that prompts the user for an amount to pay (in US$) and that helps him/her to know <b>how many coins or notes</b> he/she has to provide in each denomination, to provide the <b>exact change</b>. <br />\n",
    "Some starting code is already given to you (which takes care of the conversion pricision from float to int - you can ignore ).\n",
    "\n",
    "Your code should produce the following sample output:<br />\n",
    "\n",
    "<blockquote style=\"font-family:'Courier New'\">\n",
    "Enter payment amount (US$): <b>157.89</b><br />\n",
    "<br/>\n",
    "You need to give:<br/>\n",
    "7 x 20 dollar notes<br/>\n",
    "1 x 10 dollar notes<br/>\n",
    "1 x 5 dollar notes<br/>\n",
    "2 x 1 dollar notes<br/>\n",
    "3 quarters<br/>\n",
    "1 dimes<br/>\n",
    "0 nickels<br/>\n",
    "and 4 pennies<br/>\n",
    "</blockquote>\n",
    "\n",
    "\n",
    "<!--\n",
    "<img align=\"left\" src='https://drive.google.com/uc?export=view&id=0B3N0YMArBdSBM0dBY1ZHUzk0bTg' style=\"width: 400px\">\n",
    "-->"
   ]
  },
  {
   "cell_type": "code",
   "execution_count": 50,
   "metadata": {},
   "outputs": [
    {
     "name": "stdout",
     "output_type": "stream",
     "text": [
      "You need to give:\n",
      "7 x 20 dollar notes\n",
      "1 x 10 dollar notes\n",
      "1 x 5 dollar notes\n",
      "2 x 1 dollar notes\n",
      "3 quarters\n",
      "1 dimes\n",
      "0 nickels\n",
      "and 4 pennies\n"
     ]
    }
   ],
   "source": [
    "# lab1_Q6\n",
    "\n",
    "# ################################\n",
    "# The code below is given!!!!\n",
    "# ################################\n",
    "\n",
    "# amount = float(input(\"Enter payment amount (US$) :\"))\n",
    "amount = 157.89\n",
    "\n",
    "# amount_in_cents stores the payment amount in terms of cents.\n",
    "amount_in_cents = int(round(amount * 100))\n",
    "denoms = [2000, 1000, 500, 100, 25, 10, 5]\n",
    "names = [\"20 dollar notes\", \"10 dollar notes\", \"5 dollar notes\", \"1 dollar notes\", \"quarters\", \"dimes\", \"nickels\", \"pennies\"]\n",
    "\n",
    "# ################################\n",
    "# Write your code below:\n",
    "# ################################\n",
    "\n",
    "amts = [0, 0, 0, 0, 0, 0, 0, 0]\n",
    "\n",
    "amts[0] = amount_in_cents // denoms[0]\n",
    "amount_in_cents %= denoms[0]\n",
    "amts[1] = amount_in_cents // denoms[1]\n",
    "amount_in_cents %= denoms[1]\n",
    "amts[2] = amount_in_cents // denoms[2]\n",
    "amount_in_cents %= denoms[2]\n",
    "amts[3] = amount_in_cents // denoms[3]\n",
    "amount_in_cents %= denoms[3]\n",
    "amts[4] = amount_in_cents // denoms[4]\n",
    "amount_in_cents %= denoms[4]\n",
    "amts[5] = amount_in_cents // denoms[5]\n",
    "amount_in_cents %= denoms[5]\n",
    "amts[6] = amount_in_cents // denoms[6]\n",
    "amts[7] = amount_in_cents % denoms[6]\n",
    "\n",
    "print(\"You need to give:\")\n",
    "print(f\"{amts[0]} x {names[0]}\")\n",
    "print(f\"{amts[1]} x {names[1]}\")\n",
    "print(f\"{amts[2]} x {names[2]}\")\n",
    "print(f\"{amts[3]} x {names[3]}\")\n",
    "print(f\"{amts[4]} {names[4]}\")\n",
    "print(f\"{amts[5]} {names[5]}\")\n",
    "print(f\"{amts[6]} {names[6]}\")\n",
    "print(f\"and {amts[7]} {names[7]}\")"
   ]
  }
 ],
 "metadata": {
  "kernelspec": {
   "display_name": "Python 3",
   "language": "python",
   "name": "python3"
  },
  "language_info": {
   "codemirror_mode": {
    "name": "ipython",
    "version": 3
   },
   "file_extension": ".py",
   "mimetype": "text/x-python",
   "name": "python",
   "nbconvert_exporter": "python",
   "pygments_lexer": "ipython3",
   "version": "3.13.7"
  }
 },
 "nbformat": 4,
 "nbformat_minor": 4
}
