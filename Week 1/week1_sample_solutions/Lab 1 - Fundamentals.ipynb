{
 "cells": [
  {
   "cell_type": "markdown",
   "metadata": {},
   "source": [
    "<table class=\"table table-bordered\">\n",
    "    <tr>\n",
    "        <th style=\"text-align:center; width:35%\"><img src='https://dl.dropbox.com/s/qtzukmzqavebjd2/icon_smu.jpg' style=\"width: 300px; height: 90px; \"></th>\n",
    "        <th style=\"text-align:center;\"><h3>ACCT649 - Lab 1</h3><h3>Fundamentals</h3></th>\n",
    "    </tr>\n",
    "</table>"
   ]
  },
  {
   "cell_type": "markdown",
   "metadata": {},
   "source": [
    "### Q1: Code Tracing\n",
    "\n",
    "Can you figure out what the following Python code produces <b>without running the code</b>?<br/>\n",
    "\n",
    "You may want to use a <b>sheet of paper</b> to note down the various <b>values</b> of the <b>variables</b> stored in memory as well as what is <b>displayed</b> on the <b>screen</b> (if applicable).\n",
    "\n",
    "Now run the code to <b>check</b> whether your guess is correct.\n"
   ]
  },
  {
   "cell_type": "code",
   "execution_count": 5,
   "metadata": {},
   "outputs": [
    {
     "name": "stdout",
     "output_type": "stream",
     "text": [
      "17\n",
      "-2\n",
      "4.5 20.5\n",
      "2.0\n",
      "2525\n",
      "Result4 = 1\n",
      "4.8\n",
      "-3.0\n",
      "-3.0\n",
      "4\n",
      "1\n",
      "1\n",
      "abc def\n"
     ]
    },
    {
     "ename": "TypeError",
     "evalue": "can only concatenate str (not \"int\") to str",
     "output_type": "error",
     "traceback": [
      "\u001b[1;31m---------------------------------------------------------------------------\u001b[0m",
      "\u001b[1;31mTypeError\u001b[0m                                 Traceback (most recent call last)",
      "Cell \u001b[1;32mIn[5], line 68\u001b[0m\n\u001b[0;32m     64\u001b[0m \u001b[38;5;28mprint\u001b[39m(\u001b[38;5;124m\"\u001b[39m\u001b[38;5;124mabc\u001b[39m\u001b[38;5;124m\"\u001b[39m \u001b[38;5;241m+\u001b[39m \u001b[38;5;124m\"\u001b[39m\u001b[38;5;124m \u001b[39m\u001b[38;5;124m\"\u001b[39m \u001b[38;5;241m+\u001b[39m \u001b[38;5;124m\"\u001b[39m\u001b[38;5;124mdef\u001b[39m\u001b[38;5;124m\"\u001b[39m)\n\u001b[0;32m     66\u001b[0m \u001b[38;5;66;03m# Error occurs (123 is an int, so it cannot be combined with a string,\u001b[39;00m\n\u001b[0;32m     67\u001b[0m \u001b[38;5;66;03m# therefore the int needs to be converted to string)\u001b[39;00m\n\u001b[1;32m---> 68\u001b[0m \u001b[38;5;28mprint\u001b[39m(\u001b[38;5;124m\"\u001b[39m\u001b[38;5;124mabc\u001b[39m\u001b[38;5;124m\"\u001b[39m \u001b[38;5;241m+\u001b[39m \u001b[38;5;241m123\u001b[39m)\n",
      "\u001b[1;31mTypeError\u001b[0m: can only concatenate str (not \"int\") to str"
     ]
    }
   ],
   "source": [
    "# lab1_Q1\n",
    "\n",
    "# ###########################################\n",
    "# The code below is given. Guess the output.\n",
    "# ###########################################\n",
    "a = 5 \n",
    "b = 3\n",
    "c = 6\n",
    "d = \"25\"\n",
    "e = 2.0\n",
    "\n",
    "# Prints 17\n",
    "print(2 + a * b)\n",
    "\n",
    "# Prints -2\n",
    "print(c % a - b)\n",
    "\n",
    "# Prints 4.5 20.5\n",
    "result1 = (b + c) / 2\n",
    "result2 = int(d) - result1\n",
    "print(result1, result2)\n",
    "\n",
    "# Prints 2.0\n",
    "# because e was given a float (decimal number) value, \n",
    "# so the result is also a float (but has 0 value after the decimal point)\n",
    "print(a // e)\n",
    "\n",
    "# Prints 2525, because d is the string \"25\", so it is repeated twice.\n",
    "# A string is a series of characters on the keyboard, therefore\n",
    "# mathemtical operations (like doubling its value) does not occur to it.\n",
    "result3 = d * (c // b)\n",
    "print(result3)\n",
    "\n",
    "# Prints \"Result4 = 1\"\n",
    "result4 = a // b\n",
    "print(\"Result4 = \" + str(result4))\n",
    "\n",
    "# Prints 4.8\n",
    "print(2 + 3 * 3 / 5 - 2 + 8 % 5)\n",
    "\n",
    "# Prints -3.0\n",
    "# because when we perform division, the result could be a decimal number,\n",
    "# so the result is a float \"-3.0\" not an int \"3\".\n",
    "print(15 % 5 - 15 / 5)\n",
    "\n",
    "# Prints -3.0\n",
    "print(10 / 2.5 / 2 - 5)\n",
    "\n",
    "# Prints 4\n",
    "# because we performed integer division \"//\" and we had integers for both\n",
    "# the numerator and denominator, therefore the result is also an integer.\n",
    "print(11 // 4 * 2)\n",
    "\n",
    "# Prints 1\n",
    "print((3 + 5) * 2 % 3)\n",
    "\n",
    "# Prints 1\n",
    "# because 3**2 has higher precedence than both multiplication and division,\n",
    "# therefore \"3 to the power of 2\" occurs first.\n",
    "print(2 + 3 * 6 % 3 ** 2 - 1)\n",
    "\n",
    "# Prints \"abc def\" because everything is a string,\n",
    "# therefore they all get concatenated (joined, one after another)\n",
    "print(\"abc\" + \" \" + \"def\")\n",
    "\n",
    "# Error occurs (123 is an int, so it cannot be combined with a string,\n",
    "# therefore the int needs to be converted to string)\n",
    "print(\"abc\" + 123)"
   ]
  },
  {
   "cell_type": "markdown",
   "metadata": {},
   "source": [
    "### Q2: Circles\n",
    "\n",
    "\n",
    "Write a piece of Python code that prompts the user for the <b>radius</b> of a circle (in cm). The program then calculates and displays the <b>circumference</b> and the <b>area</b> of the specified circle.\n",
    "\n",
    "The formulas of circumference and area of a circle are as follows (the value of <b>&pi;</b> being set to <b>3.14</b>):\n",
    "<ul>\n",
    "<li>circumference = 2 x &pi; x radius</li>\n",
    "<li>area = &pi; x radius<b><sup>2</sup></b></li>\n",
    "</ul>\n",
    "\n",
    "<b>Note</b>: <br />\n",
    "\n",
    "Generally the convention is that if a variable's <b>value</b> is <b>not supposed to be changed</b> in the program, then this variable is considered a \"<b><font color = green>constant</font></b>\". \n",
    "<br />\n",
    "Then to make people know that this variable is actually a constant, and that its value should not be changed later in the program, the name given to that variable follows the following convention: <b>all capital letters with underscores separating words</b>: <br />\n",
    "For Example <b><font color = green>PI</font></b>, <b><font color = green>INTEREST_RATE</font></b>, or <b><font color = green>MAX_SIZE</font></b>.<br />\n",
    "\n",
    "In this exercise, the variable &pi; has to be declared as a constant : <b>PI = 3.14</b>.<br />\n",
    "\n",
    "Your code should produce the following output:<br />\n",
    "\n",
    "<blockquote style=\"font-family:'Courier New'\">\n",
    "Input radius:  <b>1.23</b><br/>\n",
    "Circumference = 7.7244<br/>\n",
    "Area = 4.750506<br/>\n",
    "</blockquote>\n",
    "<!--\n",
    "<img align=\"left\" src='https://drive.google.com/uc?export=view&id=0B08uY8vosNfoOUdfZEtGYnM0eWs' style=\"width: 420px; height: 70px;\">\n",
    "-->6\n"
   ]
  },
  {
   "cell_type": "code",
   "execution_count": 6,
   "metadata": {},
   "outputs": [
    {
     "name": "stdin",
     "output_type": "stream",
     "text": [
      "Input radius:  1.23\n"
     ]
    },
    {
     "name": "stdout",
     "output_type": "stream",
     "text": [
      "Circumference = 7.7244\n",
      "Area = 4.750506\n"
     ]
    }
   ],
   "source": [
    "# lab1_Q2\n",
    "\n",
    "# Ratio of circle circumference over diameter\n",
    "PI = 3.14\n",
    "\n",
    "# Prompt user for radius.\n",
    "# We need to convert to float, because by default,\n",
    "# we read strings from users, since the user could type any series of characters,\n",
    "# which is by definition a string.\n",
    "r = float(input('Input radius: '))\n",
    "\n",
    "# Calculate circumference\n",
    "c = 2 * PI * r\n",
    "print(\"Circumference = \" + str(c))\n",
    "\n",
    "# Calculate area\n",
    "a = PI * r**2\n",
    "print(\"Area = \" + str(a))"
   ]
  },
  {
   "cell_type": "markdown",
   "metadata": {},
   "source": [
    "### Q3: Your Weight on a Difference Planet\n",
    "\n",
    "You can probably recall from your science class that your <b>weight</b> on Earth depends on both your <b>mass</b> and the <b>gravity</b> of Earth. <br />Your weight would then be different on a different planet because the gravity changes.\n",
    "\n",
    "Because <b>weight = mass x gravity</b>, multiplying your weight on Earth by the numbers below will give you your weight on another planets.\n",
    "\n",
    "<table align=\"left\" class=\"table table-bordered\" style=\"width:40%\">\n",
    "<tr>\n",
    "<th style=\"text-align:center; width:15%\">Planet</th>\n",
    "<th style=\"text-align:center; width:20%\">Multiply the Earth Weight by</th>\n",
    "</tr>\n",
    "<tr>\n",
    "<td style=\"text-align:center;\">Mercury</td>\n",
    "<td style=\"text-align:center;\">0.38</td>\n",
    "</tr>\n",
    "<tr>\n",
    "<td style=\"text-align:center;\">Venus</td>\n",
    "<td style=\"text-align:center;\">0.91</td>\n",
    "</tr>\n",
    "<tr>\n",
    "<td style=\"text-align:center;\">Jupiter</td>\n",
    "<td style=\"text-align:center;\">2.34</td>\n",
    "</tr>\n",
    "</table>\n",
    "<br /><br /><br /><br /><br /><br /><br /><br /><br />\n",
    "\n",
    "Write a piece of Python code that prompts the user for his/her weight on Earth and calculates and displays his/her weight on various other planets.\n",
    "\n",
    "You can use the following link to double check the results from your code:\n",
    "https://www.livescience.com/33356-weight-on-planets-mars-moon.html\n"
   ]
  },
  {
   "cell_type": "code",
   "execution_count": 7,
   "metadata": {},
   "outputs": [
    {
     "name": "stdin",
     "output_type": "stream",
     "text": [
      "Enter Earth weight:  70\n"
     ]
    },
    {
     "name": "stdout",
     "output_type": "stream",
     "text": [
      "Mercury weight = 26.6\n",
      "Venus weight = 63.7\n",
      "Jupiter weight = 163.79999999999998\n"
     ]
    }
   ],
   "source": [
    "## lab1_Q3\n",
    "\n",
    "# Prompt user for Earth weight\n",
    "earth_weight = float(input('Enter Earth weight: '))\n",
    "\n",
    "# Planets and ratio of weight on them compared to Earth\n",
    "planets = ['Mercury', 'Venus', 'Jupiter']\n",
    "weight_factors = [0.38, 0.91, 2.34]\n",
    "\n",
    "# Print results\n",
    "print(planets[0] + \" weight = \" + str(weight_factors[0] * earth_weight))\n",
    "print(planets[1] + \" weight = \" + str(weight_factors[1] * earth_weight))\n",
    "print(planets[2] + \" weight = \" + str(weight_factors[2] * earth_weight))"
   ]
  },
  {
   "cell_type": "markdown",
   "metadata": {},
   "source": [
    "### Q4: Final Score Calculator\n",
    "\n",
    "Let's write some Python code that helps you calculate your final <b>cumulative score</b> for a course titled \"Introduction to University Life\".\n",
    "\n",
    "This course has several assessments. For each assessment, there is a <b>total score</b>, which is the maximum score you could achieve for that assessment. Each assessment counts towards a certain <b>percentage of the final cumulative score</b>. The final cumulative score is on a scale of <b>0 - 100</b>.\n",
    "\n",
    "The assessments of this course are shown below:\n",
    "\n",
    "<ul>\n",
    "<li>Assignments:\n",
    "    <ul>\n",
    "        <li>Assignment 1: (total score 10 marks), 10%</li>\n",
    "        <li>Assignment 2: (total score 10 marks), 10%</li>\n",
    "        <li>Assignment 3: (total score 10 marks), 10%</li>\n",
    "    </ul>\n",
    "</li>\n",
    "<li>Tests:\n",
    "    <ul>\n",
    "        <li>Test 1: (total score 30 marks), 15%</li>\n",
    "        <li>Test 2: (total score 40 marks), 20%</li>\n",
    "        <li>Exam: (total score 140 marks), 35%</li>\n",
    "    </ul>\n",
    "</li>\n",
    "</ul>\n",
    "\n",
    "For example, Test 1 is 30 marks in total and counts towards 15% of your final score. If your raw score for Test 1 is 20 marks, it is two thirds of the total score for Test 1 and it will contribute 10 marks (which is two thirds of 15) to your final cumulative score.\n",
    "\n",
    "<b>Note</b>: To round a real number x with n decimals after the decimal point, use the following function: <b>round(x, n)</b>.\n",
    "\n",
    "Your code should produce the following sample output:<br />\n",
    "\n",
    "<blockquote style=\"font-family:'Courier New'\">\n",
    "What's your score for Assignment 1?  <b>7</b><br/>\n",
    "What's your score for Assignment 2?  <b>8</b><br/>\n",
    "What's your score for Assignment 3?  <b>9</b><br/>\n",
    "What's your score for Test 1?  <b>13</b><br/>\n",
    "What's your score for Test 2?  <b>19</b><br/>\n",
    "What's your score for the exam?  <b>122</b><br/>\n",
    "Your final cumulative score is 70.5 / 100<br/>\n",
    "</blockquote>\n",
    "\n",
    "\n",
    "<!--\n",
    "<img align=\"left\" src='https://drive.google.com/uc?export=view&id=0B08uY8vosNfodDdrN1hFVi1rdFE' style=\"width: 350px; height: 130px;\">\n",
    "-->"
   ]
  },
  {
   "cell_type": "code",
   "execution_count": 11,
   "metadata": {},
   "outputs": [
    {
     "name": "stdin",
     "output_type": "stream",
     "text": [
      "What's your score for Assignment 1?  7\n",
      "What's your score for Assignment 2?  8\n",
      "What's your score for Assignment 3?  9\n",
      "What's your score for Test 1?  13\n",
      "What's your score for Test 2?  19\n",
      "What's your score for the exam?  122\n"
     ]
    },
    {
     "name": "stdout",
     "output_type": "stream",
     "text": [
      "Your final cumulative score is 70.5 / 100\n"
     ]
    }
   ],
   "source": [
    "# lab1_Q4\n",
    "\n",
    "ass1 = float(input(\"What's your score for Assignment 1? \"))\n",
    "ass2 = float(input(\"What's your score for Assignment 2? \"))\n",
    "ass3 = float(input(\"What's your score for Assignment 3? \"))\n",
    "test1 = float(input(\"What's your score for Test 1? \"))\n",
    "test2 = float(input(\"What's your score for Test 2? \"))\n",
    "exam = float(input(\"What's your score for the exam? \"))\n",
    "\n",
    "score = 100 * (0.1*ass1/10 + 0.1*ass2/10 + 0.1*ass3/10 + 0.15*test1/30 + 0.2*test2/40 + 0.35*exam/140)\n",
    "print(\"Your final cumulative score is \" + str(score) + \" / 100\")"
   ]
  },
  {
   "cell_type": "markdown",
   "metadata": {},
   "source": [
    "### Q5: Compound Interest Calculator\n",
    "\n",
    "You're now going to implement a calculator for <b>compound interest</b> with a <b>fixed annual interest rate of 0.5%</b>, compounded monthly.\n",
    "\n",
    "Take a look at the following page to understand how compound interest is calculated:\n",
    "<a href=\"http://www.thecalculatorsite.com/articles/finance/compound-interest-formula.php\">Compound Interest Formula - Explained</a>\n",
    "\n",
    "Your code should:\n",
    "<ul>\n",
    "    <li>Prompt the user for the amount of principal that's deposited.</li>\n",
    "    <li>Prompt the user for the deposit time (in years).</li>\n",
    "    <li>Calculate the amount of interest the user will earn at the end of the deposit period.</li>\n",
    "</ul>\n",
    "\n",
    "Your code should produce the following sample output:<br />\n",
    "\n",
    "<blockquote>\n",
    "What's the amount of your principal?  <b>1000</b><br/>\n",
    "How many years do you want to deposit the money?  <b>9</b><br/>\n",
    "\n",
    "The interest you will earn is $46.02<br/>\n",
    "</blockquote>\n",
    "\n",
    "\n",
    "<!--\n",
    "<img align=\"left\" src='https://drive.google.com/uc?export=view&id=0B08uY8vosNfoalVPWHlnWnViaEU' style=\"width: 350px; height: 80px;\"> <br /><br /><br /><br /><br />\n",
    "-->\n",
    "\n",
    "<b>Note</b>: To round a real number x with n decimals after the decimal point, use the following function: <b>round(x, n)</b>."
   ]
  },
  {
   "cell_type": "code",
   "execution_count": 12,
   "metadata": {},
   "outputs": [
    {
     "name": "stdin",
     "output_type": "stream",
     "text": [
      "What's the amount of your principal?  1000\n",
      "How many years do you want to deposit the money?  9\n"
     ]
    },
    {
     "name": "stdout",
     "output_type": "stream",
     "text": [
      "\n",
      "The interest you will earn is $46.02\n"
     ]
    }
   ],
   "source": [
    "# lab1_Q5\n",
    "\n",
    "# Annual interest rate (which is fixed)\n",
    "ANNUAL_INTEREST_RATE = 0.005\n",
    "\n",
    "# Number of times the interest is compounded per year\n",
    "FREQUENCY_OF_COMPOUNDING = 12\n",
    "\n",
    "# Prompt user for principal and number of years\n",
    "principal = float(input(\"What's the amount of your principal? \"))\n",
    "years = float(input(\"How many years do you want to deposit the money? \"))\n",
    "\n",
    "# Calculate compounding interest to 2 decimal places\n",
    "interest = principal*(1 + ANNUAL_INTEREST_RATE/FREQUENCY_OF_COMPOUNDING)**(FREQUENCY_OF_COMPOUNDING * years) - principal\n",
    "print()\n",
    "print(\"The interest you will earn is $\" + str(round(interest, 2)))"
   ]
  },
  {
   "cell_type": "markdown",
   "metadata": {},
   "source": [
    "### Q6: Change Calculator \n",
    "\n",
    "\n",
    "If you visit the United States, you'll need to get familiar with their currency and the various <b>coins</b> and <b>notes</b> in circulation. Look at this link to find out more about their various coins and notes: \n",
    "http://www.immihelp.com/newcomer/usa-currency-coins.html\n",
    "\n",
    "Here's a list of common coins:\n",
    "<ul>\n",
    "<li>Penny - 1 cent</li>\n",
    "<li>Nickle - 5 cents</li>\n",
    "<li>Dime - 10 cents</li>\n",
    "<li>Quarter - 25 cents</li>\n",
    "</ul>\n",
    "\n",
    "And the commonly used notes are : \\$1, \\$5, \\$10 and \\$20 notes.\n",
    "\n",
    "Let's write some Python code that prompts the user for an amount to pay (in US$) and that helps him/her to know <b>how many coins or notes</b> he/she has to provide in each denomination, to provide the <b>exact change</b>. <br />\n",
    "Some starting code is already given to you (which takes care of the conversion pricision from float to int - you can ignore ).\n",
    "\n",
    "Your code should produce the following sample output:<br />\n",
    "\n",
    "<blockquote style=\"font-family:'Courier New'\">\n",
    "Enter payment amount (US$): <b>157.89</b><br />\n",
    "<br/>\n",
    "You need to give:<br/>\n",
    "7 x 20 dollar notes<br/>\n",
    "1 x 10 dollar notes<br/>\n",
    "1 x 5 dollar notes<br/>\n",
    "2 x 1 dollar notes<br/>\n",
    "3 quarters<br/>\n",
    "1 dimes<br/>\n",
    "0 nickels<br/>\n",
    "and 4 pennies<br/>\n",
    "</blockquote>\n",
    "\n",
    "\n",
    "<!--\n",
    "<img align=\"left\" src='https://drive.google.com/uc?export=view&id=0B3N0YMArBdSBM0dBY1ZHUzk0bTg' style=\"width: 400px\">\n",
    "-->"
   ]
  },
  {
   "cell_type": "code",
   "execution_count": 13,
   "metadata": {},
   "outputs": [
    {
     "name": "stdin",
     "output_type": "stream",
     "text": [
      "Enter payment amount (US$):  157.89\n"
     ]
    },
    {
     "name": "stdout",
     "output_type": "stream",
     "text": [
      "\n",
      "You need to give:\n",
      "7 ($20 notes)\n",
      "1 ($10 notes)\n",
      "1 ($5 notes)\n",
      "2 ($1 notes)\n",
      "3 (quarters)\n",
      "1 (dimes)\n",
      "0 (nickels)\n",
      "and 4 (pennies)\n"
     ]
    }
   ],
   "source": [
    "# lab1_Q6\n",
    "\n",
    "# Prompt user for amount in US$\n",
    "amount = float(input(\"Enter payment amount (US$):\"))\n",
    "\n",
    "# How many cents to pay\n",
    "amount_in_cents = int(round(amount * 100))\n",
    "\n",
    "# Value of denominations (in cents) and their names\n",
    "denominations = [2000,1000,500,100,25,10,5,1]\n",
    "denomination_names = ['$20 notes','$10 notes','$5 notes','$1 notes','quarters','dimes','nickels','pennies',]\n",
    "\n",
    "# How many of each denomination we need\n",
    "quantities = [0,0,0,0,0,0,0,0]\n",
    "\n",
    "# How many $20 notes we need? And how much remaining after that?\n",
    "quantities[0] = amount_in_cents // denominations[0]\n",
    "amount_in_cents = amount_in_cents % denominations[0]\n",
    "\n",
    "# How many $20 notes we need? And how much remaining after that?\n",
    "quantities[1] = amount_in_cents // denominations[1]\n",
    "amount_in_cents = amount_in_cents % denominations[1]\n",
    "\n",
    "# How many $5 notes we need? And how much remaining after that?\n",
    "quantities[2] = amount_in_cents // denominations[2]\n",
    "amount_in_cents = amount_in_cents % denominations[2]\n",
    "\n",
    "# How many $1 notes we need? And how much remaining after that?\n",
    "quantities[3] = amount_in_cents // denominations[3]\n",
    "amount_in_cents = amount_in_cents % denominations[3]\n",
    "\n",
    "# How many 25c coins we need? And how much remaining after that?\n",
    "quantities[4] = amount_in_cents // denominations[4]\n",
    "amount_in_cents = amount_in_cents % denominations[4]\n",
    "\n",
    "# How many 10c coins we need? And how much remaining after that?\n",
    "quantities[5] = amount_in_cents // denominations[5]\n",
    "amount_in_cents = amount_in_cents % denominations[5]\n",
    "\n",
    "# How many 5c coins we need? And how much remaining after that?\n",
    "quantities[6] = amount_in_cents // denominations[6]\n",
    "amount_in_cents = amount_in_cents % denominations[6]\n",
    "\n",
    "# How many 1c coins we need? And how much remaining after that?\n",
    "quantities[7] = amount_in_cents // denominations[7]\n",
    "amount_in_cents = amount_in_cents % denominations[7]\n",
    "\n",
    "print()\n",
    "print('You need to give:')\n",
    "print(str(quantities[0]) + ' (' + denomination_names[0] + ')')\n",
    "print(str(quantities[1]) + ' (' + denomination_names[1] + ')')\n",
    "print(str(quantities[2]) + ' (' + denomination_names[2] + ')')\n",
    "print(str(quantities[3]) + ' (' + denomination_names[3] + ')')\n",
    "print(str(quantities[4]) + ' (' + denomination_names[4] + ')')\n",
    "print(str(quantities[5]) + ' (' + denomination_names[5] + ')')\n",
    "print(str(quantities[6]) + ' (' + denomination_names[6] + ')')\n",
    "print('and ' + str(quantities[7]) + ' (' + denomination_names[7] + ')')"
   ]
  },
  {
   "cell_type": "code",
   "execution_count": null,
   "metadata": {},
   "outputs": [],
   "source": []
  }
 ],
 "metadata": {
  "kernelspec": {
   "display_name": "Python 3 (ipykernel)",
   "language": "python",
   "name": "python3"
  },
  "language_info": {
   "codemirror_mode": {
    "name": "ipython",
    "version": 3
   },
   "file_extension": ".py",
   "mimetype": "text/x-python",
   "name": "python",
   "nbconvert_exporter": "python",
   "pygments_lexer": "ipython3",
   "version": "3.11.7"
  }
 },
 "nbformat": 4,
 "nbformat_minor": 4
}
