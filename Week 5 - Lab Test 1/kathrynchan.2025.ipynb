{
 "cells": [
  {
   "cell_type": "code",
   "execution_count": null,
   "id": "8a546b43-a9c4-4322-92f0-4db1688745d1",
   "metadata": {},
   "outputs": [],
   "source": [
    "### Lab Test 1, 2025-26 T1\n",
    "### Author: Kathryn Chan Hui"
   ]
  },
  {
   "cell_type": "code",
   "execution_count": null,
   "id": "a7494945-a108-42a4-9d84-919ac94f533f",
   "metadata": {},
   "outputs": [
    {
     "name": "stdout",
     "output_type": "stream",
     "text": [
      "78.53981633974483\n",
      "201.06192982974676\n"
     ]
    }
   ],
   "source": [
    "### Q1: 20/20\n",
    "\n",
    "# returns area of circle\n",
    "def calculate_area(radius):\n",
    "    area = math.pi * (radius**2)\n",
    "    return area\n",
    "\n",
    "# Import math package so that we can access value of pi\n",
    "import math\n",
    "\n",
    "# Use function above for various test cases\n",
    "print(calculate_area(5))\n",
    "print(calculate_area(8))"
   ]
  },
  {
   "cell_type": "code",
   "execution_count": null,
   "id": "d572b66b-266f-48b6-af6c-ff4904e4e060",
   "metadata": {},
   "outputs": [
    {
     "name": "stdout",
     "output_type": "stream",
     "text": [
      "Person 1 is younger but Person 2 has their birthday earlier in the year\n",
      "Person 2 is younger but Person 1 has their birthday earlier in the year\n",
      "Person 1 is younger but Person 2 has their birthday earlier in the year\n",
      "Person 2 is younger and has their birthday earlier in the year\n",
      "Person 2 is younger but they both have same birthday\n",
      "Both have exactly the same age\n"
     ]
    }
   ],
   "source": [
    "### Q2: 20/20\n",
    "\n",
    "# takes birthdays of 2 people\n",
    "# should not return, print only 1 line - use return right after print\n",
    "def check_birthdays(d1, m1, y1, d2, m2, y2):\n",
    "    person1_earlier = False\n",
    "    person2_earlier = False\n",
    "\n",
    "    # CASE 1: EXACT SAME BDAE\n",
    "    if d1 == d2 and m1 == m2 and y1 == y2:\n",
    "        print(\"Both have exactly the same age\")\n",
    "        return\n",
    "    \n",
    "    # CASE 2: SAME DAY AND MONTH BUT DIFF YEAR\n",
    "    if d1 == d2 and m1 == m2:\n",
    "        if y1 < y2:\n",
    "            print(\"Person 2 is younger but they both have same birthday\")\n",
    "            return\n",
    "        elif y2 < y1:\n",
    "            print(\"Person 1 is younger but they both have same birthday\")\n",
    "            return\n",
    "        \n",
    "    # CHECK BIRTHDAY EARLIER IN YEAR\n",
    "    if m1 < m2 or (m1 == m2 and d1 < d2): person1_earlier = True\n",
    "    if m2 < m1 or (m1 == m2 and d2 < d1): person2_earlier = True\n",
    "\n",
    "    # CASE 3: YOUNGER (later year) AND EARLIER BIRTHDAY\n",
    "    if person1_earlier and y1 > y2:\n",
    "        print(\"Person 1 is younger and has their birthday earlier in the year\")\n",
    "        return\n",
    "    if person2_earlier and y2 > y1:\n",
    "        print(\"Person 2 is younger and has their birthday earlier in the year\")\n",
    "        return\n",
    "    \n",
    "    # CASE 4: PERSON 1 YOUNGER BUT PERSON 2 EARLIER IN YEAR\n",
    "    if y1 >= y2 and person2_earlier:\n",
    "        print(\"Person 1 is younger but Person 2 has their birthday earlier in the year\")\n",
    "        return\n",
    "    if y2 >= y1 and person1_earlier:\n",
    "        print(\"Person 2 is younger but Person 1 has their birthday earlier in the year\")\n",
    "        return\n",
    "\n",
    "# Use function above for various test cases\n",
    "check_birthdays(23, 9, 2025, 5, 9, 2025) # OK\n",
    "check_birthdays(5, 9, 2025, 23, 9, 2025) # OK\n",
    "check_birthdays(23, 9, 2025, 5, 2, 2025) # OK\n",
    "check_birthdays(23, 9, 1999, 5, 2, 2025) # OK\n",
    "check_birthdays(23, 9, 1999, 23, 9, 2025) # OK\n",
    "check_birthdays(23, 9, 2025, 23, 9, 2025) # OK"
   ]
  },
  {
   "cell_type": "code",
   "execution_count": null,
   "id": "81a231e9-fe72-47b3-84fe-af808ed915fe",
   "metadata": {},
   "outputs": [
    {
     "name": "stdout",
     "output_type": "stream",
     "text": [
      "13\n",
      "13\n",
      "0\n"
     ]
    }
   ],
   "source": [
    "### Q3: 20/20\n",
    "\n",
    "# takes in string, returns integer (sum of all digits)\n",
    "def add_digits(str):\n",
    "    NUMBERS = \"1234567890\"\n",
    "    sum = 0\n",
    "\n",
    "    for char in str:\n",
    "        if char in NUMBERS:\n",
    "            sum += int(char)\n",
    "\n",
    "    return sum\n",
    "\n",
    "# Use function above for various test cases\n",
    "print(add_digits(\"abc621de4f\"))\n",
    "print(add_digits(\"abc-621de.4f\")) # 6 and 4, not -6 and 0.4\n",
    "print(add_digits(\"abcde\"))"
   ]
  },
  {
   "cell_type": "code",
   "execution_count": null,
   "id": "3ef25089-eef7-4657-bd7f-3f5ddb7d5f07",
   "metadata": {},
   "outputs": [
    {
     "name": "stdout",
     "output_type": "stream",
     "text": [
      "178345\n",
      "7123400005\n",
      "3415\n",
      "9\n",
      "0\n"
     ]
    }
   ],
   "source": [
    "### Q4: 14/20\n",
    "\n",
    "# returns integer where smallest pair of adjacent digits in number have been removed\n",
    "def remove_smallest_pair(val):\n",
    "    # less than 2 digits (10), return same integer\n",
    "    if val < 10:\n",
    "        return val\n",
    "    \n",
    "    smallest = None\n",
    "    smallest_power = None\n",
    "    power = 0\n",
    "\n",
    "    while True:\n",
    "        # getting the current pair to find smallest pair\n",
    "        pair = val // 10**power % 100\n",
    "\n",
    "        # print(\"curr power\", power)\n",
    "        # print(\"pair vs smallest\", pair, smallest)\n",
    "\n",
    "        if smallest == None:\n",
    "            smallest = pair\n",
    "            smallest_power = power\n",
    "        elif pair < smallest:\n",
    "            smallest = pair\n",
    "            smallest_power = power\n",
    "        power += 1\n",
    "\n",
    "        # print(\"new smallest\", smallest)\n",
    "        # print(\"smallest power\", smallest_power)\n",
    "\n",
    "        if val // 10**power < 10:\n",
    "            break\n",
    "\n",
    "    # print(power)\n",
    "    # now we have position of the pair, add 2 positions\n",
    "    start = (val // 10**(smallest_power+2)) * 10**(power - smallest_power - 1)\n",
    "    # get the end\n",
    "    end = val % 10**(smallest_power)\n",
    "    return start + end\n",
    "\n",
    "# Use function above for various test cases\n",
    "print(remove_smallest_pair(17812345))\n",
    "print(remove_smallest_pair(71234125)) # THERE ARE 2 POSITIONS, COULDNT SPLIT PROPERLY..\n",
    "print(remove_smallest_pair(340915))\n",
    "print(remove_smallest_pair(9))\n",
    "print(remove_smallest_pair(10))"
   ]
  },
  {
   "cell_type": "code",
   "execution_count": null,
   "id": "97d8f5e7-7886-4530-b219-e8e39935eb6d",
   "metadata": {},
   "outputs": [
    {
     "name": "stdout",
     "output_type": "stream",
     "text": [
      "   *   *   *\n",
      "  **  **  **\n",
      " *** *** ***\n",
      "************\n",
      "************\n",
      "************\n",
      "****    ****\n",
      "****    ****\n",
      "\n",
      "     *     *     *\n",
      "    **    **    **\n",
      "   ***   ***   ***\n",
      "  ****  ****  ****\n",
      " ***** ***** *****\n",
      "******************\n",
      "******************\n",
      "******************\n",
      "******************\n",
      "******      ******\n",
      "******      ******\n",
      "******      ******\n"
     ]
    }
   ],
   "source": [
    "### Q5: 20/20\n",
    "\n",
    "def print_pattern(n):\n",
    "    # ONLY 1 PAIR OF NESTED LOOPS\n",
    "    for r in range(1, n*2+1):\n",
    "        for c in range(1, n*3+1):\n",
    "            # ONLY 1 IF STATEMENT\n",
    "\n",
    "            # TOP HALF OF ROWS\n",
    "            # 1/3 of column\n",
    "            if r <= n and c <= n and r+c >= n+1:\n",
    "                print(\"*\", end = \"\")\n",
    "            # 2/3 of column\n",
    "            elif r <= n and c <= 2*n and r+c >= 2*n+1:\n",
    "                print(\"*\", end = \"\")\n",
    "            # 3/3 of column\n",
    "            elif r <= n and c > 2*n and r+c >= 3*n+1:\n",
    "                print(\"*\", end = \"\")\n",
    "\n",
    "            # BOTTOM HALF OF ROWS:\n",
    "            # top part\n",
    "            elif r > n and r <= 1.5 * n:\n",
    "                print(\"*\", end = \"\")\n",
    "            # bottom part, fill first and third column\n",
    "            elif r > 1.5 * n and (c <= n or c > 2*n):\n",
    "                print(\"*\", end = \"\")\n",
    "\n",
    "            # else: fill with space\n",
    "            else:\n",
    "                print(\" \", end = \"\")\n",
    "\n",
    "        print()\n",
    "\n",
    "# Use function above for various test cases\n",
    "print_pattern(4)\n",
    "print()\n",
    "print_pattern(6)"
   ]
  },
  {
   "cell_type": "code",
   "execution_count": null,
   "id": "a6cf58ce-ab5f-4671-99e4-b0c9de839575",
   "metadata": {},
   "outputs": [
    {
     "name": "stdout",
     "output_type": "stream",
     "text": [
      "[8.0, 6.333333333333333, 5.111111111111111, 5.37037037037037, 5.685185185185185]\n",
      "[6.666666666666667, 5.666666666666667, 5.466666666666667, 5.826666666666666, 6.073333333333333, 6.3]\n"
     ]
    }
   ],
   "source": [
    "### Q6: 16/20\n",
    "\n",
    "# given list of nmbers and int n (odd)\n",
    "def average_list(numbers, n):\n",
    "    halves = (n-1)/2\n",
    "    new = []\n",
    "\n",
    "    for i in range(len(numbers)):\n",
    "        total = 0\n",
    "        averages = 0\n",
    "\n",
    "        for j in range(len(numbers)):\n",
    "            # i IS THE MAIN INDEX\n",
    "            # j IS THE ADJACENTS\n",
    "            if j < i and i-j <= halves:\n",
    "                total += numbers[j]\n",
    "                averages += 1\n",
    "\n",
    "            elif j == i:\n",
    "                total += numbers[j]\n",
    "                averages += 1\n",
    "\n",
    "            elif j > i and j-i <= halves:\n",
    "                total += numbers[j]\n",
    "                averages += 1\n",
    "\n",
    "            else:\n",
    "                continue\n",
    "\n",
    "        # ERROR: BECAUSE I EDIT LIST, THE AVERAGES CHANGES\n",
    "        # DID NOT NOTICE..\n",
    "        numbers[i] = total / averages\n",
    "\n",
    "# Use function above for various test cases\n",
    "numbers = [9,7,4,5,6]\n",
    "average_list(numbers, 3)\n",
    "print(numbers)\n",
    "\n",
    "numbers = [9,7,4,5,6,7]\n",
    "average_list(numbers, 5)\n",
    "print(numbers)"
   ]
  }
 ],
 "metadata": {
  "kernelspec": {
   "display_name": "Python 3",
   "language": "python",
   "name": "python3"
  },
  "language_info": {
   "codemirror_mode": {
    "name": "ipython",
    "version": 3
   },
   "file_extension": ".py",
   "mimetype": "text/x-python",
   "name": "python",
   "nbconvert_exporter": "python",
   "pygments_lexer": "ipython3",
   "version": "3.13.5"
  }
 },
 "nbformat": 4,
 "nbformat_minor": 5
}
