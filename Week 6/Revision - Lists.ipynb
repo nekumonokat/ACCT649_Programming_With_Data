{
 "cells": [
  {
   "cell_type": "code",
   "execution_count": 2,
   "id": "8bee75ff",
   "metadata": {},
   "outputs": [
    {
     "name": "stdout",
     "output_type": "stream",
     "text": [
      "True\n",
      "True\n",
      "True\n"
     ]
    }
   ],
   "source": [
    "### Q1\n",
    "\n",
    "def reverse_words(string):\n",
    "    lst = string.split()\n",
    "    output = \"\"\n",
    "    for e in lst:\n",
    "        output += e[::-1] + \" \"\n",
    "\n",
    "    return output[:-1]\n",
    "\n",
    "print(reverse_words(\"I study at SMU\") == \"I yduts ta UMS\")\n",
    "print(reverse_words(\"Python is a programming language.\") == \"nohtyP si a gnimmargorp .egaugnal\")\n",
    "print(reverse_words(\"\") == \"\")"
   ]
  },
  {
   "cell_type": "code",
   "execution_count": 3,
   "id": "740ae09f",
   "metadata": {},
   "outputs": [
    {
     "name": "stdout",
     "output_type": "stream",
     "text": [
      "True\n",
      "True\n",
      "True\n"
     ]
    }
   ],
   "source": [
    "### Q2\n",
    "\n",
    "def find_greatest_common_divisor(val1, val2):\n",
    "    smallest = min(val1, val2)\n",
    "    gcd = 0\n",
    "    for i in range(1, smallest+1):\n",
    "        if (i > gcd) and (val1 % i == 0) and (val2 % i == 0):\n",
    "            gcd = i\n",
    "    \n",
    "    return gcd\n",
    "\n",
    "print(find_greatest_common_divisor(8, 12) == 4)\n",
    "print(find_greatest_common_divisor(100, 250) == 50)\n",
    "print(find_greatest_common_divisor(13, 25) == 1)"
   ]
  },
  {
   "cell_type": "code",
   "execution_count": 19,
   "id": "f688d0b7",
   "metadata": {},
   "outputs": [
    {
     "name": "stdout",
     "output_type": "stream",
     "text": [
      "movie average duration: 149.57142857142858\n",
      "2 movies in drama genre\n",
      "3 movies in fantasy genre\n",
      "longest movie duration: The Lord of the Rings: The Return of the King\n",
      "[('The Lord of the Rings: The Return of the King', 'fantasy', 201), ('The Lion King', 'animation', 88)]\n",
      "[('The Lord of the Rings: The Return of the King', 'fantasy', 201), ('The Lord of the Rings: The Fellowship of the Ring', 'fantasy', 178)]\n"
     ]
    }
   ],
   "source": [
    "### Q3\n",
    "\n",
    "# input: list of tuples (movies), output: average duration of movies, if empty return 0\n",
    "def get_average_duration(movies):\n",
    "    # base: if length 0\n",
    "    if len(movies) == 0: return 0.0\n",
    "\n",
    "    count = len(movies)\n",
    "    total_dur = 0\n",
    "    # add movie duration to total duration\n",
    "    for movie in movies:\n",
    "        total_dur += movie[2]\n",
    "    \n",
    "    return total_dur / count\n",
    "\n",
    "# input: list of tuples (movies) + target genre, output: number of movies in that genre\n",
    "def get_num_movies_of_genre(movies, genre):\n",
    "    # base: if length 0\n",
    "    if len(movies) == 0: return 0\n",
    "\n",
    "    count = 0\n",
    "    # if movie correct movie genre, increment count\n",
    "    for movie in movies:\n",
    "        if movie[1] == genre:\n",
    "            count += 1\n",
    "\n",
    "    return count\n",
    "\n",
    "def get_title_of_longest_movie(movies):\n",
    "    # base: if length 0\n",
    "    if len(movies) == 0: return \"\"\n",
    "\n",
    "    longest_idx = None\n",
    "    longest_dur = 0\n",
    "    # check each index for longest duration\n",
    "    for i in range(len(movies)):\n",
    "        curr_dur = movies[i][2]\n",
    "        # if current movie longest duration, update\n",
    "        if curr_dur > longest_dur:\n",
    "            longest_idx = i\n",
    "            longest_dur = curr_dur\n",
    "\n",
    "    return movies[longest_idx][0]\n",
    "\n",
    "def get_movies_with_keyword(movies, keyword):\n",
    "    # base: if length 0\n",
    "    if len(movies) == 0: return []\n",
    "\n",
    "    output = []\n",
    "    # check each movie, if keyword inside movie name, add to output\n",
    "    for movie in movies:\n",
    "        if keyword in movie[0]:\n",
    "            output.append(movie)\n",
    "\n",
    "    return output\n",
    "    \n",
    "# Create a list of movies.\n",
    "# Each movie is a tuple containing the title, genre, and duration of movie in minutes.\n",
    "movies = [(\"The Shawshank Redemption\", \"drama\", 142), \n",
    "        (\"The Godfather\", \"drama\", 175), \n",
    "        (\"The Lord of the Rings: The Return of the King\", \"fantasy\", 201), \n",
    "        (\"Forrest Gump\", \"comedy\", 142), \n",
    "        (\"The Lord of the Rings: The Fellowship of the Ring\", \"fantasy\", 178), \n",
    "        (\"Star Wars: Episode IV - A New Hope\", \"fantasy\", 121), \n",
    "        (\"The Lion King\", \"animation\", 88)]\n",
    "\n",
    "# What is the movie average duration? \n",
    "print(\"movie average duration:\", get_average_duration(movies))\n",
    "\n",
    "# How many drama movies?\n",
    "print(get_num_movies_of_genre(movies, \"drama\"), \"movies in drama genre\")\n",
    "# How many fantasy movies?\n",
    "print(get_num_movies_of_genre(movies, \"fantasy\"), \"movies in fantasy genre\")\n",
    "\n",
    "# Which movie has longest duration?\n",
    "print(\"longest movie duration:\", get_title_of_longest_movie(movies))\n",
    "\n",
    "# Which movies have \"King\" in the title?\n",
    "print(get_movies_with_keyword(movies, \"King\"))\n",
    "# Which movies have \"Lord\" in the title?\n",
    "print(get_movies_with_keyword(movies, \"Lord\"))"
   ]
  },
  {
   "cell_type": "code",
   "execution_count": 40,
   "id": "46fbb3ad",
   "metadata": {},
   "outputs": [
    {
     "name": "stdout",
     "output_type": "stream",
     "text": [
      "1.68\n"
     ]
    }
   ],
   "source": [
    "### Q4\n",
    "\n",
    "def compute_avg_height(string):\n",
    "    HEIGHT_VALS = \"1234567890.\"\n",
    "    total_heights = 0\n",
    "    height_count = 0\n",
    "    is_curr_in_height = False\n",
    "    curr_height = \"\"\n",
    "\n",
    "    for char in string:\n",
    "        # checks if it is a height\n",
    "        if char in HEIGHT_VALS:\n",
    "            # start a height if not already a height\n",
    "            if not is_curr_in_height:\n",
    "                is_curr_in_height = True\n",
    "            # add character to curr_height\n",
    "            curr_height += char\n",
    "\n",
    "        else:\n",
    "            # if height exists\n",
    "            if is_curr_in_height:\n",
    "                # change to False\n",
    "                is_curr_in_height = False\n",
    "                # add to total heights\n",
    "                total_heights += float(curr_height)\n",
    "                # clear curr_heights\n",
    "                curr_height = \"\"\n",
    "                # add to height count\n",
    "                height_count += 1\n",
    "\n",
    "    print(total_heights / height_count)\n",
    "\n",
    "str1 = \"Jonathan Li:1.75m, Lim, Josephine : 1.59m , George Khoo: 1.7 m\"\n",
    "compute_avg_height(str1)"
   ]
  },
  {
   "cell_type": "code",
   "execution_count": 43,
   "id": "50f33688",
   "metadata": {},
   "outputs": [
    {
     "data": {
      "text/plain": [
       "[3.5, 5.5]"
      ]
     },
     "execution_count": 43,
     "metadata": {},
     "output_type": "execute_result"
    }
   ],
   "source": [
    "### Q5a\n",
    "\n",
    "def get_larger_values(lst_of_floats):\n",
    "    output = []\n",
    "    average = 0\n",
    "\n",
    "    # step 1: get average\n",
    "    for float in lst_of_floats: average += float\n",
    "    average /= len(lst_of_floats)\n",
    "\n",
    "    # step 2: if float > average, append to output\n",
    "    for float in lst_of_floats:\n",
    "        if float > average:\n",
    "            output.append(float)\n",
    "\n",
    "    return output\n",
    "\n",
    "get_larger_values([2.5, 3.5, 5.5, 1.0])"
   ]
  },
  {
   "cell_type": "code",
   "execution_count": 72,
   "id": "8445d7c1",
   "metadata": {},
   "outputs": [
    {
     "data": {
      "text/plain": [
       "[1, 9, 3, 5, 10, 2, 15, 4, 7, 12]"
      ]
     },
     "execution_count": 72,
     "metadata": {},
     "output_type": "execute_result"
    }
   ],
   "source": [
    "### Q5b\n",
    "\n",
    "def merge_list(lst1, lst2):\n",
    "    output = []\n",
    "    max_len = max(len(lst1), len(lst2))\n",
    "\n",
    "    for i in range(max_len):\n",
    "        if i <= len(lst1)-1:\n",
    "            output.append(lst1[i])\n",
    "\n",
    "        if i <= len(lst2)-1:\n",
    "            output.append(lst2[i])\n",
    "\n",
    "    return output\n",
    "\n",
    "merge_list([1, 3, 10, 15, 4, 7, 12], [9, 5, 2]) # [1, 9, 3, 5, 10, 2, 15, 4, 7, 12]"
   ]
  },
  {
   "cell_type": "code",
   "execution_count": 68,
   "id": "d8bae13a",
   "metadata": {},
   "outputs": [
    {
     "name": "stdout",
     "output_type": "stream",
     "text": [
      "True\n",
      "False\n",
      "True\n",
      "False\n"
     ]
    }
   ],
   "source": [
    "### Q5c\n",
    "\n",
    "def check_numbers(lst1, lst2):\n",
    "\n",
    "    # go thru divisors in lst2\n",
    "    for divisor in lst2:\n",
    "        is_divisible = False\n",
    "\n",
    "        # check if all values can divide\n",
    "        for value in lst1:\n",
    "            # once cannot divide, break\n",
    "            if value % divisor != 0:\n",
    "                is_divisible = False\n",
    "                break\n",
    "            if value % divisor == 0:\n",
    "                is_divisible = True\n",
    "        \n",
    "        if is_divisible: return True\n",
    "    return False\n",
    "\n",
    "print(check_numbers([3,6,9,12], [2,3,4]))\n",
    "print(check_numbers([1,2,4,5,6], [2,3,4]))\n",
    "print(check_numbers([6, 15, 9], [2, 3]))\n",
    "print(check_numbers([6, 15, 9], [2, 4]))"
   ]
  },
  {
   "cell_type": "code",
   "execution_count": null,
   "id": "18dc6d28",
   "metadata": {},
   "outputs": [
    {
     "data": {
      "text/plain": [
       "['Intro to Programming', 'Intro to Python']"
      ]
     },
     "execution_count": 73,
     "metadata": {},
     "output_type": "execute_result"
    }
   ],
   "source": [
    "### Q6a\n",
    "\n",
    "## STRUCTURE OF EACH BOOk\n",
    "# (1) A string representing the title of the book.\n",
    "# (2) A string indicating the edition of the book. E.g., the third edition of a book would have this string set to “Ed-3”.\n",
    "# (3) A string indicating whether this book is a hardcover book or a paperback book, i.e., the value of this string is either “hardcover” or “paperback”.\n",
    "# (4) An integer indicating the number of copies of the book with the specified title, edition and type (hardcover vs. paperback).\n",
    "\n",
    "def get_unique_titles(lst_of_books):\n",
    "    output = []\n",
    "    for book in lst_of_books:\n",
    "        if book[0] not in output:\n",
    "            output.append(book[0])\n",
    "\n",
    "    return output\n",
    "\n",
    "# output: # [\"Intro to Programming\", \"Intro to Python\"]\n",
    "get_unique_titles([(\"Intro to Programming\", \"Ed-2\", \"paperback\", 2), (\"Intro to Python\", \"Ed-1\", \"paperback\", 5), (\"Intro to Programming\", \"Ed-3\", \"hardcover\", 4)])"
   ]
  },
  {
   "cell_type": "code",
   "execution_count": 84,
   "id": "d180af32",
   "metadata": {},
   "outputs": [
    {
     "data": {
      "text/plain": [
       "[('Intro to Programming', 6), ('Intro to Python', 8)]"
      ]
     },
     "execution_count": 84,
     "metadata": {},
     "output_type": "execute_result"
    }
   ],
   "source": [
    "### Q6b\n",
    "\n",
    "def get_titles_and_counts(lst_of_books):\n",
    "    book_count = {}\n",
    "\n",
    "    for book in lst_of_books:\n",
    "        if book[0] not in book_count:\n",
    "            book_count[book[0]] = book[3]\n",
    "        else:\n",
    "            book_count[book[0]] += book[3]\n",
    "\n",
    "    output = []\n",
    "    for book, count in book_count.items():\n",
    "        output.append((book, count))\n",
    "\n",
    "    return output\n",
    "\n",
    "# [(\"Intro to Programming\", 6), (\"Intro to Python\", 8)]\n",
    "get_titles_and_counts([(\"Intro to Programming\", \"Ed-2\", \"paperback\", 2),\n",
    "                       (\"Intro to Python\", \"Ed-1\", \"paperback\", 5),\n",
    "                       (\"Intro to Programming\", \"Ed-3\", \"hardcover\", 4),\n",
    "                       (\"Intro to Python\", \"Ed-3\", \"hardcover\", 3)])"
   ]
  },
  {
   "cell_type": "code",
   "execution_count": 93,
   "id": "ee403dd2",
   "metadata": {},
   "outputs": [
    {
     "name": "stdout",
     "output_type": "stream",
     "text": [
      "12   600   0900   100\n",
      "34 5689   980\n",
      "\n",
      "25\n"
     ]
    }
   ],
   "source": [
    "### Q7\n",
    "\n",
    "def retrieve_numbers(string):\n",
    "    NUMBERS = \"1234567890\"\n",
    "    number = \"\"\n",
    "    output = \"\"\n",
    "\n",
    "    for char in string:\n",
    "        if char in NUMBERS:\n",
    "            number += char\n",
    "        else:\n",
    "            output += number + \" \"\n",
    "            number = \"\"\n",
    "\n",
    "    # if last part is not char:\n",
    "    if number: return output + number\n",
    "    # if last part is char, remove space\n",
    "    return output.strip()\n",
    "\n",
    "print(retrieve_numbers(\"12abc600$##0900AB 100X\"))\n",
    "print(retrieve_numbers(\"34.5689abc980\"))\n",
    "print(retrieve_numbers(\"xyz\"))\n",
    "print(retrieve_numbers(\"abc25xyz\"))"
   ]
  }
 ],
 "metadata": {
  "kernelspec": {
   "display_name": "Python 3",
   "language": "python",
   "name": "python3"
  },
  "language_info": {
   "codemirror_mode": {
    "name": "ipython",
    "version": 3
   },
   "file_extension": ".py",
   "mimetype": "text/x-python",
   "name": "python",
   "nbconvert_exporter": "python",
   "pygments_lexer": "ipython3",
   "version": "3.13.5"
  }
 },
 "nbformat": 4,
 "nbformat_minor": 5
}
