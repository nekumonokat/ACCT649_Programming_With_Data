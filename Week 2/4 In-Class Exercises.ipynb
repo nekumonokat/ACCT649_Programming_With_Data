{
 "cells": [
  {
   "cell_type": "markdown",
   "metadata": {},
   "source": [
    "<table class=\"table table-bordered\">\n",
    "    <tr>\n",
    "        <th style=\"text-align:center; width:35%\"><img src='https://dl.dropbox.com/s/qtzukmzqavebjd2/icon_smu.jpg' style=\"width: 300px; height: 90px; \"></th>\n",
    "        <th style=\"text-align:center;\"><h3>ACCT649 - In-Class Exercises</h3><h3>Week 3</h3><h3>Conditions and Tuples</h3></th>\n",
    "    </tr>\n",
    "</table>\n",
    "\n",
    "*This course material is adapted based on the IS111 curriculum"
   ]
  },
  {
   "cell_type": "markdown",
   "metadata": {},
   "source": [
    "### Q1: "
   ]
  },
  {
   "cell_type": "code",
   "execution_count": 1,
   "metadata": {},
   "outputs": [
    {
     "name": "stdout",
     "output_type": "stream",
     "text": [
      "a >= b\n",
      "a <= b\n"
     ]
    }
   ],
   "source": [
    "a = 20\n",
    "b = 20\n",
    "if a >= b:\n",
    "    print(\"a >= b\")\n",
    "if a <= b:\n",
    "    print(\"a <= b\")"
   ]
  },
  {
   "cell_type": "code",
   "execution_count": 2,
   "metadata": {},
   "outputs": [
    {
     "name": "stdout",
     "output_type": "stream",
     "text": [
      "a >= b\n"
     ]
    }
   ],
   "source": [
    "a = 30\n",
    "b = 30\n",
    "if a >= b:\n",
    "    print(\"a >= b\")\n",
    "elif a <= b:\n",
    "    print(\"a <= b\")"
   ]
  },
  {
   "cell_type": "code",
   "execution_count": 3,
   "metadata": {},
   "outputs": [
    {
     "name": "stdout",
     "output_type": "stream",
     "text": [
      "False\n",
      "True\n"
     ]
    }
   ],
   "source": [
    "c = \"ACCT649\"\n",
    "d = \"acct649\"\n",
    "e = \"ACCT\" + \"649\"\n",
    "\n",
    "print(c == d)\n",
    "print(c == e)"
   ]
  },
  {
   "cell_type": "code",
   "execution_count": 4,
   "metadata": {},
   "outputs": [
    {
     "name": "stdout",
     "output_type": "stream",
     "text": [
      "Good!\n",
      "True\n"
     ]
    }
   ],
   "source": [
    "def test_if_else(condition1, condition2):\n",
    "    # Condition 1 True\n",
    "    if (condition1):\n",
    "        print(\"Great!\")\n",
    "        return True\n",
    "    # Condition 1 False, Condition 2 True\n",
    "    elif(condition2):\n",
    "        print(\"Good!\")\n",
    "        return True\n",
    "    # Condition 1 False, Condition 2 False\n",
    "    else:\n",
    "        print(\"Okay\")\n",
    "        return False\n",
    "\n",
    "result = test_if_else(4 % 2 != 0, 3 // 2 == 1)\n",
    "print(result)"
   ]
  },
  {
   "cell_type": "markdown",
   "metadata": {},
   "source": [
    "### Q2: Day of a Week"
   ]
  },
  {
   "cell_type": "markdown",
   "metadata": {},
   "source": [
    "#### a) define get_day_of_week"
   ]
  },
  {
   "cell_type": "code",
   "execution_count": 5,
   "metadata": {},
   "outputs": [],
   "source": [
    "# Write your code below.\n",
    "def get_day_of_week(val):\n",
    "    # days of week: [0, 1, 2, 3, 4, 5, 6] - Sun - Sat\n",
    "    days = [\"Sunday\", \"Monday\", \"Tuesday\", \"Wednesday\", \"Thursday\", \"Friday\", \"Saturday\"]\n",
    "    \n",
    "    if val < 0:\n",
    "        return \"Your number should be at least 0.\"\n",
    "    elif val > 6:\n",
    "        return \"Your number should be at most 6.\"\n",
    "    else:\n",
    "        return days[val]"
   ]
  },
  {
   "cell_type": "markdown",
   "metadata": {},
   "source": [
    "#### b) prompt the user and display day of a week"
   ]
  },
  {
   "cell_type": "code",
   "execution_count": 6,
   "metadata": {},
   "outputs": [
    {
     "name": "stdout",
     "output_type": "stream",
     "text": [
      "Wednesday\n"
     ]
    }
   ],
   "source": [
    "# Write your code below.\n",
    "num = int(input(\"Enter a number indicating the day of a week [0 to 6]: \"))\n",
    "res = get_day_of_week(num)\n",
    "print(res)"
   ]
  },
  {
   "cell_type": "markdown",
   "metadata": {},
   "source": [
    "### Q3: Tax Calculator"
   ]
  },
  {
   "cell_type": "markdown",
   "metadata": {},
   "source": [
    "#### a) define calculate_income_tax"
   ]
  },
  {
   "cell_type": "code",
   "execution_count": 7,
   "metadata": {},
   "outputs": [],
   "source": [
    "# Write your code below:\n",
    "def calculate_income_tax(income):\n",
    "\n",
    "    tax_brackets = (20000, 30000, 40000, 80000, 120000, 160000, 200000, 240000, 280000, 320000)\n",
    "    gross_tax = (0, 200, 550, 3350, 7950, 13950, 21150, 28750, 36550, 44550)\n",
    "    tax_rates = (0, 2, 3.5, 7, 11.5, 15, 18, 19, 19.5, 20, 22)\n",
    "\n",
    "    if income < 0:\n",
    "        return \"Income needs to be more than 0.\"\n",
    "    \n",
    "    # below 20000 - base\n",
    "    if income < tax_brackets[0]:\n",
    "        return gross_tax[0]\n",
    "    elif income < tax_brackets[1]:\n",
    "        return gross_tax[0] + (income - tax_brackets[0]) * (tax_rates[1]/100)\n",
    "    elif income < tax_brackets[2]:\n",
    "        return gross_tax[1] + (income - tax_brackets[1]) * (tax_rates[2]/100)\n",
    "    elif income < tax_brackets[3]:\n",
    "        return gross_tax[2] + (income - tax_brackets[2]) * (tax_rates[3]/100)\n",
    "    elif income < tax_brackets[4]:\n",
    "        return gross_tax[3] + (income - tax_brackets[3]) * (tax_rates[4]/100)\n",
    "    elif income < tax_brackets[5]:\n",
    "        return gross_tax[4] + (income - tax_brackets[4]) * (tax_rates[5]/100)\n",
    "    elif income < tax_brackets[6]:\n",
    "        return gross_tax[5] + (income - tax_brackets[5]) * (tax_rates[6]/100)\n",
    "    elif income < tax_brackets[7]:\n",
    "        return gross_tax[6] + (income - tax_brackets[6]) * (tax_rates[7]/100)\n",
    "    elif income < tax_brackets[8]:\n",
    "        return gross_tax[7] + (income - tax_brackets[7]) * (tax_rates[8]/100)\n",
    "    elif income < tax_brackets[9]:\n",
    "        return gross_tax[8] + (income - tax_brackets[8]) * (tax_rates[9]/100)\n",
    "    else:\n",
    "        return gross_tax[9] + (income - tax_brackets[9]) * (tax_rates[10]/100)\n",
    "    \n",
    "    # MY OLD METHOD:\n",
    "    # # up to 20000 - 0 income tax\n",
    "    # elif income <= 20000: return 0\n",
    "\n",
    "    # # up to 30000: split 20k 10k\n",
    "    # elif income <= 30000:\n",
    "    #     return BASE_20 + ((income - 20000) * UPTO_30000)\n",
    "    \n",
    "    # # up to 40000: split 30k 10k\n",
    "    # elif income <= 40000:\n",
    "    #     return BASE_30 + ((income - 30000) * UPTO_40000)\n",
    "    \n",
    "    # # up to 80000: split 40k 40k\n",
    "    # elif income <= 80000:\n",
    "    #     return BASE_40 + ((income - 40000) * UPTO_80000)\n",
    "    \n",
    "    # # up to 120000: split 80k 40k\n",
    "    # elif income <= 120000:\n",
    "    #     return BASE_80 + ((income - 80000) * UPTO_120000)\n",
    "    \n",
    "    # # up to 160000: split 120k 40k\n",
    "    # elif income <= 160000:\n",
    "    #     return BASE_80 + ((income - 120000) * UPTO_120000)"
   ]
  },
  {
   "cell_type": "markdown",
   "metadata": {},
   "source": [
    "#### b) call calculate_income_tax with user input"
   ]
  },
  {
   "cell_type": "code",
   "execution_count": 8,
   "metadata": {},
   "outputs": [
    {
     "data": {
      "text/plain": [
       "100.0"
      ]
     },
     "execution_count": 8,
     "metadata": {},
     "output_type": "execute_result"
    }
   ],
   "source": [
    "# Write your code below:\n",
    "val = float(input(\"Enter your annual taxable income: \"))\n",
    "calculate_income_tax(val)"
   ]
  },
  {
   "cell_type": "markdown",
   "metadata": {},
   "source": [
    "### Q4: Mooncakes"
   ]
  },
  {
   "cell_type": "markdown",
   "metadata": {},
   "source": [
    "#### a) define get_discount_rate"
   ]
  },
  {
   "cell_type": "code",
   "execution_count": 9,
   "metadata": {},
   "outputs": [],
   "source": [
    "# Write your code below.\n",
    "def get_discount_rate(num_boxes):\n",
    "    # BASE CHECK FOR POSITIVE NUMBER\n",
    "    if num_boxes < 0: return \"Number of boxes must be more than 0.\"\n",
    "    # CASE A: 5 OR MORE - 20% DISC\n",
    "    if num_boxes >= 5: return 0.2\n",
    "    # CASE B: 2-4 - 10% DISC\n",
    "    elif num_boxes >= 2: return 0.1\n",
    "    # CASE C: 1\n",
    "    else: return 0.0"
   ]
  },
  {
   "cell_type": "markdown",
   "metadata": {},
   "source": [
    "#### b) define calculate_total_amount"
   ]
  },
  {
   "cell_type": "code",
   "execution_count": 10,
   "metadata": {},
   "outputs": [
    {
     "name": "stdout",
     "output_type": "stream",
     "text": [
      "199.44\n",
      "476.8\n",
      "Invalid Brand.\n"
     ]
    }
   ],
   "source": [
    "# Write your code below.\n",
    "def calculate_total_amount(brand, num_boxes):\n",
    "    # CONSTANTS\n",
    "    TUNG_LOK_PER_BOX = 55.40\n",
    "    MAN_FU_YUAN_PER_BOX = 59.60\n",
    "\n",
    "    if brand == \"Tung Lok\":\n",
    "        return TUNG_LOK_PER_BOX * (num_boxes) * (1 - get_discount_rate(num_boxes))\n",
    "    elif brand == \"Man Fu Yuan\":\n",
    "        return MAN_FU_YUAN_PER_BOX * (num_boxes) * (1 - get_discount_rate(num_boxes))\n",
    "    # ADDITIONAL CHECK OF WRONG SPELLING\n",
    "    else:\n",
    "        return \"Invalid Brand.\"\n",
    "\n",
    "print(calculate_total_amount(\"Tung Lok\", 4))\n",
    "print(calculate_total_amount(\"Man Fu Yuan\", 10))\n",
    "print(calculate_total_amount(\"Test\", 10))"
   ]
  },
  {
   "cell_type": "markdown",
   "metadata": {},
   "source": [
    "#### c) the main program"
   ]
  },
  {
   "cell_type": "code",
   "execution_count": 11,
   "metadata": {},
   "outputs": [
    {
     "name": "stdout",
     "output_type": "stream",
     "text": [
      "You need to pay $199.44\n"
     ]
    }
   ],
   "source": [
    "# Write your code below.\n",
    "def mooncake_pricing():\n",
    "    brand = input(\"Which brand do you want to buy? \")\n",
    "    num = int(input(\"How many boxes do you want to buy? \"))\n",
    "    val = round(calculate_total_amount(brand, num), 2)\n",
    "    return f\"You need to pay ${val}\"\n",
    "\n",
    "print(mooncake_pricing())"
   ]
  },
  {
   "cell_type": "markdown",
   "metadata": {},
   "source": [
    "### Q5: Honey"
   ]
  },
  {
   "cell_type": "markdown",
   "metadata": {},
   "source": [
    "#### a) define calculate_max_quantity_and_change"
   ]
  },
  {
   "cell_type": "code",
   "execution_count": 12,
   "metadata": {},
   "outputs": [
    {
     "name": "stdout",
     "output_type": "stream",
     "text": [
      "(2, 13.0)\n"
     ]
    }
   ],
   "source": [
    "def calculate_max_quantity_and_change(unit_price, amount):\n",
    "    # unit_price: unit price of an item\n",
    "    # amount: total amount a customer wants to spend\n",
    "    return int(amount // unit_price), amount % unit_price\n",
    "\n",
    "print(calculate_max_quantity_and_change(58.50, 130))"
   ]
  },
  {
   "cell_type": "markdown",
   "metadata": {},
   "source": [
    "#### b) improved purchase_honey"
   ]
  },
  {
   "cell_type": "code",
   "execution_count": 13,
   "metadata": {},
   "outputs": [
    {
     "name": "stdout",
     "output_type": "stream",
     "text": [
      "You can buy 2500 grams of honey. You have $2.5 left as your change.\n"
     ]
    }
   ],
   "source": [
    "val = int(input(\"How much do you want to spend? $\"))\n",
    "\n",
    "bigs, rem = calculate_max_quantity_and_change(98.50, val)\n",
    "smalls, change = calculate_max_quantity_and_change(58.50, rem)\n",
    "total = bigs * 1000 + smalls * 500\n",
    "print(f\"You can buy {total} grams of honey. You have ${change} left as your change.\")"
   ]
  },
  {
   "cell_type": "markdown",
   "metadata": {},
   "source": [
    "### Q6: Bus Fares\n"
   ]
  },
  {
   "cell_type": "code",
   "execution_count": null,
   "metadata": {},
   "outputs": [],
   "source": [
    "# The following function is provided to you.\n",
    "# Do not modify the function definition!\n",
    "def get_personal_info():\n",
    "    \"\"\"\n",
    "    This function prompts the user for his/her name, gender, age and whether\n",
    "    or not he/she is a student.\n",
    "    The function returns a tuple that contains all the information entered\n",
    "    by the user.\n",
    "    \"\"\"\n",
    "    name = input(\"What's your name? \")\n",
    "    gender = input(\"What's your gender? [M|F] \")\n",
    "    age = int(input(\"What's your age? \"))\n",
    "    is_student = input(\"Are you a student? [yes|no] \")\n",
    "    return (name, gender, age, is_student == 'yes')\n",
    "\n",
    "\n",
    "# Write your code below:\n",
    "(name, gender, age, is_student) = get_personal_info()\n",
    "if gender == \"M\": label = \"Mr.\"\n",
    "else: label = \"Ms.\"\n",
    "\n",
    "if age <= 6:\n",
    "    print(f\"{name}, you can travel for free.\")\n",
    "elif age >= 60:\n",
    "    print(f\"{label} {name}, you can get concessionary fare for senior citizens.\")\n",
    "elif age > 6 and age < 60 and is_student:\n",
    "    print(f\"{label} {name}, you can get concessionary fare for students.\")\n",
    "else:\n",
    "    print(f\"{label} {name}, you need to pay full fare.\")\n",
    "\n",
    "# EXPECTED OUTCOME:\n",
    "# Jack Ma, M, 4, no -- travel for free\n",
    "# Bill Gates, M, 61, yes -- concession for senior\n",
    "# Lim Hui Yan, F, 21, yes -- concession for students"
   ]
  },
  {
   "cell_type": "markdown",
   "metadata": {},
   "source": [
    "### Q7: Taxi Fares Revisited\n",
    "\n",
    "1 Meter Fare<br>\n",
    "- Flag-Down Fare<br>\n",
    "- Fare based on distance rate<br>\n",
    "\n",
    "**Notes:**\n",
    "- First 1km: flag-down fare\n",
    "- 1km - 9.8km: additional beyond 1km based on rate per 400m\n",
    "- Beyond 9.8km: additional rate per 350m\n",
    "\n",
    "2 Surcharges<br>\n",
    "- Time-Based Surcharges<br>\n",
    "- Location Surcharges<br>\n",
    "\n",
    "**Notes:**\n",
    "- Peak period: time-based surcharge - 25% of meter fare\n",
    "- 12am - 6am: time-based surcharge - 50% of meter fare\n"
   ]
  },
  {
   "cell_type": "code",
   "execution_count": null,
   "metadata": {},
   "outputs": [],
   "source": [
    "import math\n",
    "\n",
    "def get_taxi_fare():\n",
    "    flag_down = float(input(\"What's the flag-down fare: $\"))\n",
    "    rate_per_400 = float(input(\"What's the rate per 400 meters within 9.8km? $\"))\n",
    "    rate_per_350 = float(input(\"What's the rate per 350 meters beyond 9.8km? $\"))\n",
    "    dist_in_meters = int(input(\"What's the distance traveled (in meters)? \"))\n",
    "    \n",
    "    is_peak = input(\"Is the ride during a peak period? [yes/no] \")\n",
    "    # CHECKS IF MIDNIGHT ONLY IF NOT PEAK\n",
    "    if is_peak == \"no\":\n",
    "        is_midnight = input(\"Is the ride between midnight and 6am? [yes/no] \")\n",
    "    \n",
    "    is_loc_surcharge = input(\"Is there any location surcharge? [yes/no] \")\n",
    "    # CHECKS FOR LOCATION SURCHARGE ONLY IF THERE IS\n",
    "    if is_loc_surcharge == \"yes\":\n",
    "        loc_surcharge = float(input(\"What's the amount of location surcharge? $\"))\n",
    "\n",
    "    # CONSTANTS\n",
    "    DIST_THRESHOLD_1 = 1000\n",
    "    DIST_THRESHOLD_2 = 9800\n",
    "    total_fare = 0\n",
    "\n",
    "    # CHECK 1: FIRST 1KM - FLAG-DOWN FARE\n",
    "    beyond_9800 = max(dist_in_meters - DIST_THRESHOLD_2, 0)\n",
    "    rem_dist = dist_in_meters - beyond_9800\n",
    "    upto_9800 = max(rem_dist - DIST_THRESHOLD_1, 0)\n",
    "    base_dist = rem_dist - upto_9800 # flagdown fare\n",
    "\n",
    "    # FIRST 1KM\n",
    "    meter_fare = flag_down\n",
    "    # 1KM - 9.8KM - roundup using math.ceil()\n",
    "    meter_fare += math.ceil(upto_9800/400) * rate_per_400\n",
    "    # BEYOND 9.8KM - roundup using math.ceil()\n",
    "    meter_fare += math.ceil(beyond_9800/350) * rate_per_350\n",
    "    # ADD TO TOTAL_FARE\n",
    "    total_fare += meter_fare\n",
    "\n",
    "    # IF PEAK: +25%\n",
    "    if is_peak == \"yes\": time_surcharge = meter_fare * 0.25\n",
    "    # IF MIDNIGHT: +50%\n",
    "    elif is_midnight == \"yes\": time_surcharge = meter_fare * 0.50\n",
    "    # IF NEITHER PEAK NOR MIDNIGHT\n",
    "    else: time_surcharge = 0\n",
    "    # ADD TO TOTAL_FARE\n",
    "    total_fare += time_surcharge\n",
    "\n",
    "    if is_loc_surcharge == \"yes\": total_fare += loc_surcharge\n",
    "    print(f\"The total fare is ${round(total_fare, 2)}\")\n",
    "\n",
    "get_taxi_fare()"
   ]
  },
  {
   "cell_type": "code",
   "execution_count": null,
   "metadata": {},
   "outputs": [],
   "source": [
    "# ALL CASES PASSED\n",
    "# EXPECTED OUTCOME - CASE 1:\n",
    "# no peak, yes midnight, yes loc surcharge\n",
    "# What's the flag-down fare: $3.50\n",
    "# What's the rate per 400 meters within 9.8km? $0.22\n",
    "# What's the rate per 350 meters beyond 9.8km? $0.22\n",
    "# What's the distance traveled (in meters)? 11400\n",
    "# Is the ride during a peak period? [yes/no] no\n",
    "# Is the ride between midnight and 6am? [yes/no] yes\n",
    "# Is there any location surcharge? [yes/no] yes\n",
    "# What's the amount of location surcharge? $3.00\n",
    "# The total fare is $17.16\n",
    "\n",
    "# EXPECTED OUTCOME - CASE 2:\n",
    "# yes peak, no loc surcharge\n",
    "# What's the flag-down fare: $3.90\n",
    "# What's the rate per 400 meters within 9.8km? $0.30\n",
    "# What's the rate per 350 meters beyond 9.8km? $0.30\n",
    "# What's the distance traveled (in meters)? 8750\n",
    "# Is the ride during a peak period? [yes/no] yes\n",
    "# Is there any location surcharge? [yes/no] no\n",
    "# The total fare is $12.38\n",
    "\n",
    "# EXPECTED OUTCOME - CASE 3:\n",
    "# no peak, no surcharge, yes loc surcharge\n",
    "# What's the flag-down fare: $3.50\n",
    "# What's the rate per 400 meters within 9.8km? $0.22\n",
    "# What's the rate per 350 meters beyond 9.8km? $0.22\n",
    "# What's the distance traveled (in meters)? 11400\n",
    "# Is the ride during a peak period? [yes/no] no\n",
    "# Is the ride between midnight and 6am? [yes/no] no\n",
    "# Is there any location surcharge? [yes/no] yes\n",
    "# What's the amount of location surcharge? $3.00\n",
    "# The total fare is $12.44"
   ]
  }
 ],
 "metadata": {
  "kernelspec": {
   "display_name": "Python 3",
   "language": "python",
   "name": "python3"
  },
  "language_info": {
   "codemirror_mode": {
    "name": "ipython",
    "version": 3
   },
   "file_extension": ".py",
   "mimetype": "text/x-python",
   "name": "python",
   "nbconvert_exporter": "python",
   "pygments_lexer": "ipython3",
   "version": "3.13.5"
  }
 },
 "nbformat": 4,
 "nbformat_minor": 4
}
