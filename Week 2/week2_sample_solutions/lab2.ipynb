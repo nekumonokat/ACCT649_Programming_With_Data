{
 "cells": [
  {
   "cell_type": "code",
   "execution_count": 1,
   "id": "76548591",
   "metadata": {},
   "outputs": [
    {
     "name": "stdout",
     "output_type": "stream",
     "text": [
      "a >= b\n",
      "a <= b\n"
     ]
    }
   ],
   "source": [
    "### Q1a\n",
    "\n",
    "# 'a' and 'b' are both set to 20\n",
    "a = 20\n",
    "b = 20\n",
    "\n",
    "# Since this is true, the message is printed\n",
    "if a >= b:\n",
    "    print(\"a >= b\")\n",
    "    \n",
    "# Since this is also true, this message is also printed.\n",
    "# So we see that these two 'if' statements are independent.\n",
    "if a <= b:\n",
    "    print(\"a <= b\")"
   ]
  },
  {
   "cell_type": "code",
   "execution_count": 2,
   "id": "81025edb",
   "metadata": {},
   "outputs": [
    {
     "name": "stdout",
     "output_type": "stream",
     "text": [
      "a >= b\n"
     ]
    }
   ],
   "source": [
    "### Q1b\n",
    "\n",
    "# 'a' and 'b' are both set to 30\n",
    "a = 30\n",
    "b = 30\n",
    "\n",
    "# \"elif\" means that if the previous condition is false,\n",
    "# only then will the following condition be checked.\n",
    "# But if the previous condition was true,\n",
    "# then the following condition will not be checked.\n",
    "# So it guarantees that one, and only one path, will be taken.\n",
    "if a >= b:\n",
    "    print(\"a >= b\")\n",
    "elif a <= b:\n",
    "    print(\"a <= b\")"
   ]
  },
  {
   "cell_type": "code",
   "execution_count": 3,
   "id": "89c9ea9a",
   "metadata": {},
   "outputs": [
    {
     "name": "stdout",
     "output_type": "stream",
     "text": [
      "False\n",
      "True\n"
     ]
    }
   ],
   "source": [
    "### Q1c\n",
    "\n",
    "# Create 3 strings\n",
    "c =  \"ACCT649\"\n",
    "d =  \"acct649\"\n",
    "e =  \"ACCT\" + \"649\"\n",
    "\n",
    "# 'c' is not equal to 'd' because upper and loweracse are not same\n",
    "print(c == d)\n",
    "\n",
    "# 'c' and 'e' are equal, so \"+\" used on strings will concatenate them\n",
    "# (combine them one after the other)\n",
    "print(c == e)"
   ]
  },
  {
   "cell_type": "code",
   "execution_count": 5,
   "id": "ebbbef64",
   "metadata": {},
   "outputs": [
    {
     "name": "stdout",
     "output_type": "stream",
     "text": [
      "Good!\n",
      "True\n"
     ]
    }
   ],
   "source": [
    "### Q1d\n",
    "def test_if_else(condition1, condition2):\n",
    "    if (condition1):\n",
    "        print(\"Great!\")\n",
    "        return True\n",
    "    elif(condition2):\n",
    "        print(\"Good!\")\n",
    "        return True\n",
    "    else:\n",
    "        print(\"Okay\")\n",
    "        return False\n",
    "\n",
    "    \n",
    "# First condition \"4 % 2 != 0\" is false,\n",
    "# since remainder of 4 divided by 2 is 0.\n",
    "# Second condition \"3 // 2 == 1\" is true,\n",
    "# since when we divide 3 by 2 and only have integers,\n",
    "# the result is 1.\n",
    "# So when we run above function, condition1 is false\n",
    "# and condition2 is true, so it will print \"Good!\"\n",
    "# and then return True, which we then print below.\n",
    "result = test_if_else(4 % 2 != 0, 3 // 2 == 1)\n",
    "print(result)"
   ]
  },
  {
   "cell_type": "code",
   "execution_count": 7,
   "id": "61e14ffd",
   "metadata": {},
   "outputs": [
    {
     "name": "stdout",
     "output_type": "stream",
     "text": [
      "Wednesday\n"
     ]
    }
   ],
   "source": [
    "### Q2a\n",
    "\n",
    "# Returns a string corresponding to the given integer day of week\n",
    "# (Sunday to Saturday representing 0 to 6 inclusive)\n",
    "def get_day_of_week(int_day):\n",
    "    if int_day == 0:\n",
    "        return \"Sunday\"\n",
    "    elif int_day == 1:\n",
    "        return \"Monday\"\n",
    "    elif int_day == 2:\n",
    "        return \"Tueday\"\n",
    "    elif int_day == 3:\n",
    "        return \"Wednesday\"\n",
    "    elif int_day == 4:\n",
    "        return \"Thursday\"\n",
    "    elif int_day == 5:\n",
    "        return \"Friday\"\n",
    "    elif int_day == 6:\n",
    "        return \"Satday\"\n",
    "    else:\n",
    "        return \"No such day\"\n",
    "    \n",
    "    \n",
    "# Use above function, giving the integer 3\n",
    "print(get_day_of_week(3))"
   ]
  },
  {
   "cell_type": "code",
   "execution_count": 11,
   "id": "52383efd",
   "metadata": {},
   "outputs": [
    {
     "name": "stdout",
     "output_type": "stream",
     "text": [
      "Enter a number indicating day of week [0 to 6]: 3\n",
      "Wednesday\n"
     ]
    }
   ],
   "source": [
    "### Q2b\n",
    "\n",
    "# Prompt user for integer\n",
    "int_day = int(input(\"Enter a number indicating day of week [0 to 6]: \"))\n",
    "\n",
    "# If input is valid, use above function\n",
    "if int_day < 0:\n",
    "    print(\"Your number should be at least 0.\")\n",
    "elif int_day > 6:\n",
    "    print(\"Your number should be at most 6.\")\n",
    "else:\n",
    "    print(get_day_of_week(int_day))"
   ]
  },
  {
   "cell_type": "code",
   "execution_count": 30,
   "id": "5118267d",
   "metadata": {},
   "outputs": [
    {
     "data": {
      "text/plain": [
       "5650.0"
      ]
     },
     "execution_count": 30,
     "metadata": {},
     "output_type": "execute_result"
    }
   ],
   "source": [
    "### Q3a\n",
    "\n",
    "# Returns income tax, based on given annual taxable income\n",
    "def calculate_income_tax(income):\n",
    "    \n",
    "    # The income boundaries where tax rates change\n",
    "    tax_brackets = (20000, 30000, 40000, 80000, 120000, 160000, 200000, 240000, 280000, 320000)\n",
    "    \n",
    "    # The tax rates for the above tax brackets\n",
    "    tax_rates = (0, 2, 3.5, 7, 11.5, 15, 18, 19, 19.5, 20, 22)\n",
    "    \n",
    "    # The base tax for income below above tax brackets\n",
    "    tax_bases = (0, 200, 550, 3350, 7950, 13950, 21150, 28750, 36550, 44550)\n",
    "    \n",
    "    # Calculate tax based on income, using above\n",
    "    if income < tax_brackets[0]:\n",
    "        return income * tax_rates[0]\n",
    "    elif income < tax_brackets[1]:\n",
    "        return (income - tax_brackets[0]) * tax_rates[1] / 100 + tax_bases[0]\n",
    "    elif income < tax_brackets[2]:\n",
    "        return (income - tax_brackets[1]) * tax_rates[2] / 100 + tax_bases[1]\n",
    "    elif income < tax_brackets[3]:\n",
    "        return (income - tax_brackets[2]) * tax_rates[3] / 100 + tax_bases[2]\n",
    "    elif income < tax_brackets[4]:\n",
    "        return (income - tax_brackets[3]) * tax_rates[4] / 100 + tax_bases[3]\n",
    "    elif income < tax_brackets[5]:\n",
    "        return (income - tax_brackets[4]) * tax_rates[5] / 100 + tax_bases[4]\n",
    "    elif income < tax_brackets[6]:\n",
    "        return (income - tax_brackets[5]) * tax_rates[6] / 100 + tax_bases[5]\n",
    "    elif income < tax_brackets[7]:\n",
    "        return (income - tax_brackets[6]) * tax_rates[7] / 100 + tax_bases[6]\n",
    "    elif income < tax_brackets[8]:\n",
    "        return (income - tax_brackets[7]) * tax_rates[8] / 100 + tax_bases[7]\n",
    "    elif income < tax_brackets[9]:\n",
    "        return (income - tax_brackets[8]) * tax_rates[9] / 100 + tax_bases[8]\n",
    "    else:\n",
    "        return (income - tax_brackets[9]) * tax_rates[10] / 100 + tax_bases[9]\n",
    "\n",
    "    \n",
    "# Use above function\n",
    "calculate_income_tax(100000)"
   ]
  },
  {
   "cell_type": "code",
   "execution_count": 31,
   "id": "c33d0a83",
   "metadata": {},
   "outputs": [
    {
     "name": "stdout",
     "output_type": "stream",
     "text": [
      "Enter your annual taxable income: 100000\n",
      "Your total tax is $5650.0\n"
     ]
    }
   ],
   "source": [
    "### Q3b\n",
    "\n",
    "# Prompt user for integer\n",
    "income = int(input(\"Enter your annual taxable income: \"))\n",
    "\n",
    "# Use above function to determine tax\n",
    "tax = calculate_income_tax(income)\n",
    "print(\"Your total tax is $\" + str(tax))"
   ]
  },
  {
   "cell_type": "code",
   "execution_count": 25,
   "id": "3a53d1c6",
   "metadata": {},
   "outputs": [
    {
     "name": "stdout",
     "output_type": "stream",
     "text": [
      "0.2\n"
     ]
    }
   ],
   "source": [
    "### Q4a\n",
    "\n",
    "# Returns the discount rate (expressed as decimal, e.g. 0.2 means 20% discount),\n",
    "# when given the number of boxes of the same brand being bought\n",
    "def get_discount_rate(num_boxes):\n",
    "    if num_boxes >= 5:\n",
    "        return 0.2;\n",
    "    elif num_boxes >= 2:\n",
    "        return 0.1;\n",
    "    else:\n",
    "        return 0;\n",
    "\n",
    "    \n",
    "# Use above function\n",
    "print(get_discount_rate(5))"
   ]
  },
  {
   "cell_type": "code",
   "execution_count": 27,
   "id": "2d3673ee",
   "metadata": {},
   "outputs": [
    {
     "name": "stdout",
     "output_type": "stream",
     "text": [
      "214.56\n"
     ]
    }
   ],
   "source": [
    "### Q4b\n",
    "\n",
    "# Returns total cost, given the brand and number of boxes of that brand being bought\n",
    "def get_total_amount(brand, num_boxes):\n",
    "    \n",
    "    # Determine unit cost (how much for 1 box)\n",
    "    if brand == \"Tung Lok\":\n",
    "        unit_cost = 55.4\n",
    "    elif brand == \"Man Fu Yuan\":\n",
    "        unit_cost = 59.6\n",
    "    else:\n",
    "        unit_cost = -1\n",
    "    \n",
    "    # Determine total cost\n",
    "    return unit_cost * num_boxes * (1 - get_discount_rate(num_boxes))\n",
    "\n",
    "\n",
    "# Use above function\n",
    "print(get_total_amount(\"Man Fu Yuan\", 4))"
   ]
  },
  {
   "cell_type": "code",
   "execution_count": 29,
   "id": "b154f77e",
   "metadata": {},
   "outputs": [
    {
     "name": "stdout",
     "output_type": "stream",
     "text": [
      "Which brand do you want to buy? Man Fu Yuan\n",
      "How many boxes do you want to buy? 10\n",
      "You need to pay $476.8\n"
     ]
    }
   ],
   "source": [
    "### Q4c\n",
    "\n",
    "# Prompt user for string\n",
    "brand = input(\"Which brand do you want to buy? \")\n",
    "\n",
    "# Prompt user for integer\n",
    "num_boxes = int(input(\"How many boxes do you want to buy? \"))\n",
    "\n",
    "# Use above function to determine total cost\n",
    "total_cost = get_total_amount(brand, num_boxes)\n",
    "print(\"You need to pay $\" + str(total_cost))"
   ]
  },
  {
   "cell_type": "code",
   "execution_count": null,
   "id": "3d4a93fa",
   "metadata": {},
   "outputs": [],
   "source": []
  }
 ],
 "metadata": {
  "kernelspec": {
   "display_name": "Python 3 (ipykernel)",
   "language": "python",
   "name": "python3"
  },
  "language_info": {
   "codemirror_mode": {
    "name": "ipython",
    "version": 3
   },
   "file_extension": ".py",
   "mimetype": "text/x-python",
   "name": "python",
   "nbconvert_exporter": "python",
   "pygments_lexer": "ipython3",
   "version": "3.11.7"
  }
 },
 "nbformat": 4,
 "nbformat_minor": 5
}
