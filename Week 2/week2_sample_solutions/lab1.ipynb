{
 "cells": [
  {
   "cell_type": "code",
   "execution_count": 1,
   "id": "f3f3b8dd-6803-4744-9e53-ae67cb8ca778",
   "metadata": {},
   "outputs": [],
   "source": [
    "# Author: Jason Chan"
   ]
  },
  {
   "cell_type": "code",
   "execution_count": 1,
   "id": "3baa889a-fbd9-457f-821b-2a45ffae4f79",
   "metadata": {},
   "outputs": [
    {
     "name": "stdin",
     "output_type": "stream",
     "text": [
      "Enter 1st number: 23.9\n",
      "Enter 2nd number: 198.3\n",
      "Enter 3rd number: -95.7\n"
     ]
    },
    {
     "name": "stdout",
     "output_type": "stream",
     "text": [
      "Average: 42.16666666666667\n"
     ]
    }
   ],
   "source": [
    "### Q1a)\n",
    "\n",
    "# This function is given 3 values (x, y, z),\n",
    "# and returns the average of these values\n",
    "def compute_average(x, y, z):\n",
    "    return (x + y + z) / 3\n",
    "\n",
    "\n",
    "# Prompt user for integers\n",
    "x = float(input(\"Enter 1st number:\"))\n",
    "y = float(input(\"Enter 2nd number:\"))\n",
    "z = float(input(\"Enter 3rd number:\"))\n",
    "\n",
    "# Use above function\n",
    "avg = compute_average(x, y, z)\n",
    "print(\"Average: \" + str(avg))"
   ]
  },
  {
   "cell_type": "code",
   "execution_count": 2,
   "id": "2943ebda-1326-4b1a-bbf7-1789ed7fe55f",
   "metadata": {},
   "outputs": [
    {
     "name": "stdin",
     "output_type": "stream",
     "text": [
      "Enter 1st number: 2\n",
      "Enter 2nd number: 4\n",
      "Enter 3rd number: 6\n"
     ]
    },
    {
     "name": "stdout",
     "output_type": "stream",
     "text": [
      "The geometric mean of 2.0, 4.0 and 6.0 is: 3.634241185664279\n"
     ]
    }
   ],
   "source": [
    "### Q1b)\n",
    "\n",
    "# This function is given 3 values (x, y, z),\n",
    "# and returns the geometric mean of these values\n",
    "def compute_geometric_mean(x, y, z):\n",
    "    return (x * y * z) ** (1/3)\n",
    "\n",
    "\n",
    "# Prompt user for integers\n",
    "x = float(input(\"Enter 1st number:\"))\n",
    "y = float(input(\"Enter 2nd number:\"))\n",
    "z = float(input(\"Enter 3rd number:\"))\n",
    "\n",
    "# Use above function\n",
    "avg = compute_geometric_mean(x, y, z)\n",
    "print(\"The geometric mean of \" + str(x) + \", \" + str(y) + \" and \" + str(z) + \" is: \" + str(avg))"
   ]
  },
  {
   "cell_type": "code",
   "execution_count": 3,
   "id": "8ce63cd7-3619-445c-8d25-f2b479155acd",
   "metadata": {},
   "outputs": [
    {
     "name": "stdout",
     "output_type": "stream",
     "text": [
      "--------------------\n",
      "| Hello SIS! |\n",
      "--------------------\n",
      "\n",
      "--------------------\n",
      "* Hello Python! *\n",
      "$ Hello Functions! $\n",
      "--------------------\n"
     ]
    }
   ],
   "source": [
    "### Q2)\n",
    "\n",
    "# Print a line of 20 dashes\n",
    "def print_a_line():\n",
    "    print(20 * \"-\")\n",
    "\n",
    "# Print a message, with the given symbol on either side of it\n",
    "def print_a_message(symbol, message):\n",
    "    print(symbol + \" \" + message + \" \" + symbol)\n",
    "\n",
    "\n",
    "# Use above functions\n",
    "print_a_line()\n",
    "print_a_message(\"|\", \"Hello SIS!\")\n",
    "print_a_line()\n",
    "\n",
    "print()\n",
    "\n",
    "print_a_line()\n",
    "print_a_message(\"*\", \"Hello Python!\")\n",
    "print_a_message(\"$\", \"Hello Functions!\")\n",
    "print_a_line()"
   ]
  },
  {
   "cell_type": "code",
   "execution_count": 4,
   "id": "3eff1777-cfe6-4b8e-8fe4-ed63bf1c3bda",
   "metadata": {},
   "outputs": [
    {
     "name": "stdout",
     "output_type": "stream",
     "text": [
      "**********\n",
      "* Hello! *\n",
      "**********\n",
      "\n",
      "##################\n",
      "# Welcome to SMU #\n",
      "##################\n"
     ]
    }
   ],
   "source": [
    "### Q3)\n",
    "\n",
    "# This function prints out the given symbol, repeated 'n' times, all on the same line\n",
    "def print_a_customized_line(symbol, n):\n",
    "    \n",
    "    # This is a loop, it repeats something n times. You will learn about it later.\n",
    "    for i in range(0,n):\n",
    "        \n",
    "        # This prints, but without a newline character at the end.\n",
    "        # So the next thing that is printed will be on the same line, not the line below.\n",
    "        print(symbol, end=\"\")\n",
    "        \n",
    "    # After the entire line is finished, then we print a newline character\n",
    "    print()\n",
    "\n",
    "\n",
    "# The symbol and message we will use\n",
    "symbol = \"*\"\n",
    "message = \"Hello!\"\n",
    "\n",
    "# Use above functions\n",
    "print_a_customized_line(symbol, len(message)+4)\n",
    "print_a_message(symbol, message)\n",
    "print_a_customized_line(symbol, len(message)+4)\n",
    "\n",
    "print()\n",
    "\n",
    "# The symbol and message we will use\n",
    "symbol = \"#\"\n",
    "message = \"Welcome to SMU\"\n",
    "\n",
    "# Use above functions\n",
    "print_a_customized_line(symbol, len(message)+4)\n",
    "print_a_message(symbol, message)\n",
    "print_a_customized_line(symbol, len(message)+4)"
   ]
  },
  {
   "cell_type": "code",
   "execution_count": 5,
   "id": "dc8fe853-0e5a-499b-8d76-ad581bd4bce2",
   "metadata": {},
   "outputs": [
    {
     "name": "stdin",
     "output_type": "stream",
     "text": [
      "What's the size of the square (in square centimeters)? 16\n"
     ]
    },
    {
     "name": "stdout",
     "output_type": "stream",
     "text": [
      "Each side of this square is 4.0 centimeters.\n"
     ]
    }
   ],
   "source": [
    "## Q4a)\n",
    "\n",
    "# This allows us to use inbuilt mathematical functions\n",
    "import math\n",
    "\n",
    "# Prompt user for decimal number\n",
    "area = float(input(\"What's the size of the square (in square centimeters)?\"))\n",
    "\n",
    "# Use an inbuilt function to find the square root\n",
    "side = math.sqrt(area)\n",
    "print(\"Each side of this square is \" + str(side) + \" centimeters.\")"
   ]
  },
  {
   "cell_type": "code",
   "execution_count": 6,
   "id": "ea366e5f-15af-4ee9-b37c-edd82c36f877",
   "metadata": {},
   "outputs": [
    {
     "name": "stdin",
     "output_type": "stream",
     "text": [
      "Enter a positive integer 10\n"
     ]
    },
    {
     "name": "stdout",
     "output_type": "stream",
     "text": [
      "10\n"
     ]
    }
   ],
   "source": [
    "## Q4b)\n",
    "\n",
    "# This allows us to use inbuilt random functions, such as random number generators\n",
    "import random\n",
    "\n",
    "# Prompt user for input\n",
    "n = int(input(\"Enter a positive integer\"))\n",
    "\n",
    "# Generate a random integer from 1 to n, both inclusive\n",
    "random_int = random.randint(1, n)\n",
    "print(random_int)"
   ]
  },
  {
   "cell_type": "code",
   "execution_count": 7,
   "id": "716e7243-dde6-43bf-992f-933b7d767fcd",
   "metadata": {},
   "outputs": [
    {
     "name": "stdin",
     "output_type": "stream",
     "text": [
      "Please enter the system time (in seconds) 266460\n"
     ]
    },
    {
     "name": "stdout",
     "output_type": "stream",
     "text": [
      "Based on this system time, 3 days, 2 hours, 1 minutes and 0 seconds have passed since 1 January 1970 00:00:00 UT.\n"
     ]
    }
   ],
   "source": [
    "### Q6)\n",
    "\n",
    "# This function is given a system time (number of seconds since 1 January 1970 00:00:00 UT),\n",
    "# and prints out the number of days, hours, minutes and seconds since then.\n",
    "def convert_from_system_time(system_time):\n",
    "\n",
    "    # Constants\n",
    "    SECS_PER_MIN = 60\n",
    "    MINS_PER_HOUR = 60\n",
    "    HOURS_PER_DAY = 24\n",
    "\n",
    "    # How many days since then, and how many seconds remaining\n",
    "    SECS_PER_DAY = SECS_PER_MIN * MINS_PER_HOUR * HOURS_PER_DAY\n",
    "    days = system_time // SECS_PER_DAY\n",
    "    system_time = system_time % SECS_PER_DAY\n",
    "\n",
    "    # How many hours since then, and how many seconds remaining\n",
    "    SECS_PER_HOUR = SECS_PER_MIN * MINS_PER_HOUR\n",
    "    hours = system_time // SECS_PER_HOUR\n",
    "    system_time = system_time % SECS_PER_HOUR\n",
    "    \n",
    "    # How many minutes since then, and how many seconds remaining\n",
    "    mins = system_time // SECS_PER_MIN\n",
    "    system_time = system_time % SECS_PER_MIN\n",
    "\n",
    "    # How many seconds since then\n",
    "    secs = system_time\n",
    "\n",
    "    print(\"Based on this system time, \" + str(days) + \" days, \" + str(hours) + \" hours, \" + str(mins) + \" minutes and \" + str(secs) + \" seconds have passed since 1 January 1970 00:00:00 UT.\")\n",
    "\n",
    "\n",
    "# Prompt user for integer, then use above function\n",
    "t = int(input(\"Please enter the system time (in seconds)\"))\n",
    "convert_from_system_time(t)"
   ]
  },
  {
   "cell_type": "code",
   "execution_count": 10,
   "id": "ae187988-d03c-49fd-9df7-14f8012c4b1b",
   "metadata": {},
   "outputs": [
    {
     "name": "stdout",
     "output_type": "stream",
     "text": [
      "100.0\n"
     ]
    }
   ],
   "source": [
    "### Q7a)\n",
    "\n",
    "# Returns tax for income between 20000 and 30000 both inclusive\n",
    "def calculate_tax_1(income):\n",
    "\n",
    "    # Income in excess of 20000 is taxed at 2%\n",
    "    return (income - 20000) * 0.02\n",
    "\n",
    "\n",
    "# Use above function\n",
    "print(calculate_tax_1(25000))"
   ]
  },
  {
   "cell_type": "code",
   "execution_count": 11,
   "id": "e91d9242-d4f3-41f9-857f-5059422d51b1",
   "metadata": {},
   "outputs": [
    {
     "name": "stdout",
     "output_type": "stream",
     "text": [
      "100.0\n",
      "0\n"
     ]
    }
   ],
   "source": [
    "### Q7b)\n",
    "\n",
    "# Returns tax for income below 0 and 30000 both inclusive\n",
    "def calculate_tax_2(income):\n",
    "\n",
    "    # Calculate tax, assuming income is at least 20000.\n",
    "    # If income is less than 20000, then tax will be negative,\n",
    "    # in which case, we will return 0 instead.\n",
    "    return max(0, calculate_tax_1(income))\n",
    "\n",
    "\n",
    "# Use above function\n",
    "print(calculate_tax_2(25000))\n",
    "print(calculate_tax_2(10000))"
   ]
  },
  {
   "cell_type": "code",
   "execution_count": 12,
   "id": "f5e4b4fb-cd22-4165-8601-1805205d7546",
   "metadata": {},
   "outputs": [
    {
     "name": "stdout",
     "output_type": "stream",
     "text": [
      "100.0\n",
      "0\n",
      "375.0\n"
     ]
    }
   ],
   "source": [
    "### Q7c)\n",
    "\n",
    "# Returns tax for income below 0 and 40000 both inclusive\n",
    "def calculate_tax_3(income):\n",
    "\n",
    "    # Tax first 30000 of income, with a maximum tax of 200\n",
    "    tax = min(calculate_tax_2(income), 200)\n",
    "\n",
    "    # Then, tax income in excess of 30000 at 3.5%,\n",
    "    # but if the income did not exceed 30000, then this part should be 0\n",
    "    tax += max(0, (income - 30000) * 0.035)\n",
    "    return tax\n",
    "\n",
    "\n",
    "# Use above function\n",
    "print(calculate_tax_3(25000))\n",
    "print(calculate_tax_3(10000))\n",
    "print(calculate_tax_3(35000))"
   ]
  },
  {
   "cell_type": "code",
   "execution_count": 27,
   "id": "02a37a81-c121-4e5b-88fd-1d40dbff754a",
   "metadata": {},
   "outputs": [
    {
     "name": "stdout",
     "output_type": "stream",
     "text": [
      "100.0\n",
      "0\n",
      "375.0\n",
      "550.14\n",
      "3350.23\n",
      "7950.3\n",
      "13950.36\n",
      "21150.38\n",
      "28750.39\n",
      "36550.4\n",
      "44550.44\n"
     ]
    }
   ],
   "source": [
    "### Q7d)\n",
    "\n",
    "# Returns tax for income below 0 and 80000 both inclusive\n",
    "def calculate_tax_4(income):\n",
    "\n",
    "    # Tax first 40000 of income, with a maximum tax of 550\n",
    "    tax = min(calculate_tax_3(income), 550)\n",
    "\n",
    "    # Then, tax income in excess of 40000 at 7%,\n",
    "    # but if the income did not exceed 40000, then this part should be 0\n",
    "    tax += max(0, (income - 40000) * 0.07)\n",
    "    return tax\n",
    "    \n",
    "\n",
    "# Returns tax for income below 0 and 120000 both inclusive\n",
    "def calculate_tax_5(income):\n",
    "\n",
    "    # Tax first 80000 of income, with a maximum tax of 3350\n",
    "    tax = min(calculate_tax_4(income), 3350)\n",
    "\n",
    "    # Then, tax income in excess of 80000 at 11.5%,\n",
    "    # but if the income did not exceed 80000, then this part should be 0\n",
    "    tax += max(0, (income - 80000) * 0.115)\n",
    "    return tax\n",
    "    \n",
    "\n",
    "# Returns tax for income below 0 and 160000 both inclusive\n",
    "def calculate_tax_6(income):\n",
    "\n",
    "    # Tax first 120000 of income, with a maximum tax of 7950\n",
    "    tax = min(calculate_tax_5(income), 7950)\n",
    "\n",
    "    # Then, tax income in excess of 120000 at 15%,\n",
    "    # but if the income did not exceed 120000, then this part should be 0\n",
    "    tax += max(0, (income - 120000) * 0.15)\n",
    "    return tax\n",
    "    \n",
    "\n",
    "# Returns tax for income below 0 and 200000 both inclusive\n",
    "def calculate_tax_7(income):\n",
    "\n",
    "    # Tax first 160000 of income, with a maximum tax of 13950\n",
    "    tax = min(calculate_tax_6(income), 13950)\n",
    "\n",
    "    # Then, tax income in excess of 160000 at 18%,\n",
    "    # but if the income did not exceed 160000, then this part should be 0\n",
    "    tax += max(0, (income - 160000) * 0.18)\n",
    "    return tax\n",
    "    \n",
    "\n",
    "# Returns tax for income below 0 and 240000 both inclusive\n",
    "def calculate_tax_8(income):\n",
    "\n",
    "    # Tax first 200000 of income, with a maximum tax of 21150\n",
    "    tax = min(calculate_tax_7(income), 21150)\n",
    "\n",
    "    # Then, tax income in excess of 200000 at 19%,\n",
    "    # but if the income did not exceed 200000, then this part should be 0\n",
    "    tax += max(0, (income - 200000) * 0.19)\n",
    "    return tax\n",
    "    \n",
    "\n",
    "# Returns tax for income below 0 and 280000 both inclusive\n",
    "def calculate_tax_9(income):\n",
    "\n",
    "    # Tax first 240000 of income, with a maximum tax of 28750\n",
    "    tax = min(calculate_tax_8(income), 28750)\n",
    "\n",
    "    # Then, tax income in excess of 240000 at 19.5%,\n",
    "    # but if the income did not exceed 240000, then this part should be 0\n",
    "    tax += max(0, (income - 240000) * 0.195)\n",
    "    return tax\n",
    "    \n",
    "\n",
    "# Returns tax for income below 0 and 320000 both inclusive\n",
    "def calculate_tax_10(income):\n",
    "\n",
    "    # Tax first 280000 of income, with a maximum tax of 36550\n",
    "    tax = min(calculate_tax_9(income), 36550)\n",
    "\n",
    "    # Then, tax income in excess of 280000 at 20%,\n",
    "    # but if the income did not exceed 280000, then this part should be 0\n",
    "    tax += max(0, (income - 280000) * 0.2)\n",
    "    return tax\n",
    "    \n",
    "\n",
    "# Returns tax for ANY income\n",
    "def calculate_tax(income):\n",
    "\n",
    "    # Tax first 320000 of income, with a maximum tax of 44550\n",
    "    tax = min(calculate_tax_10(income), 44550)\n",
    "\n",
    "    # Then, tax income in excess of 320000 at 22%,\n",
    "    # but if the income did not exceed 320000, then this part should be 0\n",
    "    tax += max(0, (income - 320000) * 0.22)\n",
    "    return tax\n",
    "\n",
    "\n",
    "# Use above function\n",
    "print(calculate_tax(25000))\n",
    "print(calculate_tax(10000))\n",
    "print(calculate_tax(35000))\n",
    "print(calculate_tax(40002))\n",
    "print(calculate_tax(80002))\n",
    "print(calculate_tax(120002))\n",
    "print(calculate_tax(160002))\n",
    "print(calculate_tax(200002))\n",
    "print(calculate_tax(240002))\n",
    "print(calculate_tax(280002))\n",
    "print(calculate_tax(320002))"
   ]
  },
  {
   "cell_type": "code",
   "execution_count": null,
   "id": "c36b2604-ba2d-4471-af0d-eeb0660ebd65",
   "metadata": {},
   "outputs": [],
   "source": []
  }
 ],
 "metadata": {
  "kernelspec": {
   "display_name": "Python 3 (ipykernel)",
   "language": "python",
   "name": "python3"
  },
  "language_info": {
   "codemirror_mode": {
    "name": "ipython",
    "version": 3
   },
   "file_extension": ".py",
   "mimetype": "text/x-python",
   "name": "python",
   "nbconvert_exporter": "python",
   "pygments_lexer": "ipython3",
   "version": "3.11.7"
  }
 },
 "nbformat": 4,
 "nbformat_minor": 5
}
